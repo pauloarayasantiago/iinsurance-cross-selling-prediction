{
 "cells": [
  {
   "cell_type": "code",
   "execution_count": 4,
   "metadata": {},
   "outputs": [
    {
     "name": "stdout",
     "output_type": "stream",
     "text": [
      "Initial memory usage: 1053.30 MB\n",
      "Memory usage after optimization: 548.59 MB\n",
      "Data imported and memory optimized in 7.38 seconds\n",
      "Data shape: (11504798, 11), Memory usage: 548.59 MB\n",
      "Stratified sample created in 7.51 seconds\n",
      "Sample data shape: (230095, 11), Memory usage: 10.97 MB\n",
      "Feature engineering completed in 1.17 seconds\n",
      "Data shape after feature engineering: (230095, 24), Memory usage: 33.79 MB\n",
      "Training and validation sets created in 0.10 seconds\n",
      "Training set shape: (184076, 23), Memory usage: 26.86 MB\n",
      "Validation set shape: (46019, 23), Memory usage: 6.71 MB\n"
     ]
    },
    {
     "name": "stderr",
     "output_type": "stream",
     "text": [
      "[I 2024-07-27 11:25:14,414] A new study created in memory with name: no-name-a8f730af-659e-42d4-9058-c0ff24ad9352\n"
     ]
    },
    {
     "name": "stdout",
     "output_type": "stream",
     "text": [
      "Data transformed in 0.26 seconds\n",
      "Transformed training set shape: (184076, 25), Memory usage: 35.11 MB\n",
      "Transformed validation set shape: (46019, 25), Memory usage: 8.78 MB\n",
      "Scale pos weight ratio: 7.130278082046571\n",
      "Starting Optuna study\n",
      "[0]\ttrain-auc:0.84792\tvalid-auc:0.84608\n",
      "[100]\ttrain-auc:0.89431\tvalid-auc:0.86989\n",
      "[143]\ttrain-auc:0.90244\tvalid-auc:0.87055\n"
     ]
    },
    {
     "name": "stderr",
     "output_type": "stream",
     "text": [
      "[I 2024-07-27 11:25:28,056] Trial 0 finished with value: 0.8705578606914601 and parameters: {'max_depth': 7, 'min_child_weight': 13, 'colsample_bytree': 0.6321667978993475, 'gamma': 0.07639815657030134, 'learning_rate': 0.12242598863448688, 'subsample': 0.8096162909662507, 'reg_alpha': 0.2780718793571905, 'reg_lambda': 0.8276102513823306, 'max_bin': 184854, 'num_boost_round': 3200}. Best is trial 0 with value: 0.8705578606914601.\n"
     ]
    },
    {
     "name": "stdout",
     "output_type": "stream",
     "text": [
      "[0]\ttrain-auc:0.85099\tvalid-auc:0.84932\n",
      "[100]\ttrain-auc:0.89138\tvalid-auc:0.86813\n",
      "[148]\ttrain-auc:0.90106\tvalid-auc:0.86911\n"
     ]
    },
    {
     "name": "stderr",
     "output_type": "stream",
     "text": [
      "[I 2024-07-27 11:25:42,214] Trial 1 finished with value: 0.8692353748779615 and parameters: {'max_depth': 7, 'min_child_weight': 14, 'colsample_bytree': 0.6625090382186193, 'gamma': 0.14912234017179782, 'learning_rate': 0.11017495761802458, 'subsample': 0.8149959122315166, 'reg_alpha': 0.2743359832809267, 'reg_lambda': 0.777550429471253, 'max_bin': 214912, 'num_boost_round': 2886}. Best is trial 0 with value: 0.8705578606914601.\n"
     ]
    },
    {
     "name": "stdout",
     "output_type": "stream",
     "text": [
      "[0]\ttrain-auc:0.85366\tvalid-auc:0.85039\n",
      "[82]\ttrain-auc:0.90135\tvalid-auc:0.86914\n"
     ]
    },
    {
     "name": "stderr",
     "output_type": "stream",
     "text": [
      "[I 2024-07-27 11:25:52,047] Trial 2 finished with value: 0.8691928392325521 and parameters: {'max_depth': 8, 'min_child_weight': 16, 'colsample_bytree': 0.661226767787537, 'gamma': 0.18875671926070248, 'learning_rate': 0.14506413372982133, 'subsample': 0.8173037859227296, 'reg_alpha': 0.16394808396766092, 'reg_lambda': 0.8447138750710668, 'max_bin': 220559, 'num_boost_round': 2689}. Best is trial 0 with value: 0.8705578606914601.\n"
     ]
    },
    {
     "name": "stdout",
     "output_type": "stream",
     "text": [
      "[0]\ttrain-auc:0.85110\tvalid-auc:0.84950\n",
      "[83]\ttrain-auc:0.88756\tvalid-auc:0.86791\n"
     ]
    },
    {
     "name": "stderr",
     "output_type": "stream",
     "text": [
      "[I 2024-07-27 11:26:00,522] Trial 3 finished with value: 0.8680707194449254 and parameters: {'max_depth': 7, 'min_child_weight': 16, 'colsample_bytree': 0.67312998560362, 'gamma': 0.16077502445620653, 'learning_rate': 0.12018002315176496, 'subsample': 0.8409837404093006, 'reg_alpha': 0.18919802172076325, 'reg_lambda': 0.7698573894460294, 'max_bin': 223591, 'num_boost_round': 3176}. Best is trial 0 with value: 0.8705578606914601.\n"
     ]
    },
    {
     "name": "stdout",
     "output_type": "stream",
     "text": [
      "[0]\ttrain-auc:0.85239\tvalid-auc:0.84791\n",
      "[100]\ttrain-auc:0.90425\tvalid-auc:0.86867\n",
      "[101]\ttrain-auc:0.90455\tvalid-auc:0.86877\n"
     ]
    },
    {
     "name": "stderr",
     "output_type": "stream",
     "text": [
      "[I 2024-07-27 11:26:14,409] Trial 4 finished with value: 0.8688483865259824 and parameters: {'max_depth': 9, 'min_child_weight': 15, 'colsample_bytree': 0.5564979244141043, 'gamma': 0.07127696596828474, 'learning_rate': 0.1010219342857838, 'subsample': 0.7585136536916725, 'reg_alpha': 0.0591635152691842, 'reg_lambda': 0.7023379696823856, 'max_bin': 180158, 'num_boost_round': 2587}. Best is trial 0 with value: 0.8705578606914601.\n"
     ]
    },
    {
     "name": "stdout",
     "output_type": "stream",
     "text": [
      "[0]\ttrain-auc:0.85400\tvalid-auc:0.85107\n",
      "[100]\ttrain-auc:0.90005\tvalid-auc:0.86962\n",
      "[135]\ttrain-auc:0.90906\tvalid-auc:0.87016\n"
     ]
    },
    {
     "name": "stderr",
     "output_type": "stream",
     "text": [
      "[I 2024-07-27 11:26:30,417] Trial 5 finished with value: 0.8702271057191038 and parameters: {'max_depth': 8, 'min_child_weight': 14, 'colsample_bytree': 0.6642627238423212, 'gamma': 0.055712900370231876, 'learning_rate': 0.10686422731691, 'subsample': 0.841366836468716, 'reg_alpha': 0.027470629212627246, 'reg_lambda': 0.7377511754519348, 'max_bin': 252713, 'num_boost_round': 2843}. Best is trial 0 with value: 0.8705578606914601.\n"
     ]
    },
    {
     "name": "stdout",
     "output_type": "stream",
     "text": [
      "[0]\ttrain-auc:0.85289\tvalid-auc:0.84756\n",
      "[100]\ttrain-auc:0.91357\tvalid-auc:0.86881\n",
      "[108]\ttrain-auc:0.91579\tvalid-auc:0.86890\n"
     ]
    },
    {
     "name": "stderr",
     "output_type": "stream",
     "text": [
      "[I 2024-07-27 11:26:45,426] Trial 6 finished with value: 0.8689288590728598 and parameters: {'max_depth': 9, 'min_child_weight': 13, 'colsample_bytree': 0.5113835134500873, 'gamma': 0.07916206972390805, 'learning_rate': 0.13110942460674438, 'subsample': 0.802292071514886, 'reg_alpha': 0.1343774802607736, 'reg_lambda': 0.8765317233299167, 'max_bin': 193055, 'num_boost_round': 3110}. Best is trial 0 with value: 0.8705578606914601.\n"
     ]
    },
    {
     "name": "stdout",
     "output_type": "stream",
     "text": [
      "[0]\ttrain-auc:0.85692\tvalid-auc:0.85080\n",
      "[100]\ttrain-auc:0.90659\tvalid-auc:0.86957\n",
      "[145]\ttrain-auc:0.91782\tvalid-auc:0.86988\n"
     ]
    },
    {
     "name": "stderr",
     "output_type": "stream",
     "text": [
      "[I 2024-07-27 11:27:05,819] Trial 7 finished with value: 0.869938282273486 and parameters: {'max_depth': 9, 'min_child_weight': 18, 'colsample_bytree': 0.6484594397295412, 'gamma': 0.08837799019423018, 'learning_rate': 0.10416535886099319, 'subsample': 0.8411733034463486, 'reg_alpha': 0.07117541464862424, 'reg_lambda': 0.7335431594409376, 'max_bin': 261679, 'num_boost_round': 3008}. Best is trial 0 with value: 0.8705578606914601.\n"
     ]
    },
    {
     "name": "stdout",
     "output_type": "stream",
     "text": [
      "[0]\ttrain-auc:0.85137\tvalid-auc:0.84864\n",
      "[100]\ttrain-auc:0.89767\tvalid-auc:0.86962\n",
      "[142]\ttrain-auc:0.90809\tvalid-auc:0.87040\n"
     ]
    },
    {
     "name": "stderr",
     "output_type": "stream",
     "text": [
      "[I 2024-07-27 11:27:22,745] Trial 8 finished with value: 0.8704584065608337 and parameters: {'max_depth': 8, 'min_child_weight': 13, 'colsample_bytree': 0.5856094050114243, 'gamma': 0.16845255721079913, 'learning_rate': 0.10017837798368663, 'subsample': 0.8432911537926918, 'reg_alpha': 0.2546014339140165, 'reg_lambda': 0.7192773747146983, 'max_bin': 229371, 'num_boost_round': 2987}. Best is trial 0 with value: 0.8705578606914601.\n"
     ]
    },
    {
     "name": "stdout",
     "output_type": "stream",
     "text": [
      "[0]\ttrain-auc:0.85000\tvalid-auc:0.84636\n",
      "[82]\ttrain-auc:0.89052\tvalid-auc:0.86959\n"
     ]
    },
    {
     "name": "stderr",
     "output_type": "stream",
     "text": [
      "[I 2024-07-27 11:27:32,547] Trial 9 finished with value: 0.8693874573757069 and parameters: {'max_depth': 8, 'min_child_weight': 18, 'colsample_bytree': 0.5080663646716673, 'gamma': 0.18604626880674824, 'learning_rate': 0.10112790838740564, 'subsample': 0.8315239723829354, 'reg_alpha': 0.12867376325871116, 'reg_lambda': 0.7221012499528079, 'max_bin': 278702, 'num_boost_round': 3220}. Best is trial 0 with value: 0.8705578606914601.\n"
     ]
    },
    {
     "name": "stdout",
     "output_type": "stream",
     "text": [
      "[0]\ttrain-auc:0.84796\tvalid-auc:0.84655\n",
      "[88]\ttrain-auc:0.89211\tvalid-auc:0.86866\n"
     ]
    },
    {
     "name": "stderr",
     "output_type": "stream",
     "text": [
      "[I 2024-07-27 11:27:41,461] Trial 10 finished with value: 0.8687998819254436 and parameters: {'max_depth': 7, 'min_child_weight': 12, 'colsample_bytree': 0.6129122693983889, 'gamma': 0.10876184618404468, 'learning_rate': 0.1289589459892116, 'subsample': 0.7752105217442893, 'reg_alpha': 0.22434109583555342, 'reg_lambda': 0.8283990130132255, 'max_bin': 162692, 'num_boost_round': 3471}. Best is trial 0 with value: 0.8705578606914601.\n"
     ]
    },
    {
     "name": "stdout",
     "output_type": "stream",
     "text": [
      "[0]\ttrain-auc:0.84793\tvalid-auc:0.84653\n",
      "[100]\ttrain-auc:0.89281\tvalid-auc:0.86943\n",
      "[147]\ttrain-auc:0.90302\tvalid-auc:0.86990\n"
     ]
    },
    {
     "name": "stderr",
     "output_type": "stream",
     "text": [
      "[I 2024-07-27 11:27:55,801] Trial 11 finished with value: 0.8700060420622442 and parameters: {'max_depth': 7, 'min_child_weight': 12, 'colsample_bytree': 0.5970670031368251, 'gamma': 0.12546855595137213, 'learning_rate': 0.1182380005049146, 'subsample': 0.7887914083074112, 'reg_alpha': 0.2967921646482643, 'reg_lambda': 0.7998798830515031, 'max_bin': 200062, 'num_boost_round': 3379}. Best is trial 0 with value: 0.8705578606914601.\n"
     ]
    },
    {
     "name": "stdout",
     "output_type": "stream",
     "text": [
      "[0]\ttrain-auc:0.85138\tvalid-auc:0.84851\n",
      "[78]\ttrain-auc:0.89941\tvalid-auc:0.86881\n"
     ]
    },
    {
     "name": "stderr",
     "output_type": "stream",
     "text": [
      "[I 2024-07-27 11:28:05,467] Trial 12 finished with value: 0.869166643246124 and parameters: {'max_depth': 8, 'min_child_weight': 13, 'colsample_bytree': 0.6028508453989734, 'gamma': 0.13487210514521342, 'learning_rate': 0.13918200299335287, 'subsample': 0.8169992800523892, 'reg_alpha': 0.24194804988594085, 'reg_lambda': 0.8871655483597912, 'max_bin': 227903, 'num_boost_round': 3316}. Best is trial 0 with value: 0.8705578606914601.\n"
     ]
    },
    {
     "name": "stdout",
     "output_type": "stream",
     "text": [
      "[0]\ttrain-auc:0.84801\tvalid-auc:0.84639\n",
      "[87]\ttrain-auc:0.88843\tvalid-auc:0.86845\n"
     ]
    },
    {
     "name": "stderr",
     "output_type": "stream",
     "text": [
      "[I 2024-07-27 11:28:14,259] Trial 13 finished with value: 0.8685121441423648 and parameters: {'max_depth': 7, 'min_child_weight': 13, 'colsample_bytree': 0.5609130307577386, 'gamma': 0.09889764815668632, 'learning_rate': 0.11467488812306945, 'subsample': 0.8002482108715274, 'reg_alpha': 0.2447844416177144, 'reg_lambda': 0.8365838119004029, 'max_bin': 242299, 'num_boost_round': 2978}. Best is trial 0 with value: 0.8705578606914601.\n"
     ]
    },
    {
     "name": "stdout",
     "output_type": "stream",
     "text": [
      "[0]\ttrain-auc:0.85136\tvalid-auc:0.84831\n",
      "[84]\ttrain-auc:0.89782\tvalid-auc:0.86885\n"
     ]
    },
    {
     "name": "stderr",
     "output_type": "stream",
     "text": [
      "[I 2024-07-27 11:28:24,420] Trial 14 finished with value: 0.86885676976696 and parameters: {'max_depth': 8, 'min_child_weight': 14, 'colsample_bytree': 0.6235972010194363, 'gamma': 0.17098778304286638, 'learning_rate': 0.12425998443174774, 'subsample': 0.8267360682730625, 'reg_alpha': 0.21407571607657497, 'reg_lambda': 0.8051491844296226, 'max_bin': 164595, 'num_boost_round': 2777}. Best is trial 0 with value: 0.8705578606914601.\n"
     ]
    },
    {
     "name": "stdout",
     "output_type": "stream",
     "text": [
      "[0]\ttrain-auc:0.84809\tvalid-auc:0.84630\n",
      "[88]\ttrain-auc:0.89271\tvalid-auc:0.86917\n"
     ]
    },
    {
     "name": "stderr",
     "output_type": "stream",
     "text": [
      "[I 2024-07-27 11:28:33,035] Trial 15 finished with value: 0.8692285194443475 and parameters: {'max_depth': 7, 'min_child_weight': 12, 'colsample_bytree': 0.5641534970246658, 'gamma': 0.1988901088557531, 'learning_rate': 0.13677507510348838, 'subsample': 0.8498157689158581, 'reg_alpha': 0.2938917317627166, 'reg_lambda': 0.7624308149954543, 'max_bin': 202199, 'num_boost_round': 3063}. Best is trial 0 with value: 0.8705578606914601.\n"
     ]
    },
    {
     "name": "stdout",
     "output_type": "stream",
     "text": [
      "[0]\ttrain-auc:0.85468\tvalid-auc:0.85037\n",
      "[100]\ttrain-auc:0.91018\tvalid-auc:0.86877\n",
      "[102]\ttrain-auc:0.91044\tvalid-auc:0.86876\n"
     ]
    },
    {
     "name": "stderr",
     "output_type": "stream",
     "text": [
      "[I 2024-07-27 11:28:48,268] Trial 16 finished with value: 0.868932332755218 and parameters: {'max_depth': 9, 'min_child_weight': 15, 'colsample_bytree': 0.6972500301056909, 'gamma': 0.05390813755210673, 'learning_rate': 0.1108221746397575, 'subsample': 0.7849411617496432, 'reg_alpha': 0.2635574499748503, 'reg_lambda': 0.8569243787483096, 'max_bin': 183304, 'num_boost_round': 3266}. Best is trial 0 with value: 0.8705578606914601.\n"
     ]
    },
    {
     "name": "stdout",
     "output_type": "stream",
     "text": [
      "[0]\ttrain-auc:0.85082\tvalid-auc:0.84792\n",
      "[61]\ttrain-auc:0.89152\tvalid-auc:0.86737\n"
     ]
    },
    {
     "name": "stderr",
     "output_type": "stream",
     "text": [
      "[I 2024-07-27 11:28:56,063] Trial 17 finished with value: 0.8673637999134447 and parameters: {'max_depth': 8, 'min_child_weight': 13, 'colsample_bytree': 0.5816944158161363, 'gamma': 0.1125369659011193, 'learning_rate': 0.12471615594033182, 'subsample': 0.750638399915373, 'reg_alpha': 0.1871411227417492, 'reg_lambda': 0.8104904151093101, 'max_bin': 239284, 'num_boost_round': 2936}. Best is trial 0 with value: 0.8705578606914601.\n"
     ]
    },
    {
     "name": "stdout",
     "output_type": "stream",
     "text": [
      "[0]\ttrain-auc:0.84792\tvalid-auc:0.84637\n",
      "[83]\ttrain-auc:0.89293\tvalid-auc:0.86944\n"
     ]
    },
    {
     "name": "stderr",
     "output_type": "stream",
     "text": [
      "[I 2024-07-27 11:29:04,544] Trial 18 finished with value: 0.8694045193504901 and parameters: {'max_depth': 7, 'min_child_weight': 16, 'colsample_bytree': 0.6332580733070305, 'gamma': 0.14290819422261747, 'learning_rate': 0.14483279022867734, 'subsample': 0.8090034076006115, 'reg_alpha': 0.20227913269807762, 'reg_lambda': 0.7866525758082672, 'max_bin': 178052, 'num_boost_round': 3105}. Best is trial 0 with value: 0.8705578606914601.\n"
     ]
    },
    {
     "name": "stdout",
     "output_type": "stream",
     "text": [
      "[0]\ttrain-auc:0.84986\tvalid-auc:0.84597\n",
      "[100]\ttrain-auc:0.89997\tvalid-auc:0.86896\n",
      "[129]\ttrain-auc:0.90747\tvalid-auc:0.86940\n"
     ]
    },
    {
     "name": "stderr",
     "output_type": "stream",
     "text": [
      "[I 2024-07-27 11:29:18,951] Trial 19 finished with value: 0.8695015263627319 and parameters: {'max_depth': 8, 'min_child_weight': 14, 'colsample_bytree': 0.5344415584469988, 'gamma': 0.16671360474643918, 'learning_rate': 0.11489621648865908, 'subsample': 0.7892593780306147, 'reg_alpha': 0.26471552831247364, 'reg_lambda': 0.7548717321908198, 'max_bin': 210777, 'num_boost_round': 3411}. Best is trial 0 with value: 0.8705578606914601.\n"
     ]
    },
    {
     "name": "stdout",
     "output_type": "stream",
     "text": [
      "[0]\ttrain-auc:0.85391\tvalid-auc:0.84950\n",
      "[55]\ttrain-auc:0.89931\tvalid-auc:0.86744\n"
     ]
    },
    {
     "name": "stderr",
     "output_type": "stream",
     "text": [
      "[I 2024-07-27 11:29:27,923] Trial 20 finished with value: 0.8675346210341689 and parameters: {'max_depth': 9, 'min_child_weight': 17, 'colsample_bytree': 0.5859850260475636, 'gamma': 0.1213292719873037, 'learning_rate': 0.14916867902548137, 'subsample': 0.829604282032402, 'reg_alpha': 0.10604968581201293, 'reg_lambda': 0.7053583808602726, 'max_bin': 235218, 'num_boost_round': 2783}. Best is trial 0 with value: 0.8705578606914601.\n"
     ]
    },
    {
     "name": "stdout",
     "output_type": "stream",
     "text": [
      "[0]\ttrain-auc:0.85432\tvalid-auc:0.85148\n",
      "[84]\ttrain-auc:0.89758\tvalid-auc:0.86880\n"
     ]
    },
    {
     "name": "stderr",
     "output_type": "stream",
     "text": [
      "[I 2024-07-27 11:29:39,121] Trial 21 finished with value: 0.8685880420224947 and parameters: {'max_depth': 8, 'min_child_weight': 14, 'colsample_bytree': 0.6887524005398123, 'gamma': 0.05834473876491367, 'learning_rate': 0.10746789833878534, 'subsample': 0.8457764734760957, 'reg_alpha': 0.04675879503997568, 'reg_lambda': 0.7402170072571728, 'max_bin': 255547, 'num_boost_round': 2839}. Best is trial 0 with value: 0.8705578606914601.\n"
     ]
    },
    {
     "name": "stdout",
     "output_type": "stream",
     "text": [
      "[0]\ttrain-auc:0.85139\tvalid-auc:0.84815\n",
      "[100]\ttrain-auc:0.89852\tvalid-auc:0.86989\n",
      "[149]\ttrain-auc:0.91186\tvalid-auc:0.87028\n"
     ]
    },
    {
     "name": "stderr",
     "output_type": "stream",
     "text": [
      "[I 2024-07-27 11:29:58,153] Trial 22 finished with value: 0.8706047915190843 and parameters: {'max_depth': 8, 'min_child_weight': 13, 'colsample_bytree': 0.6392097679152726, 'gamma': 0.06286971658103871, 'learning_rate': 0.10596700150775383, 'subsample': 0.835578953888964, 'reg_alpha': 0.012132926499371949, 'reg_lambda': 0.7228323760773259, 'max_bin': 251957, 'num_boost_round': 2608}. Best is trial 22 with value: 0.8706047915190843.\n"
     ]
    },
    {
     "name": "stdout",
     "output_type": "stream",
     "text": [
      "[0]\ttrain-auc:0.85130\tvalid-auc:0.84802\n",
      "[100]\ttrain-auc:0.89843\tvalid-auc:0.86917\n",
      "[149]\ttrain-auc:0.91021\tvalid-auc:0.87044\n"
     ]
    },
    {
     "name": "stderr",
     "output_type": "stream",
     "text": [
      "[I 2024-07-27 11:30:17,119] Trial 23 finished with value: 0.8704662031938266 and parameters: {'max_depth': 8, 'min_child_weight': 13, 'colsample_bytree': 0.6393593105569539, 'gamma': 0.06952885919307983, 'learning_rate': 0.10062024240087251, 'subsample': 0.8321686295855483, 'reg_alpha': 0.08947279884286907, 'reg_lambda': 0.7176284196421847, 'max_bin': 248766, 'num_boost_round': 2502}. Best is trial 22 with value: 0.8706047915190843.\n"
     ]
    },
    {
     "name": "stdout",
     "output_type": "stream",
     "text": [
      "[0]\ttrain-auc:0.84799\tvalid-auc:0.84587\n",
      "[100]\ttrain-auc:0.89235\tvalid-auc:0.86951\n",
      "[113]\ttrain-auc:0.89538\tvalid-auc:0.86958\n"
     ]
    },
    {
     "name": "stderr",
     "output_type": "stream",
     "text": [
      "[I 2024-07-27 11:30:29,165] Trial 24 finished with value: 0.8695955084039474 and parameters: {'max_depth': 7, 'min_child_weight': 12, 'colsample_bytree': 0.6384227330614574, 'gamma': 0.07321218933002964, 'learning_rate': 0.11377049978691271, 'subsample': 0.8258517914788286, 'reg_alpha': 0.011673791271104898, 'reg_lambda': 0.8163719052518412, 'max_bin': 275684, 'num_boost_round': 2500}. Best is trial 22 with value: 0.8706047915190843.\n"
     ]
    },
    {
     "name": "stdout",
     "output_type": "stream",
     "text": [
      "Best hyperparameters: {'max_depth': 8, 'min_child_weight': 13, 'colsample_bytree': 0.6392097679152726, 'gamma': 0.06286971658103871, 'learning_rate': 0.10596700150775383, 'subsample': 0.835578953888964, 'reg_alpha': 0.012132926499371949, 'reg_lambda': 0.7228323760773259, 'max_bin': 251957, 'num_boost_round': 2608, 'random_state': 512, 'objective': 'binary:logistic', 'eval_metric': 'auc', 'scale_pos_weight': 7.130278082046571, 'tree_method': 'hist', 'device': 'cuda'}\n"
     ]
    }
   ],
   "source": [
    "import optuna\n",
    "import pandas as pd\n",
    "import numpy as np\n",
    "import gc\n",
    "import time\n",
    "from sklearn.model_selection import train_test_split, StratifiedShuffleSplit\n",
    "from sklearn.preprocessing import StandardScaler, OneHotEncoder, OrdinalEncoder, MinMaxScaler, RobustScaler\n",
    "from sklearn.compose import ColumnTransformer\n",
    "from sklearn.metrics import roc_auc_score\n",
    "import xgboost as xgb\n",
    "\n",
    "# Paths to datasets\n",
    "train_path = r\"C:\\Users\\paulo\\OneDrive\\Documents\\kaggle_competition_2_datasets\\train.csv\"\n",
    "\n",
    "def import_data(path, index_col=None):\n",
    "    \"\"\"Import data from a CSV file and optimize memory usage.\"\"\"\n",
    "    start_time = time.time()\n",
    "    df = pd.read_csv(path, index_col=index_col)\n",
    "    df = reduce_mem_usage(df)\n",
    "    print(f\"Data imported and memory optimized in {time.time() - start_time:.2f} seconds\")\n",
    "    print(f\"Data shape: {df.shape}, Memory usage: {df.memory_usage().sum() / 1024**2:.2f} MB\")\n",
    "    return df\n",
    "\n",
    "def reduce_mem_usage(df):\n",
    "    \"\"\"Iterate through all the columns of a dataframe and modify the data type to reduce memory usage.\"\"\"\n",
    "    start_mem = df.memory_usage().sum() / 1024**2\n",
    "    print(f\"Initial memory usage: {start_mem:.2f} MB\")\n",
    "    for col in df.columns:\n",
    "        col_type = df[col].dtype\n",
    "        if isinstance(col_type, pd.IntervalDtype):\n",
    "            continue\n",
    "        if pd.api.types.is_integer_dtype(col_type):\n",
    "            c_min = df[col].min()\n",
    "            c_max = df[col].max()\n",
    "            if c_min > np.iinfo(np.int8).min and c_max < np.iinfo(np.int8).max:\n",
    "                df[col] = df[col].astype(np.int8)\n",
    "            elif c_min > np.iinfo(np.int16).min and c_max < np.iinfo(np.int16).max:\n",
    "                df[col] = df[col].astype(np.int16)\n",
    "            elif c_min > np.iinfo(np.int32).min and c_max < np.iinfo(np.int32).max:\n",
    "                df[col] = df[col].astype(np.int32)\n",
    "            elif c_min > np.iinfo(np.int64).min and c_max < np.iinfo(np.int64).max:\n",
    "                df[col] = df[col].astype(np.int64)  \n",
    "        elif pd.api.types.is_float_dtype(col_type):\n",
    "            c_min = df[col].min()\n",
    "            c_max = df[col].max()\n",
    "            if c_min > np.finfo(np.float32).min and c_max < np.finfo(np.float32).max:\n",
    "                df[col] = df[col].astype(np.float32)\n",
    "            else:\n",
    "                df[col] = df[col].astype(np.float64)\n",
    "    end_mem = df.memory_usage().sum() / 1024**2\n",
    "    print(f\"Memory usage after optimization: {end_mem:.2f} MB\")\n",
    "    return df\n",
    "\n",
    "def feature_engineering(df):\n",
    "    \"\"\"Feature engineering on the dataset.\"\"\"\n",
    "    start_time = time.time()\n",
    "    # Binning age and converting to categorical labels instead of intervals\n",
    "    df.loc[:, 'Age_Type'] = pd.cut(df['Age'], bins=7, labels=False)\n",
    "    df.loc[:, 'Vehicle_Age'] = pd.Categorical(df['Vehicle_Age']).codes\n",
    "    df.loc[:, 'Vehicle_Damage'] = pd.Categorical(df['Vehicle_Damage']).codes\n",
    "    df.loc[:, 'Previously_Insured'] = pd.Categorical(df['Previously_Insured']).codes\n",
    "\n",
    "    df.loc[:, 'Age_x_Vehicle_Age'] = df['Age_Type'] * df['Vehicle_Age']\n",
    "    df.loc[:, 'Age_x_Vehicle_Damage'] = df['Age_Type'] * df['Vehicle_Damage']\n",
    "    df.loc[:, 'Age_x_Previously_Insured'] = df['Age_Type'] * df['Previously_Insured']\n",
    "\n",
    "    fac_pre = ['Policy_Sales_Channel', 'Vehicle_Damage', 'Annual_Premium', 'Vintage', 'Age_Type']\n",
    "    col_pre = []\n",
    "    for i in fac_pre:\n",
    "        df.loc[:, 'Previously_Insured_x_' + i] = pd.factorize(df['Previously_Insured'].astype(str) + df[i].astype(str))[0]\n",
    "        col_pre.append('Previously_Insured_x_' + i)\n",
    "\n",
    "    fac_pro = fac_pre[1:]\n",
    "    col_pro = []\n",
    "    for i in fac_pro:\n",
    "        df.loc[:, 'Policy_Sales_Channel_x_' + i] = pd.factorize(df['Policy_Sales_Channel'].astype(str) + df[i].astype(str))[0]\n",
    "        col_pro.append('Policy_Sales_Channel_x_' + i)\n",
    "    print(f\"Feature engineering completed in {time.time() - start_time:.2f} seconds\")\n",
    "    print(f\"Data shape after feature engineering: {df.shape}, Memory usage: {df.memory_usage().sum() / 1024**2:.2f} MB\")\n",
    "    return df, col_pre, col_pro\n",
    "\n",
    "# Load and optimize data\n",
    "train_df = import_data(train_path, index_col='id')\n",
    "\n",
    "# Create a stratified sample of 2% from the training data\n",
    "start_time = time.time()\n",
    "sample_fraction = 0.02\n",
    "train_sample_df, _ = train_test_split(train_df, stratify=train_df['Response'], test_size=(1 - sample_fraction), random_state=42)\n",
    "print(f\"Stratified sample created in {time.time() - start_time:.2f} seconds\")\n",
    "print(f\"Sample data shape: {train_sample_df.shape}, Memory usage: {train_sample_df.memory_usage().sum() / 1024**2:.2f} MB\")\n",
    "\n",
    "# Apply feature engineering to the sampled dataset\n",
    "train_sample_df, col_pre, col_pro = feature_engineering(train_sample_df)\n",
    "\n",
    "# Split the training data into training and validation sets\n",
    "start_time = time.time()\n",
    "X = train_sample_df.drop('Response', axis=1)\n",
    "y = train_sample_df['Response']\n",
    "X_train, X_valid, y_train, y_valid = train_test_split(X, y, stratify=y, test_size=0.2, random_state=42)\n",
    "print(f\"Training and validation sets created in {time.time() - start_time:.2f} seconds\")\n",
    "print(f\"Training set shape: {X_train.shape}, Memory usage: {X_train.memory_usage().sum() / 1024**2:.2f} MB\")\n",
    "print(f\"Validation set shape: {X_valid.shape}, Memory usage: {X_valid.memory_usage().sum() / 1024**2:.2f} MB\")\n",
    "\n",
    "# Define the ColumnTransformer\n",
    "start_time = time.time()\n",
    "coltrans = ColumnTransformer(\n",
    "    transformers=[\n",
    "        ('cat', OneHotEncoder(sparse_output=False, dtype=np.float32), ['Gender', 'Vehicle_Damage']),\n",
    "        ('minmax', MinMaxScaler(), ['Age', 'Region_Code', 'Previously_Insured', 'Policy_Sales_Channel', 'Vintage']),\n",
    "        ('ordinal', OrdinalEncoder(categories=[[0, 1, 2]], dtype=np.float32), ['Vehicle_Age']),\n",
    "        ('robust', RobustScaler(), ['Annual_Premium']),\n",
    "        ('standard', StandardScaler(), ['Age_Type', 'Age_x_Vehicle_Age', 'Age_x_Vehicle_Damage', 'Age_x_Previously_Insured']),\n",
    "        ('standard_2', StandardScaler(), col_pre + col_pro),\n",
    "    ],\n",
    "    remainder='passthrough'  # Keeps columns not specified in transformers\n",
    ")\n",
    "\n",
    "# Fit the transformer on the training data and transform both training and validation sets\n",
    "X_train = coltrans.fit_transform(X_train)\n",
    "X_valid = coltrans.transform(X_valid)\n",
    "print(f\"Data transformed in {time.time() - start_time:.2f} seconds\")\n",
    "print(f\"Transformed training set shape: {X_train.shape}, Memory usage: {X_train.nbytes / 1024**2:.2f} MB\")\n",
    "print(f\"Transformed validation set shape: {X_valid.shape}, Memory usage: {X_valid.nbytes / 1024**2:.2f} MB\")\n",
    "\n",
    "# Get feature names after transformation\n",
    "feature_names = coltrans.get_feature_names_out()\n",
    "gc.collect()\n",
    "\n",
    "# Calculate the ratio for scale_pos_weight\n",
    "ratio = len(train_sample_df[train_sample_df['Response'] == 0]) / len(train_sample_df[train_sample_df['Response'] == 1])\n",
    "print(f\"Scale pos weight ratio: {ratio}\")\n",
    "\n",
    "# Define the Optuna objective function\n",
    "def objective(trial):\n",
    "    params = {\n",
    "        'random_state': 512,\n",
    "        'objective': \"binary:logistic\",\n",
    "        'eval_metric': 'auc',\n",
    "        'max_depth': trial.suggest_int('max_depth', 7, 9),\n",
    "        'min_child_weight': trial.suggest_int('min_child_weight', 12, 18),\n",
    "        'colsample_bytree': trial.suggest_float('colsample_bytree', 0.5, 0.7),\n",
    "        'gamma': trial.suggest_float('gamma', 0.05, 0.2),\n",
    "        'learning_rate': trial.suggest_float('learning_rate', 0.1, 0.15),\n",
    "        'subsample': trial.suggest_float('subsample', 0.75, 0.85),\n",
    "        'reg_alpha': trial.suggest_float('reg_alpha', 0.01, 0.3),\n",
    "        'reg_lambda': trial.suggest_float('reg_lambda', 0.7, 0.9),\n",
    "        'max_bin': trial.suggest_int('max_bin', 160000, 280000),\n",
    "        'scale_pos_weight': ratio,\n",
    "        # 'tree_method': 'hist',\n",
    "        # 'device': 'cuda',\n",
    "    }\n",
    "    \n",
    "    num_boost_round = trial.suggest_int('num_boost_round', 2500, 3500)\n",
    "    \n",
    "    dtrain = xgb.DMatrix(X_train, label=y_train)\n",
    "    dvalid = xgb.DMatrix(X_valid, label=y_valid)\n",
    "    \n",
    "    model = xgb.train(\n",
    "        params,\n",
    "        dtrain,\n",
    "        num_boost_round=num_boost_round,\n",
    "        evals=[(dtrain, 'train'), (dvalid, 'valid')],\n",
    "        verbose_eval=100,\n",
    "        early_stopping_rounds=10,\n",
    "    )\n",
    "    \n",
    "    valid_preds = model.predict(dvalid, iteration_range=(0, model.best_iteration))\n",
    "    auc_score = roc_auc_score(y_valid, valid_preds)\n",
    "    \n",
    "    return auc_score\n",
    "\n",
    "# Create and run the Optuna study\n",
    "print(\"Starting Optuna study\")\n",
    "study = optuna.create_study(direction='maximize')\n",
    "study.optimize(objective, n_trials=25)\n",
    "\n",
    "# Extract the best hyperparameters\n",
    "best_params = study.best_params\n",
    "best_params['random_state'] = 512\n",
    "best_params['objective'] = \"binary:logistic\"\n",
    "best_params['eval_metric'] = 'auc'\n",
    "best_params['scale_pos_weight'] = ratio\n",
    "best_params['tree_method'] = 'hist'\n",
    "best_params['device'] = 'cuda'\n",
    "\n",
    "# Output the best hyperparameters\n",
    "print(\"Best hyperparameters:\", best_params)\n"
   ]
  },
  {
   "cell_type": "code",
   "execution_count": 5,
   "metadata": {},
   "outputs": [],
   "source": [
    "import optuna.visualization as vis\n",
    "import plotly.io as pio\n",
    "\n",
    "# Optimization history\n",
    "opt_history = vis.plot_optimization_history(study)\n",
    "pio.write_image(opt_history, 'optimization_history.png')\n",
    "\n",
    "# Hyperparameter importance\n",
    "param_importance = vis.plot_param_importances(study)\n",
    "pio.write_image(param_importance, 'param_importance.png')\n",
    "\n",
    "# Parallel coordinate plot\n",
    "parallel_coord = vis.plot_parallel_coordinate(study)\n",
    "pio.write_image(parallel_coord, 'parallel_coordinate.png')\n",
    "\n",
    "# Slice plot for each hyperparameter\n",
    "slice_plot = vis.plot_slice(study)\n",
    "pio.write_image(slice_plot, 'slice_plot.png')\n",
    "\n",
    "# Hyperparameter pair plot\n",
    "pair_plot = vis.plot_contour(study)\n",
    "pio.write_image(pair_plot, 'pair_plot.png')\n",
    "\n"
   ]
  }
 ],
 "metadata": {
  "kernelspec": {
   "display_name": "pytorch_env",
   "language": "python",
   "name": "python3"
  },
  "language_info": {
   "codemirror_mode": {
    "name": "ipython",
    "version": 3
   },
   "file_extension": ".py",
   "mimetype": "text/x-python",
   "name": "python",
   "nbconvert_exporter": "python",
   "pygments_lexer": "ipython3",
   "version": "3.12.4"
  }
 },
 "nbformat": 4,
 "nbformat_minor": 2
}
