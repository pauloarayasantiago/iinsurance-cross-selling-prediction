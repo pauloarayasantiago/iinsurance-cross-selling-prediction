{
 "cells": [
  {
   "cell_type": "code",
   "execution_count": 1,
   "metadata": {},
   "outputs": [
    {
     "name": "stderr",
     "output_type": "stream",
     "text": [
      "2024-07-26 07:18:19,139 - INFO - Start memory usage of dataframe: 1053.30 MB\n",
      "2024-07-26 07:18:20,697 - INFO - End memory usage of dataframe: 318.18 MB\n",
      "2024-07-26 07:18:20,698 - INFO - Decreased by 69.8%\n",
      "2024-07-26 07:18:29,789 - INFO - Start memory usage of dataframe: 643.68 MB\n",
      "2024-07-26 07:18:30,818 - INFO - End memory usage of dataframe: 204.81 MB\n",
      "2024-07-26 07:18:30,819 - INFO - Decreased by 68.2%\n",
      "2024-07-26 07:18:30,882 - INFO - Data loaded successfully.\n"
     ]
    },
    {
     "name": "stdout",
     "output_type": "stream",
     "text": [
      "DataFrame after import: <class 'pandas.core.frame.DataFrame'>\n"
     ]
    },
    {
     "name": "stderr",
     "output_type": "stream",
     "text": [
      "2024-07-26 07:18:32,614 - INFO - Data preprocessed successfully.\n"
     ]
    },
    {
     "name": "stdout",
     "output_type": "stream",
     "text": [
      "DataFrame after preprocessing: <class 'pandas.core.frame.DataFrame'>\n"
     ]
    },
    {
     "name": "stderr",
     "output_type": "stream",
     "text": [
      "2024-07-26 07:19:04,199 - INFO - Feature engineering completed successfully.\n"
     ]
    },
    {
     "name": "stdout",
     "output_type": "stream",
     "text": [
      "DataFrame after feature engineering: <class 'pandas.core.frame.DataFrame'>\n"
     ]
    },
    {
     "name": "stderr",
     "output_type": "stream",
     "text": [
      "[I 2024-07-26 07:19:40,210] A new study created in memory with name: no-name-a4c93c3f-fcf0-4527-b566-e83bd5cc37b2\n",
      "Default metric period is 5 because AUC is/are not implemented for GPU\n"
     ]
    },
    {
     "name": "stdout",
     "output_type": "stream",
     "text": [
      "0:\ttest: 0.8745203\tbest: 0.8745203 (0)\ttotal: 798ms\tremaining: 21m 15s\n",
      "100:\ttest: 0.8908743\tbest: 0.8908743 (100)\ttotal: 1m 57s\tremaining: 28m 57s\n",
      "200:\ttest: 0.8924599\tbest: 0.8924599 (200)\ttotal: 3m 48s\tremaining: 26m 28s\n",
      "300:\ttest: 0.8931028\tbest: 0.8931028 (300)\ttotal: 5m 40s\tremaining: 24m 31s\n",
      "400:\ttest: 0.8934097\tbest: 0.8934097 (400)\ttotal: 7m 33s\tremaining: 22m 36s\n",
      "500:\ttest: 0.8936255\tbest: 0.8936255 (499)\ttotal: 9m 28s\tremaining: 20m 46s\n",
      "600:\ttest: 0.8937769\tbest: 0.8937769 (600)\ttotal: 11m 23s\tremaining: 18m 56s\n",
      "700:\ttest: 0.8938711\tbest: 0.8938711 (700)\ttotal: 13m 20s\tremaining: 17m 6s\n",
      "800:\ttest: 0.8939485\tbest: 0.8939485 (800)\ttotal: 15m 11s\tremaining: 15m 9s\n",
      "900:\ttest: 0.8940251\tbest: 0.8940251 (900)\ttotal: 17m 7s\tremaining: 13m 17s\n",
      "1000:\ttest: 0.8940922\tbest: 0.8940922 (1000)\ttotal: 19m\tremaining: 11m 22s\n",
      "1100:\ttest: 0.8941449\tbest: 0.8941449 (1099)\ttotal: 20m 54s\tremaining: 9m 28s\n",
      "1200:\ttest: 0.8941909\tbest: 0.8941909 (1200)\ttotal: 22m 48s\tremaining: 7m 34s\n",
      "1300:\ttest: 0.8942370\tbest: 0.8942370 (1300)\ttotal: 24m 48s\tremaining: 5m 42s\n",
      "1400:\ttest: 0.8942787\tbest: 0.8942788 (1399)\ttotal: 26m 42s\tremaining: 3m 47s\n",
      "1500:\ttest: 0.8943176\tbest: 0.8943176 (1500)\ttotal: 28m 39s\tremaining: 1m 53s\n",
      "1599:\ttest: 0.8943396\tbest: 0.8943398 (1598)\ttotal: 30m 33s\tremaining: 0us\n",
      "bestTest = 0.8943397999\n",
      "bestIteration = 1598\n",
      "Shrink model to first 1599 iterations.\n"
     ]
    },
    {
     "name": "stderr",
     "output_type": "stream",
     "text": [
      "[I 2024-07-26 07:53:14,555] Trial 0 finished with value: 0.8943397990894207 and parameters: {'learning_rate': 0.058724672018912835, 'iterations': 1600, 'depth': 8, 'l2_leaf_reg': 0.236232108497618, 'random_strength': 0.5035006426410924, 'bagging_temperature': 1.8507711937950635}. Best is trial 0 with value: 0.8943397990894207.\n",
      "Default metric period is 5 because AUC is/are not implemented for GPU\n"
     ]
    },
    {
     "name": "stdout",
     "output_type": "stream",
     "text": [
      "0:\ttest: 0.8743468\tbest: 0.8743468 (0)\ttotal: 842ms\tremaining: 22m 46s\n",
      "100:\ttest: 0.8904626\tbest: 0.8904626 (100)\ttotal: 1m 53s\tremaining: 28m 30s\n",
      "200:\ttest: 0.8922451\tbest: 0.8922451 (200)\ttotal: 3m 43s\tremaining: 26m 18s\n",
      "300:\ttest: 0.8929542\tbest: 0.8929542 (300)\ttotal: 5m 35s\tremaining: 24m 35s\n",
      "400:\ttest: 0.8933381\tbest: 0.8933381 (400)\ttotal: 7m 25s\tremaining: 22m 37s\n",
      "500:\ttest: 0.8936057\tbest: 0.8936057 (500)\ttotal: 9m 16s\tremaining: 20m 46s\n",
      "600:\ttest: 0.8938060\tbest: 0.8938060 (600)\ttotal: 11m 11s\tremaining: 19m 3s\n",
      "700:\ttest: 0.8939427\tbest: 0.8939427 (700)\ttotal: 13m 6s\tremaining: 17m 15s\n",
      "800:\ttest: 0.8940524\tbest: 0.8940524 (800)\ttotal: 14m 59s\tremaining: 15m 24s\n",
      "900:\ttest: 0.8941358\tbest: 0.8941358 (900)\ttotal: 16m 54s\tremaining: 13m 33s\n",
      "1000:\ttest: 0.8942168\tbest: 0.8942171 (998)\ttotal: 18m 46s\tremaining: 11m 40s\n",
      "1100:\ttest: 0.8942764\tbest: 0.8942764 (1100)\ttotal: 20m 45s\tremaining: 9m 51s\n",
      "1200:\ttest: 0.8943236\tbest: 0.8943236 (1200)\ttotal: 22m 42s\tremaining: 7m 59s\n",
      "1300:\ttest: 0.8943740\tbest: 0.8943740 (1300)\ttotal: 24m 39s\tremaining: 6m 7s\n",
      "1400:\ttest: 0.8944173\tbest: 0.8944173 (1400)\ttotal: 26m 35s\tremaining: 4m 14s\n",
      "1500:\ttest: 0.8944513\tbest: 0.8944513 (1500)\ttotal: 28m 30s\tremaining: 2m 20s\n",
      "1600:\ttest: 0.8944906\tbest: 0.8944906 (1600)\ttotal: 30m 29s\tremaining: 26.3s\n",
      "1623:\ttest: 0.8944986\tbest: 0.8944986 (1623)\ttotal: 30m 57s\tremaining: 0us\n",
      "bestTest = 0.8944985867\n",
      "bestIteration = 1623\n"
     ]
    },
    {
     "name": "stderr",
     "output_type": "stream",
     "text": [
      "[I 2024-07-26 08:27:08,664] Trial 1 finished with value: 0.8944985885069372 and parameters: {'learning_rate': 0.04972056387848113, 'iterations': 1624, 'depth': 8, 'l2_leaf_reg': 7.042280242236321, 'random_strength': 1.505272608522372, 'bagging_temperature': 0.8851819675036686}. Best is trial 1 with value: 0.8944985885069372.\n",
      "Default metric period is 5 because AUC is/are not implemented for GPU\n"
     ]
    },
    {
     "name": "stdout",
     "output_type": "stream",
     "text": [
      "0:\ttest: 0.8766077\tbest: 0.8766077 (0)\ttotal: 1.2s\tremaining: 46m 46s\n",
      "100:\ttest: 0.8930103\tbest: 0.8930103 (100)\ttotal: 2m 11s\tremaining: 48m 40s\n",
      "200:\ttest: 0.8937623\tbest: 0.8937623 (200)\ttotal: 4m 25s\tremaining: 47m 1s\n",
      "300:\ttest: 0.8940720\tbest: 0.8940727 (299)\ttotal: 6m 42s\tremaining: 45m 20s\n",
      "400:\ttest: 0.8942117\tbest: 0.8942117 (400)\ttotal: 9m 2s\tremaining: 43m 38s\n",
      "500:\ttest: 0.8942985\tbest: 0.8942985 (500)\ttotal: 11m 26s\tremaining: 41m 56s\n",
      "600:\ttest: 0.8943391\tbest: 0.8943416 (596)\ttotal: 13m 50s\tremaining: 39m 56s\n",
      "700:\ttest: 0.8943580\tbest: 0.8943582 (699)\ttotal: 16m 11s\tremaining: 37m 46s\n",
      "bestTest = 0.8943659067\n",
      "bestIteration = 727\n",
      "Shrink model to first 728 iterations.\n"
     ]
    },
    {
     "name": "stderr",
     "output_type": "stream",
     "text": [
      "[I 2024-07-26 08:47:40,608] Trial 2 finished with value: 0.8943659528509935 and parameters: {'learning_rate': 0.12571708313809302, 'iterations': 2336, 'depth': 10, 'l2_leaf_reg': 0.3735097391522565, 'random_strength': 1.042267119667513, 'bagging_temperature': 0.9972892189660757}. Best is trial 1 with value: 0.8944985885069372.\n",
      "Default metric period is 5 because AUC is/are not implemented for GPU\n"
     ]
    },
    {
     "name": "stdout",
     "output_type": "stream",
     "text": [
      "0:\ttest: 0.8760353\tbest: 0.8760353 (0)\ttotal: 1.05s\tremaining: 27m 20s\n",
      "100:\ttest: 0.8885390\tbest: 0.8885390 (100)\ttotal: 2m 1s\tremaining: 29m 23s\n",
      "200:\ttest: 0.8905618\tbest: 0.8905618 (200)\ttotal: 4m 10s\tremaining: 28m 23s\n",
      "300:\ttest: 0.8916518\tbest: 0.8916518 (300)\ttotal: 6m 11s\tremaining: 25m 59s\n",
      "400:\ttest: 0.8923310\tbest: 0.8923310 (400)\ttotal: 8m 10s\tremaining: 23m 44s\n",
      "500:\ttest: 0.8927190\tbest: 0.8927190 (500)\ttotal: 10m 13s\tremaining: 21m 44s\n",
      "600:\ttest: 0.8929988\tbest: 0.8929988 (600)\ttotal: 12m 13s\tremaining: 19m 37s\n",
      "700:\ttest: 0.8932222\tbest: 0.8932222 (700)\ttotal: 14m 12s\tremaining: 17m 32s\n",
      "800:\ttest: 0.8933946\tbest: 0.8933946 (800)\ttotal: 16m 14s\tremaining: 15m 30s\n",
      "900:\ttest: 0.8935252\tbest: 0.8935252 (900)\ttotal: 18m 18s\tremaining: 13m 30s\n",
      "1000:\ttest: 0.8936295\tbest: 0.8936295 (1000)\ttotal: 20m 23s\tremaining: 11m 30s\n",
      "1100:\ttest: 0.8937277\tbest: 0.8937277 (1100)\ttotal: 22m 26s\tremaining: 9m 28s\n",
      "1200:\ttest: 0.8938079\tbest: 0.8938079 (1200)\ttotal: 24m 34s\tremaining: 7m 28s\n",
      "1300:\ttest: 0.8938828\tbest: 0.8938828 (1300)\ttotal: 26m 41s\tremaining: 5m 26s\n",
      "1400:\ttest: 0.8939377\tbest: 0.8939377 (1400)\ttotal: 28m 43s\tremaining: 3m 22s\n",
      "1500:\ttest: 0.8939827\tbest: 0.8939827 (1500)\ttotal: 30m 50s\tremaining: 1m 20s\n",
      "1565:\ttest: 0.8940116\tbest: 0.8940116 (1565)\ttotal: 32m 11s\tremaining: 0us\n",
      "bestTest = 0.8940116167\n",
      "bestIteration = 1565\n"
     ]
    },
    {
     "name": "stderr",
     "output_type": "stream",
     "text": [
      "[I 2024-07-26 09:22:41,415] Trial 3 finished with value: 0.8940116588610421 and parameters: {'learning_rate': 0.02250491221636737, 'iterations': 1566, 'depth': 9, 'l2_leaf_reg': 0.02385109546525541, 'random_strength': 0.8881382074397476, 'bagging_temperature': 1.5739351631098442}. Best is trial 1 with value: 0.8944985885069372.\n",
      "Default metric period is 5 because AUC is/are not implemented for GPU\n"
     ]
    },
    {
     "name": "stdout",
     "output_type": "stream",
     "text": [
      "0:\ttest: 0.8745744\tbest: 0.8745744 (0)\ttotal: 785ms\tremaining: 31m 28s\n",
      "100:\ttest: 0.8911423\tbest: 0.8911423 (100)\ttotal: 1m 52s\tremaining: 42m 50s\n",
      "200:\ttest: 0.8925976\tbest: 0.8925976 (200)\ttotal: 3m 40s\tremaining: 40m 20s\n",
      "300:\ttest: 0.8931723\tbest: 0.8931723 (300)\ttotal: 5m 31s\tremaining: 38m 39s\n",
      "400:\ttest: 0.8934719\tbest: 0.8934719 (400)\ttotal: 7m 23s\tremaining: 36m 59s\n",
      "500:\ttest: 0.8936751\tbest: 0.8936751 (500)\ttotal: 9m 16s\tremaining: 35m 17s\n",
      "600:\ttest: 0.8938067\tbest: 0.8938067 (600)\ttotal: 11m 10s\tremaining: 33m 36s\n",
      "700:\ttest: 0.8938908\tbest: 0.8938908 (700)\ttotal: 13m 5s\tremaining: 31m 52s\n",
      "800:\ttest: 0.8939721\tbest: 0.8939721 (800)\ttotal: 14m 58s\tremaining: 30m 2s\n",
      "900:\ttest: 0.8940462\tbest: 0.8940462 (900)\ttotal: 16m 53s\tremaining: 28m 15s\n",
      "1000:\ttest: 0.8941086\tbest: 0.8941086 (1000)\ttotal: 18m 47s\tremaining: 26m 24s\n",
      "1100:\ttest: 0.8941698\tbest: 0.8941698 (1100)\ttotal: 20m 38s\tremaining: 24m 30s\n",
      "1200:\ttest: 0.8942213\tbest: 0.8942213 (1200)\ttotal: 22m 34s\tremaining: 22m 41s\n",
      "1300:\ttest: 0.8942653\tbest: 0.8942657 (1298)\ttotal: 24m 28s\tremaining: 20m 49s\n",
      "1400:\ttest: 0.8943024\tbest: 0.8943024 (1400)\ttotal: 26m 20s\tremaining: 18m 56s\n",
      "1500:\ttest: 0.8943330\tbest: 0.8943330 (1500)\ttotal: 28m 17s\tremaining: 17m 5s\n",
      "1600:\ttest: 0.8943560\tbest: 0.8943563 (1596)\ttotal: 30m 11s\tremaining: 15m 13s\n",
      "1700:\ttest: 0.8943863\tbest: 0.8943863 (1700)\ttotal: 32m 7s\tremaining: 13m 21s\n",
      "1800:\ttest: 0.8944020\tbest: 0.8944020 (1799)\ttotal: 34m 3s\tremaining: 11m 28s\n",
      "1900:\ttest: 0.8944301\tbest: 0.8944301 (1900)\ttotal: 35m 59s\tremaining: 9m 36s\n",
      "2000:\ttest: 0.8944462\tbest: 0.8944469 (1996)\ttotal: 37m 55s\tremaining: 7m 42s\n",
      "2100:\ttest: 0.8944673\tbest: 0.8944674 (2098)\ttotal: 39m 53s\tremaining: 5m 49s\n",
      "2200:\ttest: 0.8944857\tbest: 0.8944858 (2199)\ttotal: 41m 49s\tremaining: 3m 56s\n",
      "2300:\ttest: 0.8945031\tbest: 0.8945031 (2300)\ttotal: 43m 45s\tremaining: 2m 2s\n",
      "2400:\ttest: 0.8945150\tbest: 0.8945152 (2398)\ttotal: 45m 44s\tremaining: 8s\n",
      "2407:\ttest: 0.8945154\tbest: 0.8945155 (2402)\ttotal: 45m 51s\tremaining: 0us\n",
      "bestTest = 0.8945155144\n",
      "bestIteration = 2402\n",
      "Shrink model to first 2403 iterations.\n"
     ]
    },
    {
     "name": "stderr",
     "output_type": "stream",
     "text": [
      "[I 2024-07-26 10:12:02,295] Trial 4 finished with value: 0.8945155699649273 and parameters: {'learning_rate': 0.06349295021099573, 'iterations': 2408, 'depth': 8, 'l2_leaf_reg': 6.558066260689411, 'random_strength': 0.16668278076405652, 'bagging_temperature': 1.9536030084235567}. Best is trial 4 with value: 0.8945155699649273.\n",
      "Default metric period is 5 because AUC is/are not implemented for GPU\n"
     ]
    },
    {
     "name": "stdout",
     "output_type": "stream",
     "text": [
      "0:\ttest: 0.8784861\tbest: 0.8784861 (0)\ttotal: 1.54s\tremaining: 1h 9m 45s\n",
      "100:\ttest: 0.8917656\tbest: 0.8917656 (100)\ttotal: 2m 24s\tremaining: 1h 2m 30s\n",
      "200:\ttest: 0.8931655\tbest: 0.8931655 (200)\ttotal: 4m 49s\tremaining: 1h 21s\n",
      "300:\ttest: 0.8936716\tbest: 0.8936716 (300)\ttotal: 7m 15s\tremaining: 58m 13s\n",
      "400:\ttest: 0.8939531\tbest: 0.8939531 (400)\ttotal: 9m 45s\tremaining: 56m 23s\n",
      "500:\ttest: 0.8941549\tbest: 0.8941549 (500)\ttotal: 12m 16s\tremaining: 54m 17s\n",
      "600:\ttest: 0.8942552\tbest: 0.8942552 (600)\ttotal: 14m 48s\tremaining: 52m 8s\n",
      "700:\ttest: 0.8943477\tbest: 0.8943477 (700)\ttotal: 17m 17s\tremaining: 49m 44s\n",
      "800:\ttest: 0.8944295\tbest: 0.8944295 (800)\ttotal: 19m 50s\tremaining: 47m 28s\n",
      "900:\ttest: 0.8944832\tbest: 0.8944832 (900)\ttotal: 22m 23s\tremaining: 45m 8s\n",
      "1000:\ttest: 0.8945314\tbest: 0.8945315 (995)\ttotal: 24m 56s\tremaining: 42m 45s\n",
      "1100:\ttest: 0.8945639\tbest: 0.8945639 (1100)\ttotal: 27m 32s\tremaining: 40m 25s\n",
      "1200:\ttest: 0.8945928\tbest: 0.8945928 (1199)\ttotal: 30m 9s\tremaining: 38m 3s\n",
      "1300:\ttest: 0.8946162\tbest: 0.8946173 (1291)\ttotal: 32m 46s\tremaining: 35m 40s\n",
      "1400:\ttest: 0.8946363\tbest: 0.8946363 (1400)\ttotal: 35m 19s\tremaining: 33m 10s\n",
      "1500:\ttest: 0.8946452\tbest: 0.8946455 (1479)\ttotal: 37m 53s\tremaining: 30m 41s\n",
      "1600:\ttest: 0.8946531\tbest: 0.8946545 (1596)\ttotal: 40m 32s\tremaining: 28m 15s\n",
      "1700:\ttest: 0.8946611\tbest: 0.8946629 (1686)\ttotal: 43m 9s\tremaining: 25m 46s\n",
      "1800:\ttest: 0.8946691\tbest: 0.8946695 (1799)\ttotal: 45m 46s\tremaining: 23m 16s\n",
      "1900:\ttest: 0.8946791\tbest: 0.8946791 (1897)\ttotal: 48m 22s\tremaining: 20m 45s\n",
      "2000:\ttest: 0.8946829\tbest: 0.8946837 (1985)\ttotal: 51m 2s\tremaining: 18m 15s\n",
      "bestTest = 0.8946836591\n",
      "bestIteration = 1985\n",
      "Shrink model to first 1986 iterations.\n"
     ]
    },
    {
     "name": "stderr",
     "output_type": "stream",
     "text": [
      "[I 2024-07-26 11:09:30,730] Trial 5 finished with value: 0.8946836272334897 and parameters: {'learning_rate': 0.057137503886414205, 'iterations': 2717, 'depth': 11, 'l2_leaf_reg': 8.035741529704495, 'random_strength': 0.20700394579791845, 'bagging_temperature': 0.6097883500569838}. Best is trial 5 with value: 0.8946836272334897.\n",
      "Default metric period is 5 because AUC is/are not implemented for GPU\n"
     ]
    },
    {
     "name": "stdout",
     "output_type": "stream",
     "text": [
      "0:\ttest: 0.8758387\tbest: 0.8758387 (0)\ttotal: 860ms\tremaining: 23m 18s\n",
      "100:\ttest: 0.8924607\tbest: 0.8924607 (100)\ttotal: 2m 4s\tremaining: 31m 18s\n",
      "200:\ttest: 0.8934503\tbest: 0.8934503 (200)\ttotal: 4m 6s\tremaining: 29m 8s\n",
      "300:\ttest: 0.8938202\tbest: 0.8938202 (300)\ttotal: 6m 12s\tremaining: 27m 20s\n",
      "400:\ttest: 0.8940289\tbest: 0.8940289 (400)\ttotal: 8m 15s\tremaining: 25m 15s\n",
      "500:\ttest: 0.8941746\tbest: 0.8941746 (500)\ttotal: 10m 22s\tremaining: 23m 20s\n",
      "600:\ttest: 0.8942956\tbest: 0.8942956 (600)\ttotal: 12m 30s\tremaining: 21m 21s\n",
      "700:\ttest: 0.8943592\tbest: 0.8943592 (700)\ttotal: 14m 41s\tremaining: 19m 23s\n",
      "800:\ttest: 0.8944144\tbest: 0.8944157 (795)\ttotal: 16m 47s\tremaining: 17m 18s\n",
      "900:\ttest: 0.8944530\tbest: 0.8944533 (896)\ttotal: 18m 52s\tremaining: 15m 12s\n",
      "1000:\ttest: 0.8944861\tbest: 0.8944861 (1000)\ttotal: 20m 58s\tremaining: 13m 7s\n",
      "1100:\ttest: 0.8945168\tbest: 0.8945170 (1099)\ttotal: 23m 5s\tremaining: 11m 2s\n",
      "1200:\ttest: 0.8945343\tbest: 0.8945344 (1193)\ttotal: 25m 15s\tremaining: 8m 57s\n",
      "1300:\ttest: 0.8945504\tbest: 0.8945518 (1296)\ttotal: 27m 23s\tremaining: 6m 51s\n",
      "1400:\ttest: 0.8945536\tbest: 0.8945570 (1377)\ttotal: 29m 29s\tremaining: 4m 45s\n",
      "1500:\ttest: 0.8945732\tbest: 0.8945753 (1496)\ttotal: 31m 36s\tremaining: 2m 39s\n",
      "bestTest = 0.8945752978\n",
      "bestIteration = 1496\n",
      "Shrink model to first 1497 iterations.\n"
     ]
    },
    {
     "name": "stderr",
     "output_type": "stream",
     "text": [
      "[I 2024-07-26 11:45:46,172] Trial 6 finished with value: 0.8945753043537477 and parameters: {'learning_rate': 0.0978598071930063, 'iterations': 1627, 'depth': 9, 'l2_leaf_reg': 0.7686900339824705, 'random_strength': 0.14779680737765388, 'bagging_temperature': 1.5323715408331573}. Best is trial 5 with value: 0.8946836272334897.\n",
      "Default metric period is 5 because AUC is/are not implemented for GPU\n"
     ]
    },
    {
     "name": "stdout",
     "output_type": "stream",
     "text": [
      "0:\ttest: 0.8745702\tbest: 0.8745702 (0)\ttotal: 967ms\tremaining: 39m 23s\n",
      "100:\ttest: 0.8924800\tbest: 0.8924800 (100)\ttotal: 1m 48s\tremaining: 41m 53s\n",
      "200:\ttest: 0.8933869\tbest: 0.8933869 (200)\ttotal: 3m 35s\tremaining: 40m 3s\n",
      "300:\ttest: 0.8936837\tbest: 0.8936837 (300)\ttotal: 5m 25s\tremaining: 38m 41s\n",
      "400:\ttest: 0.8939148\tbest: 0.8939148 (400)\ttotal: 7m 16s\tremaining: 37m 5s\n",
      "500:\ttest: 0.8940447\tbest: 0.8940447 (500)\ttotal: 9m 11s\tremaining: 35m 40s\n",
      "600:\ttest: 0.8941372\tbest: 0.8941372 (600)\ttotal: 11m 7s\tremaining: 34m 6s\n",
      "700:\ttest: 0.8941977\tbest: 0.8941977 (700)\ttotal: 12m 57s\tremaining: 32m 14s\n",
      "800:\ttest: 0.8942715\tbest: 0.8942715 (800)\ttotal: 14m 50s\tremaining: 30m 27s\n",
      "900:\ttest: 0.8943210\tbest: 0.8943210 (899)\ttotal: 16m 43s\tremaining: 28m 40s\n",
      "1000:\ttest: 0.8943794\tbest: 0.8943797 (998)\ttotal: 18m 37s\tremaining: 26m 52s\n",
      "1100:\ttest: 0.8944187\tbest: 0.8944190 (1098)\ttotal: 20m 31s\tremaining: 25m 3s\n",
      "1200:\ttest: 0.8944432\tbest: 0.8944432 (1200)\ttotal: 22m 27s\tremaining: 23m 15s\n",
      "1300:\ttest: 0.8944604\tbest: 0.8944608 (1286)\ttotal: 24m 22s\tremaining: 21m 25s\n",
      "1400:\ttest: 0.8944817\tbest: 0.8944820 (1399)\ttotal: 26m 16s\tremaining: 19m 35s\n",
      "1500:\ttest: 0.8944992\tbest: 0.8945006 (1486)\ttotal: 28m 11s\tremaining: 17m 43s\n",
      "1600:\ttest: 0.8945096\tbest: 0.8945096 (1598)\ttotal: 30m 7s\tremaining: 15m 52s\n",
      "1700:\ttest: 0.8945226\tbest: 0.8945234 (1696)\ttotal: 32m 3s\tremaining: 14m 1s\n",
      "1800:\ttest: 0.8945298\tbest: 0.8945310 (1795)\ttotal: 34m\tremaining: 12m 9s\n",
      "1900:\ttest: 0.8945369\tbest: 0.8945376 (1898)\ttotal: 35m 55s\tremaining: 10m 16s\n",
      "bestTest = 0.8945375681\n",
      "bestIteration = 1898\n",
      "Shrink model to first 1899 iterations.\n"
     ]
    },
    {
     "name": "stderr",
     "output_type": "stream",
     "text": [
      "[I 2024-07-26 12:25:49,572] Trial 7 finished with value: 0.894537655445337 and parameters: {'learning_rate': 0.1141260425710353, 'iterations': 2445, 'depth': 8, 'l2_leaf_reg': 0.07421888942585612, 'random_strength': 0.12806884670491384, 'bagging_temperature': 1.85806413133347}. Best is trial 5 with value: 0.8946836272334897.\n",
      "Default metric period is 5 because AUC is/are not implemented for GPU\n"
     ]
    },
    {
     "name": "stdout",
     "output_type": "stream",
     "text": [
      "0:\ttest: 0.8766067\tbest: 0.8766067 (0)\ttotal: 1.13s\tremaining: 53m 21s\n",
      "100:\ttest: 0.8898017\tbest: 0.8898017 (100)\ttotal: 2m 15s\tremaining: 1h 59s\n",
      "200:\ttest: 0.8918211\tbest: 0.8918211 (200)\ttotal: 4m 28s\tremaining: 58m 15s\n",
      "300:\ttest: 0.8926681\tbest: 0.8926681 (300)\ttotal: 6m 37s\tremaining: 55m 25s\n",
      "400:\ttest: 0.8931499\tbest: 0.8931499 (400)\ttotal: 8m 48s\tremaining: 53m 12s\n",
      "500:\ttest: 0.8934509\tbest: 0.8934509 (500)\ttotal: 11m 1s\tremaining: 51m 4s\n",
      "600:\ttest: 0.8936722\tbest: 0.8936722 (600)\ttotal: 13m 19s\tremaining: 49m 14s\n",
      "700:\ttest: 0.8938406\tbest: 0.8938406 (700)\ttotal: 15m 37s\tremaining: 47m 16s\n",
      "800:\ttest: 0.8939602\tbest: 0.8939602 (800)\ttotal: 17m 55s\tremaining: 45m 13s\n",
      "900:\ttest: 0.8940555\tbest: 0.8940555 (900)\ttotal: 20m 18s\tremaining: 43m 17s\n",
      "1000:\ttest: 0.8941435\tbest: 0.8941435 (1000)\ttotal: 22m 40s\tremaining: 41m 14s\n",
      "1100:\ttest: 0.8942133\tbest: 0.8942133 (1100)\ttotal: 25m 3s\tremaining: 39m 9s\n",
      "1200:\ttest: 0.8942704\tbest: 0.8942704 (1200)\ttotal: 27m 21s\tremaining: 36m 55s\n",
      "1300:\ttest: 0.8943183\tbest: 0.8943183 (1300)\ttotal: 29m 45s\tremaining: 34m 46s\n",
      "1400:\ttest: 0.8943663\tbest: 0.8943663 (1400)\ttotal: 32m 4s\tremaining: 32m 31s\n",
      "1500:\ttest: 0.8944045\tbest: 0.8944045 (1500)\ttotal: 34m 27s\tremaining: 30m 19s\n",
      "1600:\ttest: 0.8944419\tbest: 0.8944419 (1600)\ttotal: 36m 49s\tremaining: 28m 4s\n",
      "1700:\ttest: 0.8944715\tbest: 0.8944715 (1700)\ttotal: 39m 12s\tremaining: 25m 50s\n",
      "1800:\ttest: 0.8945017\tbest: 0.8945017 (1800)\ttotal: 41m 36s\tremaining: 23m 35s\n",
      "1900:\ttest: 0.8945252\tbest: 0.8945255 (1898)\ttotal: 44m\tremaining: 21m 19s\n",
      "2000:\ttest: 0.8945479\tbest: 0.8945482 (1998)\ttotal: 46m 24s\tremaining: 19m 2s\n",
      "2100:\ttest: 0.8945772\tbest: 0.8945772 (2100)\ttotal: 48m 48s\tremaining: 16m 44s\n",
      "2200:\ttest: 0.8945999\tbest: 0.8945999 (2200)\ttotal: 51m 11s\tremaining: 14m 26s\n",
      "2300:\ttest: 0.8946236\tbest: 0.8946236 (2300)\ttotal: 53m 32s\tremaining: 12m 7s\n",
      "2400:\ttest: 0.8946394\tbest: 0.8946394 (2399)\ttotal: 55m 56s\tremaining: 9m 48s\n",
      "2500:\ttest: 0.8946550\tbest: 0.8946553 (2497)\ttotal: 58m 22s\tremaining: 7m 29s\n",
      "2600:\ttest: 0.8946702\tbest: 0.8946703 (2599)\ttotal: 1h 48s\tremaining: 5m 10s\n",
      "2700:\ttest: 0.8946801\tbest: 0.8946801 (2700)\ttotal: 1h 3m 14s\tremaining: 2m 50s\n",
      "2800:\ttest: 0.8946905\tbest: 0.8946919 (2792)\ttotal: 1h 5m 39s\tremaining: 29.5s\n",
      "2821:\ttest: 0.8946940\tbest: 0.8946941 (2819)\ttotal: 1h 6m 9s\tremaining: 0us\n",
      "bestTest = 0.8946940899\n",
      "bestIteration = 2819\n",
      "Shrink model to first 2820 iterations.\n"
     ]
    }
   ],
   "source": [
    "import pandas as pd\n",
    "import numpy as np\n",
    "import matplotlib.pyplot as plt\n",
    "import logging\n",
    "import gc\n",
    "from sklearn.model_selection import StratifiedKFold, train_test_split\n",
    "from sklearn.preprocessing import StandardScaler\n",
    "from sklearn.metrics import roc_auc_score\n",
    "import optuna\n",
    "from catboost import CatBoostClassifier, Pool\n",
    "from datetime import datetime\n",
    "import warnings\n",
    "import joblib\n",
    "\n",
    "warnings.filterwarnings(\"ignore\")\n",
    "\n",
    "# Create a log filename with the notebook name and current datetime\n",
    "current_time = datetime.now().strftime(\"%Y%m%d_%H%M%S\")\n",
    "log_filename = f'kaggle_submission_{current_time}.log'\n",
    "\n",
    "# Configure logging to save to a file\n",
    "logging.basicConfig(\n",
    "    level=logging.INFO,\n",
    "    format='%(asctime)s - %(levelname)s - %(message)s',\n",
    "    handlers=[\n",
    "        logging.FileHandler(log_filename),\n",
    "        logging.StreamHandler()  # This ensures logs are also output to the console\n",
    "    ]\n",
    ")\n",
    "\n",
    "def reduce_mem_usage(df, verbose=True):\n",
    "    \"\"\"Iterate through all the columns of a dataframe and modify the data type to reduce memory usage.\"\"\"\n",
    "    start_mem = df.memory_usage().sum() / 1024**2\n",
    "    if verbose:\n",
    "        logging.info(f'Start memory usage of dataframe: {start_mem:.2f} MB')\n",
    "\n",
    "    for col in df.columns:\n",
    "        col_type = df[col].dtype\n",
    "        \n",
    "        if col_type != object:\n",
    "            c_min = df[col].min()\n",
    "            c_max = df[col].max()\n",
    "            if str(col_type)[:3] == 'int':\n",
    "                if c_min > np.iinfo(np.int8).min and c_max < np.iinfo(np.int8).max:\n",
    "                    df[col] = df[col].astype(np.int8)\n",
    "                elif c_min > np.iinfo(np.int16).min and c_max < np.iinfo(np.int16).max:\n",
    "                    df[col] = df[col].astype(np.int16)\n",
    "                elif c_min > np.iinfo(np.int32).min and c_max < np.iinfo(np.int32).max:\n",
    "                    df[col] = df[col].astype(np.int32)\n",
    "                elif c_min > np.iinfo(np.int64).min and c_max < np.iinfo(np.int64).max:\n",
    "                    df[col] = df[col].astype(np.int64)  \n",
    "            else:\n",
    "                if c_min > np.finfo(np.float32).min and c_max < np.finfo(np.float32).max:\n",
    "                    df[col] = df[col].astype(np.float32)\n",
    "                else:\n",
    "                    df[col] = df[col].astype(np.float64)\n",
    "        else:\n",
    "            df[col] = df[col].astype('category')\n",
    "\n",
    "    end_mem = df.memory_usage().sum() / 1024**2\n",
    "    if verbose:\n",
    "        logging.info(f'End memory usage of dataframe: {end_mem:.2f} MB')\n",
    "        logging.info(f'Decreased by {(100 * (start_mem - end_mem) / start_mem):.1f}%')\n",
    "\n",
    "    return df\n",
    "\n",
    "def safe_map(df, column, mapping):\n",
    "    \"\"\"Map categorical values to numerical values and log any unknown categories.\"\"\"\n",
    "    unknown_categories = set(df[column]) - set(mapping.keys())\n",
    "    if unknown_categories:\n",
    "        logging.warning(f\"Unknown categories in column {column}: {unknown_categories}\")\n",
    "    df[column] = df[column].map(mapping)\n",
    "    return df\n",
    "\n",
    "def import_data(file, **kwargs):\n",
    "    \"\"\"Create a dataframe and optimize its memory usage.\"\"\"\n",
    "    df = pd.read_csv(file, parse_dates=True, keep_date_col=True, **kwargs)\n",
    "    df = reduce_mem_usage(df)\n",
    "    return df\n",
    "\n",
    "def preprocess_data(df):\n",
    "    \"\"\"Preprocess the dataset.\"\"\"\n",
    "    gender_mapping = {'Male': 1, 'Female': 0}\n",
    "    vehicle_damage_mapping = {'Yes': 1, 'No': 0}\n",
    "    vehicle_age_mapping = {'< 1 Year': 0, '1-2 Year': 1, '> 2 Years': 2}\n",
    "    \n",
    "    df = safe_map(df, 'Gender', gender_mapping)\n",
    "    df = safe_map(df, 'Vehicle_Damage', vehicle_damage_mapping)\n",
    "    df = safe_map(df, 'Vehicle_Age', vehicle_age_mapping)\n",
    "    \n",
    "    df.drop(['Driving_License'], axis=1, inplace=True)\n",
    "    return df\n",
    "\n",
    "def feature_engineering(df):\n",
    "    \"\"\"Feature engineering on the dataset.\"\"\"\n",
    "    df['Previously_Insured_Annual_Premium'] = pd.factorize((df['Previously_Insured'].astype(str) + df['Annual_Premium'].astype(str)))[0]\n",
    "    df['Previously_Insured_Vehicle_Age'] = pd.factorize((df['Previously_Insured'].astype(str) + df['Vehicle_Age'].astype(str)))[0]\n",
    "    df['Previously_Insured_Vehicle_Damage'] = pd.factorize((df['Previously_Insured'].astype(str) + df['Vehicle_Damage'].astype(str)))[0]\n",
    "    df['Previously_Insured_Vintage'] = pd.factorize((df['Previously_Insured'].astype(str) + df['Vintage'].astype(str)))[0]\n",
    "    return df\n",
    "\n",
    "# Paths to datasets\n",
    "train_path = r\"C:\\Users\\paulo\\OneDrive\\Documents\\kaggle_competition_2_datasets\\train.csv\"\n",
    "test_path = r\"C:\\Users\\paulo\\OneDrive\\Documents\\kaggle_competition_2_datasets\\test.csv\"\n",
    "\n",
    "# Load and optimize data\n",
    "train_df = import_data(train_path, index_col='id')\n",
    "test_df = import_data(test_path, index_col='id')\n",
    "\n",
    "gc.collect()\n",
    "print(f\"DataFrame after import: {type(train_df)}\")\n",
    "logging.info(\"Data loaded successfully.\")\n",
    "\n",
    "# Apply preprocessing\n",
    "train_df = preprocess_data(train_df)\n",
    "test_df = preprocess_data(test_df)\n",
    "print(f\"DataFrame after preprocessing: {type(train_df)}\")\n",
    "logging.info(\"Data preprocessed successfully.\")\n",
    "\n",
    "# Apply feature engineering\n",
    "train_df = feature_engineering(train_df)\n",
    "test_df = feature_engineering(test_df)\n",
    "\n",
    "gc.collect()\n",
    "print(f\"DataFrame after feature engineering: {type(train_df)}\")\n",
    "logging.info(\"Feature engineering completed successfully.\")\n",
    "\n",
    "# Normalize numeric columns\n",
    "num_cols = ['Age', 'Region_Code', 'Annual_Premium', 'Policy_Sales_Channel', 'Vintage']\n",
    "scaler = StandardScaler()\n",
    "train_df[num_cols] = scaler.fit_transform(train_df[num_cols])\n",
    "test_df[num_cols] = scaler.transform(test_df[num_cols])\n",
    "\n",
    "# Create a stratified sample of the dataset\n",
    "X = train_df.drop('Response', axis=1)\n",
    "y = train_df['Response']\n",
    "\n",
    "# Ensure that categorical columns are in string format\n",
    "categorical_cols=['Gender', 'Vehicle_Age', 'Vehicle_Damage', 'Policy_Sales_Channel', 'Region_Code', 'Previously_Insured_Annual_Premium', 'Previously_Insured_Vehicle_Age', 'Previously_Insured_Vehicle_Damage', 'Previously_Insured_Vintage']\n",
    "X[categorical_cols] = X[categorical_cols].astype(str)\n",
    "test_df[categorical_cols] = test_df[categorical_cols].astype(str)\n",
    "\n",
    "def objective(trial):\n",
    "    params = {\n",
    "        'learning_rate': trial.suggest_loguniform('learning_rate', 0.02, 0.2),  # Expanded upper limit\n",
    "        'iterations': trial.suggest_int('iterations', 1500, 3000),  # Expanded upper limit\n",
    "        'depth': trial.suggest_int('depth', 7, 12),  # Expanded upper limit\n",
    "        'l2_leaf_reg': trial.suggest_loguniform('l2_leaf_reg', 0.01, 10),\n",
    "        'random_strength': trial.suggest_loguniform('random_strength', 0.1, 2.0),  # Expanded upper limit\n",
    "        'bagging_temperature': trial.suggest_loguniform('bagging_temperature', 0.2, 2.0),  # Expanded upper limit\n",
    "        'task_type': 'GPU',  # Ensure your environment supports GPU\n",
    "        'eval_metric': 'AUC',\n",
    "        'loss_function': 'Logloss',\n",
    "        'random_seed': 42,\n",
    "        'allow_writing_files': False,\n",
    "        'verbose': 100  # Display log every 100 iterations\n",
    "    }\n",
    "\n",
    "    X_train, X_valid, y_train, y_valid = train_test_split(X, y, test_size=0.2, random_state=42)\n",
    "\n",
    "    X_train[categorical_cols] = X_train[categorical_cols].astype(str)\n",
    "    X_valid[categorical_cols] = X_valid[categorical_cols].astype(str)\n",
    "    \n",
    "    train_pool = Pool(X_train, y_train, cat_features=categorical_cols)\n",
    "    valid_pool = Pool(X_valid, y_valid, cat_features=categorical_cols)\n",
    "\n",
    "    model = CatBoostClassifier(**params)\n",
    "    model.fit(train_pool, eval_set=valid_pool, early_stopping_rounds=50, verbose=100)\n",
    "\n",
    "    valid_preds = model.predict_proba(X_valid)[:, 1]\n",
    "    auc = roc_auc_score(y_valid, valid_preds)\n",
    "    \n",
    "    return auc\n",
    "\n",
    "study = optuna.create_study(direction='maximize')\n",
    "study.optimize(objective, n_trials=25)\n",
    "\n",
    "print('Best parameters:', study.best_params)\n",
    "print('Best AUC score:', study.best_value)\n",
    "\n",
    "\n",
    "# Load the best model\n",
    "best_model = joblib.load(f'catboost_model_trial_{study.best_trial.number}.pkl')\n",
    "\n",
    "# Ensure test_df categorical columns are in string format\n",
    "test_df[categorical_cols] = test_df[categorical_cols].astype(str)\n",
    "\n",
    "# Predict on the test set\n",
    "test_pool = Pool(test_df, cat_features=categorical_cols)\n",
    "test_pred = best_model.predict_proba(test_pool)[:, 1]\n",
    "joblib.dump(test_pred, 'test_pred_cat.pkl')\n",
    "\n",
    "logging.info(\"Final CatBoost model and predictions saved.\")\n",
    "\n",
    "# Create a submission dataframe\n",
    "submission = pd.DataFrame({\n",
    "    'id': test_df.index,\n",
    "    'Response': test_pred\n",
    "})\n",
    "\n",
    "# Save the submission file\n",
    "submission_filename = f'submission_{current_time}.csv'\n",
    "submission.to_csv(submission_filename, index=False)\n",
    "\n",
    "logging.info(f\"Submission file {submission_filename} created successfully.\")\n",
    "print(f\"Submission file {submission_filename} created successfully.\")\n",
    "\n",
    "# Plot Optuna visualizations\n",
    "optuna.visualization.plot_optimization_history(study)\n",
    "optuna.visualization.plot_intermediate_values(study)\n",
    "optuna.visualization.plot_parallel_coordinate(study)\n",
    "optuna.visualization.plot_contour(study)\n",
    "optuna.visualization.plot_param_importances(study)\n",
    "optuna.visualization.plot_slice(study)\n",
    "optuna.visualization.plot_edf(study)\n"
   ]
  },
  {
   "cell_type": "code",
   "execution_count": null,
   "metadata": {},
   "outputs": [
    {
     "name": "stderr",
     "output_type": "stream",
     "text": [
      "[W 2024-07-25 23:33:49,632] You need to set up the pruning feature to utilize `plot_intermediate_values()`\n"
     ]
    },
    {
     "data": {
      "application/vnd.plotly.v1+json": {
       "config": {
        "plotlyServerURL": "https://plot.ly"
       },
       "data": [],
       "layout": {
        "showlegend": false,
        "template": {
         "data": {
          "bar": [
           {
            "error_x": {
             "color": "#2a3f5f"
            },
            "error_y": {
             "color": "#2a3f5f"
            },
            "marker": {
             "line": {
              "color": "#E5ECF6",
              "width": 0.5
             },
             "pattern": {
              "fillmode": "overlay",
              "size": 10,
              "solidity": 0.2
             }
            },
            "type": "bar"
           }
          ],
          "barpolar": [
           {
            "marker": {
             "line": {
              "color": "#E5ECF6",
              "width": 0.5
             },
             "pattern": {
              "fillmode": "overlay",
              "size": 10,
              "solidity": 0.2
             }
            },
            "type": "barpolar"
           }
          ],
          "carpet": [
           {
            "aaxis": {
             "endlinecolor": "#2a3f5f",
             "gridcolor": "white",
             "linecolor": "white",
             "minorgridcolor": "white",
             "startlinecolor": "#2a3f5f"
            },
            "baxis": {
             "endlinecolor": "#2a3f5f",
             "gridcolor": "white",
             "linecolor": "white",
             "minorgridcolor": "white",
             "startlinecolor": "#2a3f5f"
            },
            "type": "carpet"
           }
          ],
          "choropleth": [
           {
            "colorbar": {
             "outlinewidth": 0,
             "ticks": ""
            },
            "type": "choropleth"
           }
          ],
          "contour": [
           {
            "colorbar": {
             "outlinewidth": 0,
             "ticks": ""
            },
            "colorscale": [
             [
              0,
              "#0d0887"
             ],
             [
              0.1111111111111111,
              "#46039f"
             ],
             [
              0.2222222222222222,
              "#7201a8"
             ],
             [
              0.3333333333333333,
              "#9c179e"
             ],
             [
              0.4444444444444444,
              "#bd3786"
             ],
             [
              0.5555555555555556,
              "#d8576b"
             ],
             [
              0.6666666666666666,
              "#ed7953"
             ],
             [
              0.7777777777777778,
              "#fb9f3a"
             ],
             [
              0.8888888888888888,
              "#fdca26"
             ],
             [
              1,
              "#f0f921"
             ]
            ],
            "type": "contour"
           }
          ],
          "contourcarpet": [
           {
            "colorbar": {
             "outlinewidth": 0,
             "ticks": ""
            },
            "type": "contourcarpet"
           }
          ],
          "heatmap": [
           {
            "colorbar": {
             "outlinewidth": 0,
             "ticks": ""
            },
            "colorscale": [
             [
              0,
              "#0d0887"
             ],
             [
              0.1111111111111111,
              "#46039f"
             ],
             [
              0.2222222222222222,
              "#7201a8"
             ],
             [
              0.3333333333333333,
              "#9c179e"
             ],
             [
              0.4444444444444444,
              "#bd3786"
             ],
             [
              0.5555555555555556,
              "#d8576b"
             ],
             [
              0.6666666666666666,
              "#ed7953"
             ],
             [
              0.7777777777777778,
              "#fb9f3a"
             ],
             [
              0.8888888888888888,
              "#fdca26"
             ],
             [
              1,
              "#f0f921"
             ]
            ],
            "type": "heatmap"
           }
          ],
          "heatmapgl": [
           {
            "colorbar": {
             "outlinewidth": 0,
             "ticks": ""
            },
            "colorscale": [
             [
              0,
              "#0d0887"
             ],
             [
              0.1111111111111111,
              "#46039f"
             ],
             [
              0.2222222222222222,
              "#7201a8"
             ],
             [
              0.3333333333333333,
              "#9c179e"
             ],
             [
              0.4444444444444444,
              "#bd3786"
             ],
             [
              0.5555555555555556,
              "#d8576b"
             ],
             [
              0.6666666666666666,
              "#ed7953"
             ],
             [
              0.7777777777777778,
              "#fb9f3a"
             ],
             [
              0.8888888888888888,
              "#fdca26"
             ],
             [
              1,
              "#f0f921"
             ]
            ],
            "type": "heatmapgl"
           }
          ],
          "histogram": [
           {
            "marker": {
             "pattern": {
              "fillmode": "overlay",
              "size": 10,
              "solidity": 0.2
             }
            },
            "type": "histogram"
           }
          ],
          "histogram2d": [
           {
            "colorbar": {
             "outlinewidth": 0,
             "ticks": ""
            },
            "colorscale": [
             [
              0,
              "#0d0887"
             ],
             [
              0.1111111111111111,
              "#46039f"
             ],
             [
              0.2222222222222222,
              "#7201a8"
             ],
             [
              0.3333333333333333,
              "#9c179e"
             ],
             [
              0.4444444444444444,
              "#bd3786"
             ],
             [
              0.5555555555555556,
              "#d8576b"
             ],
             [
              0.6666666666666666,
              "#ed7953"
             ],
             [
              0.7777777777777778,
              "#fb9f3a"
             ],
             [
              0.8888888888888888,
              "#fdca26"
             ],
             [
              1,
              "#f0f921"
             ]
            ],
            "type": "histogram2d"
           }
          ],
          "histogram2dcontour": [
           {
            "colorbar": {
             "outlinewidth": 0,
             "ticks": ""
            },
            "colorscale": [
             [
              0,
              "#0d0887"
             ],
             [
              0.1111111111111111,
              "#46039f"
             ],
             [
              0.2222222222222222,
              "#7201a8"
             ],
             [
              0.3333333333333333,
              "#9c179e"
             ],
             [
              0.4444444444444444,
              "#bd3786"
             ],
             [
              0.5555555555555556,
              "#d8576b"
             ],
             [
              0.6666666666666666,
              "#ed7953"
             ],
             [
              0.7777777777777778,
              "#fb9f3a"
             ],
             [
              0.8888888888888888,
              "#fdca26"
             ],
             [
              1,
              "#f0f921"
             ]
            ],
            "type": "histogram2dcontour"
           }
          ],
          "mesh3d": [
           {
            "colorbar": {
             "outlinewidth": 0,
             "ticks": ""
            },
            "type": "mesh3d"
           }
          ],
          "parcoords": [
           {
            "line": {
             "colorbar": {
              "outlinewidth": 0,
              "ticks": ""
             }
            },
            "type": "parcoords"
           }
          ],
          "pie": [
           {
            "automargin": true,
            "type": "pie"
           }
          ],
          "scatter": [
           {
            "fillpattern": {
             "fillmode": "overlay",
             "size": 10,
             "solidity": 0.2
            },
            "type": "scatter"
           }
          ],
          "scatter3d": [
           {
            "line": {
             "colorbar": {
              "outlinewidth": 0,
              "ticks": ""
             }
            },
            "marker": {
             "colorbar": {
              "outlinewidth": 0,
              "ticks": ""
             }
            },
            "type": "scatter3d"
           }
          ],
          "scattercarpet": [
           {
            "marker": {
             "colorbar": {
              "outlinewidth": 0,
              "ticks": ""
             }
            },
            "type": "scattercarpet"
           }
          ],
          "scattergeo": [
           {
            "marker": {
             "colorbar": {
              "outlinewidth": 0,
              "ticks": ""
             }
            },
            "type": "scattergeo"
           }
          ],
          "scattergl": [
           {
            "marker": {
             "colorbar": {
              "outlinewidth": 0,
              "ticks": ""
             }
            },
            "type": "scattergl"
           }
          ],
          "scattermapbox": [
           {
            "marker": {
             "colorbar": {
              "outlinewidth": 0,
              "ticks": ""
             }
            },
            "type": "scattermapbox"
           }
          ],
          "scatterpolar": [
           {
            "marker": {
             "colorbar": {
              "outlinewidth": 0,
              "ticks": ""
             }
            },
            "type": "scatterpolar"
           }
          ],
          "scatterpolargl": [
           {
            "marker": {
             "colorbar": {
              "outlinewidth": 0,
              "ticks": ""
             }
            },
            "type": "scatterpolargl"
           }
          ],
          "scatterternary": [
           {
            "marker": {
             "colorbar": {
              "outlinewidth": 0,
              "ticks": ""
             }
            },
            "type": "scatterternary"
           }
          ],
          "surface": [
           {
            "colorbar": {
             "outlinewidth": 0,
             "ticks": ""
            },
            "colorscale": [
             [
              0,
              "#0d0887"
             ],
             [
              0.1111111111111111,
              "#46039f"
             ],
             [
              0.2222222222222222,
              "#7201a8"
             ],
             [
              0.3333333333333333,
              "#9c179e"
             ],
             [
              0.4444444444444444,
              "#bd3786"
             ],
             [
              0.5555555555555556,
              "#d8576b"
             ],
             [
              0.6666666666666666,
              "#ed7953"
             ],
             [
              0.7777777777777778,
              "#fb9f3a"
             ],
             [
              0.8888888888888888,
              "#fdca26"
             ],
             [
              1,
              "#f0f921"
             ]
            ],
            "type": "surface"
           }
          ],
          "table": [
           {
            "cells": {
             "fill": {
              "color": "#EBF0F8"
             },
             "line": {
              "color": "white"
             }
            },
            "header": {
             "fill": {
              "color": "#C8D4E3"
             },
             "line": {
              "color": "white"
             }
            },
            "type": "table"
           }
          ]
         },
         "layout": {
          "annotationdefaults": {
           "arrowcolor": "#2a3f5f",
           "arrowhead": 0,
           "arrowwidth": 1
          },
          "autotypenumbers": "strict",
          "coloraxis": {
           "colorbar": {
            "outlinewidth": 0,
            "ticks": ""
           }
          },
          "colorscale": {
           "diverging": [
            [
             0,
             "#8e0152"
            ],
            [
             0.1,
             "#c51b7d"
            ],
            [
             0.2,
             "#de77ae"
            ],
            [
             0.3,
             "#f1b6da"
            ],
            [
             0.4,
             "#fde0ef"
            ],
            [
             0.5,
             "#f7f7f7"
            ],
            [
             0.6,
             "#e6f5d0"
            ],
            [
             0.7,
             "#b8e186"
            ],
            [
             0.8,
             "#7fbc41"
            ],
            [
             0.9,
             "#4d9221"
            ],
            [
             1,
             "#276419"
            ]
           ],
           "sequential": [
            [
             0,
             "#0d0887"
            ],
            [
             0.1111111111111111,
             "#46039f"
            ],
            [
             0.2222222222222222,
             "#7201a8"
            ],
            [
             0.3333333333333333,
             "#9c179e"
            ],
            [
             0.4444444444444444,
             "#bd3786"
            ],
            [
             0.5555555555555556,
             "#d8576b"
            ],
            [
             0.6666666666666666,
             "#ed7953"
            ],
            [
             0.7777777777777778,
             "#fb9f3a"
            ],
            [
             0.8888888888888888,
             "#fdca26"
            ],
            [
             1,
             "#f0f921"
            ]
           ],
           "sequentialminus": [
            [
             0,
             "#0d0887"
            ],
            [
             0.1111111111111111,
             "#46039f"
            ],
            [
             0.2222222222222222,
             "#7201a8"
            ],
            [
             0.3333333333333333,
             "#9c179e"
            ],
            [
             0.4444444444444444,
             "#bd3786"
            ],
            [
             0.5555555555555556,
             "#d8576b"
            ],
            [
             0.6666666666666666,
             "#ed7953"
            ],
            [
             0.7777777777777778,
             "#fb9f3a"
            ],
            [
             0.8888888888888888,
             "#fdca26"
            ],
            [
             1,
             "#f0f921"
            ]
           ]
          },
          "colorway": [
           "#636efa",
           "#EF553B",
           "#00cc96",
           "#ab63fa",
           "#FFA15A",
           "#19d3f3",
           "#FF6692",
           "#B6E880",
           "#FF97FF",
           "#FECB52"
          ],
          "font": {
           "color": "#2a3f5f"
          },
          "geo": {
           "bgcolor": "white",
           "lakecolor": "white",
           "landcolor": "#E5ECF6",
           "showlakes": true,
           "showland": true,
           "subunitcolor": "white"
          },
          "hoverlabel": {
           "align": "left"
          },
          "hovermode": "closest",
          "mapbox": {
           "style": "light"
          },
          "paper_bgcolor": "white",
          "plot_bgcolor": "#E5ECF6",
          "polar": {
           "angularaxis": {
            "gridcolor": "white",
            "linecolor": "white",
            "ticks": ""
           },
           "bgcolor": "#E5ECF6",
           "radialaxis": {
            "gridcolor": "white",
            "linecolor": "white",
            "ticks": ""
           }
          },
          "scene": {
           "xaxis": {
            "backgroundcolor": "#E5ECF6",
            "gridcolor": "white",
            "gridwidth": 2,
            "linecolor": "white",
            "showbackground": true,
            "ticks": "",
            "zerolinecolor": "white"
           },
           "yaxis": {
            "backgroundcolor": "#E5ECF6",
            "gridcolor": "white",
            "gridwidth": 2,
            "linecolor": "white",
            "showbackground": true,
            "ticks": "",
            "zerolinecolor": "white"
           },
           "zaxis": {
            "backgroundcolor": "#E5ECF6",
            "gridcolor": "white",
            "gridwidth": 2,
            "linecolor": "white",
            "showbackground": true,
            "ticks": "",
            "zerolinecolor": "white"
           }
          },
          "shapedefaults": {
           "line": {
            "color": "#2a3f5f"
           }
          },
          "ternary": {
           "aaxis": {
            "gridcolor": "white",
            "linecolor": "white",
            "ticks": ""
           },
           "baxis": {
            "gridcolor": "white",
            "linecolor": "white",
            "ticks": ""
           },
           "bgcolor": "#E5ECF6",
           "caxis": {
            "gridcolor": "white",
            "linecolor": "white",
            "ticks": ""
           }
          },
          "title": {
           "x": 0.05
          },
          "xaxis": {
           "automargin": true,
           "gridcolor": "white",
           "linecolor": "white",
           "ticks": "",
           "title": {
            "standoff": 15
           },
           "zerolinecolor": "white",
           "zerolinewidth": 2
          },
          "yaxis": {
           "automargin": true,
           "gridcolor": "white",
           "linecolor": "white",
           "ticks": "",
           "title": {
            "standoff": 15
           },
           "zerolinecolor": "white",
           "zerolinewidth": 2
          }
         }
        },
        "title": {
         "text": "Intermediate Values Plot"
        },
        "xaxis": {
         "title": {
          "text": "Step"
         }
        },
        "yaxis": {
         "title": {
          "text": "Intermediate Value"
         }
        }
       }
      }
     },
     "metadata": {},
     "output_type": "display_data"
    }
   ],
   "source": [
    "optuna.visualization.plot_intermediate_values(study)\n"
   ]
  },
  {
   "cell_type": "code",
   "execution_count": null,
   "metadata": {},
   "outputs": [
    {
     "data": {
      "application/vnd.plotly.v1+json": {
       "config": {
        "plotlyServerURL": "https://plot.ly"
       },
       "data": [
        {
         "dimensions": [
          {
           "label": "Objective Value",
           "range": [
            0.8468994256985938,
            0.877074744223945
           ],
           "values": [
            0.8731554520958047,
            0.8760055874765106,
            0.8723895034398698,
            0.8631521704377709,
            0.8760698594045511,
            0.8757704989752587,
            0.8507227887474659,
            0.8760279130750771,
            0.8762683271757736,
            0.8468994256985938,
            0.8748311055725484,
            0.8758808907573346,
            0.8749787310245623,
            0.8764232168543427,
            0.876375921549484,
            0.8765577987945103,
            0.8740693145070131,
            0.876704415403992,
            0.877074744223945,
            0.8697271527631747,
            0.8753041148284513,
            0.8764521852471732,
            0.8754092963148761,
            0.8767685412980705,
            0.876715321987214
           ]
          },
          {
           "label": "bagging_temperature",
           "range": [
            0.021096883444261805,
            0.9973871608724298
           ],
           "values": [
            0.35160437621301655,
            0.27691147205594535,
            0.1986379345977377,
            0.9311824416361173,
            0.1653785653404436,
            0.4453860170068221,
            0.7719334284189111,
            0.4928286227752857,
            0.4721681327747337,
            0.7863960495937629,
            0.021096883444261805,
            0.035468916866414846,
            0.6604240639153958,
            0.158079070738712,
            0.616577581296886,
            0.6313988380641429,
            0.6152852017964116,
            0.946067571401495,
            0.9763015247159273,
            0.970962086590466,
            0.8545589749361152,
            0.9973871608724298,
            0.8830218322040628,
            0.7172642330570739,
            0.7476859490094927
           ]
          },
          {
           "label": "depth",
           "range": [
            4,
            10
           ],
           "values": [
            5,
            9,
            5,
            5,
            9,
            5,
            6,
            8,
            10,
            6,
            10,
            10,
            8,
            9,
            9,
            8,
            7,
            8,
            7,
            7,
            4,
            8,
            7,
            8,
            6
           ]
          },
          {
           "label": "iterations",
           "range": [
            1010,
            2933
           ],
           "values": [
            1245,
            2272,
            1010,
            1551,
            2623,
            2253,
            1219,
            2649,
            2347,
            2447,
            1848,
            2836,
            2933,
            1996,
            1904,
            1850,
            1635,
            2073,
            2140,
            2143,
            1678,
            2090,
            1799,
            1438,
            1498
           ]
          },
          {
           "label": "l2_leaf_reg",
           "range": [
            -2.8695952984233593,
            0.989739226564818
           ],
           "ticktext": [
            "0.00135",
            "0.01",
            "0.1",
            "1",
            "9.77"
           ],
           "tickvals": [
            -2.8695952984233593,
            -2,
            -1,
            0,
            0.989739226564818
           ],
           "values": [
            0.210502146851888,
            -1.2949496210878226,
            0.8191372225281381,
            -0.47394542325852035,
            -0.697917648656257,
            -2.24515585192643,
            -0.5669257469322293,
            -2.8695952984233593,
            0.7519458534239737,
            -2.251818012412924,
            0.989739226564818,
            0.07216989012634793,
            -1.44109305098417,
            0.20367178834270147,
            0.2914736282712071,
            0.10724855120294417,
            -0.16888558420155125,
            0.4108885636825404,
            0.4933808359156519,
            0.5698635767123539,
            -1.0121556171728714,
            -0.2447746285647526,
            0.46008057649033096,
            -0.04290056716299251,
            -0.1912479444781111
           ]
          },
          {
           "label": "learning_rate",
           "range": [
            -2.790334277811817,
            -1.0167308106880624
           ],
           "ticktext": [
            "0.00162",
            "0.01",
            "0.0962"
           ],
           "tickvals": [
            -2.790334277811817,
            -2,
            -1.0167308106880624
           ],
           "values": [
            -1.5164034909968274,
            -1.3649038308151904,
            -1.5287880894110124,
            -2.377064389690346,
            -1.2934866570022823,
            -1.4894628202987903,
            -2.790334277811817,
            -1.4359525720913762,
            -1.7123522540242129,
            -2.7040744692211005,
            -2.0384319583401553,
            -1.0208382379687946,
            -2.0489909735999428,
            -1.032591736701784,
            -1.0167308106880624,
            -1.1032228620618638,
            -1.8255733657617585,
            -1.2462308397490016,
            -1.208575517517245,
            -2.2948580784814943,
            -1.2449450710675587,
            -1.2214316885700611,
            -1.6936307598165887,
            -1.1677736479627967,
            -1.2007473290151465
           ]
          },
          {
           "label": "random_strength",
           "range": [
            -2.863936704756198,
            0.9171739858121926
           ],
           "ticktext": [
            "0.00137",
            "0.01",
            "0.1",
            "1",
            "8.26"
           ],
           "tickvals": [
            -2.863936704756198,
            -2,
            -1,
            0,
            0.9171739858121926
           ],
           "values": [
            0.8953325292873678,
            -1.4811277487432155,
            0.05846894028496277,
            -0.6435452096714107,
            -1.3780415835673587,
            -1.9865442032058036,
            -1.4441849444282873,
            -0.4372246728141974,
            0.7814173589197668,
            0.9171739858121926,
            -2.863936704756198,
            0.16600442131886922,
            -1.986589973455111,
            -1.0821560133301318,
            0.10758702679775499,
            -0.021154314695325253,
            -0.6386370537741911,
            -1.0007784439641898,
            -0.09076090328901516,
            -0.3701250121232297,
            -2.026254620706381,
            0.3971261395255077,
            -0.21607589508464384,
            -0.9215685718706622,
            -0.9286330088352894
           ]
          }
         ],
         "labelangle": 30,
         "labelside": "bottom",
         "line": {
          "color": [
           0.8731554520958047,
           0.8760055874765106,
           0.8723895034398698,
           0.8631521704377709,
           0.8760698594045511,
           0.8757704989752587,
           0.8507227887474659,
           0.8760279130750771,
           0.8762683271757736,
           0.8468994256985938,
           0.8748311055725484,
           0.8758808907573346,
           0.8749787310245623,
           0.8764232168543427,
           0.876375921549484,
           0.8765577987945103,
           0.8740693145070131,
           0.876704415403992,
           0.877074744223945,
           0.8697271527631747,
           0.8753041148284513,
           0.8764521852471732,
           0.8754092963148761,
           0.8767685412980705,
           0.876715321987214
          ],
          "colorbar": {
           "title": {
            "text": "Objective Value"
           }
          },
          "colorscale": [
           [
            0,
            "rgb(247,251,255)"
           ],
           [
            0.125,
            "rgb(222,235,247)"
           ],
           [
            0.25,
            "rgb(198,219,239)"
           ],
           [
            0.375,
            "rgb(158,202,225)"
           ],
           [
            0.5,
            "rgb(107,174,214)"
           ],
           [
            0.625,
            "rgb(66,146,198)"
           ],
           [
            0.75,
            "rgb(33,113,181)"
           ],
           [
            0.875,
            "rgb(8,81,156)"
           ],
           [
            1,
            "rgb(8,48,107)"
           ]
          ],
          "reversescale": false,
          "showscale": true
         },
         "type": "parcoords"
        }
       ],
       "layout": {
        "template": {
         "data": {
          "bar": [
           {
            "error_x": {
             "color": "#2a3f5f"
            },
            "error_y": {
             "color": "#2a3f5f"
            },
            "marker": {
             "line": {
              "color": "#E5ECF6",
              "width": 0.5
             },
             "pattern": {
              "fillmode": "overlay",
              "size": 10,
              "solidity": 0.2
             }
            },
            "type": "bar"
           }
          ],
          "barpolar": [
           {
            "marker": {
             "line": {
              "color": "#E5ECF6",
              "width": 0.5
             },
             "pattern": {
              "fillmode": "overlay",
              "size": 10,
              "solidity": 0.2
             }
            },
            "type": "barpolar"
           }
          ],
          "carpet": [
           {
            "aaxis": {
             "endlinecolor": "#2a3f5f",
             "gridcolor": "white",
             "linecolor": "white",
             "minorgridcolor": "white",
             "startlinecolor": "#2a3f5f"
            },
            "baxis": {
             "endlinecolor": "#2a3f5f",
             "gridcolor": "white",
             "linecolor": "white",
             "minorgridcolor": "white",
             "startlinecolor": "#2a3f5f"
            },
            "type": "carpet"
           }
          ],
          "choropleth": [
           {
            "colorbar": {
             "outlinewidth": 0,
             "ticks": ""
            },
            "type": "choropleth"
           }
          ],
          "contour": [
           {
            "colorbar": {
             "outlinewidth": 0,
             "ticks": ""
            },
            "colorscale": [
             [
              0,
              "#0d0887"
             ],
             [
              0.1111111111111111,
              "#46039f"
             ],
             [
              0.2222222222222222,
              "#7201a8"
             ],
             [
              0.3333333333333333,
              "#9c179e"
             ],
             [
              0.4444444444444444,
              "#bd3786"
             ],
             [
              0.5555555555555556,
              "#d8576b"
             ],
             [
              0.6666666666666666,
              "#ed7953"
             ],
             [
              0.7777777777777778,
              "#fb9f3a"
             ],
             [
              0.8888888888888888,
              "#fdca26"
             ],
             [
              1,
              "#f0f921"
             ]
            ],
            "type": "contour"
           }
          ],
          "contourcarpet": [
           {
            "colorbar": {
             "outlinewidth": 0,
             "ticks": ""
            },
            "type": "contourcarpet"
           }
          ],
          "heatmap": [
           {
            "colorbar": {
             "outlinewidth": 0,
             "ticks": ""
            },
            "colorscale": [
             [
              0,
              "#0d0887"
             ],
             [
              0.1111111111111111,
              "#46039f"
             ],
             [
              0.2222222222222222,
              "#7201a8"
             ],
             [
              0.3333333333333333,
              "#9c179e"
             ],
             [
              0.4444444444444444,
              "#bd3786"
             ],
             [
              0.5555555555555556,
              "#d8576b"
             ],
             [
              0.6666666666666666,
              "#ed7953"
             ],
             [
              0.7777777777777778,
              "#fb9f3a"
             ],
             [
              0.8888888888888888,
              "#fdca26"
             ],
             [
              1,
              "#f0f921"
             ]
            ],
            "type": "heatmap"
           }
          ],
          "heatmapgl": [
           {
            "colorbar": {
             "outlinewidth": 0,
             "ticks": ""
            },
            "colorscale": [
             [
              0,
              "#0d0887"
             ],
             [
              0.1111111111111111,
              "#46039f"
             ],
             [
              0.2222222222222222,
              "#7201a8"
             ],
             [
              0.3333333333333333,
              "#9c179e"
             ],
             [
              0.4444444444444444,
              "#bd3786"
             ],
             [
              0.5555555555555556,
              "#d8576b"
             ],
             [
              0.6666666666666666,
              "#ed7953"
             ],
             [
              0.7777777777777778,
              "#fb9f3a"
             ],
             [
              0.8888888888888888,
              "#fdca26"
             ],
             [
              1,
              "#f0f921"
             ]
            ],
            "type": "heatmapgl"
           }
          ],
          "histogram": [
           {
            "marker": {
             "pattern": {
              "fillmode": "overlay",
              "size": 10,
              "solidity": 0.2
             }
            },
            "type": "histogram"
           }
          ],
          "histogram2d": [
           {
            "colorbar": {
             "outlinewidth": 0,
             "ticks": ""
            },
            "colorscale": [
             [
              0,
              "#0d0887"
             ],
             [
              0.1111111111111111,
              "#46039f"
             ],
             [
              0.2222222222222222,
              "#7201a8"
             ],
             [
              0.3333333333333333,
              "#9c179e"
             ],
             [
              0.4444444444444444,
              "#bd3786"
             ],
             [
              0.5555555555555556,
              "#d8576b"
             ],
             [
              0.6666666666666666,
              "#ed7953"
             ],
             [
              0.7777777777777778,
              "#fb9f3a"
             ],
             [
              0.8888888888888888,
              "#fdca26"
             ],
             [
              1,
              "#f0f921"
             ]
            ],
            "type": "histogram2d"
           }
          ],
          "histogram2dcontour": [
           {
            "colorbar": {
             "outlinewidth": 0,
             "ticks": ""
            },
            "colorscale": [
             [
              0,
              "#0d0887"
             ],
             [
              0.1111111111111111,
              "#46039f"
             ],
             [
              0.2222222222222222,
              "#7201a8"
             ],
             [
              0.3333333333333333,
              "#9c179e"
             ],
             [
              0.4444444444444444,
              "#bd3786"
             ],
             [
              0.5555555555555556,
              "#d8576b"
             ],
             [
              0.6666666666666666,
              "#ed7953"
             ],
             [
              0.7777777777777778,
              "#fb9f3a"
             ],
             [
              0.8888888888888888,
              "#fdca26"
             ],
             [
              1,
              "#f0f921"
             ]
            ],
            "type": "histogram2dcontour"
           }
          ],
          "mesh3d": [
           {
            "colorbar": {
             "outlinewidth": 0,
             "ticks": ""
            },
            "type": "mesh3d"
           }
          ],
          "parcoords": [
           {
            "line": {
             "colorbar": {
              "outlinewidth": 0,
              "ticks": ""
             }
            },
            "type": "parcoords"
           }
          ],
          "pie": [
           {
            "automargin": true,
            "type": "pie"
           }
          ],
          "scatter": [
           {
            "fillpattern": {
             "fillmode": "overlay",
             "size": 10,
             "solidity": 0.2
            },
            "type": "scatter"
           }
          ],
          "scatter3d": [
           {
            "line": {
             "colorbar": {
              "outlinewidth": 0,
              "ticks": ""
             }
            },
            "marker": {
             "colorbar": {
              "outlinewidth": 0,
              "ticks": ""
             }
            },
            "type": "scatter3d"
           }
          ],
          "scattercarpet": [
           {
            "marker": {
             "colorbar": {
              "outlinewidth": 0,
              "ticks": ""
             }
            },
            "type": "scattercarpet"
           }
          ],
          "scattergeo": [
           {
            "marker": {
             "colorbar": {
              "outlinewidth": 0,
              "ticks": ""
             }
            },
            "type": "scattergeo"
           }
          ],
          "scattergl": [
           {
            "marker": {
             "colorbar": {
              "outlinewidth": 0,
              "ticks": ""
             }
            },
            "type": "scattergl"
           }
          ],
          "scattermapbox": [
           {
            "marker": {
             "colorbar": {
              "outlinewidth": 0,
              "ticks": ""
             }
            },
            "type": "scattermapbox"
           }
          ],
          "scatterpolar": [
           {
            "marker": {
             "colorbar": {
              "outlinewidth": 0,
              "ticks": ""
             }
            },
            "type": "scatterpolar"
           }
          ],
          "scatterpolargl": [
           {
            "marker": {
             "colorbar": {
              "outlinewidth": 0,
              "ticks": ""
             }
            },
            "type": "scatterpolargl"
           }
          ],
          "scatterternary": [
           {
            "marker": {
             "colorbar": {
              "outlinewidth": 0,
              "ticks": ""
             }
            },
            "type": "scatterternary"
           }
          ],
          "surface": [
           {
            "colorbar": {
             "outlinewidth": 0,
             "ticks": ""
            },
            "colorscale": [
             [
              0,
              "#0d0887"
             ],
             [
              0.1111111111111111,
              "#46039f"
             ],
             [
              0.2222222222222222,
              "#7201a8"
             ],
             [
              0.3333333333333333,
              "#9c179e"
             ],
             [
              0.4444444444444444,
              "#bd3786"
             ],
             [
              0.5555555555555556,
              "#d8576b"
             ],
             [
              0.6666666666666666,
              "#ed7953"
             ],
             [
              0.7777777777777778,
              "#fb9f3a"
             ],
             [
              0.8888888888888888,
              "#fdca26"
             ],
             [
              1,
              "#f0f921"
             ]
            ],
            "type": "surface"
           }
          ],
          "table": [
           {
            "cells": {
             "fill": {
              "color": "#EBF0F8"
             },
             "line": {
              "color": "white"
             }
            },
            "header": {
             "fill": {
              "color": "#C8D4E3"
             },
             "line": {
              "color": "white"
             }
            },
            "type": "table"
           }
          ]
         },
         "layout": {
          "annotationdefaults": {
           "arrowcolor": "#2a3f5f",
           "arrowhead": 0,
           "arrowwidth": 1
          },
          "autotypenumbers": "strict",
          "coloraxis": {
           "colorbar": {
            "outlinewidth": 0,
            "ticks": ""
           }
          },
          "colorscale": {
           "diverging": [
            [
             0,
             "#8e0152"
            ],
            [
             0.1,
             "#c51b7d"
            ],
            [
             0.2,
             "#de77ae"
            ],
            [
             0.3,
             "#f1b6da"
            ],
            [
             0.4,
             "#fde0ef"
            ],
            [
             0.5,
             "#f7f7f7"
            ],
            [
             0.6,
             "#e6f5d0"
            ],
            [
             0.7,
             "#b8e186"
            ],
            [
             0.8,
             "#7fbc41"
            ],
            [
             0.9,
             "#4d9221"
            ],
            [
             1,
             "#276419"
            ]
           ],
           "sequential": [
            [
             0,
             "#0d0887"
            ],
            [
             0.1111111111111111,
             "#46039f"
            ],
            [
             0.2222222222222222,
             "#7201a8"
            ],
            [
             0.3333333333333333,
             "#9c179e"
            ],
            [
             0.4444444444444444,
             "#bd3786"
            ],
            [
             0.5555555555555556,
             "#d8576b"
            ],
            [
             0.6666666666666666,
             "#ed7953"
            ],
            [
             0.7777777777777778,
             "#fb9f3a"
            ],
            [
             0.8888888888888888,
             "#fdca26"
            ],
            [
             1,
             "#f0f921"
            ]
           ],
           "sequentialminus": [
            [
             0,
             "#0d0887"
            ],
            [
             0.1111111111111111,
             "#46039f"
            ],
            [
             0.2222222222222222,
             "#7201a8"
            ],
            [
             0.3333333333333333,
             "#9c179e"
            ],
            [
             0.4444444444444444,
             "#bd3786"
            ],
            [
             0.5555555555555556,
             "#d8576b"
            ],
            [
             0.6666666666666666,
             "#ed7953"
            ],
            [
             0.7777777777777778,
             "#fb9f3a"
            ],
            [
             0.8888888888888888,
             "#fdca26"
            ],
            [
             1,
             "#f0f921"
            ]
           ]
          },
          "colorway": [
           "#636efa",
           "#EF553B",
           "#00cc96",
           "#ab63fa",
           "#FFA15A",
           "#19d3f3",
           "#FF6692",
           "#B6E880",
           "#FF97FF",
           "#FECB52"
          ],
          "font": {
           "color": "#2a3f5f"
          },
          "geo": {
           "bgcolor": "white",
           "lakecolor": "white",
           "landcolor": "#E5ECF6",
           "showlakes": true,
           "showland": true,
           "subunitcolor": "white"
          },
          "hoverlabel": {
           "align": "left"
          },
          "hovermode": "closest",
          "mapbox": {
           "style": "light"
          },
          "paper_bgcolor": "white",
          "plot_bgcolor": "#E5ECF6",
          "polar": {
           "angularaxis": {
            "gridcolor": "white",
            "linecolor": "white",
            "ticks": ""
           },
           "bgcolor": "#E5ECF6",
           "radialaxis": {
            "gridcolor": "white",
            "linecolor": "white",
            "ticks": ""
           }
          },
          "scene": {
           "xaxis": {
            "backgroundcolor": "#E5ECF6",
            "gridcolor": "white",
            "gridwidth": 2,
            "linecolor": "white",
            "showbackground": true,
            "ticks": "",
            "zerolinecolor": "white"
           },
           "yaxis": {
            "backgroundcolor": "#E5ECF6",
            "gridcolor": "white",
            "gridwidth": 2,
            "linecolor": "white",
            "showbackground": true,
            "ticks": "",
            "zerolinecolor": "white"
           },
           "zaxis": {
            "backgroundcolor": "#E5ECF6",
            "gridcolor": "white",
            "gridwidth": 2,
            "linecolor": "white",
            "showbackground": true,
            "ticks": "",
            "zerolinecolor": "white"
           }
          },
          "shapedefaults": {
           "line": {
            "color": "#2a3f5f"
           }
          },
          "ternary": {
           "aaxis": {
            "gridcolor": "white",
            "linecolor": "white",
            "ticks": ""
           },
           "baxis": {
            "gridcolor": "white",
            "linecolor": "white",
            "ticks": ""
           },
           "bgcolor": "#E5ECF6",
           "caxis": {
            "gridcolor": "white",
            "linecolor": "white",
            "ticks": ""
           }
          },
          "title": {
           "x": 0.05
          },
          "xaxis": {
           "automargin": true,
           "gridcolor": "white",
           "linecolor": "white",
           "ticks": "",
           "title": {
            "standoff": 15
           },
           "zerolinecolor": "white",
           "zerolinewidth": 2
          },
          "yaxis": {
           "automargin": true,
           "gridcolor": "white",
           "linecolor": "white",
           "ticks": "",
           "title": {
            "standoff": 15
           },
           "zerolinecolor": "white",
           "zerolinewidth": 2
          }
         }
        },
        "title": {
         "text": "Parallel Coordinate Plot"
        }
       }
      }
     },
     "metadata": {},
     "output_type": "display_data"
    }
   ],
   "source": [
    "optuna.visualization.plot_parallel_coordinate(study)\n"
   ]
  },
  {
   "cell_type": "code",
   "execution_count": null,
   "metadata": {},
   "outputs": [
    {
     "data": {
      "application/vnd.plotly.v1+json": {
       "config": {
        "plotlyServerURL": "https://plot.ly"
       },
       "data": [
        {
         "type": "scatter",
         "xaxis": "x",
         "yaxis": "y"
        },
        {
         "colorbar": {
          "title": {
           "text": "Objective Value"
          }
         },
         "colorscale": [
          [
           0,
           "rgb(247,251,255)"
          ],
          [
           0.125,
           "rgb(222,235,247)"
          ],
          [
           0.25,
           "rgb(198,219,239)"
          ],
          [
           0.375,
           "rgb(158,202,225)"
          ],
          [
           0.5,
           "rgb(107,174,214)"
          ],
          [
           0.625,
           "rgb(66,146,198)"
          ],
          [
           0.75,
           "rgb(33,113,181)"
          ],
          [
           0.875,
           "rgb(8,81,156)"
          ],
          [
           1,
           "rgb(8,48,107)"
          ]
         ],
         "connectgaps": true,
         "contours": {
          "coloring": "heatmap"
         },
         "hoverinfo": "none",
         "line": {
          "smoothing": 1.3
         },
         "reversescale": false,
         "showscale": true,
         "type": "contour",
         "x": [
          -0.027717630427146603,
          0.021096883444261805,
          0.035468916866414846,
          0.158079070738712,
          0.1653785653404436,
          0.1986379345977377,
          0.27691147205594535,
          0.35160437621301655,
          0.4453860170068221,
          0.4721681327747337,
          0.4928286227752857,
          0.6152852017964116,
          0.616577581296886,
          0.6313988380641429,
          0.6604240639153958,
          0.7172642330570739,
          0.7476859490094927,
          0.7719334284189111,
          0.7863960495937629,
          0.8545589749361152,
          0.8830218322040628,
          0.9311824416361173,
          0.946067571401495,
          0.970962086590466,
          0.9763015247159273,
          0.9973871608724298,
          1.0462016747438383
         ],
         "xaxis": "x7",
         "y": [
          3.7,
          4,
          5,
          6,
          7,
          8,
          9,
          10,
          10.3
         ],
         "yaxis": "y7",
         "z": [
          [
           null,
           null,
           null,
           null,
           null,
           null,
           null,
           null,
           null,
           null,
           null,
           null,
           null,
           null,
           null,
           null,
           null,
           null,
           null,
           null,
           null,
           null,
           null,
           null,
           null,
           null,
           null
          ],
          [
           null,
           null,
           null,
           null,
           null,
           null,
           null,
           null,
           null,
           null,
           null,
           null,
           null,
           null,
           null,
           null,
           null,
           null,
           null,
           0.8753041148284513,
           null,
           null,
           null,
           null,
           null,
           null,
           null
          ],
          [
           null,
           null,
           null,
           null,
           null,
           0.8723895034398698,
           null,
           0.8731554520958047,
           0.8757704989752587,
           null,
           null,
           null,
           null,
           null,
           null,
           null,
           null,
           null,
           null,
           null,
           null,
           0.8631521704377709,
           null,
           null,
           null,
           null,
           null
          ],
          [
           null,
           null,
           null,
           null,
           null,
           null,
           null,
           null,
           null,
           null,
           null,
           null,
           null,
           null,
           null,
           null,
           0.876715321987214,
           0.8507227887474659,
           0.8468994256985938,
           null,
           null,
           null,
           null,
           null,
           null,
           null,
           null
          ],
          [
           null,
           null,
           null,
           null,
           null,
           null,
           null,
           null,
           null,
           null,
           null,
           0.8740693145070131,
           null,
           null,
           null,
           null,
           null,
           null,
           null,
           null,
           0.8754092963148761,
           null,
           null,
           0.8697271527631747,
           0.877074744223945,
           null,
           null
          ],
          [
           null,
           null,
           null,
           null,
           null,
           null,
           null,
           null,
           null,
           null,
           0.8760279130750771,
           null,
           null,
           0.8765577987945103,
           0.8749787310245623,
           0.8767685412980705,
           null,
           null,
           null,
           null,
           null,
           null,
           0.876704415403992,
           null,
           null,
           0.8764521852471732,
           null
          ],
          [
           null,
           null,
           null,
           0.8764232168543427,
           0.8760698594045511,
           null,
           0.8760055874765106,
           null,
           null,
           null,
           null,
           null,
           0.876375921549484,
           null,
           null,
           null,
           null,
           null,
           null,
           null,
           null,
           null,
           null,
           null,
           null,
           null,
           null
          ],
          [
           null,
           0.8748311055725484,
           0.8758808907573346,
           null,
           null,
           null,
           null,
           null,
           null,
           0.8762683271757736,
           null,
           null,
           null,
           null,
           null,
           null,
           null,
           null,
           null,
           null,
           null,
           null,
           null,
           null,
           null,
           null,
           null
          ],
          [
           null,
           null,
           null,
           null,
           null,
           null,
           null,
           null,
           null,
           null,
           null,
           null,
           null,
           null,
           null,
           null,
           null,
           null,
           null,
           null,
           null,
           null,
           null,
           null,
           null,
           null,
           null
          ]
         ]
        },
        {
         "marker": {
          "color": "black",
          "line": {
           "color": "Gray",
           "width": 2
          }
         },
         "mode": "markers",
         "name": "Feasible Trial",
         "showlegend": false,
         "type": "scatter",
         "x": [
          0.35160437621301655,
          0.27691147205594535,
          0.1986379345977377,
          0.9311824416361173,
          0.1653785653404436,
          0.4453860170068221,
          0.7719334284189111,
          0.4928286227752857,
          0.4721681327747337,
          0.7863960495937629,
          0.021096883444261805,
          0.035468916866414846,
          0.6604240639153958,
          0.158079070738712,
          0.616577581296886,
          0.6313988380641429,
          0.6152852017964116,
          0.946067571401495,
          0.9763015247159273,
          0.970962086590466,
          0.8545589749361152,
          0.9973871608724298,
          0.8830218322040628,
          0.7172642330570739,
          0.7476859490094927
         ],
         "xaxis": "x7",
         "y": [
          5,
          9,
          5,
          5,
          9,
          5,
          6,
          8,
          10,
          6,
          10,
          10,
          8,
          9,
          9,
          8,
          7,
          8,
          7,
          7,
          4,
          8,
          7,
          8,
          6
         ],
         "yaxis": "y7"
        },
        {
         "colorbar": {
          "title": {
           "text": "Objective Value"
          }
         },
         "colorscale": [
          [
           0,
           "rgb(247,251,255)"
          ],
          [
           0.125,
           "rgb(222,235,247)"
          ],
          [
           0.25,
           "rgb(198,219,239)"
          ],
          [
           0.375,
           "rgb(158,202,225)"
          ],
          [
           0.5,
           "rgb(107,174,214)"
          ],
          [
           0.625,
           "rgb(66,146,198)"
          ],
          [
           0.75,
           "rgb(33,113,181)"
          ],
          [
           0.875,
           "rgb(8,81,156)"
          ],
          [
           1,
           "rgb(8,48,107)"
          ]
         ],
         "connectgaps": true,
         "contours": {
          "coloring": "heatmap"
         },
         "hoverinfo": "none",
         "line": {
          "smoothing": 1.3
         },
         "reversescale": false,
         "showscale": false,
         "type": "contour",
         "x": [
          -0.027717630427146603,
          0.021096883444261805,
          0.035468916866414846,
          0.158079070738712,
          0.1653785653404436,
          0.1986379345977377,
          0.27691147205594535,
          0.35160437621301655,
          0.4453860170068221,
          0.4721681327747337,
          0.4928286227752857,
          0.6152852017964116,
          0.616577581296886,
          0.6313988380641429,
          0.6604240639153958,
          0.7172642330570739,
          0.7476859490094927,
          0.7719334284189111,
          0.7863960495937629,
          0.8545589749361152,
          0.8830218322040628,
          0.9311824416361173,
          0.946067571401495,
          0.970962086590466,
          0.9763015247159273,
          0.9973871608724298,
          1.0462016747438383
         ],
         "xaxis": "x13",
         "y": [
          913.85,
          1010,
          1219,
          1245,
          1438,
          1498,
          1551,
          1635,
          1678,
          1799,
          1848,
          1850,
          1904,
          1996,
          2073,
          2090,
          2140,
          2143,
          2253,
          2272,
          2347,
          2447,
          2623,
          2649,
          2836,
          2933,
          3029.15
         ],
         "yaxis": "y13",
         "z": [
          [
           null,
           null,
           null,
           null,
           null,
           null,
           null,
           null,
           null,
           null,
           null,
           null,
           null,
           null,
           null,
           null,
           null,
           null,
           null,
           null,
           null,
           null,
           null,
           null,
           null,
           null,
           null
          ],
          [
           null,
           null,
           null,
           null,
           null,
           0.8723895034398698,
           null,
           null,
           null,
           null,
           null,
           null,
           null,
           null,
           null,
           null,
           null,
           null,
           null,
           null,
           null,
           null,
           null,
           null,
           null,
           null,
           null
          ],
          [
           null,
           null,
           null,
           null,
           null,
           null,
           null,
           null,
           null,
           null,
           null,
           null,
           null,
           null,
           null,
           null,
           null,
           0.8507227887474659,
           null,
           null,
           null,
           null,
           null,
           null,
           null,
           null,
           null
          ],
          [
           null,
           null,
           null,
           null,
           null,
           null,
           null,
           0.8731554520958047,
           null,
           null,
           null,
           null,
           null,
           null,
           null,
           null,
           null,
           null,
           null,
           null,
           null,
           null,
           null,
           null,
           null,
           null,
           null
          ],
          [
           null,
           null,
           null,
           null,
           null,
           null,
           null,
           null,
           null,
           null,
           null,
           null,
           null,
           null,
           null,
           0.8767685412980705,
           null,
           null,
           null,
           null,
           null,
           null,
           null,
           null,
           null,
           null,
           null
          ],
          [
           null,
           null,
           null,
           null,
           null,
           null,
           null,
           null,
           null,
           null,
           null,
           null,
           null,
           null,
           null,
           null,
           0.876715321987214,
           null,
           null,
           null,
           null,
           null,
           null,
           null,
           null,
           null,
           null
          ],
          [
           null,
           null,
           null,
           null,
           null,
           null,
           null,
           null,
           null,
           null,
           null,
           null,
           null,
           null,
           null,
           null,
           null,
           null,
           null,
           null,
           null,
           0.8631521704377709,
           null,
           null,
           null,
           null,
           null
          ],
          [
           null,
           null,
           null,
           null,
           null,
           null,
           null,
           null,
           null,
           null,
           null,
           0.8740693145070131,
           null,
           null,
           null,
           null,
           null,
           null,
           null,
           null,
           null,
           null,
           null,
           null,
           null,
           null,
           null
          ],
          [
           null,
           null,
           null,
           null,
           null,
           null,
           null,
           null,
           null,
           null,
           null,
           null,
           null,
           null,
           null,
           null,
           null,
           null,
           null,
           0.8753041148284513,
           null,
           null,
           null,
           null,
           null,
           null,
           null
          ],
          [
           null,
           null,
           null,
           null,
           null,
           null,
           null,
           null,
           null,
           null,
           null,
           null,
           null,
           null,
           null,
           null,
           null,
           null,
           null,
           null,
           0.8754092963148761,
           null,
           null,
           null,
           null,
           null,
           null
          ],
          [
           null,
           0.8748311055725484,
           null,
           null,
           null,
           null,
           null,
           null,
           null,
           null,
           null,
           null,
           null,
           null,
           null,
           null,
           null,
           null,
           null,
           null,
           null,
           null,
           null,
           null,
           null,
           null,
           null
          ],
          [
           null,
           null,
           null,
           null,
           null,
           null,
           null,
           null,
           null,
           null,
           null,
           null,
           null,
           0.8765577987945103,
           null,
           null,
           null,
           null,
           null,
           null,
           null,
           null,
           null,
           null,
           null,
           null,
           null
          ],
          [
           null,
           null,
           null,
           null,
           null,
           null,
           null,
           null,
           null,
           null,
           null,
           null,
           0.876375921549484,
           null,
           null,
           null,
           null,
           null,
           null,
           null,
           null,
           null,
           null,
           null,
           null,
           null,
           null
          ],
          [
           null,
           null,
           null,
           0.8764232168543427,
           null,
           null,
           null,
           null,
           null,
           null,
           null,
           null,
           null,
           null,
           null,
           null,
           null,
           null,
           null,
           null,
           null,
           null,
           null,
           null,
           null,
           null,
           null
          ],
          [
           null,
           null,
           null,
           null,
           null,
           null,
           null,
           null,
           null,
           null,
           null,
           null,
           null,
           null,
           null,
           null,
           null,
           null,
           null,
           null,
           null,
           null,
           0.876704415403992,
           null,
           null,
           null,
           null
          ],
          [
           null,
           null,
           null,
           null,
           null,
           null,
           null,
           null,
           null,
           null,
           null,
           null,
           null,
           null,
           null,
           null,
           null,
           null,
           null,
           null,
           null,
           null,
           null,
           null,
           null,
           0.8764521852471732,
           null
          ],
          [
           null,
           null,
           null,
           null,
           null,
           null,
           null,
           null,
           null,
           null,
           null,
           null,
           null,
           null,
           null,
           null,
           null,
           null,
           null,
           null,
           null,
           null,
           null,
           null,
           0.877074744223945,
           null,
           null
          ],
          [
           null,
           null,
           null,
           null,
           null,
           null,
           null,
           null,
           null,
           null,
           null,
           null,
           null,
           null,
           null,
           null,
           null,
           null,
           null,
           null,
           null,
           null,
           null,
           0.8697271527631747,
           null,
           null,
           null
          ],
          [
           null,
           null,
           null,
           null,
           null,
           null,
           null,
           null,
           0.8757704989752587,
           null,
           null,
           null,
           null,
           null,
           null,
           null,
           null,
           null,
           null,
           null,
           null,
           null,
           null,
           null,
           null,
           null,
           null
          ],
          [
           null,
           null,
           null,
           null,
           null,
           null,
           0.8760055874765106,
           null,
           null,
           null,
           null,
           null,
           null,
           null,
           null,
           null,
           null,
           null,
           null,
           null,
           null,
           null,
           null,
           null,
           null,
           null,
           null
          ],
          [
           null,
           null,
           null,
           null,
           null,
           null,
           null,
           null,
           null,
           0.8762683271757736,
           null,
           null,
           null,
           null,
           null,
           null,
           null,
           null,
           null,
           null,
           null,
           null,
           null,
           null,
           null,
           null,
           null
          ],
          [
           null,
           null,
           null,
           null,
           null,
           null,
           null,
           null,
           null,
           null,
           null,
           null,
           null,
           null,
           null,
           null,
           null,
           null,
           0.8468994256985938,
           null,
           null,
           null,
           null,
           null,
           null,
           null,
           null
          ],
          [
           null,
           null,
           null,
           null,
           0.8760698594045511,
           null,
           null,
           null,
           null,
           null,
           null,
           null,
           null,
           null,
           null,
           null,
           null,
           null,
           null,
           null,
           null,
           null,
           null,
           null,
           null,
           null,
           null
          ],
          [
           null,
           null,
           null,
           null,
           null,
           null,
           null,
           null,
           null,
           null,
           0.8760279130750771,
           null,
           null,
           null,
           null,
           null,
           null,
           null,
           null,
           null,
           null,
           null,
           null,
           null,
           null,
           null,
           null
          ],
          [
           null,
           null,
           0.8758808907573346,
           null,
           null,
           null,
           null,
           null,
           null,
           null,
           null,
           null,
           null,
           null,
           null,
           null,
           null,
           null,
           null,
           null,
           null,
           null,
           null,
           null,
           null,
           null,
           null
          ],
          [
           null,
           null,
           null,
           null,
           null,
           null,
           null,
           null,
           null,
           null,
           null,
           null,
           null,
           null,
           0.8749787310245623,
           null,
           null,
           null,
           null,
           null,
           null,
           null,
           null,
           null,
           null,
           null,
           null
          ],
          [
           null,
           null,
           null,
           null,
           null,
           null,
           null,
           null,
           null,
           null,
           null,
           null,
           null,
           null,
           null,
           null,
           null,
           null,
           null,
           null,
           null,
           null,
           null,
           null,
           null,
           null,
           null
          ]
         ]
        },
        {
         "marker": {
          "color": "black",
          "line": {
           "color": "Gray",
           "width": 2
          }
         },
         "mode": "markers",
         "name": "Feasible Trial",
         "showlegend": false,
         "type": "scatter",
         "x": [
          0.35160437621301655,
          0.27691147205594535,
          0.1986379345977377,
          0.9311824416361173,
          0.1653785653404436,
          0.4453860170068221,
          0.7719334284189111,
          0.4928286227752857,
          0.4721681327747337,
          0.7863960495937629,
          0.021096883444261805,
          0.035468916866414846,
          0.6604240639153958,
          0.158079070738712,
          0.616577581296886,
          0.6313988380641429,
          0.6152852017964116,
          0.946067571401495,
          0.9763015247159273,
          0.970962086590466,
          0.8545589749361152,
          0.9973871608724298,
          0.8830218322040628,
          0.7172642330570739,
          0.7476859490094927
         ],
         "xaxis": "x13",
         "y": [
          1245,
          2272,
          1010,
          1551,
          2623,
          2253,
          1219,
          2649,
          2347,
          2447,
          1848,
          2836,
          2933,
          1996,
          1904,
          1850,
          1635,
          2073,
          2140,
          2143,
          1678,
          2090,
          1799,
          1438,
          1498
         ],
         "yaxis": "y13"
        },
        {
         "colorbar": {
          "title": {
           "text": "Objective Value"
          }
         },
         "colorscale": [
          [
           0,
           "rgb(247,251,255)"
          ],
          [
           0.125,
           "rgb(222,235,247)"
          ],
          [
           0.25,
           "rgb(198,219,239)"
          ],
          [
           0.375,
           "rgb(158,202,225)"
          ],
          [
           0.5,
           "rgb(107,174,214)"
          ],
          [
           0.625,
           "rgb(66,146,198)"
          ],
          [
           0.75,
           "rgb(33,113,181)"
          ],
          [
           0.875,
           "rgb(8,81,156)"
          ],
          [
           1,
           "rgb(8,48,107)"
          ]
         ],
         "connectgaps": true,
         "contours": {
          "coloring": "heatmap"
         },
         "hoverinfo": "none",
         "line": {
          "smoothing": 1.3
         },
         "reversescale": false,
         "showscale": false,
         "type": "contour",
         "x": [
          -0.027717630427146603,
          0.021096883444261805,
          0.035468916866414846,
          0.158079070738712,
          0.1653785653404436,
          0.1986379345977377,
          0.27691147205594535,
          0.35160437621301655,
          0.4453860170068221,
          0.4721681327747337,
          0.4928286227752857,
          0.6152852017964116,
          0.616577581296886,
          0.6313988380641429,
          0.6604240639153958,
          0.7172642330570739,
          0.7476859490094927,
          0.7719334284189111,
          0.7863960495937629,
          0.8545589749361152,
          0.8830218322040628,
          0.9311824416361173,
          0.946067571401495,
          0.970962086590466,
          0.9763015247159273,
          0.9973871608724298,
          1.0462016747438383
         ],
         "xaxis": "x19",
         "y": [
          0.0008658406576890277,
          0.0013502205127737278,
          0.005599922125393375,
          0.005686488275845867,
          0.03621653933395622,
          0.050704952348633106,
          0.09723987296980896,
          0.20048521533471292,
          0.271065504382834,
          0.33577980823141684,
          0.5691482062324401,
          0.6438016057012503,
          0.6778200572155763,
          0.9059399944440578,
          1.1807824514396177,
          1.2801137168124583,
          1.598349642864303,
          1.6236863768463325,
          1.956471961188236,
          2.575660179430299,
          2.884566639319308,
          3.1144462200141576,
          3.7141853846566555,
          5.648665444998958,
          6.593822050520771,
          9.766506120440074,
          15.230212146822662
         ],
         "yaxis": "y19",
         "z": [
          [
           null,
           null,
           null,
           null,
           null,
           null,
           null,
           null,
           null,
           null,
           null,
           null,
           null,
           null,
           null,
           null,
           null,
           null,
           null,
           null,
           null,
           null,
           null,
           null,
           null,
           null,
           null
          ],
          [
           null,
           null,
           null,
           null,
           null,
           null,
           null,
           null,
           null,
           null,
           0.8760279130750771,
           null,
           null,
           null,
           null,
           null,
           null,
           null,
           null,
           null,
           null,
           null,
           null,
           null,
           null,
           null,
           null
          ],
          [
           null,
           null,
           null,
           null,
           null,
           null,
           null,
           null,
           null,
           null,
           null,
           null,
           null,
           null,
           null,
           null,
           null,
           null,
           0.8468994256985938,
           null,
           null,
           null,
           null,
           null,
           null,
           null,
           null
          ],
          [
           null,
           null,
           null,
           null,
           null,
           null,
           null,
           null,
           0.8757704989752587,
           null,
           null,
           null,
           null,
           null,
           null,
           null,
           null,
           null,
           null,
           null,
           null,
           null,
           null,
           null,
           null,
           null,
           null
          ],
          [
           null,
           null,
           null,
           null,
           null,
           null,
           null,
           null,
           null,
           null,
           null,
           null,
           null,
           null,
           0.8749787310245623,
           null,
           null,
           null,
           null,
           null,
           null,
           null,
           null,
           null,
           null,
           null,
           null
          ],
          [
           null,
           null,
           null,
           null,
           null,
           null,
           0.8760055874765106,
           null,
           null,
           null,
           null,
           null,
           null,
           null,
           null,
           null,
           null,
           null,
           null,
           null,
           null,
           null,
           null,
           null,
           null,
           null,
           null
          ],
          [
           null,
           null,
           null,
           null,
           null,
           null,
           null,
           null,
           null,
           null,
           null,
           null,
           null,
           null,
           null,
           null,
           null,
           null,
           null,
           0.8753041148284513,
           null,
           null,
           null,
           null,
           null,
           null,
           null
          ],
          [
           null,
           null,
           null,
           null,
           0.8760698594045511,
           null,
           null,
           null,
           null,
           null,
           null,
           null,
           null,
           null,
           null,
           null,
           null,
           null,
           null,
           null,
           null,
           null,
           null,
           null,
           null,
           null,
           null
          ],
          [
           null,
           null,
           null,
           null,
           null,
           null,
           null,
           null,
           null,
           null,
           null,
           null,
           null,
           null,
           null,
           null,
           null,
           0.8507227887474659,
           null,
           null,
           null,
           null,
           null,
           null,
           null,
           null,
           null
          ],
          [
           null,
           null,
           null,
           null,
           null,
           null,
           null,
           null,
           null,
           null,
           null,
           null,
           null,
           null,
           null,
           null,
           null,
           null,
           null,
           null,
           null,
           0.8631521704377709,
           null,
           null,
           null,
           null,
           null
          ],
          [
           null,
           null,
           null,
           null,
           null,
           null,
           null,
           null,
           null,
           null,
           null,
           null,
           null,
           null,
           null,
           null,
           null,
           null,
           null,
           null,
           null,
           null,
           null,
           null,
           null,
           0.8764521852471732,
           null
          ],
          [
           null,
           null,
           null,
           null,
           null,
           null,
           null,
           null,
           null,
           null,
           null,
           null,
           null,
           null,
           null,
           null,
           0.876715321987214,
           null,
           null,
           null,
           null,
           null,
           null,
           null,
           null,
           null,
           null
          ],
          [
           null,
           null,
           null,
           null,
           null,
           null,
           null,
           null,
           null,
           null,
           null,
           0.8740693145070131,
           null,
           null,
           null,
           null,
           null,
           null,
           null,
           null,
           null,
           null,
           null,
           null,
           null,
           null,
           null
          ],
          [
           null,
           null,
           null,
           null,
           null,
           null,
           null,
           null,
           null,
           null,
           null,
           null,
           null,
           null,
           null,
           0.8767685412980705,
           null,
           null,
           null,
           null,
           null,
           null,
           null,
           null,
           null,
           null,
           null
          ],
          [
           null,
           null,
           0.8758808907573346,
           null,
           null,
           null,
           null,
           null,
           null,
           null,
           null,
           null,
           null,
           null,
           null,
           null,
           null,
           null,
           null,
           null,
           null,
           null,
           null,
           null,
           null,
           null,
           null
          ],
          [
           null,
           null,
           null,
           null,
           null,
           null,
           null,
           null,
           null,
           null,
           null,
           null,
           null,
           0.8765577987945103,
           null,
           null,
           null,
           null,
           null,
           null,
           null,
           null,
           null,
           null,
           null,
           null,
           null
          ],
          [
           null,
           null,
           null,
           0.8764232168543427,
           null,
           null,
           null,
           null,
           null,
           null,
           null,
           null,
           null,
           null,
           null,
           null,
           null,
           null,
           null,
           null,
           null,
           null,
           null,
           null,
           null,
           null,
           null
          ],
          [
           null,
           null,
           null,
           null,
           null,
           null,
           null,
           0.8731554520958047,
           null,
           null,
           null,
           null,
           null,
           null,
           null,
           null,
           null,
           null,
           null,
           null,
           null,
           null,
           null,
           null,
           null,
           null,
           null
          ],
          [
           null,
           null,
           null,
           null,
           null,
           null,
           null,
           null,
           null,
           null,
           null,
           null,
           0.876375921549484,
           null,
           null,
           null,
           null,
           null,
           null,
           null,
           null,
           null,
           null,
           null,
           null,
           null,
           null
          ],
          [
           null,
           null,
           null,
           null,
           null,
           null,
           null,
           null,
           null,
           null,
           null,
           null,
           null,
           null,
           null,
           null,
           null,
           null,
           null,
           null,
           null,
           null,
           0.876704415403992,
           null,
           null,
           null,
           null
          ],
          [
           null,
           null,
           null,
           null,
           null,
           null,
           null,
           null,
           null,
           null,
           null,
           null,
           null,
           null,
           null,
           null,
           null,
           null,
           null,
           null,
           0.8754092963148761,
           null,
           null,
           null,
           null,
           null,
           null
          ],
          [
           null,
           null,
           null,
           null,
           null,
           null,
           null,
           null,
           null,
           null,
           null,
           null,
           null,
           null,
           null,
           null,
           null,
           null,
           null,
           null,
           null,
           null,
           null,
           null,
           0.877074744223945,
           null,
           null
          ],
          [
           null,
           null,
           null,
           null,
           null,
           null,
           null,
           null,
           null,
           null,
           null,
           null,
           null,
           null,
           null,
           null,
           null,
           null,
           null,
           null,
           null,
           null,
           null,
           0.8697271527631747,
           null,
           null,
           null
          ],
          [
           null,
           null,
           null,
           null,
           null,
           null,
           null,
           null,
           null,
           0.8762683271757736,
           null,
           null,
           null,
           null,
           null,
           null,
           null,
           null,
           null,
           null,
           null,
           null,
           null,
           null,
           null,
           null,
           null
          ],
          [
           null,
           null,
           null,
           null,
           null,
           0.8723895034398698,
           null,
           null,
           null,
           null,
           null,
           null,
           null,
           null,
           null,
           null,
           null,
           null,
           null,
           null,
           null,
           null,
           null,
           null,
           null,
           null,
           null
          ],
          [
           null,
           0.8748311055725484,
           null,
           null,
           null,
           null,
           null,
           null,
           null,
           null,
           null,
           null,
           null,
           null,
           null,
           null,
           null,
           null,
           null,
           null,
           null,
           null,
           null,
           null,
           null,
           null,
           null
          ],
          [
           null,
           null,
           null,
           null,
           null,
           null,
           null,
           null,
           null,
           null,
           null,
           null,
           null,
           null,
           null,
           null,
           null,
           null,
           null,
           null,
           null,
           null,
           null,
           null,
           null,
           null,
           null
          ]
         ]
        },
        {
         "marker": {
          "color": "black",
          "line": {
           "color": "Gray",
           "width": 2
          }
         },
         "mode": "markers",
         "name": "Feasible Trial",
         "showlegend": false,
         "type": "scatter",
         "x": [
          0.35160437621301655,
          0.27691147205594535,
          0.1986379345977377,
          0.9311824416361173,
          0.1653785653404436,
          0.4453860170068221,
          0.7719334284189111,
          0.4928286227752857,
          0.4721681327747337,
          0.7863960495937629,
          0.021096883444261805,
          0.035468916866414846,
          0.6604240639153958,
          0.158079070738712,
          0.616577581296886,
          0.6313988380641429,
          0.6152852017964116,
          0.946067571401495,
          0.9763015247159273,
          0.970962086590466,
          0.8545589749361152,
          0.9973871608724298,
          0.8830218322040628,
          0.7172642330570739,
          0.7476859490094927
         ],
         "xaxis": "x19",
         "y": [
          1.6236863768463325,
          0.050704952348633106,
          6.593822050520771,
          0.33577980823141684,
          0.20048521533471292,
          0.005686488275845867,
          0.271065504382834,
          0.0013502205127737278,
          5.648665444998958,
          0.005599922125393375,
          9.766506120440074,
          1.1807824514396177,
          0.03621653933395622,
          1.598349642864303,
          1.956471961188236,
          1.2801137168124583,
          0.6778200572155763,
          2.575660179430299,
          3.1144462200141576,
          3.7141853846566555,
          0.09723987296980896,
          0.5691482062324401,
          2.884566639319308,
          0.9059399944440578,
          0.6438016057012503
         ],
         "yaxis": "y19"
        },
        {
         "colorbar": {
          "title": {
           "text": "Objective Value"
          }
         },
         "colorscale": [
          [
           0,
           "rgb(247,251,255)"
          ],
          [
           0.125,
           "rgb(222,235,247)"
          ],
          [
           0.25,
           "rgb(198,219,239)"
          ],
          [
           0.375,
           "rgb(158,202,225)"
          ],
          [
           0.5,
           "rgb(107,174,214)"
          ],
          [
           0.625,
           "rgb(66,146,198)"
          ],
          [
           0.75,
           "rgb(33,113,181)"
          ],
          [
           0.875,
           "rgb(8,81,156)"
          ],
          [
           1,
           "rgb(8,48,107)"
          ]
         ],
         "connectgaps": true,
         "contours": {
          "coloring": "heatmap"
         },
         "hoverinfo": "none",
         "line": {
          "smoothing": 1.3
         },
         "reversescale": false,
         "showscale": false,
         "type": "contour",
         "x": [
          -0.027717630427146603,
          0.021096883444261805,
          0.035468916866414846,
          0.158079070738712,
          0.1653785653404436,
          0.1986379345977377,
          0.27691147205594535,
          0.35160437621301655,
          0.4453860170068221,
          0.4721681327747337,
          0.4928286227752857,
          0.6152852017964116,
          0.616577581296886,
          0.6313988380641429,
          0.6604240639153958,
          0.7172642330570739,
          0.7476859490094927,
          0.7719334284189111,
          0.7863960495937629,
          0.8545589749361152,
          0.8830218322040628,
          0.9311824416361173,
          0.946067571401495,
          0.970962086590466,
          0.9763015247159273,
          0.9973871608724298,
          1.0462016747438383
         ],
         "xaxis": "x25",
         "y": [
          0.0013212516687476582,
          0.0016205622653806687,
          0.001976630674792773,
          0.0041969675398673524,
          0.005071564130028977,
          0.00893324050435845,
          0.009153096511780052,
          0.014942615940739881,
          0.01939312273281176,
          0.020247398950067306,
          0.02959456157743655,
          0.03045064589680613,
          0.03239941582014418,
          0.036647759430624025,
          0.043161464201364984,
          0.050876045024910645,
          0.0567243019623693,
          0.056892488308269686,
          0.06005764678809379,
          0.06186207490162208,
          0.06298725338758546,
          0.06795577223035759,
          0.07884554109070592,
          0.0927701509590474,
          0.09531511189138718,
          0.09622085005287367,
          0.1180183022106135
         ],
         "yaxis": "y25",
         "z": [
          [
           null,
           null,
           null,
           null,
           null,
           null,
           null,
           null,
           null,
           null,
           null,
           null,
           null,
           null,
           null,
           null,
           null,
           null,
           null,
           null,
           null,
           null,
           null,
           null,
           null,
           null,
           null
          ],
          [
           null,
           null,
           null,
           null,
           null,
           null,
           null,
           null,
           null,
           null,
           null,
           null,
           null,
           null,
           null,
           null,
           null,
           0.8507227887474659,
           null,
           null,
           null,
           null,
           null,
           null,
           null,
           null,
           null
          ],
          [
           null,
           null,
           null,
           null,
           null,
           null,
           null,
           null,
           null,
           null,
           null,
           null,
           null,
           null,
           null,
           null,
           null,
           null,
           0.8468994256985938,
           null,
           null,
           null,
           null,
           null,
           null,
           null,
           null
          ],
          [
           null,
           null,
           null,
           null,
           null,
           null,
           null,
           null,
           null,
           null,
           null,
           null,
           null,
           null,
           null,
           null,
           null,
           null,
           null,
           null,
           null,
           0.8631521704377709,
           null,
           null,
           null,
           null,
           null
          ],
          [
           null,
           null,
           null,
           null,
           null,
           null,
           null,
           null,
           null,
           null,
           null,
           null,
           null,
           null,
           null,
           null,
           null,
           null,
           null,
           null,
           null,
           null,
           null,
           0.8697271527631747,
           null,
           null,
           null
          ],
          [
           null,
           null,
           null,
           null,
           null,
           null,
           null,
           null,
           null,
           null,
           null,
           null,
           null,
           null,
           0.8749787310245623,
           null,
           null,
           null,
           null,
           null,
           null,
           null,
           null,
           null,
           null,
           null,
           null
          ],
          [
           null,
           0.8748311055725484,
           null,
           null,
           null,
           null,
           null,
           null,
           null,
           null,
           null,
           null,
           null,
           null,
           null,
           null,
           null,
           null,
           null,
           null,
           null,
           null,
           null,
           null,
           null,
           null,
           null
          ],
          [
           null,
           null,
           null,
           null,
           null,
           null,
           null,
           null,
           null,
           null,
           null,
           0.8740693145070131,
           null,
           null,
           null,
           null,
           null,
           null,
           null,
           null,
           null,
           null,
           null,
           null,
           null,
           null,
           null
          ],
          [
           null,
           null,
           null,
           null,
           null,
           null,
           null,
           null,
           null,
           0.8762683271757736,
           null,
           null,
           null,
           null,
           null,
           null,
           null,
           null,
           null,
           null,
           null,
           null,
           null,
           null,
           null,
           null,
           null
          ],
          [
           null,
           null,
           null,
           null,
           null,
           null,
           null,
           null,
           null,
           null,
           null,
           null,
           null,
           null,
           null,
           null,
           null,
           null,
           null,
           null,
           0.8754092963148761,
           null,
           null,
           null,
           null,
           null,
           null
          ],
          [
           null,
           null,
           null,
           null,
           null,
           0.8723895034398698,
           null,
           null,
           null,
           null,
           null,
           null,
           null,
           null,
           null,
           null,
           null,
           null,
           null,
           null,
           null,
           null,
           null,
           null,
           null,
           null,
           null
          ],
          [
           null,
           null,
           null,
           null,
           null,
           null,
           null,
           0.8731554520958047,
           null,
           null,
           null,
           null,
           null,
           null,
           null,
           null,
           null,
           null,
           null,
           null,
           null,
           null,
           null,
           null,
           null,
           null,
           null
          ],
          [
           null,
           null,
           null,
           null,
           null,
           null,
           null,
           null,
           0.8757704989752587,
           null,
           null,
           null,
           null,
           null,
           null,
           null,
           null,
           null,
           null,
           null,
           null,
           null,
           null,
           null,
           null,
           null,
           null
          ],
          [
           null,
           null,
           null,
           null,
           null,
           null,
           null,
           null,
           null,
           null,
           0.8760279130750771,
           null,
           null,
           null,
           null,
           null,
           null,
           null,
           null,
           null,
           null,
           null,
           null,
           null,
           null,
           null,
           null
          ],
          [
           null,
           null,
           null,
           null,
           null,
           null,
           0.8760055874765106,
           null,
           null,
           null,
           null,
           null,
           null,
           null,
           null,
           null,
           null,
           null,
           null,
           null,
           null,
           null,
           null,
           null,
           null,
           null,
           null
          ],
          [
           null,
           null,
           null,
           null,
           0.8760698594045511,
           null,
           null,
           null,
           null,
           null,
           null,
           null,
           null,
           null,
           null,
           null,
           null,
           null,
           null,
           null,
           null,
           null,
           null,
           null,
           null,
           null,
           null
          ],
          [
           null,
           null,
           null,
           null,
           null,
           null,
           null,
           null,
           null,
           null,
           null,
           null,
           null,
           null,
           null,
           null,
           null,
           null,
           null,
           null,
           null,
           null,
           0.876704415403992,
           null,
           null,
           null,
           null
          ],
          [
           null,
           null,
           null,
           null,
           null,
           null,
           null,
           null,
           null,
           null,
           null,
           null,
           null,
           null,
           null,
           null,
           null,
           null,
           null,
           0.8753041148284513,
           null,
           null,
           null,
           null,
           null,
           null,
           null
          ],
          [
           null,
           null,
           null,
           null,
           null,
           null,
           null,
           null,
           null,
           null,
           null,
           null,
           null,
           null,
           null,
           null,
           null,
           null,
           null,
           null,
           null,
           null,
           null,
           null,
           null,
           0.8764521852471732,
           null
          ],
          [
           null,
           null,
           null,
           null,
           null,
           null,
           null,
           null,
           null,
           null,
           null,
           null,
           null,
           null,
           null,
           null,
           null,
           null,
           null,
           null,
           null,
           null,
           null,
           null,
           0.877074744223945,
           null,
           null
          ],
          [
           null,
           null,
           null,
           null,
           null,
           null,
           null,
           null,
           null,
           null,
           null,
           null,
           null,
           null,
           null,
           null,
           0.876715321987214,
           null,
           null,
           null,
           null,
           null,
           null,
           null,
           null,
           null,
           null
          ],
          [
           null,
           null,
           null,
           null,
           null,
           null,
           null,
           null,
           null,
           null,
           null,
           null,
           null,
           null,
           null,
           0.8767685412980705,
           null,
           null,
           null,
           null,
           null,
           null,
           null,
           null,
           null,
           null,
           null
          ],
          [
           null,
           null,
           null,
           null,
           null,
           null,
           null,
           null,
           null,
           null,
           null,
           null,
           null,
           0.8765577987945103,
           null,
           null,
           null,
           null,
           null,
           null,
           null,
           null,
           null,
           null,
           null,
           null,
           null
          ],
          [
           null,
           null,
           null,
           0.8764232168543427,
           null,
           null,
           null,
           null,
           null,
           null,
           null,
           null,
           null,
           null,
           null,
           null,
           null,
           null,
           null,
           null,
           null,
           null,
           null,
           null,
           null,
           null,
           null
          ],
          [
           null,
           null,
           0.8758808907573346,
           null,
           null,
           null,
           null,
           null,
           null,
           null,
           null,
           null,
           null,
           null,
           null,
           null,
           null,
           null,
           null,
           null,
           null,
           null,
           null,
           null,
           null,
           null,
           null
          ],
          [
           null,
           null,
           null,
           null,
           null,
           null,
           null,
           null,
           null,
           null,
           null,
           null,
           0.876375921549484,
           null,
           null,
           null,
           null,
           null,
           null,
           null,
           null,
           null,
           null,
           null,
           null,
           null,
           null
          ],
          [
           null,
           null,
           null,
           null,
           null,
           null,
           null,
           null,
           null,
           null,
           null,
           null,
           null,
           null,
           null,
           null,
           null,
           null,
           null,
           null,
           null,
           null,
           null,
           null,
           null,
           null,
           null
          ]
         ]
        },
        {
         "marker": {
          "color": "black",
          "line": {
           "color": "Gray",
           "width": 2
          }
         },
         "mode": "markers",
         "name": "Feasible Trial",
         "showlegend": false,
         "type": "scatter",
         "x": [
          0.35160437621301655,
          0.27691147205594535,
          0.1986379345977377,
          0.9311824416361173,
          0.1653785653404436,
          0.4453860170068221,
          0.7719334284189111,
          0.4928286227752857,
          0.4721681327747337,
          0.7863960495937629,
          0.021096883444261805,
          0.035468916866414846,
          0.6604240639153958,
          0.158079070738712,
          0.616577581296886,
          0.6313988380641429,
          0.6152852017964116,
          0.946067571401495,
          0.9763015247159273,
          0.970962086590466,
          0.8545589749361152,
          0.9973871608724298,
          0.8830218322040628,
          0.7172642330570739,
          0.7476859490094927
         ],
         "xaxis": "x25",
         "y": [
          0.03045064589680613,
          0.043161464201364984,
          0.02959456157743655,
          0.0041969675398673524,
          0.050876045024910645,
          0.03239941582014418,
          0.0016205622653806687,
          0.036647759430624025,
          0.01939312273281176,
          0.001976630674792773,
          0.009153096511780052,
          0.09531511189138718,
          0.00893324050435845,
          0.0927701509590474,
          0.09622085005287367,
          0.07884554109070592,
          0.014942615940739881,
          0.0567243019623693,
          0.06186207490162208,
          0.005071564130028977,
          0.056892488308269686,
          0.06005764678809379,
          0.020247398950067306,
          0.06795577223035759,
          0.06298725338758546
         ],
         "yaxis": "y25"
        },
        {
         "colorbar": {
          "title": {
           "text": "Objective Value"
          }
         },
         "colorscale": [
          [
           0,
           "rgb(247,251,255)"
          ],
          [
           0.125,
           "rgb(222,235,247)"
          ],
          [
           0.25,
           "rgb(198,219,239)"
          ],
          [
           0.375,
           "rgb(158,202,225)"
          ],
          [
           0.5,
           "rgb(107,174,214)"
          ],
          [
           0.625,
           "rgb(66,146,198)"
          ],
          [
           0.75,
           "rgb(33,113,181)"
          ],
          [
           0.875,
           "rgb(8,81,156)"
          ],
          [
           1,
           "rgb(8,48,107)"
          ]
         ],
         "connectgaps": true,
         "contours": {
          "coloring": "heatmap"
         },
         "hoverinfo": "none",
         "line": {
          "smoothing": 1.3
         },
         "reversescale": false,
         "showscale": false,
         "type": "contour",
         "x": [
          -0.027717630427146603,
          0.021096883444261805,
          0.035468916866414846,
          0.158079070738712,
          0.1653785653404436,
          0.1986379345977377,
          0.27691147205594535,
          0.35160437621301655,
          0.4453860170068221,
          0.4721681327747337,
          0.4928286227752857,
          0.6152852017964116,
          0.616577581296886,
          0.6313988380641429,
          0.6604240639153958,
          0.7172642330570739,
          0.7476859490094927,
          0.7719334284189111,
          0.7863960495937629,
          0.8545589749361152,
          0.8830218322040628,
          0.9311824416361173,
          0.946067571401495,
          0.970962086590466,
          0.9763015247159273,
          0.9973871608724298,
          1.0462016747438383
         ],
         "xaxis": "x31",
         "y": [
          0.0008851314267292528,
          0.0013679281765936408,
          0.009413375418335807,
          0.01031359388995681,
          0.010314680895799842,
          0.03302723763506745,
          0.035959616841470365,
          0.04187534676784171,
          0.08276447921795416,
          0.09982091719818298,
          0.11786015045616766,
          0.1197929964019686,
          0.22722430844635144,
          0.22980683750505768,
          0.36540570800441063,
          0.42645674510971915,
          0.6080287359985996,
          0.8114076476999805,
          0.9524576740419733,
          1.1441130526291785,
          1.2811117864609427,
          1.4655627609873096,
          2.4953193797068507,
          6.045293056544891,
          7.858371016947948,
          8.263689408320012,
          12.771135723912245
         ],
         "yaxis": "y31",
         "z": [
          [
           null,
           null,
           null,
           null,
           null,
           null,
           null,
           null,
           null,
           null,
           null,
           null,
           null,
           null,
           null,
           null,
           null,
           null,
           null,
           null,
           null,
           null,
           null,
           null,
           null,
           null,
           null
          ],
          [
           null,
           0.8748311055725484,
           null,
           null,
           null,
           null,
           null,
           null,
           null,
           null,
           null,
           null,
           null,
           null,
           null,
           null,
           null,
           null,
           null,
           null,
           null,
           null,
           null,
           null,
           null,
           null,
           null
          ],
          [
           null,
           null,
           null,
           null,
           null,
           null,
           null,
           null,
           null,
           null,
           null,
           null,
           null,
           null,
           null,
           null,
           null,
           null,
           null,
           0.8753041148284513,
           null,
           null,
           null,
           null,
           null,
           null,
           null
          ],
          [
           null,
           null,
           null,
           null,
           null,
           null,
           null,
           null,
           null,
           null,
           null,
           null,
           null,
           null,
           0.8749787310245623,
           null,
           null,
           null,
           null,
           null,
           null,
           null,
           null,
           null,
           null,
           null,
           null
          ],
          [
           null,
           null,
           null,
           null,
           null,
           null,
           null,
           null,
           0.8757704989752587,
           null,
           null,
           null,
           null,
           null,
           null,
           null,
           null,
           null,
           null,
           null,
           null,
           null,
           null,
           null,
           null,
           null,
           null
          ],
          [
           null,
           null,
           null,
           null,
           null,
           null,
           0.8760055874765106,
           null,
           null,
           null,
           null,
           null,
           null,
           null,
           null,
           null,
           null,
           null,
           null,
           null,
           null,
           null,
           null,
           null,
           null,
           null,
           null
          ],
          [
           null,
           null,
           null,
           null,
           null,
           null,
           null,
           null,
           null,
           null,
           null,
           null,
           null,
           null,
           null,
           null,
           null,
           0.8507227887474659,
           null,
           null,
           null,
           null,
           null,
           null,
           null,
           null,
           null
          ],
          [
           null,
           null,
           null,
           null,
           0.8760698594045511,
           null,
           null,
           null,
           null,
           null,
           null,
           null,
           null,
           null,
           null,
           null,
           null,
           null,
           null,
           null,
           null,
           null,
           null,
           null,
           null,
           null,
           null
          ],
          [
           null,
           null,
           null,
           0.8764232168543427,
           null,
           null,
           null,
           null,
           null,
           null,
           null,
           null,
           null,
           null,
           null,
           null,
           null,
           null,
           null,
           null,
           null,
           null,
           null,
           null,
           null,
           null,
           null
          ],
          [
           null,
           null,
           null,
           null,
           null,
           null,
           null,
           null,
           null,
           null,
           null,
           null,
           null,
           null,
           null,
           null,
           null,
           null,
           null,
           null,
           null,
           null,
           0.876704415403992,
           null,
           null,
           null,
           null
          ],
          [
           null,
           null,
           null,
           null,
           null,
           null,
           null,
           null,
           null,
           null,
           null,
           null,
           null,
           null,
           null,
           null,
           0.876715321987214,
           null,
           null,
           null,
           null,
           null,
           null,
           null,
           null,
           null,
           null
          ],
          [
           null,
           null,
           null,
           null,
           null,
           null,
           null,
           null,
           null,
           null,
           null,
           null,
           null,
           null,
           null,
           0.8767685412980705,
           null,
           null,
           null,
           null,
           null,
           null,
           null,
           null,
           null,
           null,
           null
          ],
          [
           null,
           null,
           null,
           null,
           null,
           null,
           null,
           null,
           null,
           null,
           null,
           null,
           null,
           null,
           null,
           null,
           null,
           null,
           null,
           null,
           null,
           0.8631521704377709,
           null,
           null,
           null,
           null,
           null
          ],
          [
           null,
           null,
           null,
           null,
           null,
           null,
           null,
           null,
           null,
           null,
           null,
           0.8740693145070131,
           null,
           null,
           null,
           null,
           null,
           null,
           null,
           null,
           null,
           null,
           null,
           null,
           null,
           null,
           null
          ],
          [
           null,
           null,
           null,
           null,
           null,
           null,
           null,
           null,
           null,
           null,
           0.8760279130750771,
           null,
           null,
           null,
           null,
           null,
           null,
           null,
           null,
           null,
           null,
           null,
           null,
           null,
           null,
           null,
           null
          ],
          [
           null,
           null,
           null,
           null,
           null,
           null,
           null,
           null,
           null,
           null,
           null,
           null,
           null,
           null,
           null,
           null,
           null,
           null,
           null,
           null,
           null,
           null,
           null,
           0.8697271527631747,
           null,
           null,
           null
          ],
          [
           null,
           null,
           null,
           null,
           null,
           null,
           null,
           null,
           null,
           null,
           null,
           null,
           null,
           null,
           null,
           null,
           null,
           null,
           null,
           null,
           0.8754092963148761,
           null,
           null,
           null,
           null,
           null,
           null
          ],
          [
           null,
           null,
           null,
           null,
           null,
           null,
           null,
           null,
           null,
           null,
           null,
           null,
           null,
           null,
           null,
           null,
           null,
           null,
           null,
           null,
           null,
           null,
           null,
           null,
           0.877074744223945,
           null,
           null
          ],
          [
           null,
           null,
           null,
           null,
           null,
           null,
           null,
           null,
           null,
           null,
           null,
           null,
           null,
           0.8765577987945103,
           null,
           null,
           null,
           null,
           null,
           null,
           null,
           null,
           null,
           null,
           null,
           null,
           null
          ],
          [
           null,
           null,
           null,
           null,
           null,
           0.8723895034398698,
           null,
           null,
           null,
           null,
           null,
           null,
           null,
           null,
           null,
           null,
           null,
           null,
           null,
           null,
           null,
           null,
           null,
           null,
           null,
           null,
           null
          ],
          [
           null,
           null,
           null,
           null,
           null,
           null,
           null,
           null,
           null,
           null,
           null,
           null,
           0.876375921549484,
           null,
           null,
           null,
           null,
           null,
           null,
           null,
           null,
           null,
           null,
           null,
           null,
           null,
           null
          ],
          [
           null,
           null,
           0.8758808907573346,
           null,
           null,
           null,
           null,
           null,
           null,
           null,
           null,
           null,
           null,
           null,
           null,
           null,
           null,
           null,
           null,
           null,
           null,
           null,
           null,
           null,
           null,
           null,
           null
          ],
          [
           null,
           null,
           null,
           null,
           null,
           null,
           null,
           null,
           null,
           null,
           null,
           null,
           null,
           null,
           null,
           null,
           null,
           null,
           null,
           null,
           null,
           null,
           null,
           null,
           null,
           0.8764521852471732,
           null
          ],
          [
           null,
           null,
           null,
           null,
           null,
           null,
           null,
           null,
           null,
           0.8762683271757736,
           null,
           null,
           null,
           null,
           null,
           null,
           null,
           null,
           null,
           null,
           null,
           null,
           null,
           null,
           null,
           null,
           null
          ],
          [
           null,
           null,
           null,
           null,
           null,
           null,
           null,
           0.8731554520958047,
           null,
           null,
           null,
           null,
           null,
           null,
           null,
           null,
           null,
           null,
           null,
           null,
           null,
           null,
           null,
           null,
           null,
           null,
           null
          ],
          [
           null,
           null,
           null,
           null,
           null,
           null,
           null,
           null,
           null,
           null,
           null,
           null,
           null,
           null,
           null,
           null,
           null,
           null,
           0.8468994256985938,
           null,
           null,
           null,
           null,
           null,
           null,
           null,
           null
          ],
          [
           null,
           null,
           null,
           null,
           null,
           null,
           null,
           null,
           null,
           null,
           null,
           null,
           null,
           null,
           null,
           null,
           null,
           null,
           null,
           null,
           null,
           null,
           null,
           null,
           null,
           null,
           null
          ]
         ]
        },
        {
         "marker": {
          "color": "black",
          "line": {
           "color": "Gray",
           "width": 2
          }
         },
         "mode": "markers",
         "name": "Feasible Trial",
         "showlegend": false,
         "type": "scatter",
         "x": [
          0.35160437621301655,
          0.27691147205594535,
          0.1986379345977377,
          0.9311824416361173,
          0.1653785653404436,
          0.4453860170068221,
          0.7719334284189111,
          0.4928286227752857,
          0.4721681327747337,
          0.7863960495937629,
          0.021096883444261805,
          0.035468916866414846,
          0.6604240639153958,
          0.158079070738712,
          0.616577581296886,
          0.6313988380641429,
          0.6152852017964116,
          0.946067571401495,
          0.9763015247159273,
          0.970962086590466,
          0.8545589749361152,
          0.9973871608724298,
          0.8830218322040628,
          0.7172642330570739,
          0.7476859490094927
         ],
         "xaxis": "x31",
         "y": [
          7.858371016947948,
          0.03302723763506745,
          1.1441130526291785,
          0.22722430844635144,
          0.04187534676784171,
          0.010314680895799842,
          0.035959616841470365,
          0.36540570800441063,
          6.045293056544891,
          8.263689408320012,
          0.0013679281765936408,
          1.4655627609873096,
          0.01031359388995681,
          0.08276447921795416,
          1.2811117864609427,
          0.9524576740419733,
          0.22980683750505768,
          0.09982091719818298,
          0.8114076476999805,
          0.42645674510971915,
          0.009413375418335807,
          2.4953193797068507,
          0.6080287359985996,
          0.1197929964019686,
          0.11786015045616766
         ],
         "yaxis": "y31"
        },
        {
         "colorbar": {
          "title": {
           "text": "Objective Value"
          }
         },
         "colorscale": [
          [
           0,
           "rgb(247,251,255)"
          ],
          [
           0.125,
           "rgb(222,235,247)"
          ],
          [
           0.25,
           "rgb(198,219,239)"
          ],
          [
           0.375,
           "rgb(158,202,225)"
          ],
          [
           0.5,
           "rgb(107,174,214)"
          ],
          [
           0.625,
           "rgb(66,146,198)"
          ],
          [
           0.75,
           "rgb(33,113,181)"
          ],
          [
           0.875,
           "rgb(8,81,156)"
          ],
          [
           1,
           "rgb(8,48,107)"
          ]
         ],
         "connectgaps": true,
         "contours": {
          "coloring": "heatmap"
         },
         "hoverinfo": "none",
         "line": {
          "smoothing": 1.3
         },
         "reversescale": false,
         "showscale": false,
         "type": "contour",
         "x": [
          3.7,
          4,
          5,
          6,
          7,
          8,
          9,
          10,
          10.3
         ],
         "xaxis": "x2",
         "y": [
          -0.027717630427146603,
          0.021096883444261805,
          0.035468916866414846,
          0.158079070738712,
          0.1653785653404436,
          0.1986379345977377,
          0.27691147205594535,
          0.35160437621301655,
          0.4453860170068221,
          0.4721681327747337,
          0.4928286227752857,
          0.6152852017964116,
          0.616577581296886,
          0.6313988380641429,
          0.6604240639153958,
          0.7172642330570739,
          0.7476859490094927,
          0.7719334284189111,
          0.7863960495937629,
          0.8545589749361152,
          0.8830218322040628,
          0.9311824416361173,
          0.946067571401495,
          0.970962086590466,
          0.9763015247159273,
          0.9973871608724298,
          1.0462016747438383
         ],
         "yaxis": "y2",
         "z": [
          [
           null,
           null,
           null,
           null,
           null,
           null,
           null,
           null,
           null
          ],
          [
           null,
           null,
           null,
           null,
           null,
           null,
           null,
           0.8748311055725484,
           null
          ],
          [
           null,
           null,
           null,
           null,
           null,
           null,
           null,
           0.8758808907573346,
           null
          ],
          [
           null,
           null,
           null,
           null,
           null,
           null,
           0.8764232168543427,
           null,
           null
          ],
          [
           null,
           null,
           null,
           null,
           null,
           null,
           0.8760698594045511,
           null,
           null
          ],
          [
           null,
           null,
           0.8723895034398698,
           null,
           null,
           null,
           null,
           null,
           null
          ],
          [
           null,
           null,
           null,
           null,
           null,
           null,
           0.8760055874765106,
           null,
           null
          ],
          [
           null,
           null,
           0.8731554520958047,
           null,
           null,
           null,
           null,
           null,
           null
          ],
          [
           null,
           null,
           0.8757704989752587,
           null,
           null,
           null,
           null,
           null,
           null
          ],
          [
           null,
           null,
           null,
           null,
           null,
           null,
           null,
           0.8762683271757736,
           null
          ],
          [
           null,
           null,
           null,
           null,
           null,
           0.8760279130750771,
           null,
           null,
           null
          ],
          [
           null,
           null,
           null,
           null,
           0.8740693145070131,
           null,
           null,
           null,
           null
          ],
          [
           null,
           null,
           null,
           null,
           null,
           null,
           0.876375921549484,
           null,
           null
          ],
          [
           null,
           null,
           null,
           null,
           null,
           0.8765577987945103,
           null,
           null,
           null
          ],
          [
           null,
           null,
           null,
           null,
           null,
           0.8749787310245623,
           null,
           null,
           null
          ],
          [
           null,
           null,
           null,
           null,
           null,
           0.8767685412980705,
           null,
           null,
           null
          ],
          [
           null,
           null,
           null,
           0.876715321987214,
           null,
           null,
           null,
           null,
           null
          ],
          [
           null,
           null,
           null,
           0.8507227887474659,
           null,
           null,
           null,
           null,
           null
          ],
          [
           null,
           null,
           null,
           0.8468994256985938,
           null,
           null,
           null,
           null,
           null
          ],
          [
           null,
           0.8753041148284513,
           null,
           null,
           null,
           null,
           null,
           null,
           null
          ],
          [
           null,
           null,
           null,
           null,
           0.8754092963148761,
           null,
           null,
           null,
           null
          ],
          [
           null,
           null,
           0.8631521704377709,
           null,
           null,
           null,
           null,
           null,
           null
          ],
          [
           null,
           null,
           null,
           null,
           null,
           0.876704415403992,
           null,
           null,
           null
          ],
          [
           null,
           null,
           null,
           null,
           0.8697271527631747,
           null,
           null,
           null,
           null
          ],
          [
           null,
           null,
           null,
           null,
           0.877074744223945,
           null,
           null,
           null,
           null
          ],
          [
           null,
           null,
           null,
           null,
           null,
           0.8764521852471732,
           null,
           null,
           null
          ],
          [
           null,
           null,
           null,
           null,
           null,
           null,
           null,
           null,
           null
          ]
         ]
        },
        {
         "marker": {
          "color": "black",
          "line": {
           "color": "Gray",
           "width": 2
          }
         },
         "mode": "markers",
         "name": "Feasible Trial",
         "showlegend": false,
         "type": "scatter",
         "x": [
          5,
          9,
          5,
          5,
          9,
          5,
          6,
          8,
          10,
          6,
          10,
          10,
          8,
          9,
          9,
          8,
          7,
          8,
          7,
          7,
          4,
          8,
          7,
          8,
          6
         ],
         "xaxis": "x2",
         "y": [
          0.35160437621301655,
          0.27691147205594535,
          0.1986379345977377,
          0.9311824416361173,
          0.1653785653404436,
          0.4453860170068221,
          0.7719334284189111,
          0.4928286227752857,
          0.4721681327747337,
          0.7863960495937629,
          0.021096883444261805,
          0.035468916866414846,
          0.6604240639153958,
          0.158079070738712,
          0.616577581296886,
          0.6313988380641429,
          0.6152852017964116,
          0.946067571401495,
          0.9763015247159273,
          0.970962086590466,
          0.8545589749361152,
          0.9973871608724298,
          0.8830218322040628,
          0.7172642330570739,
          0.7476859490094927
         ],
         "yaxis": "y2"
        },
        {
         "type": "scatter",
         "xaxis": "x8",
         "yaxis": "y8"
        },
        {
         "colorbar": {
          "title": {
           "text": "Objective Value"
          }
         },
         "colorscale": [
          [
           0,
           "rgb(247,251,255)"
          ],
          [
           0.125,
           "rgb(222,235,247)"
          ],
          [
           0.25,
           "rgb(198,219,239)"
          ],
          [
           0.375,
           "rgb(158,202,225)"
          ],
          [
           0.5,
           "rgb(107,174,214)"
          ],
          [
           0.625,
           "rgb(66,146,198)"
          ],
          [
           0.75,
           "rgb(33,113,181)"
          ],
          [
           0.875,
           "rgb(8,81,156)"
          ],
          [
           1,
           "rgb(8,48,107)"
          ]
         ],
         "connectgaps": true,
         "contours": {
          "coloring": "heatmap"
         },
         "hoverinfo": "none",
         "line": {
          "smoothing": 1.3
         },
         "reversescale": false,
         "showscale": false,
         "type": "contour",
         "x": [
          3.7,
          4,
          5,
          6,
          7,
          8,
          9,
          10,
          10.3
         ],
         "xaxis": "x14",
         "y": [
          913.85,
          1010,
          1219,
          1245,
          1438,
          1498,
          1551,
          1635,
          1678,
          1799,
          1848,
          1850,
          1904,
          1996,
          2073,
          2090,
          2140,
          2143,
          2253,
          2272,
          2347,
          2447,
          2623,
          2649,
          2836,
          2933,
          3029.15
         ],
         "yaxis": "y14",
         "z": [
          [
           null,
           null,
           null,
           null,
           null,
           null,
           null,
           null,
           null
          ],
          [
           null,
           null,
           0.8723895034398698,
           null,
           null,
           null,
           null,
           null,
           null
          ],
          [
           null,
           null,
           null,
           0.8507227887474659,
           null,
           null,
           null,
           null,
           null
          ],
          [
           null,
           null,
           0.8731554520958047,
           null,
           null,
           null,
           null,
           null,
           null
          ],
          [
           null,
           null,
           null,
           null,
           null,
           0.8767685412980705,
           null,
           null,
           null
          ],
          [
           null,
           null,
           null,
           0.876715321987214,
           null,
           null,
           null,
           null,
           null
          ],
          [
           null,
           null,
           0.8631521704377709,
           null,
           null,
           null,
           null,
           null,
           null
          ],
          [
           null,
           null,
           null,
           null,
           0.8740693145070131,
           null,
           null,
           null,
           null
          ],
          [
           null,
           0.8753041148284513,
           null,
           null,
           null,
           null,
           null,
           null,
           null
          ],
          [
           null,
           null,
           null,
           null,
           0.8754092963148761,
           null,
           null,
           null,
           null
          ],
          [
           null,
           null,
           null,
           null,
           null,
           null,
           null,
           0.8748311055725484,
           null
          ],
          [
           null,
           null,
           null,
           null,
           null,
           0.8765577987945103,
           null,
           null,
           null
          ],
          [
           null,
           null,
           null,
           null,
           null,
           null,
           0.876375921549484,
           null,
           null
          ],
          [
           null,
           null,
           null,
           null,
           null,
           null,
           0.8764232168543427,
           null,
           null
          ],
          [
           null,
           null,
           null,
           null,
           null,
           0.876704415403992,
           null,
           null,
           null
          ],
          [
           null,
           null,
           null,
           null,
           null,
           0.8764521852471732,
           null,
           null,
           null
          ],
          [
           null,
           null,
           null,
           null,
           0.877074744223945,
           null,
           null,
           null,
           null
          ],
          [
           null,
           null,
           null,
           null,
           0.8697271527631747,
           null,
           null,
           null,
           null
          ],
          [
           null,
           null,
           0.8757704989752587,
           null,
           null,
           null,
           null,
           null,
           null
          ],
          [
           null,
           null,
           null,
           null,
           null,
           null,
           0.8760055874765106,
           null,
           null
          ],
          [
           null,
           null,
           null,
           null,
           null,
           null,
           null,
           0.8762683271757736,
           null
          ],
          [
           null,
           null,
           null,
           0.8468994256985938,
           null,
           null,
           null,
           null,
           null
          ],
          [
           null,
           null,
           null,
           null,
           null,
           null,
           0.8760698594045511,
           null,
           null
          ],
          [
           null,
           null,
           null,
           null,
           null,
           0.8760279130750771,
           null,
           null,
           null
          ],
          [
           null,
           null,
           null,
           null,
           null,
           null,
           null,
           0.8758808907573346,
           null
          ],
          [
           null,
           null,
           null,
           null,
           null,
           0.8749787310245623,
           null,
           null,
           null
          ],
          [
           null,
           null,
           null,
           null,
           null,
           null,
           null,
           null,
           null
          ]
         ]
        },
        {
         "marker": {
          "color": "black",
          "line": {
           "color": "Gray",
           "width": 2
          }
         },
         "mode": "markers",
         "name": "Feasible Trial",
         "showlegend": false,
         "type": "scatter",
         "x": [
          5,
          9,
          5,
          5,
          9,
          5,
          6,
          8,
          10,
          6,
          10,
          10,
          8,
          9,
          9,
          8,
          7,
          8,
          7,
          7,
          4,
          8,
          7,
          8,
          6
         ],
         "xaxis": "x14",
         "y": [
          1245,
          2272,
          1010,
          1551,
          2623,
          2253,
          1219,
          2649,
          2347,
          2447,
          1848,
          2836,
          2933,
          1996,
          1904,
          1850,
          1635,
          2073,
          2140,
          2143,
          1678,
          2090,
          1799,
          1438,
          1498
         ],
         "yaxis": "y14"
        },
        {
         "colorbar": {
          "title": {
           "text": "Objective Value"
          }
         },
         "colorscale": [
          [
           0,
           "rgb(247,251,255)"
          ],
          [
           0.125,
           "rgb(222,235,247)"
          ],
          [
           0.25,
           "rgb(198,219,239)"
          ],
          [
           0.375,
           "rgb(158,202,225)"
          ],
          [
           0.5,
           "rgb(107,174,214)"
          ],
          [
           0.625,
           "rgb(66,146,198)"
          ],
          [
           0.75,
           "rgb(33,113,181)"
          ],
          [
           0.875,
           "rgb(8,81,156)"
          ],
          [
           1,
           "rgb(8,48,107)"
          ]
         ],
         "connectgaps": true,
         "contours": {
          "coloring": "heatmap"
         },
         "hoverinfo": "none",
         "line": {
          "smoothing": 1.3
         },
         "reversescale": false,
         "showscale": false,
         "type": "contour",
         "x": [
          3.7,
          4,
          5,
          6,
          7,
          8,
          9,
          10,
          10.3
         ],
         "xaxis": "x20",
         "y": [
          0.0008658406576890277,
          0.0013502205127737278,
          0.005599922125393375,
          0.005686488275845867,
          0.03621653933395622,
          0.050704952348633106,
          0.09723987296980896,
          0.20048521533471292,
          0.271065504382834,
          0.33577980823141684,
          0.5691482062324401,
          0.6438016057012503,
          0.6778200572155763,
          0.9059399944440578,
          1.1807824514396177,
          1.2801137168124583,
          1.598349642864303,
          1.6236863768463325,
          1.956471961188236,
          2.575660179430299,
          2.884566639319308,
          3.1144462200141576,
          3.7141853846566555,
          5.648665444998958,
          6.593822050520771,
          9.766506120440074,
          15.230212146822662
         ],
         "yaxis": "y20",
         "z": [
          [
           null,
           null,
           null,
           null,
           null,
           null,
           null,
           null,
           null
          ],
          [
           null,
           null,
           null,
           null,
           null,
           0.8760279130750771,
           null,
           null,
           null
          ],
          [
           null,
           null,
           null,
           0.8468994256985938,
           null,
           null,
           null,
           null,
           null
          ],
          [
           null,
           null,
           0.8757704989752587,
           null,
           null,
           null,
           null,
           null,
           null
          ],
          [
           null,
           null,
           null,
           null,
           null,
           0.8749787310245623,
           null,
           null,
           null
          ],
          [
           null,
           null,
           null,
           null,
           null,
           null,
           0.8760055874765106,
           null,
           null
          ],
          [
           null,
           0.8753041148284513,
           null,
           null,
           null,
           null,
           null,
           null,
           null
          ],
          [
           null,
           null,
           null,
           null,
           null,
           null,
           0.8760698594045511,
           null,
           null
          ],
          [
           null,
           null,
           null,
           0.8507227887474659,
           null,
           null,
           null,
           null,
           null
          ],
          [
           null,
           null,
           0.8631521704377709,
           null,
           null,
           null,
           null,
           null,
           null
          ],
          [
           null,
           null,
           null,
           null,
           null,
           0.8764521852471732,
           null,
           null,
           null
          ],
          [
           null,
           null,
           null,
           0.876715321987214,
           null,
           null,
           null,
           null,
           null
          ],
          [
           null,
           null,
           null,
           null,
           0.8740693145070131,
           null,
           null,
           null,
           null
          ],
          [
           null,
           null,
           null,
           null,
           null,
           0.8767685412980705,
           null,
           null,
           null
          ],
          [
           null,
           null,
           null,
           null,
           null,
           null,
           null,
           0.8758808907573346,
           null
          ],
          [
           null,
           null,
           null,
           null,
           null,
           0.8765577987945103,
           null,
           null,
           null
          ],
          [
           null,
           null,
           null,
           null,
           null,
           null,
           0.8764232168543427,
           null,
           null
          ],
          [
           null,
           null,
           0.8731554520958047,
           null,
           null,
           null,
           null,
           null,
           null
          ],
          [
           null,
           null,
           null,
           null,
           null,
           null,
           0.876375921549484,
           null,
           null
          ],
          [
           null,
           null,
           null,
           null,
           null,
           0.876704415403992,
           null,
           null,
           null
          ],
          [
           null,
           null,
           null,
           null,
           0.8754092963148761,
           null,
           null,
           null,
           null
          ],
          [
           null,
           null,
           null,
           null,
           0.877074744223945,
           null,
           null,
           null,
           null
          ],
          [
           null,
           null,
           null,
           null,
           0.8697271527631747,
           null,
           null,
           null,
           null
          ],
          [
           null,
           null,
           null,
           null,
           null,
           null,
           null,
           0.8762683271757736,
           null
          ],
          [
           null,
           null,
           0.8723895034398698,
           null,
           null,
           null,
           null,
           null,
           null
          ],
          [
           null,
           null,
           null,
           null,
           null,
           null,
           null,
           0.8748311055725484,
           null
          ],
          [
           null,
           null,
           null,
           null,
           null,
           null,
           null,
           null,
           null
          ]
         ]
        },
        {
         "marker": {
          "color": "black",
          "line": {
           "color": "Gray",
           "width": 2
          }
         },
         "mode": "markers",
         "name": "Feasible Trial",
         "showlegend": false,
         "type": "scatter",
         "x": [
          5,
          9,
          5,
          5,
          9,
          5,
          6,
          8,
          10,
          6,
          10,
          10,
          8,
          9,
          9,
          8,
          7,
          8,
          7,
          7,
          4,
          8,
          7,
          8,
          6
         ],
         "xaxis": "x20",
         "y": [
          1.6236863768463325,
          0.050704952348633106,
          6.593822050520771,
          0.33577980823141684,
          0.20048521533471292,
          0.005686488275845867,
          0.271065504382834,
          0.0013502205127737278,
          5.648665444998958,
          0.005599922125393375,
          9.766506120440074,
          1.1807824514396177,
          0.03621653933395622,
          1.598349642864303,
          1.956471961188236,
          1.2801137168124583,
          0.6778200572155763,
          2.575660179430299,
          3.1144462200141576,
          3.7141853846566555,
          0.09723987296980896,
          0.5691482062324401,
          2.884566639319308,
          0.9059399944440578,
          0.6438016057012503
         ],
         "yaxis": "y20"
        },
        {
         "colorbar": {
          "title": {
           "text": "Objective Value"
          }
         },
         "colorscale": [
          [
           0,
           "rgb(247,251,255)"
          ],
          [
           0.125,
           "rgb(222,235,247)"
          ],
          [
           0.25,
           "rgb(198,219,239)"
          ],
          [
           0.375,
           "rgb(158,202,225)"
          ],
          [
           0.5,
           "rgb(107,174,214)"
          ],
          [
           0.625,
           "rgb(66,146,198)"
          ],
          [
           0.75,
           "rgb(33,113,181)"
          ],
          [
           0.875,
           "rgb(8,81,156)"
          ],
          [
           1,
           "rgb(8,48,107)"
          ]
         ],
         "connectgaps": true,
         "contours": {
          "coloring": "heatmap"
         },
         "hoverinfo": "none",
         "line": {
          "smoothing": 1.3
         },
         "reversescale": false,
         "showscale": false,
         "type": "contour",
         "x": [
          3.7,
          4,
          5,
          6,
          7,
          8,
          9,
          10,
          10.3
         ],
         "xaxis": "x26",
         "y": [
          0.0013212516687476582,
          0.0016205622653806687,
          0.001976630674792773,
          0.0041969675398673524,
          0.005071564130028977,
          0.00893324050435845,
          0.009153096511780052,
          0.014942615940739881,
          0.01939312273281176,
          0.020247398950067306,
          0.02959456157743655,
          0.03045064589680613,
          0.03239941582014418,
          0.036647759430624025,
          0.043161464201364984,
          0.050876045024910645,
          0.0567243019623693,
          0.056892488308269686,
          0.06005764678809379,
          0.06186207490162208,
          0.06298725338758546,
          0.06795577223035759,
          0.07884554109070592,
          0.0927701509590474,
          0.09531511189138718,
          0.09622085005287367,
          0.1180183022106135
         ],
         "yaxis": "y26",
         "z": [
          [
           null,
           null,
           null,
           null,
           null,
           null,
           null,
           null,
           null
          ],
          [
           null,
           null,
           null,
           0.8507227887474659,
           null,
           null,
           null,
           null,
           null
          ],
          [
           null,
           null,
           null,
           0.8468994256985938,
           null,
           null,
           null,
           null,
           null
          ],
          [
           null,
           null,
           0.8631521704377709,
           null,
           null,
           null,
           null,
           null,
           null
          ],
          [
           null,
           null,
           null,
           null,
           0.8697271527631747,
           null,
           null,
           null,
           null
          ],
          [
           null,
           null,
           null,
           null,
           null,
           0.8749787310245623,
           null,
           null,
           null
          ],
          [
           null,
           null,
           null,
           null,
           null,
           null,
           null,
           0.8748311055725484,
           null
          ],
          [
           null,
           null,
           null,
           null,
           0.8740693145070131,
           null,
           null,
           null,
           null
          ],
          [
           null,
           null,
           null,
           null,
           null,
           null,
           null,
           0.8762683271757736,
           null
          ],
          [
           null,
           null,
           null,
           null,
           0.8754092963148761,
           null,
           null,
           null,
           null
          ],
          [
           null,
           null,
           0.8723895034398698,
           null,
           null,
           null,
           null,
           null,
           null
          ],
          [
           null,
           null,
           0.8731554520958047,
           null,
           null,
           null,
           null,
           null,
           null
          ],
          [
           null,
           null,
           0.8757704989752587,
           null,
           null,
           null,
           null,
           null,
           null
          ],
          [
           null,
           null,
           null,
           null,
           null,
           0.8760279130750771,
           null,
           null,
           null
          ],
          [
           null,
           null,
           null,
           null,
           null,
           null,
           0.8760055874765106,
           null,
           null
          ],
          [
           null,
           null,
           null,
           null,
           null,
           null,
           0.8760698594045511,
           null,
           null
          ],
          [
           null,
           null,
           null,
           null,
           null,
           0.876704415403992,
           null,
           null,
           null
          ],
          [
           null,
           0.8753041148284513,
           null,
           null,
           null,
           null,
           null,
           null,
           null
          ],
          [
           null,
           null,
           null,
           null,
           null,
           0.8764521852471732,
           null,
           null,
           null
          ],
          [
           null,
           null,
           null,
           null,
           0.877074744223945,
           null,
           null,
           null,
           null
          ],
          [
           null,
           null,
           null,
           0.876715321987214,
           null,
           null,
           null,
           null,
           null
          ],
          [
           null,
           null,
           null,
           null,
           null,
           0.8767685412980705,
           null,
           null,
           null
          ],
          [
           null,
           null,
           null,
           null,
           null,
           0.8765577987945103,
           null,
           null,
           null
          ],
          [
           null,
           null,
           null,
           null,
           null,
           null,
           0.8764232168543427,
           null,
           null
          ],
          [
           null,
           null,
           null,
           null,
           null,
           null,
           null,
           0.8758808907573346,
           null
          ],
          [
           null,
           null,
           null,
           null,
           null,
           null,
           0.876375921549484,
           null,
           null
          ],
          [
           null,
           null,
           null,
           null,
           null,
           null,
           null,
           null,
           null
          ]
         ]
        },
        {
         "marker": {
          "color": "black",
          "line": {
           "color": "Gray",
           "width": 2
          }
         },
         "mode": "markers",
         "name": "Feasible Trial",
         "showlegend": false,
         "type": "scatter",
         "x": [
          5,
          9,
          5,
          5,
          9,
          5,
          6,
          8,
          10,
          6,
          10,
          10,
          8,
          9,
          9,
          8,
          7,
          8,
          7,
          7,
          4,
          8,
          7,
          8,
          6
         ],
         "xaxis": "x26",
         "y": [
          0.03045064589680613,
          0.043161464201364984,
          0.02959456157743655,
          0.0041969675398673524,
          0.050876045024910645,
          0.03239941582014418,
          0.0016205622653806687,
          0.036647759430624025,
          0.01939312273281176,
          0.001976630674792773,
          0.009153096511780052,
          0.09531511189138718,
          0.00893324050435845,
          0.0927701509590474,
          0.09622085005287367,
          0.07884554109070592,
          0.014942615940739881,
          0.0567243019623693,
          0.06186207490162208,
          0.005071564130028977,
          0.056892488308269686,
          0.06005764678809379,
          0.020247398950067306,
          0.06795577223035759,
          0.06298725338758546
         ],
         "yaxis": "y26"
        },
        {
         "colorbar": {
          "title": {
           "text": "Objective Value"
          }
         },
         "colorscale": [
          [
           0,
           "rgb(247,251,255)"
          ],
          [
           0.125,
           "rgb(222,235,247)"
          ],
          [
           0.25,
           "rgb(198,219,239)"
          ],
          [
           0.375,
           "rgb(158,202,225)"
          ],
          [
           0.5,
           "rgb(107,174,214)"
          ],
          [
           0.625,
           "rgb(66,146,198)"
          ],
          [
           0.75,
           "rgb(33,113,181)"
          ],
          [
           0.875,
           "rgb(8,81,156)"
          ],
          [
           1,
           "rgb(8,48,107)"
          ]
         ],
         "connectgaps": true,
         "contours": {
          "coloring": "heatmap"
         },
         "hoverinfo": "none",
         "line": {
          "smoothing": 1.3
         },
         "reversescale": false,
         "showscale": false,
         "type": "contour",
         "x": [
          3.7,
          4,
          5,
          6,
          7,
          8,
          9,
          10,
          10.3
         ],
         "xaxis": "x32",
         "y": [
          0.0008851314267292528,
          0.0013679281765936408,
          0.009413375418335807,
          0.01031359388995681,
          0.010314680895799842,
          0.03302723763506745,
          0.035959616841470365,
          0.04187534676784171,
          0.08276447921795416,
          0.09982091719818298,
          0.11786015045616766,
          0.1197929964019686,
          0.22722430844635144,
          0.22980683750505768,
          0.36540570800441063,
          0.42645674510971915,
          0.6080287359985996,
          0.8114076476999805,
          0.9524576740419733,
          1.1441130526291785,
          1.2811117864609427,
          1.4655627609873096,
          2.4953193797068507,
          6.045293056544891,
          7.858371016947948,
          8.263689408320012,
          12.771135723912245
         ],
         "yaxis": "y32",
         "z": [
          [
           null,
           null,
           null,
           null,
           null,
           null,
           null,
           null,
           null
          ],
          [
           null,
           null,
           null,
           null,
           null,
           null,
           null,
           0.8748311055725484,
           null
          ],
          [
           null,
           0.8753041148284513,
           null,
           null,
           null,
           null,
           null,
           null,
           null
          ],
          [
           null,
           null,
           null,
           null,
           null,
           0.8749787310245623,
           null,
           null,
           null
          ],
          [
           null,
           null,
           0.8757704989752587,
           null,
           null,
           null,
           null,
           null,
           null
          ],
          [
           null,
           null,
           null,
           null,
           null,
           null,
           0.8760055874765106,
           null,
           null
          ],
          [
           null,
           null,
           null,
           0.8507227887474659,
           null,
           null,
           null,
           null,
           null
          ],
          [
           null,
           null,
           null,
           null,
           null,
           null,
           0.8760698594045511,
           null,
           null
          ],
          [
           null,
           null,
           null,
           null,
           null,
           null,
           0.8764232168543427,
           null,
           null
          ],
          [
           null,
           null,
           null,
           null,
           null,
           0.876704415403992,
           null,
           null,
           null
          ],
          [
           null,
           null,
           null,
           0.876715321987214,
           null,
           null,
           null,
           null,
           null
          ],
          [
           null,
           null,
           null,
           null,
           null,
           0.8767685412980705,
           null,
           null,
           null
          ],
          [
           null,
           null,
           0.8631521704377709,
           null,
           null,
           null,
           null,
           null,
           null
          ],
          [
           null,
           null,
           null,
           null,
           0.8740693145070131,
           null,
           null,
           null,
           null
          ],
          [
           null,
           null,
           null,
           null,
           null,
           0.8760279130750771,
           null,
           null,
           null
          ],
          [
           null,
           null,
           null,
           null,
           0.8697271527631747,
           null,
           null,
           null,
           null
          ],
          [
           null,
           null,
           null,
           null,
           0.8754092963148761,
           null,
           null,
           null,
           null
          ],
          [
           null,
           null,
           null,
           null,
           0.877074744223945,
           null,
           null,
           null,
           null
          ],
          [
           null,
           null,
           null,
           null,
           null,
           0.8765577987945103,
           null,
           null,
           null
          ],
          [
           null,
           null,
           0.8723895034398698,
           null,
           null,
           null,
           null,
           null,
           null
          ],
          [
           null,
           null,
           null,
           null,
           null,
           null,
           0.876375921549484,
           null,
           null
          ],
          [
           null,
           null,
           null,
           null,
           null,
           null,
           null,
           0.8758808907573346,
           null
          ],
          [
           null,
           null,
           null,
           null,
           null,
           0.8764521852471732,
           null,
           null,
           null
          ],
          [
           null,
           null,
           null,
           null,
           null,
           null,
           null,
           0.8762683271757736,
           null
          ],
          [
           null,
           null,
           0.8731554520958047,
           null,
           null,
           null,
           null,
           null,
           null
          ],
          [
           null,
           null,
           null,
           0.8468994256985938,
           null,
           null,
           null,
           null,
           null
          ],
          [
           null,
           null,
           null,
           null,
           null,
           null,
           null,
           null,
           null
          ]
         ]
        },
        {
         "marker": {
          "color": "black",
          "line": {
           "color": "Gray",
           "width": 2
          }
         },
         "mode": "markers",
         "name": "Feasible Trial",
         "showlegend": false,
         "type": "scatter",
         "x": [
          5,
          9,
          5,
          5,
          9,
          5,
          6,
          8,
          10,
          6,
          10,
          10,
          8,
          9,
          9,
          8,
          7,
          8,
          7,
          7,
          4,
          8,
          7,
          8,
          6
         ],
         "xaxis": "x32",
         "y": [
          7.858371016947948,
          0.03302723763506745,
          1.1441130526291785,
          0.22722430844635144,
          0.04187534676784171,
          0.010314680895799842,
          0.035959616841470365,
          0.36540570800441063,
          6.045293056544891,
          8.263689408320012,
          0.0013679281765936408,
          1.4655627609873096,
          0.01031359388995681,
          0.08276447921795416,
          1.2811117864609427,
          0.9524576740419733,
          0.22980683750505768,
          0.09982091719818298,
          0.8114076476999805,
          0.42645674510971915,
          0.009413375418335807,
          2.4953193797068507,
          0.6080287359985996,
          0.1197929964019686,
          0.11786015045616766
         ],
         "yaxis": "y32"
        },
        {
         "colorbar": {
          "title": {
           "text": "Objective Value"
          }
         },
         "colorscale": [
          [
           0,
           "rgb(247,251,255)"
          ],
          [
           0.125,
           "rgb(222,235,247)"
          ],
          [
           0.25,
           "rgb(198,219,239)"
          ],
          [
           0.375,
           "rgb(158,202,225)"
          ],
          [
           0.5,
           "rgb(107,174,214)"
          ],
          [
           0.625,
           "rgb(66,146,198)"
          ],
          [
           0.75,
           "rgb(33,113,181)"
          ],
          [
           0.875,
           "rgb(8,81,156)"
          ],
          [
           1,
           "rgb(8,48,107)"
          ]
         ],
         "connectgaps": true,
         "contours": {
          "coloring": "heatmap"
         },
         "hoverinfo": "none",
         "line": {
          "smoothing": 1.3
         },
         "reversescale": false,
         "showscale": false,
         "type": "contour",
         "x": [
          913.85,
          1010,
          1219,
          1245,
          1438,
          1498,
          1551,
          1635,
          1678,
          1799,
          1848,
          1850,
          1904,
          1996,
          2073,
          2090,
          2140,
          2143,
          2253,
          2272,
          2347,
          2447,
          2623,
          2649,
          2836,
          2933,
          3029.15
         ],
         "xaxis": "x3",
         "y": [
          -0.027717630427146603,
          0.021096883444261805,
          0.035468916866414846,
          0.158079070738712,
          0.1653785653404436,
          0.1986379345977377,
          0.27691147205594535,
          0.35160437621301655,
          0.4453860170068221,
          0.4721681327747337,
          0.4928286227752857,
          0.6152852017964116,
          0.616577581296886,
          0.6313988380641429,
          0.6604240639153958,
          0.7172642330570739,
          0.7476859490094927,
          0.7719334284189111,
          0.7863960495937629,
          0.8545589749361152,
          0.8830218322040628,
          0.9311824416361173,
          0.946067571401495,
          0.970962086590466,
          0.9763015247159273,
          0.9973871608724298,
          1.0462016747438383
         ],
         "yaxis": "y3",
         "z": [
          [
           null,
           null,
           null,
           null,
           null,
           null,
           null,
           null,
           null,
           null,
           null,
           null,
           null,
           null,
           null,
           null,
           null,
           null,
           null,
           null,
           null,
           null,
           null,
           null,
           null,
           null,
           null
          ],
          [
           null,
           null,
           null,
           null,
           null,
           null,
           null,
           null,
           null,
           null,
           0.8748311055725484,
           null,
           null,
           null,
           null,
           null,
           null,
           null,
           null,
           null,
           null,
           null,
           null,
           null,
           null,
           null,
           null
          ],
          [
           null,
           null,
           null,
           null,
           null,
           null,
           null,
           null,
           null,
           null,
           null,
           null,
           null,
           null,
           null,
           null,
           null,
           null,
           null,
           null,
           null,
           null,
           null,
           null,
           0.8758808907573346,
           null,
           null
          ],
          [
           null,
           null,
           null,
           null,
           null,
           null,
           null,
           null,
           null,
           null,
           null,
           null,
           null,
           0.8764232168543427,
           null,
           null,
           null,
           null,
           null,
           null,
           null,
           null,
           null,
           null,
           null,
           null,
           null
          ],
          [
           null,
           null,
           null,
           null,
           null,
           null,
           null,
           null,
           null,
           null,
           null,
           null,
           null,
           null,
           null,
           null,
           null,
           null,
           null,
           null,
           null,
           null,
           0.8760698594045511,
           null,
           null,
           null,
           null
          ],
          [
           null,
           0.8723895034398698,
           null,
           null,
           null,
           null,
           null,
           null,
           null,
           null,
           null,
           null,
           null,
           null,
           null,
           null,
           null,
           null,
           null,
           null,
           null,
           null,
           null,
           null,
           null,
           null,
           null
          ],
          [
           null,
           null,
           null,
           null,
           null,
           null,
           null,
           null,
           null,
           null,
           null,
           null,
           null,
           null,
           null,
           null,
           null,
           null,
           null,
           0.8760055874765106,
           null,
           null,
           null,
           null,
           null,
           null,
           null
          ],
          [
           null,
           null,
           null,
           0.8731554520958047,
           null,
           null,
           null,
           null,
           null,
           null,
           null,
           null,
           null,
           null,
           null,
           null,
           null,
           null,
           null,
           null,
           null,
           null,
           null,
           null,
           null,
           null,
           null
          ],
          [
           null,
           null,
           null,
           null,
           null,
           null,
           null,
           null,
           null,
           null,
           null,
           null,
           null,
           null,
           null,
           null,
           null,
           null,
           0.8757704989752587,
           null,
           null,
           null,
           null,
           null,
           null,
           null,
           null
          ],
          [
           null,
           null,
           null,
           null,
           null,
           null,
           null,
           null,
           null,
           null,
           null,
           null,
           null,
           null,
           null,
           null,
           null,
           null,
           null,
           null,
           0.8762683271757736,
           null,
           null,
           null,
           null,
           null,
           null
          ],
          [
           null,
           null,
           null,
           null,
           null,
           null,
           null,
           null,
           null,
           null,
           null,
           null,
           null,
           null,
           null,
           null,
           null,
           null,
           null,
           null,
           null,
           null,
           null,
           0.8760279130750771,
           null,
           null,
           null
          ],
          [
           null,
           null,
           null,
           null,
           null,
           null,
           null,
           0.8740693145070131,
           null,
           null,
           null,
           null,
           null,
           null,
           null,
           null,
           null,
           null,
           null,
           null,
           null,
           null,
           null,
           null,
           null,
           null,
           null
          ],
          [
           null,
           null,
           null,
           null,
           null,
           null,
           null,
           null,
           null,
           null,
           null,
           null,
           0.876375921549484,
           null,
           null,
           null,
           null,
           null,
           null,
           null,
           null,
           null,
           null,
           null,
           null,
           null,
           null
          ],
          [
           null,
           null,
           null,
           null,
           null,
           null,
           null,
           null,
           null,
           null,
           null,
           0.8765577987945103,
           null,
           null,
           null,
           null,
           null,
           null,
           null,
           null,
           null,
           null,
           null,
           null,
           null,
           null,
           null
          ],
          [
           null,
           null,
           null,
           null,
           null,
           null,
           null,
           null,
           null,
           null,
           null,
           null,
           null,
           null,
           null,
           null,
           null,
           null,
           null,
           null,
           null,
           null,
           null,
           null,
           null,
           0.8749787310245623,
           null
          ],
          [
           null,
           null,
           null,
           null,
           0.8767685412980705,
           null,
           null,
           null,
           null,
           null,
           null,
           null,
           null,
           null,
           null,
           null,
           null,
           null,
           null,
           null,
           null,
           null,
           null,
           null,
           null,
           null,
           null
          ],
          [
           null,
           null,
           null,
           null,
           null,
           0.876715321987214,
           null,
           null,
           null,
           null,
           null,
           null,
           null,
           null,
           null,
           null,
           null,
           null,
           null,
           null,
           null,
           null,
           null,
           null,
           null,
           null,
           null
          ],
          [
           null,
           null,
           0.8507227887474659,
           null,
           null,
           null,
           null,
           null,
           null,
           null,
           null,
           null,
           null,
           null,
           null,
           null,
           null,
           null,
           null,
           null,
           null,
           null,
           null,
           null,
           null,
           null,
           null
          ],
          [
           null,
           null,
           null,
           null,
           null,
           null,
           null,
           null,
           null,
           null,
           null,
           null,
           null,
           null,
           null,
           null,
           null,
           null,
           null,
           null,
           null,
           0.8468994256985938,
           null,
           null,
           null,
           null,
           null
          ],
          [
           null,
           null,
           null,
           null,
           null,
           null,
           null,
           null,
           0.8753041148284513,
           null,
           null,
           null,
           null,
           null,
           null,
           null,
           null,
           null,
           null,
           null,
           null,
           null,
           null,
           null,
           null,
           null,
           null
          ],
          [
           null,
           null,
           null,
           null,
           null,
           null,
           null,
           null,
           null,
           0.8754092963148761,
           null,
           null,
           null,
           null,
           null,
           null,
           null,
           null,
           null,
           null,
           null,
           null,
           null,
           null,
           null,
           null,
           null
          ],
          [
           null,
           null,
           null,
           null,
           null,
           null,
           0.8631521704377709,
           null,
           null,
           null,
           null,
           null,
           null,
           null,
           null,
           null,
           null,
           null,
           null,
           null,
           null,
           null,
           null,
           null,
           null,
           null,
           null
          ],
          [
           null,
           null,
           null,
           null,
           null,
           null,
           null,
           null,
           null,
           null,
           null,
           null,
           null,
           null,
           0.876704415403992,
           null,
           null,
           null,
           null,
           null,
           null,
           null,
           null,
           null,
           null,
           null,
           null
          ],
          [
           null,
           null,
           null,
           null,
           null,
           null,
           null,
           null,
           null,
           null,
           null,
           null,
           null,
           null,
           null,
           null,
           null,
           0.8697271527631747,
           null,
           null,
           null,
           null,
           null,
           null,
           null,
           null,
           null
          ],
          [
           null,
           null,
           null,
           null,
           null,
           null,
           null,
           null,
           null,
           null,
           null,
           null,
           null,
           null,
           null,
           null,
           0.877074744223945,
           null,
           null,
           null,
           null,
           null,
           null,
           null,
           null,
           null,
           null
          ],
          [
           null,
           null,
           null,
           null,
           null,
           null,
           null,
           null,
           null,
           null,
           null,
           null,
           null,
           null,
           null,
           0.8764521852471732,
           null,
           null,
           null,
           null,
           null,
           null,
           null,
           null,
           null,
           null,
           null
          ],
          [
           null,
           null,
           null,
           null,
           null,
           null,
           null,
           null,
           null,
           null,
           null,
           null,
           null,
           null,
           null,
           null,
           null,
           null,
           null,
           null,
           null,
           null,
           null,
           null,
           null,
           null,
           null
          ]
         ]
        },
        {
         "marker": {
          "color": "black",
          "line": {
           "color": "Gray",
           "width": 2
          }
         },
         "mode": "markers",
         "name": "Feasible Trial",
         "showlegend": false,
         "type": "scatter",
         "x": [
          1245,
          2272,
          1010,
          1551,
          2623,
          2253,
          1219,
          2649,
          2347,
          2447,
          1848,
          2836,
          2933,
          1996,
          1904,
          1850,
          1635,
          2073,
          2140,
          2143,
          1678,
          2090,
          1799,
          1438,
          1498
         ],
         "xaxis": "x3",
         "y": [
          0.35160437621301655,
          0.27691147205594535,
          0.1986379345977377,
          0.9311824416361173,
          0.1653785653404436,
          0.4453860170068221,
          0.7719334284189111,
          0.4928286227752857,
          0.4721681327747337,
          0.7863960495937629,
          0.021096883444261805,
          0.035468916866414846,
          0.6604240639153958,
          0.158079070738712,
          0.616577581296886,
          0.6313988380641429,
          0.6152852017964116,
          0.946067571401495,
          0.9763015247159273,
          0.970962086590466,
          0.8545589749361152,
          0.9973871608724298,
          0.8830218322040628,
          0.7172642330570739,
          0.7476859490094927
         ],
         "yaxis": "y3"
        },
        {
         "colorbar": {
          "title": {
           "text": "Objective Value"
          }
         },
         "colorscale": [
          [
           0,
           "rgb(247,251,255)"
          ],
          [
           0.125,
           "rgb(222,235,247)"
          ],
          [
           0.25,
           "rgb(198,219,239)"
          ],
          [
           0.375,
           "rgb(158,202,225)"
          ],
          [
           0.5,
           "rgb(107,174,214)"
          ],
          [
           0.625,
           "rgb(66,146,198)"
          ],
          [
           0.75,
           "rgb(33,113,181)"
          ],
          [
           0.875,
           "rgb(8,81,156)"
          ],
          [
           1,
           "rgb(8,48,107)"
          ]
         ],
         "connectgaps": true,
         "contours": {
          "coloring": "heatmap"
         },
         "hoverinfo": "none",
         "line": {
          "smoothing": 1.3
         },
         "reversescale": false,
         "showscale": false,
         "type": "contour",
         "x": [
          913.85,
          1010,
          1219,
          1245,
          1438,
          1498,
          1551,
          1635,
          1678,
          1799,
          1848,
          1850,
          1904,
          1996,
          2073,
          2090,
          2140,
          2143,
          2253,
          2272,
          2347,
          2447,
          2623,
          2649,
          2836,
          2933,
          3029.15
         ],
         "xaxis": "x9",
         "y": [
          3.7,
          4,
          5,
          6,
          7,
          8,
          9,
          10,
          10.3
         ],
         "yaxis": "y9",
         "z": [
          [
           null,
           null,
           null,
           null,
           null,
           null,
           null,
           null,
           null,
           null,
           null,
           null,
           null,
           null,
           null,
           null,
           null,
           null,
           null,
           null,
           null,
           null,
           null,
           null,
           null,
           null,
           null
          ],
          [
           null,
           null,
           null,
           null,
           null,
           null,
           null,
           null,
           0.8753041148284513,
           null,
           null,
           null,
           null,
           null,
           null,
           null,
           null,
           null,
           null,
           null,
           null,
           null,
           null,
           null,
           null,
           null,
           null
          ],
          [
           null,
           0.8723895034398698,
           null,
           0.8731554520958047,
           null,
           null,
           0.8631521704377709,
           null,
           null,
           null,
           null,
           null,
           null,
           null,
           null,
           null,
           null,
           null,
           0.8757704989752587,
           null,
           null,
           null,
           null,
           null,
           null,
           null,
           null
          ],
          [
           null,
           null,
           0.8507227887474659,
           null,
           null,
           0.876715321987214,
           null,
           null,
           null,
           null,
           null,
           null,
           null,
           null,
           null,
           null,
           null,
           null,
           null,
           null,
           null,
           0.8468994256985938,
           null,
           null,
           null,
           null,
           null
          ],
          [
           null,
           null,
           null,
           null,
           null,
           null,
           null,
           0.8740693145070131,
           null,
           0.8754092963148761,
           null,
           null,
           null,
           null,
           null,
           null,
           0.877074744223945,
           0.8697271527631747,
           null,
           null,
           null,
           null,
           null,
           null,
           null,
           null,
           null
          ],
          [
           null,
           null,
           null,
           null,
           0.8767685412980705,
           null,
           null,
           null,
           null,
           null,
           null,
           0.8765577987945103,
           null,
           null,
           0.876704415403992,
           0.8764521852471732,
           null,
           null,
           null,
           null,
           null,
           null,
           null,
           0.8760279130750771,
           null,
           0.8749787310245623,
           null
          ],
          [
           null,
           null,
           null,
           null,
           null,
           null,
           null,
           null,
           null,
           null,
           null,
           null,
           0.876375921549484,
           0.8764232168543427,
           null,
           null,
           null,
           null,
           null,
           0.8760055874765106,
           null,
           null,
           0.8760698594045511,
           null,
           null,
           null,
           null
          ],
          [
           null,
           null,
           null,
           null,
           null,
           null,
           null,
           null,
           null,
           null,
           0.8748311055725484,
           null,
           null,
           null,
           null,
           null,
           null,
           null,
           null,
           null,
           0.8762683271757736,
           null,
           null,
           null,
           0.8758808907573346,
           null,
           null
          ],
          [
           null,
           null,
           null,
           null,
           null,
           null,
           null,
           null,
           null,
           null,
           null,
           null,
           null,
           null,
           null,
           null,
           null,
           null,
           null,
           null,
           null,
           null,
           null,
           null,
           null,
           null,
           null
          ]
         ]
        },
        {
         "marker": {
          "color": "black",
          "line": {
           "color": "Gray",
           "width": 2
          }
         },
         "mode": "markers",
         "name": "Feasible Trial",
         "showlegend": false,
         "type": "scatter",
         "x": [
          1245,
          2272,
          1010,
          1551,
          2623,
          2253,
          1219,
          2649,
          2347,
          2447,
          1848,
          2836,
          2933,
          1996,
          1904,
          1850,
          1635,
          2073,
          2140,
          2143,
          1678,
          2090,
          1799,
          1438,
          1498
         ],
         "xaxis": "x9",
         "y": [
          5,
          9,
          5,
          5,
          9,
          5,
          6,
          8,
          10,
          6,
          10,
          10,
          8,
          9,
          9,
          8,
          7,
          8,
          7,
          7,
          4,
          8,
          7,
          8,
          6
         ],
         "yaxis": "y9"
        },
        {
         "type": "scatter",
         "xaxis": "x15",
         "yaxis": "y15"
        },
        {
         "colorbar": {
          "title": {
           "text": "Objective Value"
          }
         },
         "colorscale": [
          [
           0,
           "rgb(247,251,255)"
          ],
          [
           0.125,
           "rgb(222,235,247)"
          ],
          [
           0.25,
           "rgb(198,219,239)"
          ],
          [
           0.375,
           "rgb(158,202,225)"
          ],
          [
           0.5,
           "rgb(107,174,214)"
          ],
          [
           0.625,
           "rgb(66,146,198)"
          ],
          [
           0.75,
           "rgb(33,113,181)"
          ],
          [
           0.875,
           "rgb(8,81,156)"
          ],
          [
           1,
           "rgb(8,48,107)"
          ]
         ],
         "connectgaps": true,
         "contours": {
          "coloring": "heatmap"
         },
         "hoverinfo": "none",
         "line": {
          "smoothing": 1.3
         },
         "reversescale": false,
         "showscale": false,
         "type": "contour",
         "x": [
          913.85,
          1010,
          1219,
          1245,
          1438,
          1498,
          1551,
          1635,
          1678,
          1799,
          1848,
          1850,
          1904,
          1996,
          2073,
          2090,
          2140,
          2143,
          2253,
          2272,
          2347,
          2447,
          2623,
          2649,
          2836,
          2933,
          3029.15
         ],
         "xaxis": "x21",
         "y": [
          0.0008658406576890277,
          0.0013502205127737278,
          0.005599922125393375,
          0.005686488275845867,
          0.03621653933395622,
          0.050704952348633106,
          0.09723987296980896,
          0.20048521533471292,
          0.271065504382834,
          0.33577980823141684,
          0.5691482062324401,
          0.6438016057012503,
          0.6778200572155763,
          0.9059399944440578,
          1.1807824514396177,
          1.2801137168124583,
          1.598349642864303,
          1.6236863768463325,
          1.956471961188236,
          2.575660179430299,
          2.884566639319308,
          3.1144462200141576,
          3.7141853846566555,
          5.648665444998958,
          6.593822050520771,
          9.766506120440074,
          15.230212146822662
         ],
         "yaxis": "y21",
         "z": [
          [
           null,
           null,
           null,
           null,
           null,
           null,
           null,
           null,
           null,
           null,
           null,
           null,
           null,
           null,
           null,
           null,
           null,
           null,
           null,
           null,
           null,
           null,
           null,
           null,
           null,
           null,
           null
          ],
          [
           null,
           null,
           null,
           null,
           null,
           null,
           null,
           null,
           null,
           null,
           null,
           null,
           null,
           null,
           null,
           null,
           null,
           null,
           null,
           null,
           null,
           null,
           null,
           0.8760279130750771,
           null,
           null,
           null
          ],
          [
           null,
           null,
           null,
           null,
           null,
           null,
           null,
           null,
           null,
           null,
           null,
           null,
           null,
           null,
           null,
           null,
           null,
           null,
           null,
           null,
           null,
           0.8468994256985938,
           null,
           null,
           null,
           null,
           null
          ],
          [
           null,
           null,
           null,
           null,
           null,
           null,
           null,
           null,
           null,
           null,
           null,
           null,
           null,
           null,
           null,
           null,
           null,
           null,
           0.8757704989752587,
           null,
           null,
           null,
           null,
           null,
           null,
           null,
           null
          ],
          [
           null,
           null,
           null,
           null,
           null,
           null,
           null,
           null,
           null,
           null,
           null,
           null,
           null,
           null,
           null,
           null,
           null,
           null,
           null,
           null,
           null,
           null,
           null,
           null,
           null,
           0.8749787310245623,
           null
          ],
          [
           null,
           null,
           null,
           null,
           null,
           null,
           null,
           null,
           null,
           null,
           null,
           null,
           null,
           null,
           null,
           null,
           null,
           null,
           null,
           0.8760055874765106,
           null,
           null,
           null,
           null,
           null,
           null,
           null
          ],
          [
           null,
           null,
           null,
           null,
           null,
           null,
           null,
           null,
           0.8753041148284513,
           null,
           null,
           null,
           null,
           null,
           null,
           null,
           null,
           null,
           null,
           null,
           null,
           null,
           null,
           null,
           null,
           null,
           null
          ],
          [
           null,
           null,
           null,
           null,
           null,
           null,
           null,
           null,
           null,
           null,
           null,
           null,
           null,
           null,
           null,
           null,
           null,
           null,
           null,
           null,
           null,
           null,
           0.8760698594045511,
           null,
           null,
           null,
           null
          ],
          [
           null,
           null,
           0.8507227887474659,
           null,
           null,
           null,
           null,
           null,
           null,
           null,
           null,
           null,
           null,
           null,
           null,
           null,
           null,
           null,
           null,
           null,
           null,
           null,
           null,
           null,
           null,
           null,
           null
          ],
          [
           null,
           null,
           null,
           null,
           null,
           null,
           0.8631521704377709,
           null,
           null,
           null,
           null,
           null,
           null,
           null,
           null,
           null,
           null,
           null,
           null,
           null,
           null,
           null,
           null,
           null,
           null,
           null,
           null
          ],
          [
           null,
           null,
           null,
           null,
           null,
           null,
           null,
           null,
           null,
           null,
           null,
           null,
           null,
           null,
           null,
           0.8764521852471732,
           null,
           null,
           null,
           null,
           null,
           null,
           null,
           null,
           null,
           null,
           null
          ],
          [
           null,
           null,
           null,
           null,
           null,
           0.876715321987214,
           null,
           null,
           null,
           null,
           null,
           null,
           null,
           null,
           null,
           null,
           null,
           null,
           null,
           null,
           null,
           null,
           null,
           null,
           null,
           null,
           null
          ],
          [
           null,
           null,
           null,
           null,
           null,
           null,
           null,
           0.8740693145070131,
           null,
           null,
           null,
           null,
           null,
           null,
           null,
           null,
           null,
           null,
           null,
           null,
           null,
           null,
           null,
           null,
           null,
           null,
           null
          ],
          [
           null,
           null,
           null,
           null,
           0.8767685412980705,
           null,
           null,
           null,
           null,
           null,
           null,
           null,
           null,
           null,
           null,
           null,
           null,
           null,
           null,
           null,
           null,
           null,
           null,
           null,
           null,
           null,
           null
          ],
          [
           null,
           null,
           null,
           null,
           null,
           null,
           null,
           null,
           null,
           null,
           null,
           null,
           null,
           null,
           null,
           null,
           null,
           null,
           null,
           null,
           null,
           null,
           null,
           null,
           0.8758808907573346,
           null,
           null
          ],
          [
           null,
           null,
           null,
           null,
           null,
           null,
           null,
           null,
           null,
           null,
           null,
           0.8765577987945103,
           null,
           null,
           null,
           null,
           null,
           null,
           null,
           null,
           null,
           null,
           null,
           null,
           null,
           null,
           null
          ],
          [
           null,
           null,
           null,
           null,
           null,
           null,
           null,
           null,
           null,
           null,
           null,
           null,
           null,
           0.8764232168543427,
           null,
           null,
           null,
           null,
           null,
           null,
           null,
           null,
           null,
           null,
           null,
           null,
           null
          ],
          [
           null,
           null,
           null,
           0.8731554520958047,
           null,
           null,
           null,
           null,
           null,
           null,
           null,
           null,
           null,
           null,
           null,
           null,
           null,
           null,
           null,
           null,
           null,
           null,
           null,
           null,
           null,
           null,
           null
          ],
          [
           null,
           null,
           null,
           null,
           null,
           null,
           null,
           null,
           null,
           null,
           null,
           null,
           0.876375921549484,
           null,
           null,
           null,
           null,
           null,
           null,
           null,
           null,
           null,
           null,
           null,
           null,
           null,
           null
          ],
          [
           null,
           null,
           null,
           null,
           null,
           null,
           null,
           null,
           null,
           null,
           null,
           null,
           null,
           null,
           0.876704415403992,
           null,
           null,
           null,
           null,
           null,
           null,
           null,
           null,
           null,
           null,
           null,
           null
          ],
          [
           null,
           null,
           null,
           null,
           null,
           null,
           null,
           null,
           null,
           0.8754092963148761,
           null,
           null,
           null,
           null,
           null,
           null,
           null,
           null,
           null,
           null,
           null,
           null,
           null,
           null,
           null,
           null,
           null
          ],
          [
           null,
           null,
           null,
           null,
           null,
           null,
           null,
           null,
           null,
           null,
           null,
           null,
           null,
           null,
           null,
           null,
           0.877074744223945,
           null,
           null,
           null,
           null,
           null,
           null,
           null,
           null,
           null,
           null
          ],
          [
           null,
           null,
           null,
           null,
           null,
           null,
           null,
           null,
           null,
           null,
           null,
           null,
           null,
           null,
           null,
           null,
           null,
           0.8697271527631747,
           null,
           null,
           null,
           null,
           null,
           null,
           null,
           null,
           null
          ],
          [
           null,
           null,
           null,
           null,
           null,
           null,
           null,
           null,
           null,
           null,
           null,
           null,
           null,
           null,
           null,
           null,
           null,
           null,
           null,
           null,
           0.8762683271757736,
           null,
           null,
           null,
           null,
           null,
           null
          ],
          [
           null,
           0.8723895034398698,
           null,
           null,
           null,
           null,
           null,
           null,
           null,
           null,
           null,
           null,
           null,
           null,
           null,
           null,
           null,
           null,
           null,
           null,
           null,
           null,
           null,
           null,
           null,
           null,
           null
          ],
          [
           null,
           null,
           null,
           null,
           null,
           null,
           null,
           null,
           null,
           null,
           0.8748311055725484,
           null,
           null,
           null,
           null,
           null,
           null,
           null,
           null,
           null,
           null,
           null,
           null,
           null,
           null,
           null,
           null
          ],
          [
           null,
           null,
           null,
           null,
           null,
           null,
           null,
           null,
           null,
           null,
           null,
           null,
           null,
           null,
           null,
           null,
           null,
           null,
           null,
           null,
           null,
           null,
           null,
           null,
           null,
           null,
           null
          ]
         ]
        },
        {
         "marker": {
          "color": "black",
          "line": {
           "color": "Gray",
           "width": 2
          }
         },
         "mode": "markers",
         "name": "Feasible Trial",
         "showlegend": false,
         "type": "scatter",
         "x": [
          1245,
          2272,
          1010,
          1551,
          2623,
          2253,
          1219,
          2649,
          2347,
          2447,
          1848,
          2836,
          2933,
          1996,
          1904,
          1850,
          1635,
          2073,
          2140,
          2143,
          1678,
          2090,
          1799,
          1438,
          1498
         ],
         "xaxis": "x21",
         "y": [
          1.6236863768463325,
          0.050704952348633106,
          6.593822050520771,
          0.33577980823141684,
          0.20048521533471292,
          0.005686488275845867,
          0.271065504382834,
          0.0013502205127737278,
          5.648665444998958,
          0.005599922125393375,
          9.766506120440074,
          1.1807824514396177,
          0.03621653933395622,
          1.598349642864303,
          1.956471961188236,
          1.2801137168124583,
          0.6778200572155763,
          2.575660179430299,
          3.1144462200141576,
          3.7141853846566555,
          0.09723987296980896,
          0.5691482062324401,
          2.884566639319308,
          0.9059399944440578,
          0.6438016057012503
         ],
         "yaxis": "y21"
        },
        {
         "colorbar": {
          "title": {
           "text": "Objective Value"
          }
         },
         "colorscale": [
          [
           0,
           "rgb(247,251,255)"
          ],
          [
           0.125,
           "rgb(222,235,247)"
          ],
          [
           0.25,
           "rgb(198,219,239)"
          ],
          [
           0.375,
           "rgb(158,202,225)"
          ],
          [
           0.5,
           "rgb(107,174,214)"
          ],
          [
           0.625,
           "rgb(66,146,198)"
          ],
          [
           0.75,
           "rgb(33,113,181)"
          ],
          [
           0.875,
           "rgb(8,81,156)"
          ],
          [
           1,
           "rgb(8,48,107)"
          ]
         ],
         "connectgaps": true,
         "contours": {
          "coloring": "heatmap"
         },
         "hoverinfo": "none",
         "line": {
          "smoothing": 1.3
         },
         "reversescale": false,
         "showscale": false,
         "type": "contour",
         "x": [
          913.85,
          1010,
          1219,
          1245,
          1438,
          1498,
          1551,
          1635,
          1678,
          1799,
          1848,
          1850,
          1904,
          1996,
          2073,
          2090,
          2140,
          2143,
          2253,
          2272,
          2347,
          2447,
          2623,
          2649,
          2836,
          2933,
          3029.15
         ],
         "xaxis": "x27",
         "y": [
          0.0013212516687476582,
          0.0016205622653806687,
          0.001976630674792773,
          0.0041969675398673524,
          0.005071564130028977,
          0.00893324050435845,
          0.009153096511780052,
          0.014942615940739881,
          0.01939312273281176,
          0.020247398950067306,
          0.02959456157743655,
          0.03045064589680613,
          0.03239941582014418,
          0.036647759430624025,
          0.043161464201364984,
          0.050876045024910645,
          0.0567243019623693,
          0.056892488308269686,
          0.06005764678809379,
          0.06186207490162208,
          0.06298725338758546,
          0.06795577223035759,
          0.07884554109070592,
          0.0927701509590474,
          0.09531511189138718,
          0.09622085005287367,
          0.1180183022106135
         ],
         "yaxis": "y27",
         "z": [
          [
           null,
           null,
           null,
           null,
           null,
           null,
           null,
           null,
           null,
           null,
           null,
           null,
           null,
           null,
           null,
           null,
           null,
           null,
           null,
           null,
           null,
           null,
           null,
           null,
           null,
           null,
           null
          ],
          [
           null,
           null,
           0.8507227887474659,
           null,
           null,
           null,
           null,
           null,
           null,
           null,
           null,
           null,
           null,
           null,
           null,
           null,
           null,
           null,
           null,
           null,
           null,
           null,
           null,
           null,
           null,
           null,
           null
          ],
          [
           null,
           null,
           null,
           null,
           null,
           null,
           null,
           null,
           null,
           null,
           null,
           null,
           null,
           null,
           null,
           null,
           null,
           null,
           null,
           null,
           null,
           0.8468994256985938,
           null,
           null,
           null,
           null,
           null
          ],
          [
           null,
           null,
           null,
           null,
           null,
           null,
           0.8631521704377709,
           null,
           null,
           null,
           null,
           null,
           null,
           null,
           null,
           null,
           null,
           null,
           null,
           null,
           null,
           null,
           null,
           null,
           null,
           null,
           null
          ],
          [
           null,
           null,
           null,
           null,
           null,
           null,
           null,
           null,
           null,
           null,
           null,
           null,
           null,
           null,
           null,
           null,
           null,
           0.8697271527631747,
           null,
           null,
           null,
           null,
           null,
           null,
           null,
           null,
           null
          ],
          [
           null,
           null,
           null,
           null,
           null,
           null,
           null,
           null,
           null,
           null,
           null,
           null,
           null,
           null,
           null,
           null,
           null,
           null,
           null,
           null,
           null,
           null,
           null,
           null,
           null,
           0.8749787310245623,
           null
          ],
          [
           null,
           null,
           null,
           null,
           null,
           null,
           null,
           null,
           null,
           null,
           0.8748311055725484,
           null,
           null,
           null,
           null,
           null,
           null,
           null,
           null,
           null,
           null,
           null,
           null,
           null,
           null,
           null,
           null
          ],
          [
           null,
           null,
           null,
           null,
           null,
           null,
           null,
           0.8740693145070131,
           null,
           null,
           null,
           null,
           null,
           null,
           null,
           null,
           null,
           null,
           null,
           null,
           null,
           null,
           null,
           null,
           null,
           null,
           null
          ],
          [
           null,
           null,
           null,
           null,
           null,
           null,
           null,
           null,
           null,
           null,
           null,
           null,
           null,
           null,
           null,
           null,
           null,
           null,
           null,
           null,
           0.8762683271757736,
           null,
           null,
           null,
           null,
           null,
           null
          ],
          [
           null,
           null,
           null,
           null,
           null,
           null,
           null,
           null,
           null,
           0.8754092963148761,
           null,
           null,
           null,
           null,
           null,
           null,
           null,
           null,
           null,
           null,
           null,
           null,
           null,
           null,
           null,
           null,
           null
          ],
          [
           null,
           0.8723895034398698,
           null,
           null,
           null,
           null,
           null,
           null,
           null,
           null,
           null,
           null,
           null,
           null,
           null,
           null,
           null,
           null,
           null,
           null,
           null,
           null,
           null,
           null,
           null,
           null,
           null
          ],
          [
           null,
           null,
           null,
           0.8731554520958047,
           null,
           null,
           null,
           null,
           null,
           null,
           null,
           null,
           null,
           null,
           null,
           null,
           null,
           null,
           null,
           null,
           null,
           null,
           null,
           null,
           null,
           null,
           null
          ],
          [
           null,
           null,
           null,
           null,
           null,
           null,
           null,
           null,
           null,
           null,
           null,
           null,
           null,
           null,
           null,
           null,
           null,
           null,
           0.8757704989752587,
           null,
           null,
           null,
           null,
           null,
           null,
           null,
           null
          ],
          [
           null,
           null,
           null,
           null,
           null,
           null,
           null,
           null,
           null,
           null,
           null,
           null,
           null,
           null,
           null,
           null,
           null,
           null,
           null,
           null,
           null,
           null,
           null,
           0.8760279130750771,
           null,
           null,
           null
          ],
          [
           null,
           null,
           null,
           null,
           null,
           null,
           null,
           null,
           null,
           null,
           null,
           null,
           null,
           null,
           null,
           null,
           null,
           null,
           null,
           0.8760055874765106,
           null,
           null,
           null,
           null,
           null,
           null,
           null
          ],
          [
           null,
           null,
           null,
           null,
           null,
           null,
           null,
           null,
           null,
           null,
           null,
           null,
           null,
           null,
           null,
           null,
           null,
           null,
           null,
           null,
           null,
           null,
           0.8760698594045511,
           null,
           null,
           null,
           null
          ],
          [
           null,
           null,
           null,
           null,
           null,
           null,
           null,
           null,
           null,
           null,
           null,
           null,
           null,
           null,
           0.876704415403992,
           null,
           null,
           null,
           null,
           null,
           null,
           null,
           null,
           null,
           null,
           null,
           null
          ],
          [
           null,
           null,
           null,
           null,
           null,
           null,
           null,
           null,
           0.8753041148284513,
           null,
           null,
           null,
           null,
           null,
           null,
           null,
           null,
           null,
           null,
           null,
           null,
           null,
           null,
           null,
           null,
           null,
           null
          ],
          [
           null,
           null,
           null,
           null,
           null,
           null,
           null,
           null,
           null,
           null,
           null,
           null,
           null,
           null,
           null,
           0.8764521852471732,
           null,
           null,
           null,
           null,
           null,
           null,
           null,
           null,
           null,
           null,
           null
          ],
          [
           null,
           null,
           null,
           null,
           null,
           null,
           null,
           null,
           null,
           null,
           null,
           null,
           null,
           null,
           null,
           null,
           0.877074744223945,
           null,
           null,
           null,
           null,
           null,
           null,
           null,
           null,
           null,
           null
          ],
          [
           null,
           null,
           null,
           null,
           null,
           0.876715321987214,
           null,
           null,
           null,
           null,
           null,
           null,
           null,
           null,
           null,
           null,
           null,
           null,
           null,
           null,
           null,
           null,
           null,
           null,
           null,
           null,
           null
          ],
          [
           null,
           null,
           null,
           null,
           0.8767685412980705,
           null,
           null,
           null,
           null,
           null,
           null,
           null,
           null,
           null,
           null,
           null,
           null,
           null,
           null,
           null,
           null,
           null,
           null,
           null,
           null,
           null,
           null
          ],
          [
           null,
           null,
           null,
           null,
           null,
           null,
           null,
           null,
           null,
           null,
           null,
           0.8765577987945103,
           null,
           null,
           null,
           null,
           null,
           null,
           null,
           null,
           null,
           null,
           null,
           null,
           null,
           null,
           null
          ],
          [
           null,
           null,
           null,
           null,
           null,
           null,
           null,
           null,
           null,
           null,
           null,
           null,
           null,
           0.8764232168543427,
           null,
           null,
           null,
           null,
           null,
           null,
           null,
           null,
           null,
           null,
           null,
           null,
           null
          ],
          [
           null,
           null,
           null,
           null,
           null,
           null,
           null,
           null,
           null,
           null,
           null,
           null,
           null,
           null,
           null,
           null,
           null,
           null,
           null,
           null,
           null,
           null,
           null,
           null,
           0.8758808907573346,
           null,
           null
          ],
          [
           null,
           null,
           null,
           null,
           null,
           null,
           null,
           null,
           null,
           null,
           null,
           null,
           0.876375921549484,
           null,
           null,
           null,
           null,
           null,
           null,
           null,
           null,
           null,
           null,
           null,
           null,
           null,
           null
          ],
          [
           null,
           null,
           null,
           null,
           null,
           null,
           null,
           null,
           null,
           null,
           null,
           null,
           null,
           null,
           null,
           null,
           null,
           null,
           null,
           null,
           null,
           null,
           null,
           null,
           null,
           null,
           null
          ]
         ]
        },
        {
         "marker": {
          "color": "black",
          "line": {
           "color": "Gray",
           "width": 2
          }
         },
         "mode": "markers",
         "name": "Feasible Trial",
         "showlegend": false,
         "type": "scatter",
         "x": [
          1245,
          2272,
          1010,
          1551,
          2623,
          2253,
          1219,
          2649,
          2347,
          2447,
          1848,
          2836,
          2933,
          1996,
          1904,
          1850,
          1635,
          2073,
          2140,
          2143,
          1678,
          2090,
          1799,
          1438,
          1498
         ],
         "xaxis": "x27",
         "y": [
          0.03045064589680613,
          0.043161464201364984,
          0.02959456157743655,
          0.0041969675398673524,
          0.050876045024910645,
          0.03239941582014418,
          0.0016205622653806687,
          0.036647759430624025,
          0.01939312273281176,
          0.001976630674792773,
          0.009153096511780052,
          0.09531511189138718,
          0.00893324050435845,
          0.0927701509590474,
          0.09622085005287367,
          0.07884554109070592,
          0.014942615940739881,
          0.0567243019623693,
          0.06186207490162208,
          0.005071564130028977,
          0.056892488308269686,
          0.06005764678809379,
          0.020247398950067306,
          0.06795577223035759,
          0.06298725338758546
         ],
         "yaxis": "y27"
        },
        {
         "colorbar": {
          "title": {
           "text": "Objective Value"
          }
         },
         "colorscale": [
          [
           0,
           "rgb(247,251,255)"
          ],
          [
           0.125,
           "rgb(222,235,247)"
          ],
          [
           0.25,
           "rgb(198,219,239)"
          ],
          [
           0.375,
           "rgb(158,202,225)"
          ],
          [
           0.5,
           "rgb(107,174,214)"
          ],
          [
           0.625,
           "rgb(66,146,198)"
          ],
          [
           0.75,
           "rgb(33,113,181)"
          ],
          [
           0.875,
           "rgb(8,81,156)"
          ],
          [
           1,
           "rgb(8,48,107)"
          ]
         ],
         "connectgaps": true,
         "contours": {
          "coloring": "heatmap"
         },
         "hoverinfo": "none",
         "line": {
          "smoothing": 1.3
         },
         "reversescale": false,
         "showscale": false,
         "type": "contour",
         "x": [
          913.85,
          1010,
          1219,
          1245,
          1438,
          1498,
          1551,
          1635,
          1678,
          1799,
          1848,
          1850,
          1904,
          1996,
          2073,
          2090,
          2140,
          2143,
          2253,
          2272,
          2347,
          2447,
          2623,
          2649,
          2836,
          2933,
          3029.15
         ],
         "xaxis": "x33",
         "y": [
          0.0008851314267292528,
          0.0013679281765936408,
          0.009413375418335807,
          0.01031359388995681,
          0.010314680895799842,
          0.03302723763506745,
          0.035959616841470365,
          0.04187534676784171,
          0.08276447921795416,
          0.09982091719818298,
          0.11786015045616766,
          0.1197929964019686,
          0.22722430844635144,
          0.22980683750505768,
          0.36540570800441063,
          0.42645674510971915,
          0.6080287359985996,
          0.8114076476999805,
          0.9524576740419733,
          1.1441130526291785,
          1.2811117864609427,
          1.4655627609873096,
          2.4953193797068507,
          6.045293056544891,
          7.858371016947948,
          8.263689408320012,
          12.771135723912245
         ],
         "yaxis": "y33",
         "z": [
          [
           null,
           null,
           null,
           null,
           null,
           null,
           null,
           null,
           null,
           null,
           null,
           null,
           null,
           null,
           null,
           null,
           null,
           null,
           null,
           null,
           null,
           null,
           null,
           null,
           null,
           null,
           null
          ],
          [
           null,
           null,
           null,
           null,
           null,
           null,
           null,
           null,
           null,
           null,
           0.8748311055725484,
           null,
           null,
           null,
           null,
           null,
           null,
           null,
           null,
           null,
           null,
           null,
           null,
           null,
           null,
           null,
           null
          ],
          [
           null,
           null,
           null,
           null,
           null,
           null,
           null,
           null,
           0.8753041148284513,
           null,
           null,
           null,
           null,
           null,
           null,
           null,
           null,
           null,
           null,
           null,
           null,
           null,
           null,
           null,
           null,
           null,
           null
          ],
          [
           null,
           null,
           null,
           null,
           null,
           null,
           null,
           null,
           null,
           null,
           null,
           null,
           null,
           null,
           null,
           null,
           null,
           null,
           null,
           null,
           null,
           null,
           null,
           null,
           null,
           0.8749787310245623,
           null
          ],
          [
           null,
           null,
           null,
           null,
           null,
           null,
           null,
           null,
           null,
           null,
           null,
           null,
           null,
           null,
           null,
           null,
           null,
           null,
           0.8757704989752587,
           null,
           null,
           null,
           null,
           null,
           null,
           null,
           null
          ],
          [
           null,
           null,
           null,
           null,
           null,
           null,
           null,
           null,
           null,
           null,
           null,
           null,
           null,
           null,
           null,
           null,
           null,
           null,
           null,
           0.8760055874765106,
           null,
           null,
           null,
           null,
           null,
           null,
           null
          ],
          [
           null,
           null,
           0.8507227887474659,
           null,
           null,
           null,
           null,
           null,
           null,
           null,
           null,
           null,
           null,
           null,
           null,
           null,
           null,
           null,
           null,
           null,
           null,
           null,
           null,
           null,
           null,
           null,
           null
          ],
          [
           null,
           null,
           null,
           null,
           null,
           null,
           null,
           null,
           null,
           null,
           null,
           null,
           null,
           null,
           null,
           null,
           null,
           null,
           null,
           null,
           null,
           null,
           0.8760698594045511,
           null,
           null,
           null,
           null
          ],
          [
           null,
           null,
           null,
           null,
           null,
           null,
           null,
           null,
           null,
           null,
           null,
           null,
           null,
           0.8764232168543427,
           null,
           null,
           null,
           null,
           null,
           null,
           null,
           null,
           null,
           null,
           null,
           null,
           null
          ],
          [
           null,
           null,
           null,
           null,
           null,
           null,
           null,
           null,
           null,
           null,
           null,
           null,
           null,
           null,
           0.876704415403992,
           null,
           null,
           null,
           null,
           null,
           null,
           null,
           null,
           null,
           null,
           null,
           null
          ],
          [
           null,
           null,
           null,
           null,
           null,
           0.876715321987214,
           null,
           null,
           null,
           null,
           null,
           null,
           null,
           null,
           null,
           null,
           null,
           null,
           null,
           null,
           null,
           null,
           null,
           null,
           null,
           null,
           null
          ],
          [
           null,
           null,
           null,
           null,
           0.8767685412980705,
           null,
           null,
           null,
           null,
           null,
           null,
           null,
           null,
           null,
           null,
           null,
           null,
           null,
           null,
           null,
           null,
           null,
           null,
           null,
           null,
           null,
           null
          ],
          [
           null,
           null,
           null,
           null,
           null,
           null,
           0.8631521704377709,
           null,
           null,
           null,
           null,
           null,
           null,
           null,
           null,
           null,
           null,
           null,
           null,
           null,
           null,
           null,
           null,
           null,
           null,
           null,
           null
          ],
          [
           null,
           null,
           null,
           null,
           null,
           null,
           null,
           0.8740693145070131,
           null,
           null,
           null,
           null,
           null,
           null,
           null,
           null,
           null,
           null,
           null,
           null,
           null,
           null,
           null,
           null,
           null,
           null,
           null
          ],
          [
           null,
           null,
           null,
           null,
           null,
           null,
           null,
           null,
           null,
           null,
           null,
           null,
           null,
           null,
           null,
           null,
           null,
           null,
           null,
           null,
           null,
           null,
           null,
           0.8760279130750771,
           null,
           null,
           null
          ],
          [
           null,
           null,
           null,
           null,
           null,
           null,
           null,
           null,
           null,
           null,
           null,
           null,
           null,
           null,
           null,
           null,
           null,
           0.8697271527631747,
           null,
           null,
           null,
           null,
           null,
           null,
           null,
           null,
           null
          ],
          [
           null,
           null,
           null,
           null,
           null,
           null,
           null,
           null,
           null,
           0.8754092963148761,
           null,
           null,
           null,
           null,
           null,
           null,
           null,
           null,
           null,
           null,
           null,
           null,
           null,
           null,
           null,
           null,
           null
          ],
          [
           null,
           null,
           null,
           null,
           null,
           null,
           null,
           null,
           null,
           null,
           null,
           null,
           null,
           null,
           null,
           null,
           0.877074744223945,
           null,
           null,
           null,
           null,
           null,
           null,
           null,
           null,
           null,
           null
          ],
          [
           null,
           null,
           null,
           null,
           null,
           null,
           null,
           null,
           null,
           null,
           null,
           0.8765577987945103,
           null,
           null,
           null,
           null,
           null,
           null,
           null,
           null,
           null,
           null,
           null,
           null,
           null,
           null,
           null
          ],
          [
           null,
           0.8723895034398698,
           null,
           null,
           null,
           null,
           null,
           null,
           null,
           null,
           null,
           null,
           null,
           null,
           null,
           null,
           null,
           null,
           null,
           null,
           null,
           null,
           null,
           null,
           null,
           null,
           null
          ],
          [
           null,
           null,
           null,
           null,
           null,
           null,
           null,
           null,
           null,
           null,
           null,
           null,
           0.876375921549484,
           null,
           null,
           null,
           null,
           null,
           null,
           null,
           null,
           null,
           null,
           null,
           null,
           null,
           null
          ],
          [
           null,
           null,
           null,
           null,
           null,
           null,
           null,
           null,
           null,
           null,
           null,
           null,
           null,
           null,
           null,
           null,
           null,
           null,
           null,
           null,
           null,
           null,
           null,
           null,
           0.8758808907573346,
           null,
           null
          ],
          [
           null,
           null,
           null,
           null,
           null,
           null,
           null,
           null,
           null,
           null,
           null,
           null,
           null,
           null,
           null,
           0.8764521852471732,
           null,
           null,
           null,
           null,
           null,
           null,
           null,
           null,
           null,
           null,
           null
          ],
          [
           null,
           null,
           null,
           null,
           null,
           null,
           null,
           null,
           null,
           null,
           null,
           null,
           null,
           null,
           null,
           null,
           null,
           null,
           null,
           null,
           0.8762683271757736,
           null,
           null,
           null,
           null,
           null,
           null
          ],
          [
           null,
           null,
           null,
           0.8731554520958047,
           null,
           null,
           null,
           null,
           null,
           null,
           null,
           null,
           null,
           null,
           null,
           null,
           null,
           null,
           null,
           null,
           null,
           null,
           null,
           null,
           null,
           null,
           null
          ],
          [
           null,
           null,
           null,
           null,
           null,
           null,
           null,
           null,
           null,
           null,
           null,
           null,
           null,
           null,
           null,
           null,
           null,
           null,
           null,
           null,
           null,
           0.8468994256985938,
           null,
           null,
           null,
           null,
           null
          ],
          [
           null,
           null,
           null,
           null,
           null,
           null,
           null,
           null,
           null,
           null,
           null,
           null,
           null,
           null,
           null,
           null,
           null,
           null,
           null,
           null,
           null,
           null,
           null,
           null,
           null,
           null,
           null
          ]
         ]
        },
        {
         "marker": {
          "color": "black",
          "line": {
           "color": "Gray",
           "width": 2
          }
         },
         "mode": "markers",
         "name": "Feasible Trial",
         "showlegend": false,
         "type": "scatter",
         "x": [
          1245,
          2272,
          1010,
          1551,
          2623,
          2253,
          1219,
          2649,
          2347,
          2447,
          1848,
          2836,
          2933,
          1996,
          1904,
          1850,
          1635,
          2073,
          2140,
          2143,
          1678,
          2090,
          1799,
          1438,
          1498
         ],
         "xaxis": "x33",
         "y": [
          7.858371016947948,
          0.03302723763506745,
          1.1441130526291785,
          0.22722430844635144,
          0.04187534676784171,
          0.010314680895799842,
          0.035959616841470365,
          0.36540570800441063,
          6.045293056544891,
          8.263689408320012,
          0.0013679281765936408,
          1.4655627609873096,
          0.01031359388995681,
          0.08276447921795416,
          1.2811117864609427,
          0.9524576740419733,
          0.22980683750505768,
          0.09982091719818298,
          0.8114076476999805,
          0.42645674510971915,
          0.009413375418335807,
          2.4953193797068507,
          0.6080287359985996,
          0.1197929964019686,
          0.11786015045616766
         ],
         "yaxis": "y33"
        },
        {
         "colorbar": {
          "title": {
           "text": "Objective Value"
          }
         },
         "colorscale": [
          [
           0,
           "rgb(247,251,255)"
          ],
          [
           0.125,
           "rgb(222,235,247)"
          ],
          [
           0.25,
           "rgb(198,219,239)"
          ],
          [
           0.375,
           "rgb(158,202,225)"
          ],
          [
           0.5,
           "rgb(107,174,214)"
          ],
          [
           0.625,
           "rgb(66,146,198)"
          ],
          [
           0.75,
           "rgb(33,113,181)"
          ],
          [
           0.875,
           "rgb(8,81,156)"
          ],
          [
           1,
           "rgb(8,48,107)"
          ]
         ],
         "connectgaps": true,
         "contours": {
          "coloring": "heatmap"
         },
         "hoverinfo": "none",
         "line": {
          "smoothing": 1.3
         },
         "reversescale": false,
         "showscale": false,
         "type": "contour",
         "x": [
          0.0008658406576890277,
          0.0013502205127737278,
          0.005599922125393375,
          0.005686488275845867,
          0.03621653933395622,
          0.050704952348633106,
          0.09723987296980896,
          0.20048521533471292,
          0.271065504382834,
          0.33577980823141684,
          0.5691482062324401,
          0.6438016057012503,
          0.6778200572155763,
          0.9059399944440578,
          1.1807824514396177,
          1.2801137168124583,
          1.598349642864303,
          1.6236863768463325,
          1.956471961188236,
          2.575660179430299,
          2.884566639319308,
          3.1144462200141576,
          3.7141853846566555,
          5.648665444998958,
          6.593822050520771,
          9.766506120440074,
          15.230212146822662
         ],
         "xaxis": "x4",
         "y": [
          -0.027717630427146603,
          0.021096883444261805,
          0.035468916866414846,
          0.158079070738712,
          0.1653785653404436,
          0.1986379345977377,
          0.27691147205594535,
          0.35160437621301655,
          0.4453860170068221,
          0.4721681327747337,
          0.4928286227752857,
          0.6152852017964116,
          0.616577581296886,
          0.6313988380641429,
          0.6604240639153958,
          0.7172642330570739,
          0.7476859490094927,
          0.7719334284189111,
          0.7863960495937629,
          0.8545589749361152,
          0.8830218322040628,
          0.9311824416361173,
          0.946067571401495,
          0.970962086590466,
          0.9763015247159273,
          0.9973871608724298,
          1.0462016747438383
         ],
         "yaxis": "y4",
         "z": [
          [
           null,
           null,
           null,
           null,
           null,
           null,
           null,
           null,
           null,
           null,
           null,
           null,
           null,
           null,
           null,
           null,
           null,
           null,
           null,
           null,
           null,
           null,
           null,
           null,
           null,
           null,
           null
          ],
          [
           null,
           null,
           null,
           null,
           null,
           null,
           null,
           null,
           null,
           null,
           null,
           null,
           null,
           null,
           null,
           null,
           null,
           null,
           null,
           null,
           null,
           null,
           null,
           null,
           null,
           0.8748311055725484,
           null
          ],
          [
           null,
           null,
           null,
           null,
           null,
           null,
           null,
           null,
           null,
           null,
           null,
           null,
           null,
           null,
           0.8758808907573346,
           null,
           null,
           null,
           null,
           null,
           null,
           null,
           null,
           null,
           null,
           null,
           null
          ],
          [
           null,
           null,
           null,
           null,
           null,
           null,
           null,
           null,
           null,
           null,
           null,
           null,
           null,
           null,
           null,
           null,
           0.8764232168543427,
           null,
           null,
           null,
           null,
           null,
           null,
           null,
           null,
           null,
           null
          ],
          [
           null,
           null,
           null,
           null,
           null,
           null,
           null,
           0.8760698594045511,
           null,
           null,
           null,
           null,
           null,
           null,
           null,
           null,
           null,
           null,
           null,
           null,
           null,
           null,
           null,
           null,
           null,
           null,
           null
          ],
          [
           null,
           null,
           null,
           null,
           null,
           null,
           null,
           null,
           null,
           null,
           null,
           null,
           null,
           null,
           null,
           null,
           null,
           null,
           null,
           null,
           null,
           null,
           null,
           null,
           0.8723895034398698,
           null,
           null
          ],
          [
           null,
           null,
           null,
           null,
           null,
           0.8760055874765106,
           null,
           null,
           null,
           null,
           null,
           null,
           null,
           null,
           null,
           null,
           null,
           null,
           null,
           null,
           null,
           null,
           null,
           null,
           null,
           null,
           null
          ],
          [
           null,
           null,
           null,
           null,
           null,
           null,
           null,
           null,
           null,
           null,
           null,
           null,
           null,
           null,
           null,
           null,
           null,
           0.8731554520958047,
           null,
           null,
           null,
           null,
           null,
           null,
           null,
           null,
           null
          ],
          [
           null,
           null,
           null,
           0.8757704989752587,
           null,
           null,
           null,
           null,
           null,
           null,
           null,
           null,
           null,
           null,
           null,
           null,
           null,
           null,
           null,
           null,
           null,
           null,
           null,
           null,
           null,
           null,
           null
          ],
          [
           null,
           null,
           null,
           null,
           null,
           null,
           null,
           null,
           null,
           null,
           null,
           null,
           null,
           null,
           null,
           null,
           null,
           null,
           null,
           null,
           null,
           null,
           null,
           0.8762683271757736,
           null,
           null,
           null
          ],
          [
           null,
           0.8760279130750771,
           null,
           null,
           null,
           null,
           null,
           null,
           null,
           null,
           null,
           null,
           null,
           null,
           null,
           null,
           null,
           null,
           null,
           null,
           null,
           null,
           null,
           null,
           null,
           null,
           null
          ],
          [
           null,
           null,
           null,
           null,
           null,
           null,
           null,
           null,
           null,
           null,
           null,
           null,
           0.8740693145070131,
           null,
           null,
           null,
           null,
           null,
           null,
           null,
           null,
           null,
           null,
           null,
           null,
           null,
           null
          ],
          [
           null,
           null,
           null,
           null,
           null,
           null,
           null,
           null,
           null,
           null,
           null,
           null,
           null,
           null,
           null,
           null,
           null,
           null,
           0.876375921549484,
           null,
           null,
           null,
           null,
           null,
           null,
           null,
           null
          ],
          [
           null,
           null,
           null,
           null,
           null,
           null,
           null,
           null,
           null,
           null,
           null,
           null,
           null,
           null,
           null,
           0.8765577987945103,
           null,
           null,
           null,
           null,
           null,
           null,
           null,
           null,
           null,
           null,
           null
          ],
          [
           null,
           null,
           null,
           null,
           0.8749787310245623,
           null,
           null,
           null,
           null,
           null,
           null,
           null,
           null,
           null,
           null,
           null,
           null,
           null,
           null,
           null,
           null,
           null,
           null,
           null,
           null,
           null,
           null
          ],
          [
           null,
           null,
           null,
           null,
           null,
           null,
           null,
           null,
           null,
           null,
           null,
           null,
           null,
           0.8767685412980705,
           null,
           null,
           null,
           null,
           null,
           null,
           null,
           null,
           null,
           null,
           null,
           null,
           null
          ],
          [
           null,
           null,
           null,
           null,
           null,
           null,
           null,
           null,
           null,
           null,
           null,
           0.876715321987214,
           null,
           null,
           null,
           null,
           null,
           null,
           null,
           null,
           null,
           null,
           null,
           null,
           null,
           null,
           null
          ],
          [
           null,
           null,
           null,
           null,
           null,
           null,
           null,
           null,
           0.8507227887474659,
           null,
           null,
           null,
           null,
           null,
           null,
           null,
           null,
           null,
           null,
           null,
           null,
           null,
           null,
           null,
           null,
           null,
           null
          ],
          [
           null,
           null,
           0.8468994256985938,
           null,
           null,
           null,
           null,
           null,
           null,
           null,
           null,
           null,
           null,
           null,
           null,
           null,
           null,
           null,
           null,
           null,
           null,
           null,
           null,
           null,
           null,
           null,
           null
          ],
          [
           null,
           null,
           null,
           null,
           null,
           null,
           0.8753041148284513,
           null,
           null,
           null,
           null,
           null,
           null,
           null,
           null,
           null,
           null,
           null,
           null,
           null,
           null,
           null,
           null,
           null,
           null,
           null,
           null
          ],
          [
           null,
           null,
           null,
           null,
           null,
           null,
           null,
           null,
           null,
           null,
           null,
           null,
           null,
           null,
           null,
           null,
           null,
           null,
           null,
           null,
           0.8754092963148761,
           null,
           null,
           null,
           null,
           null,
           null
          ],
          [
           null,
           null,
           null,
           null,
           null,
           null,
           null,
           null,
           null,
           0.8631521704377709,
           null,
           null,
           null,
           null,
           null,
           null,
           null,
           null,
           null,
           null,
           null,
           null,
           null,
           null,
           null,
           null,
           null
          ],
          [
           null,
           null,
           null,
           null,
           null,
           null,
           null,
           null,
           null,
           null,
           null,
           null,
           null,
           null,
           null,
           null,
           null,
           null,
           null,
           0.876704415403992,
           null,
           null,
           null,
           null,
           null,
           null,
           null
          ],
          [
           null,
           null,
           null,
           null,
           null,
           null,
           null,
           null,
           null,
           null,
           null,
           null,
           null,
           null,
           null,
           null,
           null,
           null,
           null,
           null,
           null,
           null,
           0.8697271527631747,
           null,
           null,
           null,
           null
          ],
          [
           null,
           null,
           null,
           null,
           null,
           null,
           null,
           null,
           null,
           null,
           null,
           null,
           null,
           null,
           null,
           null,
           null,
           null,
           null,
           null,
           null,
           0.877074744223945,
           null,
           null,
           null,
           null,
           null
          ],
          [
           null,
           null,
           null,
           null,
           null,
           null,
           null,
           null,
           null,
           null,
           0.8764521852471732,
           null,
           null,
           null,
           null,
           null,
           null,
           null,
           null,
           null,
           null,
           null,
           null,
           null,
           null,
           null,
           null
          ],
          [
           null,
           null,
           null,
           null,
           null,
           null,
           null,
           null,
           null,
           null,
           null,
           null,
           null,
           null,
           null,
           null,
           null,
           null,
           null,
           null,
           null,
           null,
           null,
           null,
           null,
           null,
           null
          ]
         ]
        },
        {
         "marker": {
          "color": "black",
          "line": {
           "color": "Gray",
           "width": 2
          }
         },
         "mode": "markers",
         "name": "Feasible Trial",
         "showlegend": false,
         "type": "scatter",
         "x": [
          1.6236863768463325,
          0.050704952348633106,
          6.593822050520771,
          0.33577980823141684,
          0.20048521533471292,
          0.005686488275845867,
          0.271065504382834,
          0.0013502205127737278,
          5.648665444998958,
          0.005599922125393375,
          9.766506120440074,
          1.1807824514396177,
          0.03621653933395622,
          1.598349642864303,
          1.956471961188236,
          1.2801137168124583,
          0.6778200572155763,
          2.575660179430299,
          3.1144462200141576,
          3.7141853846566555,
          0.09723987296980896,
          0.5691482062324401,
          2.884566639319308,
          0.9059399944440578,
          0.6438016057012503
         ],
         "xaxis": "x4",
         "y": [
          0.35160437621301655,
          0.27691147205594535,
          0.1986379345977377,
          0.9311824416361173,
          0.1653785653404436,
          0.4453860170068221,
          0.7719334284189111,
          0.4928286227752857,
          0.4721681327747337,
          0.7863960495937629,
          0.021096883444261805,
          0.035468916866414846,
          0.6604240639153958,
          0.158079070738712,
          0.616577581296886,
          0.6313988380641429,
          0.6152852017964116,
          0.946067571401495,
          0.9763015247159273,
          0.970962086590466,
          0.8545589749361152,
          0.9973871608724298,
          0.8830218322040628,
          0.7172642330570739,
          0.7476859490094927
         ],
         "yaxis": "y4"
        },
        {
         "colorbar": {
          "title": {
           "text": "Objective Value"
          }
         },
         "colorscale": [
          [
           0,
           "rgb(247,251,255)"
          ],
          [
           0.125,
           "rgb(222,235,247)"
          ],
          [
           0.25,
           "rgb(198,219,239)"
          ],
          [
           0.375,
           "rgb(158,202,225)"
          ],
          [
           0.5,
           "rgb(107,174,214)"
          ],
          [
           0.625,
           "rgb(66,146,198)"
          ],
          [
           0.75,
           "rgb(33,113,181)"
          ],
          [
           0.875,
           "rgb(8,81,156)"
          ],
          [
           1,
           "rgb(8,48,107)"
          ]
         ],
         "connectgaps": true,
         "contours": {
          "coloring": "heatmap"
         },
         "hoverinfo": "none",
         "line": {
          "smoothing": 1.3
         },
         "reversescale": false,
         "showscale": false,
         "type": "contour",
         "x": [
          0.0008658406576890277,
          0.0013502205127737278,
          0.005599922125393375,
          0.005686488275845867,
          0.03621653933395622,
          0.050704952348633106,
          0.09723987296980896,
          0.20048521533471292,
          0.271065504382834,
          0.33577980823141684,
          0.5691482062324401,
          0.6438016057012503,
          0.6778200572155763,
          0.9059399944440578,
          1.1807824514396177,
          1.2801137168124583,
          1.598349642864303,
          1.6236863768463325,
          1.956471961188236,
          2.575660179430299,
          2.884566639319308,
          3.1144462200141576,
          3.7141853846566555,
          5.648665444998958,
          6.593822050520771,
          9.766506120440074,
          15.230212146822662
         ],
         "xaxis": "x10",
         "y": [
          3.7,
          4,
          5,
          6,
          7,
          8,
          9,
          10,
          10.3
         ],
         "yaxis": "y10",
         "z": [
          [
           null,
           null,
           null,
           null,
           null,
           null,
           null,
           null,
           null,
           null,
           null,
           null,
           null,
           null,
           null,
           null,
           null,
           null,
           null,
           null,
           null,
           null,
           null,
           null,
           null,
           null,
           null
          ],
          [
           null,
           null,
           null,
           null,
           null,
           null,
           0.8753041148284513,
           null,
           null,
           null,
           null,
           null,
           null,
           null,
           null,
           null,
           null,
           null,
           null,
           null,
           null,
           null,
           null,
           null,
           null,
           null,
           null
          ],
          [
           null,
           null,
           null,
           0.8757704989752587,
           null,
           null,
           null,
           null,
           null,
           0.8631521704377709,
           null,
           null,
           null,
           null,
           null,
           null,
           null,
           0.8731554520958047,
           null,
           null,
           null,
           null,
           null,
           null,
           0.8723895034398698,
           null,
           null
          ],
          [
           null,
           null,
           0.8468994256985938,
           null,
           null,
           null,
           null,
           null,
           0.8507227887474659,
           null,
           null,
           0.876715321987214,
           null,
           null,
           null,
           null,
           null,
           null,
           null,
           null,
           null,
           null,
           null,
           null,
           null,
           null,
           null
          ],
          [
           null,
           null,
           null,
           null,
           null,
           null,
           null,
           null,
           null,
           null,
           null,
           null,
           0.8740693145070131,
           null,
           null,
           null,
           null,
           null,
           null,
           null,
           0.8754092963148761,
           0.877074744223945,
           0.8697271527631747,
           null,
           null,
           null,
           null
          ],
          [
           null,
           0.8760279130750771,
           null,
           null,
           0.8749787310245623,
           null,
           null,
           null,
           null,
           null,
           0.8764521852471732,
           null,
           null,
           0.8767685412980705,
           null,
           0.8765577987945103,
           null,
           null,
           null,
           0.876704415403992,
           null,
           null,
           null,
           null,
           null,
           null,
           null
          ],
          [
           null,
           null,
           null,
           null,
           null,
           0.8760055874765106,
           null,
           0.8760698594045511,
           null,
           null,
           null,
           null,
           null,
           null,
           null,
           null,
           0.8764232168543427,
           null,
           0.876375921549484,
           null,
           null,
           null,
           null,
           null,
           null,
           null,
           null
          ],
          [
           null,
           null,
           null,
           null,
           null,
           null,
           null,
           null,
           null,
           null,
           null,
           null,
           null,
           null,
           0.8758808907573346,
           null,
           null,
           null,
           null,
           null,
           null,
           null,
           null,
           0.8762683271757736,
           null,
           0.8748311055725484,
           null
          ],
          [
           null,
           null,
           null,
           null,
           null,
           null,
           null,
           null,
           null,
           null,
           null,
           null,
           null,
           null,
           null,
           null,
           null,
           null,
           null,
           null,
           null,
           null,
           null,
           null,
           null,
           null,
           null
          ]
         ]
        },
        {
         "marker": {
          "color": "black",
          "line": {
           "color": "Gray",
           "width": 2
          }
         },
         "mode": "markers",
         "name": "Feasible Trial",
         "showlegend": false,
         "type": "scatter",
         "x": [
          1.6236863768463325,
          0.050704952348633106,
          6.593822050520771,
          0.33577980823141684,
          0.20048521533471292,
          0.005686488275845867,
          0.271065504382834,
          0.0013502205127737278,
          5.648665444998958,
          0.005599922125393375,
          9.766506120440074,
          1.1807824514396177,
          0.03621653933395622,
          1.598349642864303,
          1.956471961188236,
          1.2801137168124583,
          0.6778200572155763,
          2.575660179430299,
          3.1144462200141576,
          3.7141853846566555,
          0.09723987296980896,
          0.5691482062324401,
          2.884566639319308,
          0.9059399944440578,
          0.6438016057012503
         ],
         "xaxis": "x10",
         "y": [
          5,
          9,
          5,
          5,
          9,
          5,
          6,
          8,
          10,
          6,
          10,
          10,
          8,
          9,
          9,
          8,
          7,
          8,
          7,
          7,
          4,
          8,
          7,
          8,
          6
         ],
         "yaxis": "y10"
        },
        {
         "colorbar": {
          "title": {
           "text": "Objective Value"
          }
         },
         "colorscale": [
          [
           0,
           "rgb(247,251,255)"
          ],
          [
           0.125,
           "rgb(222,235,247)"
          ],
          [
           0.25,
           "rgb(198,219,239)"
          ],
          [
           0.375,
           "rgb(158,202,225)"
          ],
          [
           0.5,
           "rgb(107,174,214)"
          ],
          [
           0.625,
           "rgb(66,146,198)"
          ],
          [
           0.75,
           "rgb(33,113,181)"
          ],
          [
           0.875,
           "rgb(8,81,156)"
          ],
          [
           1,
           "rgb(8,48,107)"
          ]
         ],
         "connectgaps": true,
         "contours": {
          "coloring": "heatmap"
         },
         "hoverinfo": "none",
         "line": {
          "smoothing": 1.3
         },
         "reversescale": false,
         "showscale": false,
         "type": "contour",
         "x": [
          0.0008658406576890277,
          0.0013502205127737278,
          0.005599922125393375,
          0.005686488275845867,
          0.03621653933395622,
          0.050704952348633106,
          0.09723987296980896,
          0.20048521533471292,
          0.271065504382834,
          0.33577980823141684,
          0.5691482062324401,
          0.6438016057012503,
          0.6778200572155763,
          0.9059399944440578,
          1.1807824514396177,
          1.2801137168124583,
          1.598349642864303,
          1.6236863768463325,
          1.956471961188236,
          2.575660179430299,
          2.884566639319308,
          3.1144462200141576,
          3.7141853846566555,
          5.648665444998958,
          6.593822050520771,
          9.766506120440074,
          15.230212146822662
         ],
         "xaxis": "x16",
         "y": [
          913.85,
          1010,
          1219,
          1245,
          1438,
          1498,
          1551,
          1635,
          1678,
          1799,
          1848,
          1850,
          1904,
          1996,
          2073,
          2090,
          2140,
          2143,
          2253,
          2272,
          2347,
          2447,
          2623,
          2649,
          2836,
          2933,
          3029.15
         ],
         "yaxis": "y16",
         "z": [
          [
           null,
           null,
           null,
           null,
           null,
           null,
           null,
           null,
           null,
           null,
           null,
           null,
           null,
           null,
           null,
           null,
           null,
           null,
           null,
           null,
           null,
           null,
           null,
           null,
           null,
           null,
           null
          ],
          [
           null,
           null,
           null,
           null,
           null,
           null,
           null,
           null,
           null,
           null,
           null,
           null,
           null,
           null,
           null,
           null,
           null,
           null,
           null,
           null,
           null,
           null,
           null,
           null,
           0.8723895034398698,
           null,
           null
          ],
          [
           null,
           null,
           null,
           null,
           null,
           null,
           null,
           null,
           0.8507227887474659,
           null,
           null,
           null,
           null,
           null,
           null,
           null,
           null,
           null,
           null,
           null,
           null,
           null,
           null,
           null,
           null,
           null,
           null
          ],
          [
           null,
           null,
           null,
           null,
           null,
           null,
           null,
           null,
           null,
           null,
           null,
           null,
           null,
           null,
           null,
           null,
           null,
           0.8731554520958047,
           null,
           null,
           null,
           null,
           null,
           null,
           null,
           null,
           null
          ],
          [
           null,
           null,
           null,
           null,
           null,
           null,
           null,
           null,
           null,
           null,
           null,
           null,
           null,
           0.8767685412980705,
           null,
           null,
           null,
           null,
           null,
           null,
           null,
           null,
           null,
           null,
           null,
           null,
           null
          ],
          [
           null,
           null,
           null,
           null,
           null,
           null,
           null,
           null,
           null,
           null,
           null,
           0.876715321987214,
           null,
           null,
           null,
           null,
           null,
           null,
           null,
           null,
           null,
           null,
           null,
           null,
           null,
           null,
           null
          ],
          [
           null,
           null,
           null,
           null,
           null,
           null,
           null,
           null,
           null,
           0.8631521704377709,
           null,
           null,
           null,
           null,
           null,
           null,
           null,
           null,
           null,
           null,
           null,
           null,
           null,
           null,
           null,
           null,
           null
          ],
          [
           null,
           null,
           null,
           null,
           null,
           null,
           null,
           null,
           null,
           null,
           null,
           null,
           0.8740693145070131,
           null,
           null,
           null,
           null,
           null,
           null,
           null,
           null,
           null,
           null,
           null,
           null,
           null,
           null
          ],
          [
           null,
           null,
           null,
           null,
           null,
           null,
           0.8753041148284513,
           null,
           null,
           null,
           null,
           null,
           null,
           null,
           null,
           null,
           null,
           null,
           null,
           null,
           null,
           null,
           null,
           null,
           null,
           null,
           null
          ],
          [
           null,
           null,
           null,
           null,
           null,
           null,
           null,
           null,
           null,
           null,
           null,
           null,
           null,
           null,
           null,
           null,
           null,
           null,
           null,
           null,
           0.8754092963148761,
           null,
           null,
           null,
           null,
           null,
           null
          ],
          [
           null,
           null,
           null,
           null,
           null,
           null,
           null,
           null,
           null,
           null,
           null,
           null,
           null,
           null,
           null,
           null,
           null,
           null,
           null,
           null,
           null,
           null,
           null,
           null,
           null,
           0.8748311055725484,
           null
          ],
          [
           null,
           null,
           null,
           null,
           null,
           null,
           null,
           null,
           null,
           null,
           null,
           null,
           null,
           null,
           null,
           0.8765577987945103,
           null,
           null,
           null,
           null,
           null,
           null,
           null,
           null,
           null,
           null,
           null
          ],
          [
           null,
           null,
           null,
           null,
           null,
           null,
           null,
           null,
           null,
           null,
           null,
           null,
           null,
           null,
           null,
           null,
           null,
           null,
           0.876375921549484,
           null,
           null,
           null,
           null,
           null,
           null,
           null,
           null
          ],
          [
           null,
           null,
           null,
           null,
           null,
           null,
           null,
           null,
           null,
           null,
           null,
           null,
           null,
           null,
           null,
           null,
           0.8764232168543427,
           null,
           null,
           null,
           null,
           null,
           null,
           null,
           null,
           null,
           null
          ],
          [
           null,
           null,
           null,
           null,
           null,
           null,
           null,
           null,
           null,
           null,
           null,
           null,
           null,
           null,
           null,
           null,
           null,
           null,
           null,
           0.876704415403992,
           null,
           null,
           null,
           null,
           null,
           null,
           null
          ],
          [
           null,
           null,
           null,
           null,
           null,
           null,
           null,
           null,
           null,
           null,
           0.8764521852471732,
           null,
           null,
           null,
           null,
           null,
           null,
           null,
           null,
           null,
           null,
           null,
           null,
           null,
           null,
           null,
           null
          ],
          [
           null,
           null,
           null,
           null,
           null,
           null,
           null,
           null,
           null,
           null,
           null,
           null,
           null,
           null,
           null,
           null,
           null,
           null,
           null,
           null,
           null,
           0.877074744223945,
           null,
           null,
           null,
           null,
           null
          ],
          [
           null,
           null,
           null,
           null,
           null,
           null,
           null,
           null,
           null,
           null,
           null,
           null,
           null,
           null,
           null,
           null,
           null,
           null,
           null,
           null,
           null,
           null,
           0.8697271527631747,
           null,
           null,
           null,
           null
          ],
          [
           null,
           null,
           null,
           0.8757704989752587,
           null,
           null,
           null,
           null,
           null,
           null,
           null,
           null,
           null,
           null,
           null,
           null,
           null,
           null,
           null,
           null,
           null,
           null,
           null,
           null,
           null,
           null,
           null
          ],
          [
           null,
           null,
           null,
           null,
           null,
           0.8760055874765106,
           null,
           null,
           null,
           null,
           null,
           null,
           null,
           null,
           null,
           null,
           null,
           null,
           null,
           null,
           null,
           null,
           null,
           null,
           null,
           null,
           null
          ],
          [
           null,
           null,
           null,
           null,
           null,
           null,
           null,
           null,
           null,
           null,
           null,
           null,
           null,
           null,
           null,
           null,
           null,
           null,
           null,
           null,
           null,
           null,
           null,
           0.8762683271757736,
           null,
           null,
           null
          ],
          [
           null,
           null,
           0.8468994256985938,
           null,
           null,
           null,
           null,
           null,
           null,
           null,
           null,
           null,
           null,
           null,
           null,
           null,
           null,
           null,
           null,
           null,
           null,
           null,
           null,
           null,
           null,
           null,
           null
          ],
          [
           null,
           null,
           null,
           null,
           null,
           null,
           null,
           0.8760698594045511,
           null,
           null,
           null,
           null,
           null,
           null,
           null,
           null,
           null,
           null,
           null,
           null,
           null,
           null,
           null,
           null,
           null,
           null,
           null
          ],
          [
           null,
           0.8760279130750771,
           null,
           null,
           null,
           null,
           null,
           null,
           null,
           null,
           null,
           null,
           null,
           null,
           null,
           null,
           null,
           null,
           null,
           null,
           null,
           null,
           null,
           null,
           null,
           null,
           null
          ],
          [
           null,
           null,
           null,
           null,
           null,
           null,
           null,
           null,
           null,
           null,
           null,
           null,
           null,
           null,
           0.8758808907573346,
           null,
           null,
           null,
           null,
           null,
           null,
           null,
           null,
           null,
           null,
           null,
           null
          ],
          [
           null,
           null,
           null,
           null,
           0.8749787310245623,
           null,
           null,
           null,
           null,
           null,
           null,
           null,
           null,
           null,
           null,
           null,
           null,
           null,
           null,
           null,
           null,
           null,
           null,
           null,
           null,
           null,
           null
          ],
          [
           null,
           null,
           null,
           null,
           null,
           null,
           null,
           null,
           null,
           null,
           null,
           null,
           null,
           null,
           null,
           null,
           null,
           null,
           null,
           null,
           null,
           null,
           null,
           null,
           null,
           null,
           null
          ]
         ]
        },
        {
         "marker": {
          "color": "black",
          "line": {
           "color": "Gray",
           "width": 2
          }
         },
         "mode": "markers",
         "name": "Feasible Trial",
         "showlegend": false,
         "type": "scatter",
         "x": [
          1.6236863768463325,
          0.050704952348633106,
          6.593822050520771,
          0.33577980823141684,
          0.20048521533471292,
          0.005686488275845867,
          0.271065504382834,
          0.0013502205127737278,
          5.648665444998958,
          0.005599922125393375,
          9.766506120440074,
          1.1807824514396177,
          0.03621653933395622,
          1.598349642864303,
          1.956471961188236,
          1.2801137168124583,
          0.6778200572155763,
          2.575660179430299,
          3.1144462200141576,
          3.7141853846566555,
          0.09723987296980896,
          0.5691482062324401,
          2.884566639319308,
          0.9059399944440578,
          0.6438016057012503
         ],
         "xaxis": "x16",
         "y": [
          1245,
          2272,
          1010,
          1551,
          2623,
          2253,
          1219,
          2649,
          2347,
          2447,
          1848,
          2836,
          2933,
          1996,
          1904,
          1850,
          1635,
          2073,
          2140,
          2143,
          1678,
          2090,
          1799,
          1438,
          1498
         ],
         "yaxis": "y16"
        },
        {
         "type": "scatter",
         "xaxis": "x22",
         "yaxis": "y22"
        },
        {
         "colorbar": {
          "title": {
           "text": "Objective Value"
          }
         },
         "colorscale": [
          [
           0,
           "rgb(247,251,255)"
          ],
          [
           0.125,
           "rgb(222,235,247)"
          ],
          [
           0.25,
           "rgb(198,219,239)"
          ],
          [
           0.375,
           "rgb(158,202,225)"
          ],
          [
           0.5,
           "rgb(107,174,214)"
          ],
          [
           0.625,
           "rgb(66,146,198)"
          ],
          [
           0.75,
           "rgb(33,113,181)"
          ],
          [
           0.875,
           "rgb(8,81,156)"
          ],
          [
           1,
           "rgb(8,48,107)"
          ]
         ],
         "connectgaps": true,
         "contours": {
          "coloring": "heatmap"
         },
         "hoverinfo": "none",
         "line": {
          "smoothing": 1.3
         },
         "reversescale": false,
         "showscale": false,
         "type": "contour",
         "x": [
          0.0008658406576890277,
          0.0013502205127737278,
          0.005599922125393375,
          0.005686488275845867,
          0.03621653933395622,
          0.050704952348633106,
          0.09723987296980896,
          0.20048521533471292,
          0.271065504382834,
          0.33577980823141684,
          0.5691482062324401,
          0.6438016057012503,
          0.6778200572155763,
          0.9059399944440578,
          1.1807824514396177,
          1.2801137168124583,
          1.598349642864303,
          1.6236863768463325,
          1.956471961188236,
          2.575660179430299,
          2.884566639319308,
          3.1144462200141576,
          3.7141853846566555,
          5.648665444998958,
          6.593822050520771,
          9.766506120440074,
          15.230212146822662
         ],
         "xaxis": "x28",
         "y": [
          0.0013212516687476582,
          0.0016205622653806687,
          0.001976630674792773,
          0.0041969675398673524,
          0.005071564130028977,
          0.00893324050435845,
          0.009153096511780052,
          0.014942615940739881,
          0.01939312273281176,
          0.020247398950067306,
          0.02959456157743655,
          0.03045064589680613,
          0.03239941582014418,
          0.036647759430624025,
          0.043161464201364984,
          0.050876045024910645,
          0.0567243019623693,
          0.056892488308269686,
          0.06005764678809379,
          0.06186207490162208,
          0.06298725338758546,
          0.06795577223035759,
          0.07884554109070592,
          0.0927701509590474,
          0.09531511189138718,
          0.09622085005287367,
          0.1180183022106135
         ],
         "yaxis": "y28",
         "z": [
          [
           null,
           null,
           null,
           null,
           null,
           null,
           null,
           null,
           null,
           null,
           null,
           null,
           null,
           null,
           null,
           null,
           null,
           null,
           null,
           null,
           null,
           null,
           null,
           null,
           null,
           null,
           null
          ],
          [
           null,
           null,
           null,
           null,
           null,
           null,
           null,
           null,
           0.8507227887474659,
           null,
           null,
           null,
           null,
           null,
           null,
           null,
           null,
           null,
           null,
           null,
           null,
           null,
           null,
           null,
           null,
           null,
           null
          ],
          [
           null,
           null,
           0.8468994256985938,
           null,
           null,
           null,
           null,
           null,
           null,
           null,
           null,
           null,
           null,
           null,
           null,
           null,
           null,
           null,
           null,
           null,
           null,
           null,
           null,
           null,
           null,
           null,
           null
          ],
          [
           null,
           null,
           null,
           null,
           null,
           null,
           null,
           null,
           null,
           0.8631521704377709,
           null,
           null,
           null,
           null,
           null,
           null,
           null,
           null,
           null,
           null,
           null,
           null,
           null,
           null,
           null,
           null,
           null
          ],
          [
           null,
           null,
           null,
           null,
           null,
           null,
           null,
           null,
           null,
           null,
           null,
           null,
           null,
           null,
           null,
           null,
           null,
           null,
           null,
           null,
           null,
           null,
           0.8697271527631747,
           null,
           null,
           null,
           null
          ],
          [
           null,
           null,
           null,
           null,
           0.8749787310245623,
           null,
           null,
           null,
           null,
           null,
           null,
           null,
           null,
           null,
           null,
           null,
           null,
           null,
           null,
           null,
           null,
           null,
           null,
           null,
           null,
           null,
           null
          ],
          [
           null,
           null,
           null,
           null,
           null,
           null,
           null,
           null,
           null,
           null,
           null,
           null,
           null,
           null,
           null,
           null,
           null,
           null,
           null,
           null,
           null,
           null,
           null,
           null,
           null,
           0.8748311055725484,
           null
          ],
          [
           null,
           null,
           null,
           null,
           null,
           null,
           null,
           null,
           null,
           null,
           null,
           null,
           0.8740693145070131,
           null,
           null,
           null,
           null,
           null,
           null,
           null,
           null,
           null,
           null,
           null,
           null,
           null,
           null
          ],
          [
           null,
           null,
           null,
           null,
           null,
           null,
           null,
           null,
           null,
           null,
           null,
           null,
           null,
           null,
           null,
           null,
           null,
           null,
           null,
           null,
           null,
           null,
           null,
           0.8762683271757736,
           null,
           null,
           null
          ],
          [
           null,
           null,
           null,
           null,
           null,
           null,
           null,
           null,
           null,
           null,
           null,
           null,
           null,
           null,
           null,
           null,
           null,
           null,
           null,
           null,
           0.8754092963148761,
           null,
           null,
           null,
           null,
           null,
           null
          ],
          [
           null,
           null,
           null,
           null,
           null,
           null,
           null,
           null,
           null,
           null,
           null,
           null,
           null,
           null,
           null,
           null,
           null,
           null,
           null,
           null,
           null,
           null,
           null,
           null,
           0.8723895034398698,
           null,
           null
          ],
          [
           null,
           null,
           null,
           null,
           null,
           null,
           null,
           null,
           null,
           null,
           null,
           null,
           null,
           null,
           null,
           null,
           null,
           0.8731554520958047,
           null,
           null,
           null,
           null,
           null,
           null,
           null,
           null,
           null
          ],
          [
           null,
           null,
           null,
           0.8757704989752587,
           null,
           null,
           null,
           null,
           null,
           null,
           null,
           null,
           null,
           null,
           null,
           null,
           null,
           null,
           null,
           null,
           null,
           null,
           null,
           null,
           null,
           null,
           null
          ],
          [
           null,
           0.8760279130750771,
           null,
           null,
           null,
           null,
           null,
           null,
           null,
           null,
           null,
           null,
           null,
           null,
           null,
           null,
           null,
           null,
           null,
           null,
           null,
           null,
           null,
           null,
           null,
           null,
           null
          ],
          [
           null,
           null,
           null,
           null,
           null,
           0.8760055874765106,
           null,
           null,
           null,
           null,
           null,
           null,
           null,
           null,
           null,
           null,
           null,
           null,
           null,
           null,
           null,
           null,
           null,
           null,
           null,
           null,
           null
          ],
          [
           null,
           null,
           null,
           null,
           null,
           null,
           null,
           0.8760698594045511,
           null,
           null,
           null,
           null,
           null,
           null,
           null,
           null,
           null,
           null,
           null,
           null,
           null,
           null,
           null,
           null,
           null,
           null,
           null
          ],
          [
           null,
           null,
           null,
           null,
           null,
           null,
           null,
           null,
           null,
           null,
           null,
           null,
           null,
           null,
           null,
           null,
           null,
           null,
           null,
           0.876704415403992,
           null,
           null,
           null,
           null,
           null,
           null,
           null
          ],
          [
           null,
           null,
           null,
           null,
           null,
           null,
           0.8753041148284513,
           null,
           null,
           null,
           null,
           null,
           null,
           null,
           null,
           null,
           null,
           null,
           null,
           null,
           null,
           null,
           null,
           null,
           null,
           null,
           null
          ],
          [
           null,
           null,
           null,
           null,
           null,
           null,
           null,
           null,
           null,
           null,
           0.8764521852471732,
           null,
           null,
           null,
           null,
           null,
           null,
           null,
           null,
           null,
           null,
           null,
           null,
           null,
           null,
           null,
           null
          ],
          [
           null,
           null,
           null,
           null,
           null,
           null,
           null,
           null,
           null,
           null,
           null,
           null,
           null,
           null,
           null,
           null,
           null,
           null,
           null,
           null,
           null,
           0.877074744223945,
           null,
           null,
           null,
           null,
           null
          ],
          [
           null,
           null,
           null,
           null,
           null,
           null,
           null,
           null,
           null,
           null,
           null,
           0.876715321987214,
           null,
           null,
           null,
           null,
           null,
           null,
           null,
           null,
           null,
           null,
           null,
           null,
           null,
           null,
           null
          ],
          [
           null,
           null,
           null,
           null,
           null,
           null,
           null,
           null,
           null,
           null,
           null,
           null,
           null,
           0.8767685412980705,
           null,
           null,
           null,
           null,
           null,
           null,
           null,
           null,
           null,
           null,
           null,
           null,
           null
          ],
          [
           null,
           null,
           null,
           null,
           null,
           null,
           null,
           null,
           null,
           null,
           null,
           null,
           null,
           null,
           null,
           0.8765577987945103,
           null,
           null,
           null,
           null,
           null,
           null,
           null,
           null,
           null,
           null,
           null
          ],
          [
           null,
           null,
           null,
           null,
           null,
           null,
           null,
           null,
           null,
           null,
           null,
           null,
           null,
           null,
           null,
           null,
           0.8764232168543427,
           null,
           null,
           null,
           null,
           null,
           null,
           null,
           null,
           null,
           null
          ],
          [
           null,
           null,
           null,
           null,
           null,
           null,
           null,
           null,
           null,
           null,
           null,
           null,
           null,
           null,
           0.8758808907573346,
           null,
           null,
           null,
           null,
           null,
           null,
           null,
           null,
           null,
           null,
           null,
           null
          ],
          [
           null,
           null,
           null,
           null,
           null,
           null,
           null,
           null,
           null,
           null,
           null,
           null,
           null,
           null,
           null,
           null,
           null,
           null,
           0.876375921549484,
           null,
           null,
           null,
           null,
           null,
           null,
           null,
           null
          ],
          [
           null,
           null,
           null,
           null,
           null,
           null,
           null,
           null,
           null,
           null,
           null,
           null,
           null,
           null,
           null,
           null,
           null,
           null,
           null,
           null,
           null,
           null,
           null,
           null,
           null,
           null,
           null
          ]
         ]
        },
        {
         "marker": {
          "color": "black",
          "line": {
           "color": "Gray",
           "width": 2
          }
         },
         "mode": "markers",
         "name": "Feasible Trial",
         "showlegend": false,
         "type": "scatter",
         "x": [
          1.6236863768463325,
          0.050704952348633106,
          6.593822050520771,
          0.33577980823141684,
          0.20048521533471292,
          0.005686488275845867,
          0.271065504382834,
          0.0013502205127737278,
          5.648665444998958,
          0.005599922125393375,
          9.766506120440074,
          1.1807824514396177,
          0.03621653933395622,
          1.598349642864303,
          1.956471961188236,
          1.2801137168124583,
          0.6778200572155763,
          2.575660179430299,
          3.1144462200141576,
          3.7141853846566555,
          0.09723987296980896,
          0.5691482062324401,
          2.884566639319308,
          0.9059399944440578,
          0.6438016057012503
         ],
         "xaxis": "x28",
         "y": [
          0.03045064589680613,
          0.043161464201364984,
          0.02959456157743655,
          0.0041969675398673524,
          0.050876045024910645,
          0.03239941582014418,
          0.0016205622653806687,
          0.036647759430624025,
          0.01939312273281176,
          0.001976630674792773,
          0.009153096511780052,
          0.09531511189138718,
          0.00893324050435845,
          0.0927701509590474,
          0.09622085005287367,
          0.07884554109070592,
          0.014942615940739881,
          0.0567243019623693,
          0.06186207490162208,
          0.005071564130028977,
          0.056892488308269686,
          0.06005764678809379,
          0.020247398950067306,
          0.06795577223035759,
          0.06298725338758546
         ],
         "yaxis": "y28"
        },
        {
         "colorbar": {
          "title": {
           "text": "Objective Value"
          }
         },
         "colorscale": [
          [
           0,
           "rgb(247,251,255)"
          ],
          [
           0.125,
           "rgb(222,235,247)"
          ],
          [
           0.25,
           "rgb(198,219,239)"
          ],
          [
           0.375,
           "rgb(158,202,225)"
          ],
          [
           0.5,
           "rgb(107,174,214)"
          ],
          [
           0.625,
           "rgb(66,146,198)"
          ],
          [
           0.75,
           "rgb(33,113,181)"
          ],
          [
           0.875,
           "rgb(8,81,156)"
          ],
          [
           1,
           "rgb(8,48,107)"
          ]
         ],
         "connectgaps": true,
         "contours": {
          "coloring": "heatmap"
         },
         "hoverinfo": "none",
         "line": {
          "smoothing": 1.3
         },
         "reversescale": false,
         "showscale": false,
         "type": "contour",
         "x": [
          0.0008658406576890277,
          0.0013502205127737278,
          0.005599922125393375,
          0.005686488275845867,
          0.03621653933395622,
          0.050704952348633106,
          0.09723987296980896,
          0.20048521533471292,
          0.271065504382834,
          0.33577980823141684,
          0.5691482062324401,
          0.6438016057012503,
          0.6778200572155763,
          0.9059399944440578,
          1.1807824514396177,
          1.2801137168124583,
          1.598349642864303,
          1.6236863768463325,
          1.956471961188236,
          2.575660179430299,
          2.884566639319308,
          3.1144462200141576,
          3.7141853846566555,
          5.648665444998958,
          6.593822050520771,
          9.766506120440074,
          15.230212146822662
         ],
         "xaxis": "x34",
         "y": [
          0.0008851314267292528,
          0.0013679281765936408,
          0.009413375418335807,
          0.01031359388995681,
          0.010314680895799842,
          0.03302723763506745,
          0.035959616841470365,
          0.04187534676784171,
          0.08276447921795416,
          0.09982091719818298,
          0.11786015045616766,
          0.1197929964019686,
          0.22722430844635144,
          0.22980683750505768,
          0.36540570800441063,
          0.42645674510971915,
          0.6080287359985996,
          0.8114076476999805,
          0.9524576740419733,
          1.1441130526291785,
          1.2811117864609427,
          1.4655627609873096,
          2.4953193797068507,
          6.045293056544891,
          7.858371016947948,
          8.263689408320012,
          12.771135723912245
         ],
         "yaxis": "y34",
         "z": [
          [
           null,
           null,
           null,
           null,
           null,
           null,
           null,
           null,
           null,
           null,
           null,
           null,
           null,
           null,
           null,
           null,
           null,
           null,
           null,
           null,
           null,
           null,
           null,
           null,
           null,
           null,
           null
          ],
          [
           null,
           null,
           null,
           null,
           null,
           null,
           null,
           null,
           null,
           null,
           null,
           null,
           null,
           null,
           null,
           null,
           null,
           null,
           null,
           null,
           null,
           null,
           null,
           null,
           null,
           0.8748311055725484,
           null
          ],
          [
           null,
           null,
           null,
           null,
           null,
           null,
           0.8753041148284513,
           null,
           null,
           null,
           null,
           null,
           null,
           null,
           null,
           null,
           null,
           null,
           null,
           null,
           null,
           null,
           null,
           null,
           null,
           null,
           null
          ],
          [
           null,
           null,
           null,
           null,
           0.8749787310245623,
           null,
           null,
           null,
           null,
           null,
           null,
           null,
           null,
           null,
           null,
           null,
           null,
           null,
           null,
           null,
           null,
           null,
           null,
           null,
           null,
           null,
           null
          ],
          [
           null,
           null,
           null,
           0.8757704989752587,
           null,
           null,
           null,
           null,
           null,
           null,
           null,
           null,
           null,
           null,
           null,
           null,
           null,
           null,
           null,
           null,
           null,
           null,
           null,
           null,
           null,
           null,
           null
          ],
          [
           null,
           null,
           null,
           null,
           null,
           0.8760055874765106,
           null,
           null,
           null,
           null,
           null,
           null,
           null,
           null,
           null,
           null,
           null,
           null,
           null,
           null,
           null,
           null,
           null,
           null,
           null,
           null,
           null
          ],
          [
           null,
           null,
           null,
           null,
           null,
           null,
           null,
           null,
           0.8507227887474659,
           null,
           null,
           null,
           null,
           null,
           null,
           null,
           null,
           null,
           null,
           null,
           null,
           null,
           null,
           null,
           null,
           null,
           null
          ],
          [
           null,
           null,
           null,
           null,
           null,
           null,
           null,
           0.8760698594045511,
           null,
           null,
           null,
           null,
           null,
           null,
           null,
           null,
           null,
           null,
           null,
           null,
           null,
           null,
           null,
           null,
           null,
           null,
           null
          ],
          [
           null,
           null,
           null,
           null,
           null,
           null,
           null,
           null,
           null,
           null,
           null,
           null,
           null,
           null,
           null,
           null,
           0.8764232168543427,
           null,
           null,
           null,
           null,
           null,
           null,
           null,
           null,
           null,
           null
          ],
          [
           null,
           null,
           null,
           null,
           null,
           null,
           null,
           null,
           null,
           null,
           null,
           null,
           null,
           null,
           null,
           null,
           null,
           null,
           null,
           0.876704415403992,
           null,
           null,
           null,
           null,
           null,
           null,
           null
          ],
          [
           null,
           null,
           null,
           null,
           null,
           null,
           null,
           null,
           null,
           null,
           null,
           0.876715321987214,
           null,
           null,
           null,
           null,
           null,
           null,
           null,
           null,
           null,
           null,
           null,
           null,
           null,
           null,
           null
          ],
          [
           null,
           null,
           null,
           null,
           null,
           null,
           null,
           null,
           null,
           null,
           null,
           null,
           null,
           0.8767685412980705,
           null,
           null,
           null,
           null,
           null,
           null,
           null,
           null,
           null,
           null,
           null,
           null,
           null
          ],
          [
           null,
           null,
           null,
           null,
           null,
           null,
           null,
           null,
           null,
           0.8631521704377709,
           null,
           null,
           null,
           null,
           null,
           null,
           null,
           null,
           null,
           null,
           null,
           null,
           null,
           null,
           null,
           null,
           null
          ],
          [
           null,
           null,
           null,
           null,
           null,
           null,
           null,
           null,
           null,
           null,
           null,
           null,
           0.8740693145070131,
           null,
           null,
           null,
           null,
           null,
           null,
           null,
           null,
           null,
           null,
           null,
           null,
           null,
           null
          ],
          [
           null,
           0.8760279130750771,
           null,
           null,
           null,
           null,
           null,
           null,
           null,
           null,
           null,
           null,
           null,
           null,
           null,
           null,
           null,
           null,
           null,
           null,
           null,
           null,
           null,
           null,
           null,
           null,
           null
          ],
          [
           null,
           null,
           null,
           null,
           null,
           null,
           null,
           null,
           null,
           null,
           null,
           null,
           null,
           null,
           null,
           null,
           null,
           null,
           null,
           null,
           null,
           null,
           0.8697271527631747,
           null,
           null,
           null,
           null
          ],
          [
           null,
           null,
           null,
           null,
           null,
           null,
           null,
           null,
           null,
           null,
           null,
           null,
           null,
           null,
           null,
           null,
           null,
           null,
           null,
           null,
           0.8754092963148761,
           null,
           null,
           null,
           null,
           null,
           null
          ],
          [
           null,
           null,
           null,
           null,
           null,
           null,
           null,
           null,
           null,
           null,
           null,
           null,
           null,
           null,
           null,
           null,
           null,
           null,
           null,
           null,
           null,
           0.877074744223945,
           null,
           null,
           null,
           null,
           null
          ],
          [
           null,
           null,
           null,
           null,
           null,
           null,
           null,
           null,
           null,
           null,
           null,
           null,
           null,
           null,
           null,
           0.8765577987945103,
           null,
           null,
           null,
           null,
           null,
           null,
           null,
           null,
           null,
           null,
           null
          ],
          [
           null,
           null,
           null,
           null,
           null,
           null,
           null,
           null,
           null,
           null,
           null,
           null,
           null,
           null,
           null,
           null,
           null,
           null,
           null,
           null,
           null,
           null,
           null,
           null,
           0.8723895034398698,
           null,
           null
          ],
          [
           null,
           null,
           null,
           null,
           null,
           null,
           null,
           null,
           null,
           null,
           null,
           null,
           null,
           null,
           null,
           null,
           null,
           null,
           0.876375921549484,
           null,
           null,
           null,
           null,
           null,
           null,
           null,
           null
          ],
          [
           null,
           null,
           null,
           null,
           null,
           null,
           null,
           null,
           null,
           null,
           null,
           null,
           null,
           null,
           0.8758808907573346,
           null,
           null,
           null,
           null,
           null,
           null,
           null,
           null,
           null,
           null,
           null,
           null
          ],
          [
           null,
           null,
           null,
           null,
           null,
           null,
           null,
           null,
           null,
           null,
           0.8764521852471732,
           null,
           null,
           null,
           null,
           null,
           null,
           null,
           null,
           null,
           null,
           null,
           null,
           null,
           null,
           null,
           null
          ],
          [
           null,
           null,
           null,
           null,
           null,
           null,
           null,
           null,
           null,
           null,
           null,
           null,
           null,
           null,
           null,
           null,
           null,
           null,
           null,
           null,
           null,
           null,
           null,
           0.8762683271757736,
           null,
           null,
           null
          ],
          [
           null,
           null,
           null,
           null,
           null,
           null,
           null,
           null,
           null,
           null,
           null,
           null,
           null,
           null,
           null,
           null,
           null,
           0.8731554520958047,
           null,
           null,
           null,
           null,
           null,
           null,
           null,
           null,
           null
          ],
          [
           null,
           null,
           0.8468994256985938,
           null,
           null,
           null,
           null,
           null,
           null,
           null,
           null,
           null,
           null,
           null,
           null,
           null,
           null,
           null,
           null,
           null,
           null,
           null,
           null,
           null,
           null,
           null,
           null
          ],
          [
           null,
           null,
           null,
           null,
           null,
           null,
           null,
           null,
           null,
           null,
           null,
           null,
           null,
           null,
           null,
           null,
           null,
           null,
           null,
           null,
           null,
           null,
           null,
           null,
           null,
           null,
           null
          ]
         ]
        },
        {
         "marker": {
          "color": "black",
          "line": {
           "color": "Gray",
           "width": 2
          }
         },
         "mode": "markers",
         "name": "Feasible Trial",
         "showlegend": false,
         "type": "scatter",
         "x": [
          1.6236863768463325,
          0.050704952348633106,
          6.593822050520771,
          0.33577980823141684,
          0.20048521533471292,
          0.005686488275845867,
          0.271065504382834,
          0.0013502205127737278,
          5.648665444998958,
          0.005599922125393375,
          9.766506120440074,
          1.1807824514396177,
          0.03621653933395622,
          1.598349642864303,
          1.956471961188236,
          1.2801137168124583,
          0.6778200572155763,
          2.575660179430299,
          3.1144462200141576,
          3.7141853846566555,
          0.09723987296980896,
          0.5691482062324401,
          2.884566639319308,
          0.9059399944440578,
          0.6438016057012503
         ],
         "xaxis": "x34",
         "y": [
          7.858371016947948,
          0.03302723763506745,
          1.1441130526291785,
          0.22722430844635144,
          0.04187534676784171,
          0.010314680895799842,
          0.035959616841470365,
          0.36540570800441063,
          6.045293056544891,
          8.263689408320012,
          0.0013679281765936408,
          1.4655627609873096,
          0.01031359388995681,
          0.08276447921795416,
          1.2811117864609427,
          0.9524576740419733,
          0.22980683750505768,
          0.09982091719818298,
          0.8114076476999805,
          0.42645674510971915,
          0.009413375418335807,
          2.4953193797068507,
          0.6080287359985996,
          0.1197929964019686,
          0.11786015045616766
         ],
         "yaxis": "y34"
        },
        {
         "colorbar": {
          "title": {
           "text": "Objective Value"
          }
         },
         "colorscale": [
          [
           0,
           "rgb(247,251,255)"
          ],
          [
           0.125,
           "rgb(222,235,247)"
          ],
          [
           0.25,
           "rgb(198,219,239)"
          ],
          [
           0.375,
           "rgb(158,202,225)"
          ],
          [
           0.5,
           "rgb(107,174,214)"
          ],
          [
           0.625,
           "rgb(66,146,198)"
          ],
          [
           0.75,
           "rgb(33,113,181)"
          ],
          [
           0.875,
           "rgb(8,81,156)"
          ],
          [
           1,
           "rgb(8,48,107)"
          ]
         ],
         "connectgaps": true,
         "contours": {
          "coloring": "heatmap"
         },
         "hoverinfo": "none",
         "line": {
          "smoothing": 1.3
         },
         "reversescale": false,
         "showscale": false,
         "type": "contour",
         "x": [
          0.0013212516687476582,
          0.0016205622653806687,
          0.001976630674792773,
          0.0041969675398673524,
          0.005071564130028977,
          0.00893324050435845,
          0.009153096511780052,
          0.014942615940739881,
          0.01939312273281176,
          0.020247398950067306,
          0.02959456157743655,
          0.03045064589680613,
          0.03239941582014418,
          0.036647759430624025,
          0.043161464201364984,
          0.050876045024910645,
          0.0567243019623693,
          0.056892488308269686,
          0.06005764678809379,
          0.06186207490162208,
          0.06298725338758546,
          0.06795577223035759,
          0.07884554109070592,
          0.0927701509590474,
          0.09531511189138718,
          0.09622085005287367,
          0.1180183022106135
         ],
         "xaxis": "x5",
         "y": [
          -0.027717630427146603,
          0.021096883444261805,
          0.035468916866414846,
          0.158079070738712,
          0.1653785653404436,
          0.1986379345977377,
          0.27691147205594535,
          0.35160437621301655,
          0.4453860170068221,
          0.4721681327747337,
          0.4928286227752857,
          0.6152852017964116,
          0.616577581296886,
          0.6313988380641429,
          0.6604240639153958,
          0.7172642330570739,
          0.7476859490094927,
          0.7719334284189111,
          0.7863960495937629,
          0.8545589749361152,
          0.8830218322040628,
          0.9311824416361173,
          0.946067571401495,
          0.970962086590466,
          0.9763015247159273,
          0.9973871608724298,
          1.0462016747438383
         ],
         "yaxis": "y5",
         "z": [
          [
           null,
           null,
           null,
           null,
           null,
           null,
           null,
           null,
           null,
           null,
           null,
           null,
           null,
           null,
           null,
           null,
           null,
           null,
           null,
           null,
           null,
           null,
           null,
           null,
           null,
           null,
           null
          ],
          [
           null,
           null,
           null,
           null,
           null,
           null,
           0.8748311055725484,
           null,
           null,
           null,
           null,
           null,
           null,
           null,
           null,
           null,
           null,
           null,
           null,
           null,
           null,
           null,
           null,
           null,
           null,
           null,
           null
          ],
          [
           null,
           null,
           null,
           null,
           null,
           null,
           null,
           null,
           null,
           null,
           null,
           null,
           null,
           null,
           null,
           null,
           null,
           null,
           null,
           null,
           null,
           null,
           null,
           null,
           0.8758808907573346,
           null,
           null
          ],
          [
           null,
           null,
           null,
           null,
           null,
           null,
           null,
           null,
           null,
           null,
           null,
           null,
           null,
           null,
           null,
           null,
           null,
           null,
           null,
           null,
           null,
           null,
           null,
           0.8764232168543427,
           null,
           null,
           null
          ],
          [
           null,
           null,
           null,
           null,
           null,
           null,
           null,
           null,
           null,
           null,
           null,
           null,
           null,
           null,
           null,
           0.8760698594045511,
           null,
           null,
           null,
           null,
           null,
           null,
           null,
           null,
           null,
           null,
           null
          ],
          [
           null,
           null,
           null,
           null,
           null,
           null,
           null,
           null,
           null,
           null,
           0.8723895034398698,
           null,
           null,
           null,
           null,
           null,
           null,
           null,
           null,
           null,
           null,
           null,
           null,
           null,
           null,
           null,
           null
          ],
          [
           null,
           null,
           null,
           null,
           null,
           null,
           null,
           null,
           null,
           null,
           null,
           null,
           null,
           null,
           0.8760055874765106,
           null,
           null,
           null,
           null,
           null,
           null,
           null,
           null,
           null,
           null,
           null,
           null
          ],
          [
           null,
           null,
           null,
           null,
           null,
           null,
           null,
           null,
           null,
           null,
           null,
           0.8731554520958047,
           null,
           null,
           null,
           null,
           null,
           null,
           null,
           null,
           null,
           null,
           null,
           null,
           null,
           null,
           null
          ],
          [
           null,
           null,
           null,
           null,
           null,
           null,
           null,
           null,
           null,
           null,
           null,
           null,
           0.8757704989752587,
           null,
           null,
           null,
           null,
           null,
           null,
           null,
           null,
           null,
           null,
           null,
           null,
           null,
           null
          ],
          [
           null,
           null,
           null,
           null,
           null,
           null,
           null,
           null,
           0.8762683271757736,
           null,
           null,
           null,
           null,
           null,
           null,
           null,
           null,
           null,
           null,
           null,
           null,
           null,
           null,
           null,
           null,
           null,
           null
          ],
          [
           null,
           null,
           null,
           null,
           null,
           null,
           null,
           null,
           null,
           null,
           null,
           null,
           null,
           0.8760279130750771,
           null,
           null,
           null,
           null,
           null,
           null,
           null,
           null,
           null,
           null,
           null,
           null,
           null
          ],
          [
           null,
           null,
           null,
           null,
           null,
           null,
           null,
           0.8740693145070131,
           null,
           null,
           null,
           null,
           null,
           null,
           null,
           null,
           null,
           null,
           null,
           null,
           null,
           null,
           null,
           null,
           null,
           null,
           null
          ],
          [
           null,
           null,
           null,
           null,
           null,
           null,
           null,
           null,
           null,
           null,
           null,
           null,
           null,
           null,
           null,
           null,
           null,
           null,
           null,
           null,
           null,
           null,
           null,
           null,
           null,
           0.876375921549484,
           null
          ],
          [
           null,
           null,
           null,
           null,
           null,
           null,
           null,
           null,
           null,
           null,
           null,
           null,
           null,
           null,
           null,
           null,
           null,
           null,
           null,
           null,
           null,
           null,
           0.8765577987945103,
           null,
           null,
           null,
           null
          ],
          [
           null,
           null,
           null,
           null,
           null,
           0.8749787310245623,
           null,
           null,
           null,
           null,
           null,
           null,
           null,
           null,
           null,
           null,
           null,
           null,
           null,
           null,
           null,
           null,
           null,
           null,
           null,
           null,
           null
          ],
          [
           null,
           null,
           null,
           null,
           null,
           null,
           null,
           null,
           null,
           null,
           null,
           null,
           null,
           null,
           null,
           null,
           null,
           null,
           null,
           null,
           null,
           0.8767685412980705,
           null,
           null,
           null,
           null,
           null
          ],
          [
           null,
           null,
           null,
           null,
           null,
           null,
           null,
           null,
           null,
           null,
           null,
           null,
           null,
           null,
           null,
           null,
           null,
           null,
           null,
           null,
           0.876715321987214,
           null,
           null,
           null,
           null,
           null,
           null
          ],
          [
           null,
           0.8507227887474659,
           null,
           null,
           null,
           null,
           null,
           null,
           null,
           null,
           null,
           null,
           null,
           null,
           null,
           null,
           null,
           null,
           null,
           null,
           null,
           null,
           null,
           null,
           null,
           null,
           null
          ],
          [
           null,
           null,
           0.8468994256985938,
           null,
           null,
           null,
           null,
           null,
           null,
           null,
           null,
           null,
           null,
           null,
           null,
           null,
           null,
           null,
           null,
           null,
           null,
           null,
           null,
           null,
           null,
           null,
           null
          ],
          [
           null,
           null,
           null,
           null,
           null,
           null,
           null,
           null,
           null,
           null,
           null,
           null,
           null,
           null,
           null,
           null,
           null,
           0.8753041148284513,
           null,
           null,
           null,
           null,
           null,
           null,
           null,
           null,
           null
          ],
          [
           null,
           null,
           null,
           null,
           null,
           null,
           null,
           null,
           null,
           0.8754092963148761,
           null,
           null,
           null,
           null,
           null,
           null,
           null,
           null,
           null,
           null,
           null,
           null,
           null,
           null,
           null,
           null,
           null
          ],
          [
           null,
           null,
           null,
           0.8631521704377709,
           null,
           null,
           null,
           null,
           null,
           null,
           null,
           null,
           null,
           null,
           null,
           null,
           null,
           null,
           null,
           null,
           null,
           null,
           null,
           null,
           null,
           null,
           null
          ],
          [
           null,
           null,
           null,
           null,
           null,
           null,
           null,
           null,
           null,
           null,
           null,
           null,
           null,
           null,
           null,
           null,
           0.876704415403992,
           null,
           null,
           null,
           null,
           null,
           null,
           null,
           null,
           null,
           null
          ],
          [
           null,
           null,
           null,
           null,
           0.8697271527631747,
           null,
           null,
           null,
           null,
           null,
           null,
           null,
           null,
           null,
           null,
           null,
           null,
           null,
           null,
           null,
           null,
           null,
           null,
           null,
           null,
           null,
           null
          ],
          [
           null,
           null,
           null,
           null,
           null,
           null,
           null,
           null,
           null,
           null,
           null,
           null,
           null,
           null,
           null,
           null,
           null,
           null,
           null,
           0.877074744223945,
           null,
           null,
           null,
           null,
           null,
           null,
           null
          ],
          [
           null,
           null,
           null,
           null,
           null,
           null,
           null,
           null,
           null,
           null,
           null,
           null,
           null,
           null,
           null,
           null,
           null,
           null,
           0.8764521852471732,
           null,
           null,
           null,
           null,
           null,
           null,
           null,
           null
          ],
          [
           null,
           null,
           null,
           null,
           null,
           null,
           null,
           null,
           null,
           null,
           null,
           null,
           null,
           null,
           null,
           null,
           null,
           null,
           null,
           null,
           null,
           null,
           null,
           null,
           null,
           null,
           null
          ]
         ]
        },
        {
         "marker": {
          "color": "black",
          "line": {
           "color": "Gray",
           "width": 2
          }
         },
         "mode": "markers",
         "name": "Feasible Trial",
         "showlegend": false,
         "type": "scatter",
         "x": [
          0.03045064589680613,
          0.043161464201364984,
          0.02959456157743655,
          0.0041969675398673524,
          0.050876045024910645,
          0.03239941582014418,
          0.0016205622653806687,
          0.036647759430624025,
          0.01939312273281176,
          0.001976630674792773,
          0.009153096511780052,
          0.09531511189138718,
          0.00893324050435845,
          0.0927701509590474,
          0.09622085005287367,
          0.07884554109070592,
          0.014942615940739881,
          0.0567243019623693,
          0.06186207490162208,
          0.005071564130028977,
          0.056892488308269686,
          0.06005764678809379,
          0.020247398950067306,
          0.06795577223035759,
          0.06298725338758546
         ],
         "xaxis": "x5",
         "y": [
          0.35160437621301655,
          0.27691147205594535,
          0.1986379345977377,
          0.9311824416361173,
          0.1653785653404436,
          0.4453860170068221,
          0.7719334284189111,
          0.4928286227752857,
          0.4721681327747337,
          0.7863960495937629,
          0.021096883444261805,
          0.035468916866414846,
          0.6604240639153958,
          0.158079070738712,
          0.616577581296886,
          0.6313988380641429,
          0.6152852017964116,
          0.946067571401495,
          0.9763015247159273,
          0.970962086590466,
          0.8545589749361152,
          0.9973871608724298,
          0.8830218322040628,
          0.7172642330570739,
          0.7476859490094927
         ],
         "yaxis": "y5"
        },
        {
         "colorbar": {
          "title": {
           "text": "Objective Value"
          }
         },
         "colorscale": [
          [
           0,
           "rgb(247,251,255)"
          ],
          [
           0.125,
           "rgb(222,235,247)"
          ],
          [
           0.25,
           "rgb(198,219,239)"
          ],
          [
           0.375,
           "rgb(158,202,225)"
          ],
          [
           0.5,
           "rgb(107,174,214)"
          ],
          [
           0.625,
           "rgb(66,146,198)"
          ],
          [
           0.75,
           "rgb(33,113,181)"
          ],
          [
           0.875,
           "rgb(8,81,156)"
          ],
          [
           1,
           "rgb(8,48,107)"
          ]
         ],
         "connectgaps": true,
         "contours": {
          "coloring": "heatmap"
         },
         "hoverinfo": "none",
         "line": {
          "smoothing": 1.3
         },
         "reversescale": false,
         "showscale": false,
         "type": "contour",
         "x": [
          0.0013212516687476582,
          0.0016205622653806687,
          0.001976630674792773,
          0.0041969675398673524,
          0.005071564130028977,
          0.00893324050435845,
          0.009153096511780052,
          0.014942615940739881,
          0.01939312273281176,
          0.020247398950067306,
          0.02959456157743655,
          0.03045064589680613,
          0.03239941582014418,
          0.036647759430624025,
          0.043161464201364984,
          0.050876045024910645,
          0.0567243019623693,
          0.056892488308269686,
          0.06005764678809379,
          0.06186207490162208,
          0.06298725338758546,
          0.06795577223035759,
          0.07884554109070592,
          0.0927701509590474,
          0.09531511189138718,
          0.09622085005287367,
          0.1180183022106135
         ],
         "xaxis": "x11",
         "y": [
          3.7,
          4,
          5,
          6,
          7,
          8,
          9,
          10,
          10.3
         ],
         "yaxis": "y11",
         "z": [
          [
           null,
           null,
           null,
           null,
           null,
           null,
           null,
           null,
           null,
           null,
           null,
           null,
           null,
           null,
           null,
           null,
           null,
           null,
           null,
           null,
           null,
           null,
           null,
           null,
           null,
           null,
           null
          ],
          [
           null,
           null,
           null,
           null,
           null,
           null,
           null,
           null,
           null,
           null,
           null,
           null,
           null,
           null,
           null,
           null,
           null,
           0.8753041148284513,
           null,
           null,
           null,
           null,
           null,
           null,
           null,
           null,
           null
          ],
          [
           null,
           null,
           null,
           0.8631521704377709,
           null,
           null,
           null,
           null,
           null,
           null,
           0.8723895034398698,
           0.8731554520958047,
           0.8757704989752587,
           null,
           null,
           null,
           null,
           null,
           null,
           null,
           null,
           null,
           null,
           null,
           null,
           null,
           null
          ],
          [
           null,
           0.8507227887474659,
           0.8468994256985938,
           null,
           null,
           null,
           null,
           null,
           null,
           null,
           null,
           null,
           null,
           null,
           null,
           null,
           null,
           null,
           null,
           null,
           0.876715321987214,
           null,
           null,
           null,
           null,
           null,
           null
          ],
          [
           null,
           null,
           null,
           null,
           0.8697271527631747,
           null,
           null,
           0.8740693145070131,
           null,
           0.8754092963148761,
           null,
           null,
           null,
           null,
           null,
           null,
           null,
           null,
           null,
           0.877074744223945,
           null,
           null,
           null,
           null,
           null,
           null,
           null
          ],
          [
           null,
           null,
           null,
           null,
           null,
           0.8749787310245623,
           null,
           null,
           null,
           null,
           null,
           null,
           null,
           0.8760279130750771,
           null,
           null,
           0.876704415403992,
           null,
           0.8764521852471732,
           null,
           null,
           0.8767685412980705,
           0.8765577987945103,
           null,
           null,
           null,
           null
          ],
          [
           null,
           null,
           null,
           null,
           null,
           null,
           null,
           null,
           null,
           null,
           null,
           null,
           null,
           null,
           0.8760055874765106,
           0.8760698594045511,
           null,
           null,
           null,
           null,
           null,
           null,
           null,
           0.8764232168543427,
           null,
           0.876375921549484,
           null
          ],
          [
           null,
           null,
           null,
           null,
           null,
           null,
           0.8748311055725484,
           null,
           0.8762683271757736,
           null,
           null,
           null,
           null,
           null,
           null,
           null,
           null,
           null,
           null,
           null,
           null,
           null,
           null,
           null,
           0.8758808907573346,
           null,
           null
          ],
          [
           null,
           null,
           null,
           null,
           null,
           null,
           null,
           null,
           null,
           null,
           null,
           null,
           null,
           null,
           null,
           null,
           null,
           null,
           null,
           null,
           null,
           null,
           null,
           null,
           null,
           null,
           null
          ]
         ]
        },
        {
         "marker": {
          "color": "black",
          "line": {
           "color": "Gray",
           "width": 2
          }
         },
         "mode": "markers",
         "name": "Feasible Trial",
         "showlegend": false,
         "type": "scatter",
         "x": [
          0.03045064589680613,
          0.043161464201364984,
          0.02959456157743655,
          0.0041969675398673524,
          0.050876045024910645,
          0.03239941582014418,
          0.0016205622653806687,
          0.036647759430624025,
          0.01939312273281176,
          0.001976630674792773,
          0.009153096511780052,
          0.09531511189138718,
          0.00893324050435845,
          0.0927701509590474,
          0.09622085005287367,
          0.07884554109070592,
          0.014942615940739881,
          0.0567243019623693,
          0.06186207490162208,
          0.005071564130028977,
          0.056892488308269686,
          0.06005764678809379,
          0.020247398950067306,
          0.06795577223035759,
          0.06298725338758546
         ],
         "xaxis": "x11",
         "y": [
          5,
          9,
          5,
          5,
          9,
          5,
          6,
          8,
          10,
          6,
          10,
          10,
          8,
          9,
          9,
          8,
          7,
          8,
          7,
          7,
          4,
          8,
          7,
          8,
          6
         ],
         "yaxis": "y11"
        },
        {
         "colorbar": {
          "title": {
           "text": "Objective Value"
          }
         },
         "colorscale": [
          [
           0,
           "rgb(247,251,255)"
          ],
          [
           0.125,
           "rgb(222,235,247)"
          ],
          [
           0.25,
           "rgb(198,219,239)"
          ],
          [
           0.375,
           "rgb(158,202,225)"
          ],
          [
           0.5,
           "rgb(107,174,214)"
          ],
          [
           0.625,
           "rgb(66,146,198)"
          ],
          [
           0.75,
           "rgb(33,113,181)"
          ],
          [
           0.875,
           "rgb(8,81,156)"
          ],
          [
           1,
           "rgb(8,48,107)"
          ]
         ],
         "connectgaps": true,
         "contours": {
          "coloring": "heatmap"
         },
         "hoverinfo": "none",
         "line": {
          "smoothing": 1.3
         },
         "reversescale": false,
         "showscale": false,
         "type": "contour",
         "x": [
          0.0013212516687476582,
          0.0016205622653806687,
          0.001976630674792773,
          0.0041969675398673524,
          0.005071564130028977,
          0.00893324050435845,
          0.009153096511780052,
          0.014942615940739881,
          0.01939312273281176,
          0.020247398950067306,
          0.02959456157743655,
          0.03045064589680613,
          0.03239941582014418,
          0.036647759430624025,
          0.043161464201364984,
          0.050876045024910645,
          0.0567243019623693,
          0.056892488308269686,
          0.06005764678809379,
          0.06186207490162208,
          0.06298725338758546,
          0.06795577223035759,
          0.07884554109070592,
          0.0927701509590474,
          0.09531511189138718,
          0.09622085005287367,
          0.1180183022106135
         ],
         "xaxis": "x17",
         "y": [
          913.85,
          1010,
          1219,
          1245,
          1438,
          1498,
          1551,
          1635,
          1678,
          1799,
          1848,
          1850,
          1904,
          1996,
          2073,
          2090,
          2140,
          2143,
          2253,
          2272,
          2347,
          2447,
          2623,
          2649,
          2836,
          2933,
          3029.15
         ],
         "yaxis": "y17",
         "z": [
          [
           null,
           null,
           null,
           null,
           null,
           null,
           null,
           null,
           null,
           null,
           null,
           null,
           null,
           null,
           null,
           null,
           null,
           null,
           null,
           null,
           null,
           null,
           null,
           null,
           null,
           null,
           null
          ],
          [
           null,
           null,
           null,
           null,
           null,
           null,
           null,
           null,
           null,
           null,
           0.8723895034398698,
           null,
           null,
           null,
           null,
           null,
           null,
           null,
           null,
           null,
           null,
           null,
           null,
           null,
           null,
           null,
           null
          ],
          [
           null,
           0.8507227887474659,
           null,
           null,
           null,
           null,
           null,
           null,
           null,
           null,
           null,
           null,
           null,
           null,
           null,
           null,
           null,
           null,
           null,
           null,
           null,
           null,
           null,
           null,
           null,
           null,
           null
          ],
          [
           null,
           null,
           null,
           null,
           null,
           null,
           null,
           null,
           null,
           null,
           null,
           0.8731554520958047,
           null,
           null,
           null,
           null,
           null,
           null,
           null,
           null,
           null,
           null,
           null,
           null,
           null,
           null,
           null
          ],
          [
           null,
           null,
           null,
           null,
           null,
           null,
           null,
           null,
           null,
           null,
           null,
           null,
           null,
           null,
           null,
           null,
           null,
           null,
           null,
           null,
           null,
           0.8767685412980705,
           null,
           null,
           null,
           null,
           null
          ],
          [
           null,
           null,
           null,
           null,
           null,
           null,
           null,
           null,
           null,
           null,
           null,
           null,
           null,
           null,
           null,
           null,
           null,
           null,
           null,
           null,
           0.876715321987214,
           null,
           null,
           null,
           null,
           null,
           null
          ],
          [
           null,
           null,
           null,
           0.8631521704377709,
           null,
           null,
           null,
           null,
           null,
           null,
           null,
           null,
           null,
           null,
           null,
           null,
           null,
           null,
           null,
           null,
           null,
           null,
           null,
           null,
           null,
           null,
           null
          ],
          [
           null,
           null,
           null,
           null,
           null,
           null,
           null,
           0.8740693145070131,
           null,
           null,
           null,
           null,
           null,
           null,
           null,
           null,
           null,
           null,
           null,
           null,
           null,
           null,
           null,
           null,
           null,
           null,
           null
          ],
          [
           null,
           null,
           null,
           null,
           null,
           null,
           null,
           null,
           null,
           null,
           null,
           null,
           null,
           null,
           null,
           null,
           null,
           0.8753041148284513,
           null,
           null,
           null,
           null,
           null,
           null,
           null,
           null,
           null
          ],
          [
           null,
           null,
           null,
           null,
           null,
           null,
           null,
           null,
           null,
           0.8754092963148761,
           null,
           null,
           null,
           null,
           null,
           null,
           null,
           null,
           null,
           null,
           null,
           null,
           null,
           null,
           null,
           null,
           null
          ],
          [
           null,
           null,
           null,
           null,
           null,
           null,
           0.8748311055725484,
           null,
           null,
           null,
           null,
           null,
           null,
           null,
           null,
           null,
           null,
           null,
           null,
           null,
           null,
           null,
           null,
           null,
           null,
           null,
           null
          ],
          [
           null,
           null,
           null,
           null,
           null,
           null,
           null,
           null,
           null,
           null,
           null,
           null,
           null,
           null,
           null,
           null,
           null,
           null,
           null,
           null,
           null,
           null,
           0.8765577987945103,
           null,
           null,
           null,
           null
          ],
          [
           null,
           null,
           null,
           null,
           null,
           null,
           null,
           null,
           null,
           null,
           null,
           null,
           null,
           null,
           null,
           null,
           null,
           null,
           null,
           null,
           null,
           null,
           null,
           null,
           null,
           0.876375921549484,
           null
          ],
          [
           null,
           null,
           null,
           null,
           null,
           null,
           null,
           null,
           null,
           null,
           null,
           null,
           null,
           null,
           null,
           null,
           null,
           null,
           null,
           null,
           null,
           null,
           null,
           0.8764232168543427,
           null,
           null,
           null
          ],
          [
           null,
           null,
           null,
           null,
           null,
           null,
           null,
           null,
           null,
           null,
           null,
           null,
           null,
           null,
           null,
           null,
           0.876704415403992,
           null,
           null,
           null,
           null,
           null,
           null,
           null,
           null,
           null,
           null
          ],
          [
           null,
           null,
           null,
           null,
           null,
           null,
           null,
           null,
           null,
           null,
           null,
           null,
           null,
           null,
           null,
           null,
           null,
           null,
           0.8764521852471732,
           null,
           null,
           null,
           null,
           null,
           null,
           null,
           null
          ],
          [
           null,
           null,
           null,
           null,
           null,
           null,
           null,
           null,
           null,
           null,
           null,
           null,
           null,
           null,
           null,
           null,
           null,
           null,
           null,
           0.877074744223945,
           null,
           null,
           null,
           null,
           null,
           null,
           null
          ],
          [
           null,
           null,
           null,
           null,
           0.8697271527631747,
           null,
           null,
           null,
           null,
           null,
           null,
           null,
           null,
           null,
           null,
           null,
           null,
           null,
           null,
           null,
           null,
           null,
           null,
           null,
           null,
           null,
           null
          ],
          [
           null,
           null,
           null,
           null,
           null,
           null,
           null,
           null,
           null,
           null,
           null,
           null,
           0.8757704989752587,
           null,
           null,
           null,
           null,
           null,
           null,
           null,
           null,
           null,
           null,
           null,
           null,
           null,
           null
          ],
          [
           null,
           null,
           null,
           null,
           null,
           null,
           null,
           null,
           null,
           null,
           null,
           null,
           null,
           null,
           0.8760055874765106,
           null,
           null,
           null,
           null,
           null,
           null,
           null,
           null,
           null,
           null,
           null,
           null
          ],
          [
           null,
           null,
           null,
           null,
           null,
           null,
           null,
           null,
           0.8762683271757736,
           null,
           null,
           null,
           null,
           null,
           null,
           null,
           null,
           null,
           null,
           null,
           null,
           null,
           null,
           null,
           null,
           null,
           null
          ],
          [
           null,
           null,
           0.8468994256985938,
           null,
           null,
           null,
           null,
           null,
           null,
           null,
           null,
           null,
           null,
           null,
           null,
           null,
           null,
           null,
           null,
           null,
           null,
           null,
           null,
           null,
           null,
           null,
           null
          ],
          [
           null,
           null,
           null,
           null,
           null,
           null,
           null,
           null,
           null,
           null,
           null,
           null,
           null,
           null,
           null,
           0.8760698594045511,
           null,
           null,
           null,
           null,
           null,
           null,
           null,
           null,
           null,
           null,
           null
          ],
          [
           null,
           null,
           null,
           null,
           null,
           null,
           null,
           null,
           null,
           null,
           null,
           null,
           null,
           0.8760279130750771,
           null,
           null,
           null,
           null,
           null,
           null,
           null,
           null,
           null,
           null,
           null,
           null,
           null
          ],
          [
           null,
           null,
           null,
           null,
           null,
           null,
           null,
           null,
           null,
           null,
           null,
           null,
           null,
           null,
           null,
           null,
           null,
           null,
           null,
           null,
           null,
           null,
           null,
           null,
           0.8758808907573346,
           null,
           null
          ],
          [
           null,
           null,
           null,
           null,
           null,
           0.8749787310245623,
           null,
           null,
           null,
           null,
           null,
           null,
           null,
           null,
           null,
           null,
           null,
           null,
           null,
           null,
           null,
           null,
           null,
           null,
           null,
           null,
           null
          ],
          [
           null,
           null,
           null,
           null,
           null,
           null,
           null,
           null,
           null,
           null,
           null,
           null,
           null,
           null,
           null,
           null,
           null,
           null,
           null,
           null,
           null,
           null,
           null,
           null,
           null,
           null,
           null
          ]
         ]
        },
        {
         "marker": {
          "color": "black",
          "line": {
           "color": "Gray",
           "width": 2
          }
         },
         "mode": "markers",
         "name": "Feasible Trial",
         "showlegend": false,
         "type": "scatter",
         "x": [
          0.03045064589680613,
          0.043161464201364984,
          0.02959456157743655,
          0.0041969675398673524,
          0.050876045024910645,
          0.03239941582014418,
          0.0016205622653806687,
          0.036647759430624025,
          0.01939312273281176,
          0.001976630674792773,
          0.009153096511780052,
          0.09531511189138718,
          0.00893324050435845,
          0.0927701509590474,
          0.09622085005287367,
          0.07884554109070592,
          0.014942615940739881,
          0.0567243019623693,
          0.06186207490162208,
          0.005071564130028977,
          0.056892488308269686,
          0.06005764678809379,
          0.020247398950067306,
          0.06795577223035759,
          0.06298725338758546
         ],
         "xaxis": "x17",
         "y": [
          1245,
          2272,
          1010,
          1551,
          2623,
          2253,
          1219,
          2649,
          2347,
          2447,
          1848,
          2836,
          2933,
          1996,
          1904,
          1850,
          1635,
          2073,
          2140,
          2143,
          1678,
          2090,
          1799,
          1438,
          1498
         ],
         "yaxis": "y17"
        },
        {
         "colorbar": {
          "title": {
           "text": "Objective Value"
          }
         },
         "colorscale": [
          [
           0,
           "rgb(247,251,255)"
          ],
          [
           0.125,
           "rgb(222,235,247)"
          ],
          [
           0.25,
           "rgb(198,219,239)"
          ],
          [
           0.375,
           "rgb(158,202,225)"
          ],
          [
           0.5,
           "rgb(107,174,214)"
          ],
          [
           0.625,
           "rgb(66,146,198)"
          ],
          [
           0.75,
           "rgb(33,113,181)"
          ],
          [
           0.875,
           "rgb(8,81,156)"
          ],
          [
           1,
           "rgb(8,48,107)"
          ]
         ],
         "connectgaps": true,
         "contours": {
          "coloring": "heatmap"
         },
         "hoverinfo": "none",
         "line": {
          "smoothing": 1.3
         },
         "reversescale": false,
         "showscale": false,
         "type": "contour",
         "x": [
          0.0013212516687476582,
          0.0016205622653806687,
          0.001976630674792773,
          0.0041969675398673524,
          0.005071564130028977,
          0.00893324050435845,
          0.009153096511780052,
          0.014942615940739881,
          0.01939312273281176,
          0.020247398950067306,
          0.02959456157743655,
          0.03045064589680613,
          0.03239941582014418,
          0.036647759430624025,
          0.043161464201364984,
          0.050876045024910645,
          0.0567243019623693,
          0.056892488308269686,
          0.06005764678809379,
          0.06186207490162208,
          0.06298725338758546,
          0.06795577223035759,
          0.07884554109070592,
          0.0927701509590474,
          0.09531511189138718,
          0.09622085005287367,
          0.1180183022106135
         ],
         "xaxis": "x23",
         "y": [
          0.0008658406576890277,
          0.0013502205127737278,
          0.005599922125393375,
          0.005686488275845867,
          0.03621653933395622,
          0.050704952348633106,
          0.09723987296980896,
          0.20048521533471292,
          0.271065504382834,
          0.33577980823141684,
          0.5691482062324401,
          0.6438016057012503,
          0.6778200572155763,
          0.9059399944440578,
          1.1807824514396177,
          1.2801137168124583,
          1.598349642864303,
          1.6236863768463325,
          1.956471961188236,
          2.575660179430299,
          2.884566639319308,
          3.1144462200141576,
          3.7141853846566555,
          5.648665444998958,
          6.593822050520771,
          9.766506120440074,
          15.230212146822662
         ],
         "yaxis": "y23",
         "z": [
          [
           null,
           null,
           null,
           null,
           null,
           null,
           null,
           null,
           null,
           null,
           null,
           null,
           null,
           null,
           null,
           null,
           null,
           null,
           null,
           null,
           null,
           null,
           null,
           null,
           null,
           null,
           null
          ],
          [
           null,
           null,
           null,
           null,
           null,
           null,
           null,
           null,
           null,
           null,
           null,
           null,
           null,
           0.8760279130750771,
           null,
           null,
           null,
           null,
           null,
           null,
           null,
           null,
           null,
           null,
           null,
           null,
           null
          ],
          [
           null,
           null,
           0.8468994256985938,
           null,
           null,
           null,
           null,
           null,
           null,
           null,
           null,
           null,
           null,
           null,
           null,
           null,
           null,
           null,
           null,
           null,
           null,
           null,
           null,
           null,
           null,
           null,
           null
          ],
          [
           null,
           null,
           null,
           null,
           null,
           null,
           null,
           null,
           null,
           null,
           null,
           null,
           0.8757704989752587,
           null,
           null,
           null,
           null,
           null,
           null,
           null,
           null,
           null,
           null,
           null,
           null,
           null,
           null
          ],
          [
           null,
           null,
           null,
           null,
           null,
           0.8749787310245623,
           null,
           null,
           null,
           null,
           null,
           null,
           null,
           null,
           null,
           null,
           null,
           null,
           null,
           null,
           null,
           null,
           null,
           null,
           null,
           null,
           null
          ],
          [
           null,
           null,
           null,
           null,
           null,
           null,
           null,
           null,
           null,
           null,
           null,
           null,
           null,
           null,
           0.8760055874765106,
           null,
           null,
           null,
           null,
           null,
           null,
           null,
           null,
           null,
           null,
           null,
           null
          ],
          [
           null,
           null,
           null,
           null,
           null,
           null,
           null,
           null,
           null,
           null,
           null,
           null,
           null,
           null,
           null,
           null,
           null,
           0.8753041148284513,
           null,
           null,
           null,
           null,
           null,
           null,
           null,
           null,
           null
          ],
          [
           null,
           null,
           null,
           null,
           null,
           null,
           null,
           null,
           null,
           null,
           null,
           null,
           null,
           null,
           null,
           0.8760698594045511,
           null,
           null,
           null,
           null,
           null,
           null,
           null,
           null,
           null,
           null,
           null
          ],
          [
           null,
           0.8507227887474659,
           null,
           null,
           null,
           null,
           null,
           null,
           null,
           null,
           null,
           null,
           null,
           null,
           null,
           null,
           null,
           null,
           null,
           null,
           null,
           null,
           null,
           null,
           null,
           null,
           null
          ],
          [
           null,
           null,
           null,
           0.8631521704377709,
           null,
           null,
           null,
           null,
           null,
           null,
           null,
           null,
           null,
           null,
           null,
           null,
           null,
           null,
           null,
           null,
           null,
           null,
           null,
           null,
           null,
           null,
           null
          ],
          [
           null,
           null,
           null,
           null,
           null,
           null,
           null,
           null,
           null,
           null,
           null,
           null,
           null,
           null,
           null,
           null,
           null,
           null,
           0.8764521852471732,
           null,
           null,
           null,
           null,
           null,
           null,
           null,
           null
          ],
          [
           null,
           null,
           null,
           null,
           null,
           null,
           null,
           null,
           null,
           null,
           null,
           null,
           null,
           null,
           null,
           null,
           null,
           null,
           null,
           null,
           0.876715321987214,
           null,
           null,
           null,
           null,
           null,
           null
          ],
          [
           null,
           null,
           null,
           null,
           null,
           null,
           null,
           0.8740693145070131,
           null,
           null,
           null,
           null,
           null,
           null,
           null,
           null,
           null,
           null,
           null,
           null,
           null,
           null,
           null,
           null,
           null,
           null,
           null
          ],
          [
           null,
           null,
           null,
           null,
           null,
           null,
           null,
           null,
           null,
           null,
           null,
           null,
           null,
           null,
           null,
           null,
           null,
           null,
           null,
           null,
           null,
           0.8767685412980705,
           null,
           null,
           null,
           null,
           null
          ],
          [
           null,
           null,
           null,
           null,
           null,
           null,
           null,
           null,
           null,
           null,
           null,
           null,
           null,
           null,
           null,
           null,
           null,
           null,
           null,
           null,
           null,
           null,
           null,
           null,
           0.8758808907573346,
           null,
           null
          ],
          [
           null,
           null,
           null,
           null,
           null,
           null,
           null,
           null,
           null,
           null,
           null,
           null,
           null,
           null,
           null,
           null,
           null,
           null,
           null,
           null,
           null,
           null,
           0.8765577987945103,
           null,
           null,
           null,
           null
          ],
          [
           null,
           null,
           null,
           null,
           null,
           null,
           null,
           null,
           null,
           null,
           null,
           null,
           null,
           null,
           null,
           null,
           null,
           null,
           null,
           null,
           null,
           null,
           null,
           0.8764232168543427,
           null,
           null,
           null
          ],
          [
           null,
           null,
           null,
           null,
           null,
           null,
           null,
           null,
           null,
           null,
           null,
           0.8731554520958047,
           null,
           null,
           null,
           null,
           null,
           null,
           null,
           null,
           null,
           null,
           null,
           null,
           null,
           null,
           null
          ],
          [
           null,
           null,
           null,
           null,
           null,
           null,
           null,
           null,
           null,
           null,
           null,
           null,
           null,
           null,
           null,
           null,
           null,
           null,
           null,
           null,
           null,
           null,
           null,
           null,
           null,
           0.876375921549484,
           null
          ],
          [
           null,
           null,
           null,
           null,
           null,
           null,
           null,
           null,
           null,
           null,
           null,
           null,
           null,
           null,
           null,
           null,
           0.876704415403992,
           null,
           null,
           null,
           null,
           null,
           null,
           null,
           null,
           null,
           null
          ],
          [
           null,
           null,
           null,
           null,
           null,
           null,
           null,
           null,
           null,
           0.8754092963148761,
           null,
           null,
           null,
           null,
           null,
           null,
           null,
           null,
           null,
           null,
           null,
           null,
           null,
           null,
           null,
           null,
           null
          ],
          [
           null,
           null,
           null,
           null,
           null,
           null,
           null,
           null,
           null,
           null,
           null,
           null,
           null,
           null,
           null,
           null,
           null,
           null,
           null,
           0.877074744223945,
           null,
           null,
           null,
           null,
           null,
           null,
           null
          ],
          [
           null,
           null,
           null,
           null,
           0.8697271527631747,
           null,
           null,
           null,
           null,
           null,
           null,
           null,
           null,
           null,
           null,
           null,
           null,
           null,
           null,
           null,
           null,
           null,
           null,
           null,
           null,
           null,
           null
          ],
          [
           null,
           null,
           null,
           null,
           null,
           null,
           null,
           null,
           0.8762683271757736,
           null,
           null,
           null,
           null,
           null,
           null,
           null,
           null,
           null,
           null,
           null,
           null,
           null,
           null,
           null,
           null,
           null,
           null
          ],
          [
           null,
           null,
           null,
           null,
           null,
           null,
           null,
           null,
           null,
           null,
           0.8723895034398698,
           null,
           null,
           null,
           null,
           null,
           null,
           null,
           null,
           null,
           null,
           null,
           null,
           null,
           null,
           null,
           null
          ],
          [
           null,
           null,
           null,
           null,
           null,
           null,
           0.8748311055725484,
           null,
           null,
           null,
           null,
           null,
           null,
           null,
           null,
           null,
           null,
           null,
           null,
           null,
           null,
           null,
           null,
           null,
           null,
           null,
           null
          ],
          [
           null,
           null,
           null,
           null,
           null,
           null,
           null,
           null,
           null,
           null,
           null,
           null,
           null,
           null,
           null,
           null,
           null,
           null,
           null,
           null,
           null,
           null,
           null,
           null,
           null,
           null,
           null
          ]
         ]
        },
        {
         "marker": {
          "color": "black",
          "line": {
           "color": "Gray",
           "width": 2
          }
         },
         "mode": "markers",
         "name": "Feasible Trial",
         "showlegend": false,
         "type": "scatter",
         "x": [
          0.03045064589680613,
          0.043161464201364984,
          0.02959456157743655,
          0.0041969675398673524,
          0.050876045024910645,
          0.03239941582014418,
          0.0016205622653806687,
          0.036647759430624025,
          0.01939312273281176,
          0.001976630674792773,
          0.009153096511780052,
          0.09531511189138718,
          0.00893324050435845,
          0.0927701509590474,
          0.09622085005287367,
          0.07884554109070592,
          0.014942615940739881,
          0.0567243019623693,
          0.06186207490162208,
          0.005071564130028977,
          0.056892488308269686,
          0.06005764678809379,
          0.020247398950067306,
          0.06795577223035759,
          0.06298725338758546
         ],
         "xaxis": "x23",
         "y": [
          1.6236863768463325,
          0.050704952348633106,
          6.593822050520771,
          0.33577980823141684,
          0.20048521533471292,
          0.005686488275845867,
          0.271065504382834,
          0.0013502205127737278,
          5.648665444998958,
          0.005599922125393375,
          9.766506120440074,
          1.1807824514396177,
          0.03621653933395622,
          1.598349642864303,
          1.956471961188236,
          1.2801137168124583,
          0.6778200572155763,
          2.575660179430299,
          3.1144462200141576,
          3.7141853846566555,
          0.09723987296980896,
          0.5691482062324401,
          2.884566639319308,
          0.9059399944440578,
          0.6438016057012503
         ],
         "yaxis": "y23"
        },
        {
         "type": "scatter",
         "xaxis": "x29",
         "yaxis": "y29"
        },
        {
         "colorbar": {
          "title": {
           "text": "Objective Value"
          }
         },
         "colorscale": [
          [
           0,
           "rgb(247,251,255)"
          ],
          [
           0.125,
           "rgb(222,235,247)"
          ],
          [
           0.25,
           "rgb(198,219,239)"
          ],
          [
           0.375,
           "rgb(158,202,225)"
          ],
          [
           0.5,
           "rgb(107,174,214)"
          ],
          [
           0.625,
           "rgb(66,146,198)"
          ],
          [
           0.75,
           "rgb(33,113,181)"
          ],
          [
           0.875,
           "rgb(8,81,156)"
          ],
          [
           1,
           "rgb(8,48,107)"
          ]
         ],
         "connectgaps": true,
         "contours": {
          "coloring": "heatmap"
         },
         "hoverinfo": "none",
         "line": {
          "smoothing": 1.3
         },
         "reversescale": false,
         "showscale": false,
         "type": "contour",
         "x": [
          0.0013212516687476582,
          0.0016205622653806687,
          0.001976630674792773,
          0.0041969675398673524,
          0.005071564130028977,
          0.00893324050435845,
          0.009153096511780052,
          0.014942615940739881,
          0.01939312273281176,
          0.020247398950067306,
          0.02959456157743655,
          0.03045064589680613,
          0.03239941582014418,
          0.036647759430624025,
          0.043161464201364984,
          0.050876045024910645,
          0.0567243019623693,
          0.056892488308269686,
          0.06005764678809379,
          0.06186207490162208,
          0.06298725338758546,
          0.06795577223035759,
          0.07884554109070592,
          0.0927701509590474,
          0.09531511189138718,
          0.09622085005287367,
          0.1180183022106135
         ],
         "xaxis": "x35",
         "y": [
          0.0008851314267292528,
          0.0013679281765936408,
          0.009413375418335807,
          0.01031359388995681,
          0.010314680895799842,
          0.03302723763506745,
          0.035959616841470365,
          0.04187534676784171,
          0.08276447921795416,
          0.09982091719818298,
          0.11786015045616766,
          0.1197929964019686,
          0.22722430844635144,
          0.22980683750505768,
          0.36540570800441063,
          0.42645674510971915,
          0.6080287359985996,
          0.8114076476999805,
          0.9524576740419733,
          1.1441130526291785,
          1.2811117864609427,
          1.4655627609873096,
          2.4953193797068507,
          6.045293056544891,
          7.858371016947948,
          8.263689408320012,
          12.771135723912245
         ],
         "yaxis": "y35",
         "z": [
          [
           null,
           null,
           null,
           null,
           null,
           null,
           null,
           null,
           null,
           null,
           null,
           null,
           null,
           null,
           null,
           null,
           null,
           null,
           null,
           null,
           null,
           null,
           null,
           null,
           null,
           null,
           null
          ],
          [
           null,
           null,
           null,
           null,
           null,
           null,
           0.8748311055725484,
           null,
           null,
           null,
           null,
           null,
           null,
           null,
           null,
           null,
           null,
           null,
           null,
           null,
           null,
           null,
           null,
           null,
           null,
           null,
           null
          ],
          [
           null,
           null,
           null,
           null,
           null,
           null,
           null,
           null,
           null,
           null,
           null,
           null,
           null,
           null,
           null,
           null,
           null,
           0.8753041148284513,
           null,
           null,
           null,
           null,
           null,
           null,
           null,
           null,
           null
          ],
          [
           null,
           null,
           null,
           null,
           null,
           0.8749787310245623,
           null,
           null,
           null,
           null,
           null,
           null,
           null,
           null,
           null,
           null,
           null,
           null,
           null,
           null,
           null,
           null,
           null,
           null,
           null,
           null,
           null
          ],
          [
           null,
           null,
           null,
           null,
           null,
           null,
           null,
           null,
           null,
           null,
           null,
           null,
           0.8757704989752587,
           null,
           null,
           null,
           null,
           null,
           null,
           null,
           null,
           null,
           null,
           null,
           null,
           null,
           null
          ],
          [
           null,
           null,
           null,
           null,
           null,
           null,
           null,
           null,
           null,
           null,
           null,
           null,
           null,
           null,
           0.8760055874765106,
           null,
           null,
           null,
           null,
           null,
           null,
           null,
           null,
           null,
           null,
           null,
           null
          ],
          [
           null,
           0.8507227887474659,
           null,
           null,
           null,
           null,
           null,
           null,
           null,
           null,
           null,
           null,
           null,
           null,
           null,
           null,
           null,
           null,
           null,
           null,
           null,
           null,
           null,
           null,
           null,
           null,
           null
          ],
          [
           null,
           null,
           null,
           null,
           null,
           null,
           null,
           null,
           null,
           null,
           null,
           null,
           null,
           null,
           null,
           0.8760698594045511,
           null,
           null,
           null,
           null,
           null,
           null,
           null,
           null,
           null,
           null,
           null
          ],
          [
           null,
           null,
           null,
           null,
           null,
           null,
           null,
           null,
           null,
           null,
           null,
           null,
           null,
           null,
           null,
           null,
           null,
           null,
           null,
           null,
           null,
           null,
           null,
           0.8764232168543427,
           null,
           null,
           null
          ],
          [
           null,
           null,
           null,
           null,
           null,
           null,
           null,
           null,
           null,
           null,
           null,
           null,
           null,
           null,
           null,
           null,
           0.876704415403992,
           null,
           null,
           null,
           null,
           null,
           null,
           null,
           null,
           null,
           null
          ],
          [
           null,
           null,
           null,
           null,
           null,
           null,
           null,
           null,
           null,
           null,
           null,
           null,
           null,
           null,
           null,
           null,
           null,
           null,
           null,
           null,
           0.876715321987214,
           null,
           null,
           null,
           null,
           null,
           null
          ],
          [
           null,
           null,
           null,
           null,
           null,
           null,
           null,
           null,
           null,
           null,
           null,
           null,
           null,
           null,
           null,
           null,
           null,
           null,
           null,
           null,
           null,
           0.8767685412980705,
           null,
           null,
           null,
           null,
           null
          ],
          [
           null,
           null,
           null,
           0.8631521704377709,
           null,
           null,
           null,
           null,
           null,
           null,
           null,
           null,
           null,
           null,
           null,
           null,
           null,
           null,
           null,
           null,
           null,
           null,
           null,
           null,
           null,
           null,
           null
          ],
          [
           null,
           null,
           null,
           null,
           null,
           null,
           null,
           0.8740693145070131,
           null,
           null,
           null,
           null,
           null,
           null,
           null,
           null,
           null,
           null,
           null,
           null,
           null,
           null,
           null,
           null,
           null,
           null,
           null
          ],
          [
           null,
           null,
           null,
           null,
           null,
           null,
           null,
           null,
           null,
           null,
           null,
           null,
           null,
           0.8760279130750771,
           null,
           null,
           null,
           null,
           null,
           null,
           null,
           null,
           null,
           null,
           null,
           null,
           null
          ],
          [
           null,
           null,
           null,
           null,
           0.8697271527631747,
           null,
           null,
           null,
           null,
           null,
           null,
           null,
           null,
           null,
           null,
           null,
           null,
           null,
           null,
           null,
           null,
           null,
           null,
           null,
           null,
           null,
           null
          ],
          [
           null,
           null,
           null,
           null,
           null,
           null,
           null,
           null,
           null,
           0.8754092963148761,
           null,
           null,
           null,
           null,
           null,
           null,
           null,
           null,
           null,
           null,
           null,
           null,
           null,
           null,
           null,
           null,
           null
          ],
          [
           null,
           null,
           null,
           null,
           null,
           null,
           null,
           null,
           null,
           null,
           null,
           null,
           null,
           null,
           null,
           null,
           null,
           null,
           null,
           0.877074744223945,
           null,
           null,
           null,
           null,
           null,
           null,
           null
          ],
          [
           null,
           null,
           null,
           null,
           null,
           null,
           null,
           null,
           null,
           null,
           null,
           null,
           null,
           null,
           null,
           null,
           null,
           null,
           null,
           null,
           null,
           null,
           0.8765577987945103,
           null,
           null,
           null,
           null
          ],
          [
           null,
           null,
           null,
           null,
           null,
           null,
           null,
           null,
           null,
           null,
           0.8723895034398698,
           null,
           null,
           null,
           null,
           null,
           null,
           null,
           null,
           null,
           null,
           null,
           null,
           null,
           null,
           null,
           null
          ],
          [
           null,
           null,
           null,
           null,
           null,
           null,
           null,
           null,
           null,
           null,
           null,
           null,
           null,
           null,
           null,
           null,
           null,
           null,
           null,
           null,
           null,
           null,
           null,
           null,
           null,
           0.876375921549484,
           null
          ],
          [
           null,
           null,
           null,
           null,
           null,
           null,
           null,
           null,
           null,
           null,
           null,
           null,
           null,
           null,
           null,
           null,
           null,
           null,
           null,
           null,
           null,
           null,
           null,
           null,
           0.8758808907573346,
           null,
           null
          ],
          [
           null,
           null,
           null,
           null,
           null,
           null,
           null,
           null,
           null,
           null,
           null,
           null,
           null,
           null,
           null,
           null,
           null,
           null,
           0.8764521852471732,
           null,
           null,
           null,
           null,
           null,
           null,
           null,
           null
          ],
          [
           null,
           null,
           null,
           null,
           null,
           null,
           null,
           null,
           0.8762683271757736,
           null,
           null,
           null,
           null,
           null,
           null,
           null,
           null,
           null,
           null,
           null,
           null,
           null,
           null,
           null,
           null,
           null,
           null
          ],
          [
           null,
           null,
           null,
           null,
           null,
           null,
           null,
           null,
           null,
           null,
           null,
           0.8731554520958047,
           null,
           null,
           null,
           null,
           null,
           null,
           null,
           null,
           null,
           null,
           null,
           null,
           null,
           null,
           null
          ],
          [
           null,
           null,
           0.8468994256985938,
           null,
           null,
           null,
           null,
           null,
           null,
           null,
           null,
           null,
           null,
           null,
           null,
           null,
           null,
           null,
           null,
           null,
           null,
           null,
           null,
           null,
           null,
           null,
           null
          ],
          [
           null,
           null,
           null,
           null,
           null,
           null,
           null,
           null,
           null,
           null,
           null,
           null,
           null,
           null,
           null,
           null,
           null,
           null,
           null,
           null,
           null,
           null,
           null,
           null,
           null,
           null,
           null
          ]
         ]
        },
        {
         "marker": {
          "color": "black",
          "line": {
           "color": "Gray",
           "width": 2
          }
         },
         "mode": "markers",
         "name": "Feasible Trial",
         "showlegend": false,
         "type": "scatter",
         "x": [
          0.03045064589680613,
          0.043161464201364984,
          0.02959456157743655,
          0.0041969675398673524,
          0.050876045024910645,
          0.03239941582014418,
          0.0016205622653806687,
          0.036647759430624025,
          0.01939312273281176,
          0.001976630674792773,
          0.009153096511780052,
          0.09531511189138718,
          0.00893324050435845,
          0.0927701509590474,
          0.09622085005287367,
          0.07884554109070592,
          0.014942615940739881,
          0.0567243019623693,
          0.06186207490162208,
          0.005071564130028977,
          0.056892488308269686,
          0.06005764678809379,
          0.020247398950067306,
          0.06795577223035759,
          0.06298725338758546
         ],
         "xaxis": "x35",
         "y": [
          7.858371016947948,
          0.03302723763506745,
          1.1441130526291785,
          0.22722430844635144,
          0.04187534676784171,
          0.010314680895799842,
          0.035959616841470365,
          0.36540570800441063,
          6.045293056544891,
          8.263689408320012,
          0.0013679281765936408,
          1.4655627609873096,
          0.01031359388995681,
          0.08276447921795416,
          1.2811117864609427,
          0.9524576740419733,
          0.22980683750505768,
          0.09982091719818298,
          0.8114076476999805,
          0.42645674510971915,
          0.009413375418335807,
          2.4953193797068507,
          0.6080287359985996,
          0.1197929964019686,
          0.11786015045616766
         ],
         "yaxis": "y35"
        },
        {
         "colorbar": {
          "title": {
           "text": "Objective Value"
          }
         },
         "colorscale": [
          [
           0,
           "rgb(247,251,255)"
          ],
          [
           0.125,
           "rgb(222,235,247)"
          ],
          [
           0.25,
           "rgb(198,219,239)"
          ],
          [
           0.375,
           "rgb(158,202,225)"
          ],
          [
           0.5,
           "rgb(107,174,214)"
          ],
          [
           0.625,
           "rgb(66,146,198)"
          ],
          [
           0.75,
           "rgb(33,113,181)"
          ],
          [
           0.875,
           "rgb(8,81,156)"
          ],
          [
           1,
           "rgb(8,48,107)"
          ]
         ],
         "connectgaps": true,
         "contours": {
          "coloring": "heatmap"
         },
         "hoverinfo": "none",
         "line": {
          "smoothing": 1.3
         },
         "reversescale": false,
         "showscale": false,
         "type": "contour",
         "x": [
          0.0008851314267292528,
          0.0013679281765936408,
          0.009413375418335807,
          0.01031359388995681,
          0.010314680895799842,
          0.03302723763506745,
          0.035959616841470365,
          0.04187534676784171,
          0.08276447921795416,
          0.09982091719818298,
          0.11786015045616766,
          0.1197929964019686,
          0.22722430844635144,
          0.22980683750505768,
          0.36540570800441063,
          0.42645674510971915,
          0.6080287359985996,
          0.8114076476999805,
          0.9524576740419733,
          1.1441130526291785,
          1.2811117864609427,
          1.4655627609873096,
          2.4953193797068507,
          6.045293056544891,
          7.858371016947948,
          8.263689408320012,
          12.771135723912245
         ],
         "xaxis": "x6",
         "y": [
          -0.027717630427146603,
          0.021096883444261805,
          0.035468916866414846,
          0.158079070738712,
          0.1653785653404436,
          0.1986379345977377,
          0.27691147205594535,
          0.35160437621301655,
          0.4453860170068221,
          0.4721681327747337,
          0.4928286227752857,
          0.6152852017964116,
          0.616577581296886,
          0.6313988380641429,
          0.6604240639153958,
          0.7172642330570739,
          0.7476859490094927,
          0.7719334284189111,
          0.7863960495937629,
          0.8545589749361152,
          0.8830218322040628,
          0.9311824416361173,
          0.946067571401495,
          0.970962086590466,
          0.9763015247159273,
          0.9973871608724298,
          1.0462016747438383
         ],
         "yaxis": "y6",
         "z": [
          [
           null,
           null,
           null,
           null,
           null,
           null,
           null,
           null,
           null,
           null,
           null,
           null,
           null,
           null,
           null,
           null,
           null,
           null,
           null,
           null,
           null,
           null,
           null,
           null,
           null,
           null,
           null
          ],
          [
           null,
           0.8748311055725484,
           null,
           null,
           null,
           null,
           null,
           null,
           null,
           null,
           null,
           null,
           null,
           null,
           null,
           null,
           null,
           null,
           null,
           null,
           null,
           null,
           null,
           null,
           null,
           null,
           null
          ],
          [
           null,
           null,
           null,
           null,
           null,
           null,
           null,
           null,
           null,
           null,
           null,
           null,
           null,
           null,
           null,
           null,
           null,
           null,
           null,
           null,
           null,
           0.8758808907573346,
           null,
           null,
           null,
           null,
           null
          ],
          [
           null,
           null,
           null,
           null,
           null,
           null,
           null,
           null,
           0.8764232168543427,
           null,
           null,
           null,
           null,
           null,
           null,
           null,
           null,
           null,
           null,
           null,
           null,
           null,
           null,
           null,
           null,
           null,
           null
          ],
          [
           null,
           null,
           null,
           null,
           null,
           null,
           null,
           0.8760698594045511,
           null,
           null,
           null,
           null,
           null,
           null,
           null,
           null,
           null,
           null,
           null,
           null,
           null,
           null,
           null,
           null,
           null,
           null,
           null
          ],
          [
           null,
           null,
           null,
           null,
           null,
           null,
           null,
           null,
           null,
           null,
           null,
           null,
           null,
           null,
           null,
           null,
           null,
           null,
           null,
           0.8723895034398698,
           null,
           null,
           null,
           null,
           null,
           null,
           null
          ],
          [
           null,
           null,
           null,
           null,
           null,
           0.8760055874765106,
           null,
           null,
           null,
           null,
           null,
           null,
           null,
           null,
           null,
           null,
           null,
           null,
           null,
           null,
           null,
           null,
           null,
           null,
           null,
           null,
           null
          ],
          [
           null,
           null,
           null,
           null,
           null,
           null,
           null,
           null,
           null,
           null,
           null,
           null,
           null,
           null,
           null,
           null,
           null,
           null,
           null,
           null,
           null,
           null,
           null,
           null,
           0.8731554520958047,
           null,
           null
          ],
          [
           null,
           null,
           null,
           null,
           0.8757704989752587,
           null,
           null,
           null,
           null,
           null,
           null,
           null,
           null,
           null,
           null,
           null,
           null,
           null,
           null,
           null,
           null,
           null,
           null,
           null,
           null,
           null,
           null
          ],
          [
           null,
           null,
           null,
           null,
           null,
           null,
           null,
           null,
           null,
           null,
           null,
           null,
           null,
           null,
           null,
           null,
           null,
           null,
           null,
           null,
           null,
           null,
           null,
           0.8762683271757736,
           null,
           null,
           null
          ],
          [
           null,
           null,
           null,
           null,
           null,
           null,
           null,
           null,
           null,
           null,
           null,
           null,
           null,
           null,
           0.8760279130750771,
           null,
           null,
           null,
           null,
           null,
           null,
           null,
           null,
           null,
           null,
           null,
           null
          ],
          [
           null,
           null,
           null,
           null,
           null,
           null,
           null,
           null,
           null,
           null,
           null,
           null,
           null,
           0.8740693145070131,
           null,
           null,
           null,
           null,
           null,
           null,
           null,
           null,
           null,
           null,
           null,
           null,
           null
          ],
          [
           null,
           null,
           null,
           null,
           null,
           null,
           null,
           null,
           null,
           null,
           null,
           null,
           null,
           null,
           null,
           null,
           null,
           null,
           null,
           null,
           0.876375921549484,
           null,
           null,
           null,
           null,
           null,
           null
          ],
          [
           null,
           null,
           null,
           null,
           null,
           null,
           null,
           null,
           null,
           null,
           null,
           null,
           null,
           null,
           null,
           null,
           null,
           null,
           0.8765577987945103,
           null,
           null,
           null,
           null,
           null,
           null,
           null,
           null
          ],
          [
           null,
           null,
           null,
           0.8749787310245623,
           null,
           null,
           null,
           null,
           null,
           null,
           null,
           null,
           null,
           null,
           null,
           null,
           null,
           null,
           null,
           null,
           null,
           null,
           null,
           null,
           null,
           null,
           null
          ],
          [
           null,
           null,
           null,
           null,
           null,
           null,
           null,
           null,
           null,
           null,
           null,
           0.8767685412980705,
           null,
           null,
           null,
           null,
           null,
           null,
           null,
           null,
           null,
           null,
           null,
           null,
           null,
           null,
           null
          ],
          [
           null,
           null,
           null,
           null,
           null,
           null,
           null,
           null,
           null,
           null,
           0.876715321987214,
           null,
           null,
           null,
           null,
           null,
           null,
           null,
           null,
           null,
           null,
           null,
           null,
           null,
           null,
           null,
           null
          ],
          [
           null,
           null,
           null,
           null,
           null,
           null,
           0.8507227887474659,
           null,
           null,
           null,
           null,
           null,
           null,
           null,
           null,
           null,
           null,
           null,
           null,
           null,
           null,
           null,
           null,
           null,
           null,
           null,
           null
          ],
          [
           null,
           null,
           null,
           null,
           null,
           null,
           null,
           null,
           null,
           null,
           null,
           null,
           null,
           null,
           null,
           null,
           null,
           null,
           null,
           null,
           null,
           null,
           null,
           null,
           null,
           0.8468994256985938,
           null
          ],
          [
           null,
           null,
           0.8753041148284513,
           null,
           null,
           null,
           null,
           null,
           null,
           null,
           null,
           null,
           null,
           null,
           null,
           null,
           null,
           null,
           null,
           null,
           null,
           null,
           null,
           null,
           null,
           null,
           null
          ],
          [
           null,
           null,
           null,
           null,
           null,
           null,
           null,
           null,
           null,
           null,
           null,
           null,
           null,
           null,
           null,
           null,
           0.8754092963148761,
           null,
           null,
           null,
           null,
           null,
           null,
           null,
           null,
           null,
           null
          ],
          [
           null,
           null,
           null,
           null,
           null,
           null,
           null,
           null,
           null,
           null,
           null,
           null,
           0.8631521704377709,
           null,
           null,
           null,
           null,
           null,
           null,
           null,
           null,
           null,
           null,
           null,
           null,
           null,
           null
          ],
          [
           null,
           null,
           null,
           null,
           null,
           null,
           null,
           null,
           null,
           0.876704415403992,
           null,
           null,
           null,
           null,
           null,
           null,
           null,
           null,
           null,
           null,
           null,
           null,
           null,
           null,
           null,
           null,
           null
          ],
          [
           null,
           null,
           null,
           null,
           null,
           null,
           null,
           null,
           null,
           null,
           null,
           null,
           null,
           null,
           null,
           0.8697271527631747,
           null,
           null,
           null,
           null,
           null,
           null,
           null,
           null,
           null,
           null,
           null
          ],
          [
           null,
           null,
           null,
           null,
           null,
           null,
           null,
           null,
           null,
           null,
           null,
           null,
           null,
           null,
           null,
           null,
           null,
           0.877074744223945,
           null,
           null,
           null,
           null,
           null,
           null,
           null,
           null,
           null
          ],
          [
           null,
           null,
           null,
           null,
           null,
           null,
           null,
           null,
           null,
           null,
           null,
           null,
           null,
           null,
           null,
           null,
           null,
           null,
           null,
           null,
           null,
           null,
           0.8764521852471732,
           null,
           null,
           null,
           null
          ],
          [
           null,
           null,
           null,
           null,
           null,
           null,
           null,
           null,
           null,
           null,
           null,
           null,
           null,
           null,
           null,
           null,
           null,
           null,
           null,
           null,
           null,
           null,
           null,
           null,
           null,
           null,
           null
          ]
         ]
        },
        {
         "marker": {
          "color": "black",
          "line": {
           "color": "Gray",
           "width": 2
          }
         },
         "mode": "markers",
         "name": "Feasible Trial",
         "showlegend": false,
         "type": "scatter",
         "x": [
          7.858371016947948,
          0.03302723763506745,
          1.1441130526291785,
          0.22722430844635144,
          0.04187534676784171,
          0.010314680895799842,
          0.035959616841470365,
          0.36540570800441063,
          6.045293056544891,
          8.263689408320012,
          0.0013679281765936408,
          1.4655627609873096,
          0.01031359388995681,
          0.08276447921795416,
          1.2811117864609427,
          0.9524576740419733,
          0.22980683750505768,
          0.09982091719818298,
          0.8114076476999805,
          0.42645674510971915,
          0.009413375418335807,
          2.4953193797068507,
          0.6080287359985996,
          0.1197929964019686,
          0.11786015045616766
         ],
         "xaxis": "x6",
         "y": [
          0.35160437621301655,
          0.27691147205594535,
          0.1986379345977377,
          0.9311824416361173,
          0.1653785653404436,
          0.4453860170068221,
          0.7719334284189111,
          0.4928286227752857,
          0.4721681327747337,
          0.7863960495937629,
          0.021096883444261805,
          0.035468916866414846,
          0.6604240639153958,
          0.158079070738712,
          0.616577581296886,
          0.6313988380641429,
          0.6152852017964116,
          0.946067571401495,
          0.9763015247159273,
          0.970962086590466,
          0.8545589749361152,
          0.9973871608724298,
          0.8830218322040628,
          0.7172642330570739,
          0.7476859490094927
         ],
         "yaxis": "y6"
        },
        {
         "colorbar": {
          "title": {
           "text": "Objective Value"
          }
         },
         "colorscale": [
          [
           0,
           "rgb(247,251,255)"
          ],
          [
           0.125,
           "rgb(222,235,247)"
          ],
          [
           0.25,
           "rgb(198,219,239)"
          ],
          [
           0.375,
           "rgb(158,202,225)"
          ],
          [
           0.5,
           "rgb(107,174,214)"
          ],
          [
           0.625,
           "rgb(66,146,198)"
          ],
          [
           0.75,
           "rgb(33,113,181)"
          ],
          [
           0.875,
           "rgb(8,81,156)"
          ],
          [
           1,
           "rgb(8,48,107)"
          ]
         ],
         "connectgaps": true,
         "contours": {
          "coloring": "heatmap"
         },
         "hoverinfo": "none",
         "line": {
          "smoothing": 1.3
         },
         "reversescale": false,
         "showscale": false,
         "type": "contour",
         "x": [
          0.0008851314267292528,
          0.0013679281765936408,
          0.009413375418335807,
          0.01031359388995681,
          0.010314680895799842,
          0.03302723763506745,
          0.035959616841470365,
          0.04187534676784171,
          0.08276447921795416,
          0.09982091719818298,
          0.11786015045616766,
          0.1197929964019686,
          0.22722430844635144,
          0.22980683750505768,
          0.36540570800441063,
          0.42645674510971915,
          0.6080287359985996,
          0.8114076476999805,
          0.9524576740419733,
          1.1441130526291785,
          1.2811117864609427,
          1.4655627609873096,
          2.4953193797068507,
          6.045293056544891,
          7.858371016947948,
          8.263689408320012,
          12.771135723912245
         ],
         "xaxis": "x12",
         "y": [
          3.7,
          4,
          5,
          6,
          7,
          8,
          9,
          10,
          10.3
         ],
         "yaxis": "y12",
         "z": [
          [
           null,
           null,
           null,
           null,
           null,
           null,
           null,
           null,
           null,
           null,
           null,
           null,
           null,
           null,
           null,
           null,
           null,
           null,
           null,
           null,
           null,
           null,
           null,
           null,
           null,
           null,
           null
          ],
          [
           null,
           null,
           0.8753041148284513,
           null,
           null,
           null,
           null,
           null,
           null,
           null,
           null,
           null,
           null,
           null,
           null,
           null,
           null,
           null,
           null,
           null,
           null,
           null,
           null,
           null,
           null,
           null,
           null
          ],
          [
           null,
           null,
           null,
           null,
           0.8757704989752587,
           null,
           null,
           null,
           null,
           null,
           null,
           null,
           0.8631521704377709,
           null,
           null,
           null,
           null,
           null,
           null,
           0.8723895034398698,
           null,
           null,
           null,
           null,
           0.8731554520958047,
           null,
           null
          ],
          [
           null,
           null,
           null,
           null,
           null,
           null,
           0.8507227887474659,
           null,
           null,
           null,
           0.876715321987214,
           null,
           null,
           null,
           null,
           null,
           null,
           null,
           null,
           null,
           null,
           null,
           null,
           null,
           null,
           0.8468994256985938,
           null
          ],
          [
           null,
           null,
           null,
           null,
           null,
           null,
           null,
           null,
           null,
           null,
           null,
           null,
           null,
           0.8740693145070131,
           null,
           0.8697271527631747,
           0.8754092963148761,
           0.877074744223945,
           null,
           null,
           null,
           null,
           null,
           null,
           null,
           null,
           null
          ],
          [
           null,
           null,
           null,
           0.8749787310245623,
           null,
           null,
           null,
           null,
           null,
           0.876704415403992,
           null,
           0.8767685412980705,
           null,
           null,
           0.8760279130750771,
           null,
           null,
           null,
           0.8765577987945103,
           null,
           null,
           null,
           0.8764521852471732,
           null,
           null,
           null,
           null
          ],
          [
           null,
           null,
           null,
           null,
           null,
           0.8760055874765106,
           null,
           0.8760698594045511,
           0.8764232168543427,
           null,
           null,
           null,
           null,
           null,
           null,
           null,
           null,
           null,
           null,
           null,
           0.876375921549484,
           null,
           null,
           null,
           null,
           null,
           null
          ],
          [
           null,
           0.8748311055725484,
           null,
           null,
           null,
           null,
           null,
           null,
           null,
           null,
           null,
           null,
           null,
           null,
           null,
           null,
           null,
           null,
           null,
           null,
           null,
           0.8758808907573346,
           null,
           0.8762683271757736,
           null,
           null,
           null
          ],
          [
           null,
           null,
           null,
           null,
           null,
           null,
           null,
           null,
           null,
           null,
           null,
           null,
           null,
           null,
           null,
           null,
           null,
           null,
           null,
           null,
           null,
           null,
           null,
           null,
           null,
           null,
           null
          ]
         ]
        },
        {
         "marker": {
          "color": "black",
          "line": {
           "color": "Gray",
           "width": 2
          }
         },
         "mode": "markers",
         "name": "Feasible Trial",
         "showlegend": false,
         "type": "scatter",
         "x": [
          7.858371016947948,
          0.03302723763506745,
          1.1441130526291785,
          0.22722430844635144,
          0.04187534676784171,
          0.010314680895799842,
          0.035959616841470365,
          0.36540570800441063,
          6.045293056544891,
          8.263689408320012,
          0.0013679281765936408,
          1.4655627609873096,
          0.01031359388995681,
          0.08276447921795416,
          1.2811117864609427,
          0.9524576740419733,
          0.22980683750505768,
          0.09982091719818298,
          0.8114076476999805,
          0.42645674510971915,
          0.009413375418335807,
          2.4953193797068507,
          0.6080287359985996,
          0.1197929964019686,
          0.11786015045616766
         ],
         "xaxis": "x12",
         "y": [
          5,
          9,
          5,
          5,
          9,
          5,
          6,
          8,
          10,
          6,
          10,
          10,
          8,
          9,
          9,
          8,
          7,
          8,
          7,
          7,
          4,
          8,
          7,
          8,
          6
         ],
         "yaxis": "y12"
        },
        {
         "colorbar": {
          "title": {
           "text": "Objective Value"
          }
         },
         "colorscale": [
          [
           0,
           "rgb(247,251,255)"
          ],
          [
           0.125,
           "rgb(222,235,247)"
          ],
          [
           0.25,
           "rgb(198,219,239)"
          ],
          [
           0.375,
           "rgb(158,202,225)"
          ],
          [
           0.5,
           "rgb(107,174,214)"
          ],
          [
           0.625,
           "rgb(66,146,198)"
          ],
          [
           0.75,
           "rgb(33,113,181)"
          ],
          [
           0.875,
           "rgb(8,81,156)"
          ],
          [
           1,
           "rgb(8,48,107)"
          ]
         ],
         "connectgaps": true,
         "contours": {
          "coloring": "heatmap"
         },
         "hoverinfo": "none",
         "line": {
          "smoothing": 1.3
         },
         "reversescale": false,
         "showscale": false,
         "type": "contour",
         "x": [
          0.0008851314267292528,
          0.0013679281765936408,
          0.009413375418335807,
          0.01031359388995681,
          0.010314680895799842,
          0.03302723763506745,
          0.035959616841470365,
          0.04187534676784171,
          0.08276447921795416,
          0.09982091719818298,
          0.11786015045616766,
          0.1197929964019686,
          0.22722430844635144,
          0.22980683750505768,
          0.36540570800441063,
          0.42645674510971915,
          0.6080287359985996,
          0.8114076476999805,
          0.9524576740419733,
          1.1441130526291785,
          1.2811117864609427,
          1.4655627609873096,
          2.4953193797068507,
          6.045293056544891,
          7.858371016947948,
          8.263689408320012,
          12.771135723912245
         ],
         "xaxis": "x18",
         "y": [
          913.85,
          1010,
          1219,
          1245,
          1438,
          1498,
          1551,
          1635,
          1678,
          1799,
          1848,
          1850,
          1904,
          1996,
          2073,
          2090,
          2140,
          2143,
          2253,
          2272,
          2347,
          2447,
          2623,
          2649,
          2836,
          2933,
          3029.15
         ],
         "yaxis": "y18",
         "z": [
          [
           null,
           null,
           null,
           null,
           null,
           null,
           null,
           null,
           null,
           null,
           null,
           null,
           null,
           null,
           null,
           null,
           null,
           null,
           null,
           null,
           null,
           null,
           null,
           null,
           null,
           null,
           null
          ],
          [
           null,
           null,
           null,
           null,
           null,
           null,
           null,
           null,
           null,
           null,
           null,
           null,
           null,
           null,
           null,
           null,
           null,
           null,
           null,
           0.8723895034398698,
           null,
           null,
           null,
           null,
           null,
           null,
           null
          ],
          [
           null,
           null,
           null,
           null,
           null,
           null,
           0.8507227887474659,
           null,
           null,
           null,
           null,
           null,
           null,
           null,
           null,
           null,
           null,
           null,
           null,
           null,
           null,
           null,
           null,
           null,
           null,
           null,
           null
          ],
          [
           null,
           null,
           null,
           null,
           null,
           null,
           null,
           null,
           null,
           null,
           null,
           null,
           null,
           null,
           null,
           null,
           null,
           null,
           null,
           null,
           null,
           null,
           null,
           null,
           0.8731554520958047,
           null,
           null
          ],
          [
           null,
           null,
           null,
           null,
           null,
           null,
           null,
           null,
           null,
           null,
           null,
           0.8767685412980705,
           null,
           null,
           null,
           null,
           null,
           null,
           null,
           null,
           null,
           null,
           null,
           null,
           null,
           null,
           null
          ],
          [
           null,
           null,
           null,
           null,
           null,
           null,
           null,
           null,
           null,
           null,
           0.876715321987214,
           null,
           null,
           null,
           null,
           null,
           null,
           null,
           null,
           null,
           null,
           null,
           null,
           null,
           null,
           null,
           null
          ],
          [
           null,
           null,
           null,
           null,
           null,
           null,
           null,
           null,
           null,
           null,
           null,
           null,
           0.8631521704377709,
           null,
           null,
           null,
           null,
           null,
           null,
           null,
           null,
           null,
           null,
           null,
           null,
           null,
           null
          ],
          [
           null,
           null,
           null,
           null,
           null,
           null,
           null,
           null,
           null,
           null,
           null,
           null,
           null,
           0.8740693145070131,
           null,
           null,
           null,
           null,
           null,
           null,
           null,
           null,
           null,
           null,
           null,
           null,
           null
          ],
          [
           null,
           null,
           0.8753041148284513,
           null,
           null,
           null,
           null,
           null,
           null,
           null,
           null,
           null,
           null,
           null,
           null,
           null,
           null,
           null,
           null,
           null,
           null,
           null,
           null,
           null,
           null,
           null,
           null
          ],
          [
           null,
           null,
           null,
           null,
           null,
           null,
           null,
           null,
           null,
           null,
           null,
           null,
           null,
           null,
           null,
           null,
           0.8754092963148761,
           null,
           null,
           null,
           null,
           null,
           null,
           null,
           null,
           null,
           null
          ],
          [
           null,
           0.8748311055725484,
           null,
           null,
           null,
           null,
           null,
           null,
           null,
           null,
           null,
           null,
           null,
           null,
           null,
           null,
           null,
           null,
           null,
           null,
           null,
           null,
           null,
           null,
           null,
           null,
           null
          ],
          [
           null,
           null,
           null,
           null,
           null,
           null,
           null,
           null,
           null,
           null,
           null,
           null,
           null,
           null,
           null,
           null,
           null,
           null,
           0.8765577987945103,
           null,
           null,
           null,
           null,
           null,
           null,
           null,
           null
          ],
          [
           null,
           null,
           null,
           null,
           null,
           null,
           null,
           null,
           null,
           null,
           null,
           null,
           null,
           null,
           null,
           null,
           null,
           null,
           null,
           null,
           0.876375921549484,
           null,
           null,
           null,
           null,
           null,
           null
          ],
          [
           null,
           null,
           null,
           null,
           null,
           null,
           null,
           null,
           0.8764232168543427,
           null,
           null,
           null,
           null,
           null,
           null,
           null,
           null,
           null,
           null,
           null,
           null,
           null,
           null,
           null,
           null,
           null,
           null
          ],
          [
           null,
           null,
           null,
           null,
           null,
           null,
           null,
           null,
           null,
           0.876704415403992,
           null,
           null,
           null,
           null,
           null,
           null,
           null,
           null,
           null,
           null,
           null,
           null,
           null,
           null,
           null,
           null,
           null
          ],
          [
           null,
           null,
           null,
           null,
           null,
           null,
           null,
           null,
           null,
           null,
           null,
           null,
           null,
           null,
           null,
           null,
           null,
           null,
           null,
           null,
           null,
           null,
           0.8764521852471732,
           null,
           null,
           null,
           null
          ],
          [
           null,
           null,
           null,
           null,
           null,
           null,
           null,
           null,
           null,
           null,
           null,
           null,
           null,
           null,
           null,
           null,
           null,
           0.877074744223945,
           null,
           null,
           null,
           null,
           null,
           null,
           null,
           null,
           null
          ],
          [
           null,
           null,
           null,
           null,
           null,
           null,
           null,
           null,
           null,
           null,
           null,
           null,
           null,
           null,
           null,
           0.8697271527631747,
           null,
           null,
           null,
           null,
           null,
           null,
           null,
           null,
           null,
           null,
           null
          ],
          [
           null,
           null,
           null,
           null,
           0.8757704989752587,
           null,
           null,
           null,
           null,
           null,
           null,
           null,
           null,
           null,
           null,
           null,
           null,
           null,
           null,
           null,
           null,
           null,
           null,
           null,
           null,
           null,
           null
          ],
          [
           null,
           null,
           null,
           null,
           null,
           0.8760055874765106,
           null,
           null,
           null,
           null,
           null,
           null,
           null,
           null,
           null,
           null,
           null,
           null,
           null,
           null,
           null,
           null,
           null,
           null,
           null,
           null,
           null
          ],
          [
           null,
           null,
           null,
           null,
           null,
           null,
           null,
           null,
           null,
           null,
           null,
           null,
           null,
           null,
           null,
           null,
           null,
           null,
           null,
           null,
           null,
           null,
           null,
           0.8762683271757736,
           null,
           null,
           null
          ],
          [
           null,
           null,
           null,
           null,
           null,
           null,
           null,
           null,
           null,
           null,
           null,
           null,
           null,
           null,
           null,
           null,
           null,
           null,
           null,
           null,
           null,
           null,
           null,
           null,
           null,
           0.8468994256985938,
           null
          ],
          [
           null,
           null,
           null,
           null,
           null,
           null,
           null,
           0.8760698594045511,
           null,
           null,
           null,
           null,
           null,
           null,
           null,
           null,
           null,
           null,
           null,
           null,
           null,
           null,
           null,
           null,
           null,
           null,
           null
          ],
          [
           null,
           null,
           null,
           null,
           null,
           null,
           null,
           null,
           null,
           null,
           null,
           null,
           null,
           null,
           0.8760279130750771,
           null,
           null,
           null,
           null,
           null,
           null,
           null,
           null,
           null,
           null,
           null,
           null
          ],
          [
           null,
           null,
           null,
           null,
           null,
           null,
           null,
           null,
           null,
           null,
           null,
           null,
           null,
           null,
           null,
           null,
           null,
           null,
           null,
           null,
           null,
           0.8758808907573346,
           null,
           null,
           null,
           null,
           null
          ],
          [
           null,
           null,
           null,
           0.8749787310245623,
           null,
           null,
           null,
           null,
           null,
           null,
           null,
           null,
           null,
           null,
           null,
           null,
           null,
           null,
           null,
           null,
           null,
           null,
           null,
           null,
           null,
           null,
           null
          ],
          [
           null,
           null,
           null,
           null,
           null,
           null,
           null,
           null,
           null,
           null,
           null,
           null,
           null,
           null,
           null,
           null,
           null,
           null,
           null,
           null,
           null,
           null,
           null,
           null,
           null,
           null,
           null
          ]
         ]
        },
        {
         "marker": {
          "color": "black",
          "line": {
           "color": "Gray",
           "width": 2
          }
         },
         "mode": "markers",
         "name": "Feasible Trial",
         "showlegend": false,
         "type": "scatter",
         "x": [
          7.858371016947948,
          0.03302723763506745,
          1.1441130526291785,
          0.22722430844635144,
          0.04187534676784171,
          0.010314680895799842,
          0.035959616841470365,
          0.36540570800441063,
          6.045293056544891,
          8.263689408320012,
          0.0013679281765936408,
          1.4655627609873096,
          0.01031359388995681,
          0.08276447921795416,
          1.2811117864609427,
          0.9524576740419733,
          0.22980683750505768,
          0.09982091719818298,
          0.8114076476999805,
          0.42645674510971915,
          0.009413375418335807,
          2.4953193797068507,
          0.6080287359985996,
          0.1197929964019686,
          0.11786015045616766
         ],
         "xaxis": "x18",
         "y": [
          1245,
          2272,
          1010,
          1551,
          2623,
          2253,
          1219,
          2649,
          2347,
          2447,
          1848,
          2836,
          2933,
          1996,
          1904,
          1850,
          1635,
          2073,
          2140,
          2143,
          1678,
          2090,
          1799,
          1438,
          1498
         ],
         "yaxis": "y18"
        },
        {
         "colorbar": {
          "title": {
           "text": "Objective Value"
          }
         },
         "colorscale": [
          [
           0,
           "rgb(247,251,255)"
          ],
          [
           0.125,
           "rgb(222,235,247)"
          ],
          [
           0.25,
           "rgb(198,219,239)"
          ],
          [
           0.375,
           "rgb(158,202,225)"
          ],
          [
           0.5,
           "rgb(107,174,214)"
          ],
          [
           0.625,
           "rgb(66,146,198)"
          ],
          [
           0.75,
           "rgb(33,113,181)"
          ],
          [
           0.875,
           "rgb(8,81,156)"
          ],
          [
           1,
           "rgb(8,48,107)"
          ]
         ],
         "connectgaps": true,
         "contours": {
          "coloring": "heatmap"
         },
         "hoverinfo": "none",
         "line": {
          "smoothing": 1.3
         },
         "reversescale": false,
         "showscale": false,
         "type": "contour",
         "x": [
          0.0008851314267292528,
          0.0013679281765936408,
          0.009413375418335807,
          0.01031359388995681,
          0.010314680895799842,
          0.03302723763506745,
          0.035959616841470365,
          0.04187534676784171,
          0.08276447921795416,
          0.09982091719818298,
          0.11786015045616766,
          0.1197929964019686,
          0.22722430844635144,
          0.22980683750505768,
          0.36540570800441063,
          0.42645674510971915,
          0.6080287359985996,
          0.8114076476999805,
          0.9524576740419733,
          1.1441130526291785,
          1.2811117864609427,
          1.4655627609873096,
          2.4953193797068507,
          6.045293056544891,
          7.858371016947948,
          8.263689408320012,
          12.771135723912245
         ],
         "xaxis": "x24",
         "y": [
          0.0008658406576890277,
          0.0013502205127737278,
          0.005599922125393375,
          0.005686488275845867,
          0.03621653933395622,
          0.050704952348633106,
          0.09723987296980896,
          0.20048521533471292,
          0.271065504382834,
          0.33577980823141684,
          0.5691482062324401,
          0.6438016057012503,
          0.6778200572155763,
          0.9059399944440578,
          1.1807824514396177,
          1.2801137168124583,
          1.598349642864303,
          1.6236863768463325,
          1.956471961188236,
          2.575660179430299,
          2.884566639319308,
          3.1144462200141576,
          3.7141853846566555,
          5.648665444998958,
          6.593822050520771,
          9.766506120440074,
          15.230212146822662
         ],
         "yaxis": "y24",
         "z": [
          [
           null,
           null,
           null,
           null,
           null,
           null,
           null,
           null,
           null,
           null,
           null,
           null,
           null,
           null,
           null,
           null,
           null,
           null,
           null,
           null,
           null,
           null,
           null,
           null,
           null,
           null,
           null
          ],
          [
           null,
           null,
           null,
           null,
           null,
           null,
           null,
           null,
           null,
           null,
           null,
           null,
           null,
           null,
           0.8760279130750771,
           null,
           null,
           null,
           null,
           null,
           null,
           null,
           null,
           null,
           null,
           null,
           null
          ],
          [
           null,
           null,
           null,
           null,
           null,
           null,
           null,
           null,
           null,
           null,
           null,
           null,
           null,
           null,
           null,
           null,
           null,
           null,
           null,
           null,
           null,
           null,
           null,
           null,
           null,
           0.8468994256985938,
           null
          ],
          [
           null,
           null,
           null,
           null,
           0.8757704989752587,
           null,
           null,
           null,
           null,
           null,
           null,
           null,
           null,
           null,
           null,
           null,
           null,
           null,
           null,
           null,
           null,
           null,
           null,
           null,
           null,
           null,
           null
          ],
          [
           null,
           null,
           null,
           0.8749787310245623,
           null,
           null,
           null,
           null,
           null,
           null,
           null,
           null,
           null,
           null,
           null,
           null,
           null,
           null,
           null,
           null,
           null,
           null,
           null,
           null,
           null,
           null,
           null
          ],
          [
           null,
           null,
           null,
           null,
           null,
           0.8760055874765106,
           null,
           null,
           null,
           null,
           null,
           null,
           null,
           null,
           null,
           null,
           null,
           null,
           null,
           null,
           null,
           null,
           null,
           null,
           null,
           null,
           null
          ],
          [
           null,
           null,
           0.8753041148284513,
           null,
           null,
           null,
           null,
           null,
           null,
           null,
           null,
           null,
           null,
           null,
           null,
           null,
           null,
           null,
           null,
           null,
           null,
           null,
           null,
           null,
           null,
           null,
           null
          ],
          [
           null,
           null,
           null,
           null,
           null,
           null,
           null,
           0.8760698594045511,
           null,
           null,
           null,
           null,
           null,
           null,
           null,
           null,
           null,
           null,
           null,
           null,
           null,
           null,
           null,
           null,
           null,
           null,
           null
          ],
          [
           null,
           null,
           null,
           null,
           null,
           null,
           0.8507227887474659,
           null,
           null,
           null,
           null,
           null,
           null,
           null,
           null,
           null,
           null,
           null,
           null,
           null,
           null,
           null,
           null,
           null,
           null,
           null,
           null
          ],
          [
           null,
           null,
           null,
           null,
           null,
           null,
           null,
           null,
           null,
           null,
           null,
           null,
           0.8631521704377709,
           null,
           null,
           null,
           null,
           null,
           null,
           null,
           null,
           null,
           null,
           null,
           null,
           null,
           null
          ],
          [
           null,
           null,
           null,
           null,
           null,
           null,
           null,
           null,
           null,
           null,
           null,
           null,
           null,
           null,
           null,
           null,
           null,
           null,
           null,
           null,
           null,
           null,
           0.8764521852471732,
           null,
           null,
           null,
           null
          ],
          [
           null,
           null,
           null,
           null,
           null,
           null,
           null,
           null,
           null,
           null,
           0.876715321987214,
           null,
           null,
           null,
           null,
           null,
           null,
           null,
           null,
           null,
           null,
           null,
           null,
           null,
           null,
           null,
           null
          ],
          [
           null,
           null,
           null,
           null,
           null,
           null,
           null,
           null,
           null,
           null,
           null,
           null,
           null,
           0.8740693145070131,
           null,
           null,
           null,
           null,
           null,
           null,
           null,
           null,
           null,
           null,
           null,
           null,
           null
          ],
          [
           null,
           null,
           null,
           null,
           null,
           null,
           null,
           null,
           null,
           null,
           null,
           0.8767685412980705,
           null,
           null,
           null,
           null,
           null,
           null,
           null,
           null,
           null,
           null,
           null,
           null,
           null,
           null,
           null
          ],
          [
           null,
           null,
           null,
           null,
           null,
           null,
           null,
           null,
           null,
           null,
           null,
           null,
           null,
           null,
           null,
           null,
           null,
           null,
           null,
           null,
           null,
           0.8758808907573346,
           null,
           null,
           null,
           null,
           null
          ],
          [
           null,
           null,
           null,
           null,
           null,
           null,
           null,
           null,
           null,
           null,
           null,
           null,
           null,
           null,
           null,
           null,
           null,
           null,
           0.8765577987945103,
           null,
           null,
           null,
           null,
           null,
           null,
           null,
           null
          ],
          [
           null,
           null,
           null,
           null,
           null,
           null,
           null,
           null,
           0.8764232168543427,
           null,
           null,
           null,
           null,
           null,
           null,
           null,
           null,
           null,
           null,
           null,
           null,
           null,
           null,
           null,
           null,
           null,
           null
          ],
          [
           null,
           null,
           null,
           null,
           null,
           null,
           null,
           null,
           null,
           null,
           null,
           null,
           null,
           null,
           null,
           null,
           null,
           null,
           null,
           null,
           null,
           null,
           null,
           null,
           0.8731554520958047,
           null,
           null
          ],
          [
           null,
           null,
           null,
           null,
           null,
           null,
           null,
           null,
           null,
           null,
           null,
           null,
           null,
           null,
           null,
           null,
           null,
           null,
           null,
           null,
           0.876375921549484,
           null,
           null,
           null,
           null,
           null,
           null
          ],
          [
           null,
           null,
           null,
           null,
           null,
           null,
           null,
           null,
           null,
           0.876704415403992,
           null,
           null,
           null,
           null,
           null,
           null,
           null,
           null,
           null,
           null,
           null,
           null,
           null,
           null,
           null,
           null,
           null
          ],
          [
           null,
           null,
           null,
           null,
           null,
           null,
           null,
           null,
           null,
           null,
           null,
           null,
           null,
           null,
           null,
           null,
           0.8754092963148761,
           null,
           null,
           null,
           null,
           null,
           null,
           null,
           null,
           null,
           null
          ],
          [
           null,
           null,
           null,
           null,
           null,
           null,
           null,
           null,
           null,
           null,
           null,
           null,
           null,
           null,
           null,
           null,
           null,
           0.877074744223945,
           null,
           null,
           null,
           null,
           null,
           null,
           null,
           null,
           null
          ],
          [
           null,
           null,
           null,
           null,
           null,
           null,
           null,
           null,
           null,
           null,
           null,
           null,
           null,
           null,
           null,
           0.8697271527631747,
           null,
           null,
           null,
           null,
           null,
           null,
           null,
           null,
           null,
           null,
           null
          ],
          [
           null,
           null,
           null,
           null,
           null,
           null,
           null,
           null,
           null,
           null,
           null,
           null,
           null,
           null,
           null,
           null,
           null,
           null,
           null,
           null,
           null,
           null,
           null,
           0.8762683271757736,
           null,
           null,
           null
          ],
          [
           null,
           null,
           null,
           null,
           null,
           null,
           null,
           null,
           null,
           null,
           null,
           null,
           null,
           null,
           null,
           null,
           null,
           null,
           null,
           0.8723895034398698,
           null,
           null,
           null,
           null,
           null,
           null,
           null
          ],
          [
           null,
           0.8748311055725484,
           null,
           null,
           null,
           null,
           null,
           null,
           null,
           null,
           null,
           null,
           null,
           null,
           null,
           null,
           null,
           null,
           null,
           null,
           null,
           null,
           null,
           null,
           null,
           null,
           null
          ],
          [
           null,
           null,
           null,
           null,
           null,
           null,
           null,
           null,
           null,
           null,
           null,
           null,
           null,
           null,
           null,
           null,
           null,
           null,
           null,
           null,
           null,
           null,
           null,
           null,
           null,
           null,
           null
          ]
         ]
        },
        {
         "marker": {
          "color": "black",
          "line": {
           "color": "Gray",
           "width": 2
          }
         },
         "mode": "markers",
         "name": "Feasible Trial",
         "showlegend": false,
         "type": "scatter",
         "x": [
          7.858371016947948,
          0.03302723763506745,
          1.1441130526291785,
          0.22722430844635144,
          0.04187534676784171,
          0.010314680895799842,
          0.035959616841470365,
          0.36540570800441063,
          6.045293056544891,
          8.263689408320012,
          0.0013679281765936408,
          1.4655627609873096,
          0.01031359388995681,
          0.08276447921795416,
          1.2811117864609427,
          0.9524576740419733,
          0.22980683750505768,
          0.09982091719818298,
          0.8114076476999805,
          0.42645674510971915,
          0.009413375418335807,
          2.4953193797068507,
          0.6080287359985996,
          0.1197929964019686,
          0.11786015045616766
         ],
         "xaxis": "x24",
         "y": [
          1.6236863768463325,
          0.050704952348633106,
          6.593822050520771,
          0.33577980823141684,
          0.20048521533471292,
          0.005686488275845867,
          0.271065504382834,
          0.0013502205127737278,
          5.648665444998958,
          0.005599922125393375,
          9.766506120440074,
          1.1807824514396177,
          0.03621653933395622,
          1.598349642864303,
          1.956471961188236,
          1.2801137168124583,
          0.6778200572155763,
          2.575660179430299,
          3.1144462200141576,
          3.7141853846566555,
          0.09723987296980896,
          0.5691482062324401,
          2.884566639319308,
          0.9059399944440578,
          0.6438016057012503
         ],
         "yaxis": "y24"
        },
        {
         "colorbar": {
          "title": {
           "text": "Objective Value"
          }
         },
         "colorscale": [
          [
           0,
           "rgb(247,251,255)"
          ],
          [
           0.125,
           "rgb(222,235,247)"
          ],
          [
           0.25,
           "rgb(198,219,239)"
          ],
          [
           0.375,
           "rgb(158,202,225)"
          ],
          [
           0.5,
           "rgb(107,174,214)"
          ],
          [
           0.625,
           "rgb(66,146,198)"
          ],
          [
           0.75,
           "rgb(33,113,181)"
          ],
          [
           0.875,
           "rgb(8,81,156)"
          ],
          [
           1,
           "rgb(8,48,107)"
          ]
         ],
         "connectgaps": true,
         "contours": {
          "coloring": "heatmap"
         },
         "hoverinfo": "none",
         "line": {
          "smoothing": 1.3
         },
         "reversescale": false,
         "showscale": false,
         "type": "contour",
         "x": [
          0.0008851314267292528,
          0.0013679281765936408,
          0.009413375418335807,
          0.01031359388995681,
          0.010314680895799842,
          0.03302723763506745,
          0.035959616841470365,
          0.04187534676784171,
          0.08276447921795416,
          0.09982091719818298,
          0.11786015045616766,
          0.1197929964019686,
          0.22722430844635144,
          0.22980683750505768,
          0.36540570800441063,
          0.42645674510971915,
          0.6080287359985996,
          0.8114076476999805,
          0.9524576740419733,
          1.1441130526291785,
          1.2811117864609427,
          1.4655627609873096,
          2.4953193797068507,
          6.045293056544891,
          7.858371016947948,
          8.263689408320012,
          12.771135723912245
         ],
         "xaxis": "x30",
         "y": [
          0.0013212516687476582,
          0.0016205622653806687,
          0.001976630674792773,
          0.0041969675398673524,
          0.005071564130028977,
          0.00893324050435845,
          0.009153096511780052,
          0.014942615940739881,
          0.01939312273281176,
          0.020247398950067306,
          0.02959456157743655,
          0.03045064589680613,
          0.03239941582014418,
          0.036647759430624025,
          0.043161464201364984,
          0.050876045024910645,
          0.0567243019623693,
          0.056892488308269686,
          0.06005764678809379,
          0.06186207490162208,
          0.06298725338758546,
          0.06795577223035759,
          0.07884554109070592,
          0.0927701509590474,
          0.09531511189138718,
          0.09622085005287367,
          0.1180183022106135
         ],
         "yaxis": "y30",
         "z": [
          [
           null,
           null,
           null,
           null,
           null,
           null,
           null,
           null,
           null,
           null,
           null,
           null,
           null,
           null,
           null,
           null,
           null,
           null,
           null,
           null,
           null,
           null,
           null,
           null,
           null,
           null,
           null
          ],
          [
           null,
           null,
           null,
           null,
           null,
           null,
           0.8507227887474659,
           null,
           null,
           null,
           null,
           null,
           null,
           null,
           null,
           null,
           null,
           null,
           null,
           null,
           null,
           null,
           null,
           null,
           null,
           null,
           null
          ],
          [
           null,
           null,
           null,
           null,
           null,
           null,
           null,
           null,
           null,
           null,
           null,
           null,
           null,
           null,
           null,
           null,
           null,
           null,
           null,
           null,
           null,
           null,
           null,
           null,
           null,
           0.8468994256985938,
           null
          ],
          [
           null,
           null,
           null,
           null,
           null,
           null,
           null,
           null,
           null,
           null,
           null,
           null,
           0.8631521704377709,
           null,
           null,
           null,
           null,
           null,
           null,
           null,
           null,
           null,
           null,
           null,
           null,
           null,
           null
          ],
          [
           null,
           null,
           null,
           null,
           null,
           null,
           null,
           null,
           null,
           null,
           null,
           null,
           null,
           null,
           null,
           0.8697271527631747,
           null,
           null,
           null,
           null,
           null,
           null,
           null,
           null,
           null,
           null,
           null
          ],
          [
           null,
           null,
           null,
           0.8749787310245623,
           null,
           null,
           null,
           null,
           null,
           null,
           null,
           null,
           null,
           null,
           null,
           null,
           null,
           null,
           null,
           null,
           null,
           null,
           null,
           null,
           null,
           null,
           null
          ],
          [
           null,
           0.8748311055725484,
           null,
           null,
           null,
           null,
           null,
           null,
           null,
           null,
           null,
           null,
           null,
           null,
           null,
           null,
           null,
           null,
           null,
           null,
           null,
           null,
           null,
           null,
           null,
           null,
           null
          ],
          [
           null,
           null,
           null,
           null,
           null,
           null,
           null,
           null,
           null,
           null,
           null,
           null,
           null,
           0.8740693145070131,
           null,
           null,
           null,
           null,
           null,
           null,
           null,
           null,
           null,
           null,
           null,
           null,
           null
          ],
          [
           null,
           null,
           null,
           null,
           null,
           null,
           null,
           null,
           null,
           null,
           null,
           null,
           null,
           null,
           null,
           null,
           null,
           null,
           null,
           null,
           null,
           null,
           null,
           0.8762683271757736,
           null,
           null,
           null
          ],
          [
           null,
           null,
           null,
           null,
           null,
           null,
           null,
           null,
           null,
           null,
           null,
           null,
           null,
           null,
           null,
           null,
           0.8754092963148761,
           null,
           null,
           null,
           null,
           null,
           null,
           null,
           null,
           null,
           null
          ],
          [
           null,
           null,
           null,
           null,
           null,
           null,
           null,
           null,
           null,
           null,
           null,
           null,
           null,
           null,
           null,
           null,
           null,
           null,
           null,
           0.8723895034398698,
           null,
           null,
           null,
           null,
           null,
           null,
           null
          ],
          [
           null,
           null,
           null,
           null,
           null,
           null,
           null,
           null,
           null,
           null,
           null,
           null,
           null,
           null,
           null,
           null,
           null,
           null,
           null,
           null,
           null,
           null,
           null,
           null,
           0.8731554520958047,
           null,
           null
          ],
          [
           null,
           null,
           null,
           null,
           0.8757704989752587,
           null,
           null,
           null,
           null,
           null,
           null,
           null,
           null,
           null,
           null,
           null,
           null,
           null,
           null,
           null,
           null,
           null,
           null,
           null,
           null,
           null,
           null
          ],
          [
           null,
           null,
           null,
           null,
           null,
           null,
           null,
           null,
           null,
           null,
           null,
           null,
           null,
           null,
           0.8760279130750771,
           null,
           null,
           null,
           null,
           null,
           null,
           null,
           null,
           null,
           null,
           null,
           null
          ],
          [
           null,
           null,
           null,
           null,
           null,
           0.8760055874765106,
           null,
           null,
           null,
           null,
           null,
           null,
           null,
           null,
           null,
           null,
           null,
           null,
           null,
           null,
           null,
           null,
           null,
           null,
           null,
           null,
           null
          ],
          [
           null,
           null,
           null,
           null,
           null,
           null,
           null,
           0.8760698594045511,
           null,
           null,
           null,
           null,
           null,
           null,
           null,
           null,
           null,
           null,
           null,
           null,
           null,
           null,
           null,
           null,
           null,
           null,
           null
          ],
          [
           null,
           null,
           null,
           null,
           null,
           null,
           null,
           null,
           null,
           0.876704415403992,
           null,
           null,
           null,
           null,
           null,
           null,
           null,
           null,
           null,
           null,
           null,
           null,
           null,
           null,
           null,
           null,
           null
          ],
          [
           null,
           null,
           0.8753041148284513,
           null,
           null,
           null,
           null,
           null,
           null,
           null,
           null,
           null,
           null,
           null,
           null,
           null,
           null,
           null,
           null,
           null,
           null,
           null,
           null,
           null,
           null,
           null,
           null
          ],
          [
           null,
           null,
           null,
           null,
           null,
           null,
           null,
           null,
           null,
           null,
           null,
           null,
           null,
           null,
           null,
           null,
           null,
           null,
           null,
           null,
           null,
           null,
           0.8764521852471732,
           null,
           null,
           null,
           null
          ],
          [
           null,
           null,
           null,
           null,
           null,
           null,
           null,
           null,
           null,
           null,
           null,
           null,
           null,
           null,
           null,
           null,
           null,
           0.877074744223945,
           null,
           null,
           null,
           null,
           null,
           null,
           null,
           null,
           null
          ],
          [
           null,
           null,
           null,
           null,
           null,
           null,
           null,
           null,
           null,
           null,
           0.876715321987214,
           null,
           null,
           null,
           null,
           null,
           null,
           null,
           null,
           null,
           null,
           null,
           null,
           null,
           null,
           null,
           null
          ],
          [
           null,
           null,
           null,
           null,
           null,
           null,
           null,
           null,
           null,
           null,
           null,
           0.8767685412980705,
           null,
           null,
           null,
           null,
           null,
           null,
           null,
           null,
           null,
           null,
           null,
           null,
           null,
           null,
           null
          ],
          [
           null,
           null,
           null,
           null,
           null,
           null,
           null,
           null,
           null,
           null,
           null,
           null,
           null,
           null,
           null,
           null,
           null,
           null,
           0.8765577987945103,
           null,
           null,
           null,
           null,
           null,
           null,
           null,
           null
          ],
          [
           null,
           null,
           null,
           null,
           null,
           null,
           null,
           null,
           0.8764232168543427,
           null,
           null,
           null,
           null,
           null,
           null,
           null,
           null,
           null,
           null,
           null,
           null,
           null,
           null,
           null,
           null,
           null,
           null
          ],
          [
           null,
           null,
           null,
           null,
           null,
           null,
           null,
           null,
           null,
           null,
           null,
           null,
           null,
           null,
           null,
           null,
           null,
           null,
           null,
           null,
           null,
           0.8758808907573346,
           null,
           null,
           null,
           null,
           null
          ],
          [
           null,
           null,
           null,
           null,
           null,
           null,
           null,
           null,
           null,
           null,
           null,
           null,
           null,
           null,
           null,
           null,
           null,
           null,
           null,
           null,
           0.876375921549484,
           null,
           null,
           null,
           null,
           null,
           null
          ],
          [
           null,
           null,
           null,
           null,
           null,
           null,
           null,
           null,
           null,
           null,
           null,
           null,
           null,
           null,
           null,
           null,
           null,
           null,
           null,
           null,
           null,
           null,
           null,
           null,
           null,
           null,
           null
          ]
         ]
        },
        {
         "marker": {
          "color": "black",
          "line": {
           "color": "Gray",
           "width": 2
          }
         },
         "mode": "markers",
         "name": "Feasible Trial",
         "showlegend": false,
         "type": "scatter",
         "x": [
          7.858371016947948,
          0.03302723763506745,
          1.1441130526291785,
          0.22722430844635144,
          0.04187534676784171,
          0.010314680895799842,
          0.035959616841470365,
          0.36540570800441063,
          6.045293056544891,
          8.263689408320012,
          0.0013679281765936408,
          1.4655627609873096,
          0.01031359388995681,
          0.08276447921795416,
          1.2811117864609427,
          0.9524576740419733,
          0.22980683750505768,
          0.09982091719818298,
          0.8114076476999805,
          0.42645674510971915,
          0.009413375418335807,
          2.4953193797068507,
          0.6080287359985996,
          0.1197929964019686,
          0.11786015045616766
         ],
         "xaxis": "x30",
         "y": [
          0.03045064589680613,
          0.043161464201364984,
          0.02959456157743655,
          0.0041969675398673524,
          0.050876045024910645,
          0.03239941582014418,
          0.0016205622653806687,
          0.036647759430624025,
          0.01939312273281176,
          0.001976630674792773,
          0.009153096511780052,
          0.09531511189138718,
          0.00893324050435845,
          0.0927701509590474,
          0.09622085005287367,
          0.07884554109070592,
          0.014942615940739881,
          0.0567243019623693,
          0.06186207490162208,
          0.005071564130028977,
          0.056892488308269686,
          0.06005764678809379,
          0.020247398950067306,
          0.06795577223035759,
          0.06298725338758546
         ],
         "yaxis": "y30"
        },
        {
         "type": "scatter",
         "xaxis": "x36",
         "yaxis": "y36"
        }
       ],
       "layout": {
        "template": {
         "data": {
          "bar": [
           {
            "error_x": {
             "color": "#2a3f5f"
            },
            "error_y": {
             "color": "#2a3f5f"
            },
            "marker": {
             "line": {
              "color": "#E5ECF6",
              "width": 0.5
             },
             "pattern": {
              "fillmode": "overlay",
              "size": 10,
              "solidity": 0.2
             }
            },
            "type": "bar"
           }
          ],
          "barpolar": [
           {
            "marker": {
             "line": {
              "color": "#E5ECF6",
              "width": 0.5
             },
             "pattern": {
              "fillmode": "overlay",
              "size": 10,
              "solidity": 0.2
             }
            },
            "type": "barpolar"
           }
          ],
          "carpet": [
           {
            "aaxis": {
             "endlinecolor": "#2a3f5f",
             "gridcolor": "white",
             "linecolor": "white",
             "minorgridcolor": "white",
             "startlinecolor": "#2a3f5f"
            },
            "baxis": {
             "endlinecolor": "#2a3f5f",
             "gridcolor": "white",
             "linecolor": "white",
             "minorgridcolor": "white",
             "startlinecolor": "#2a3f5f"
            },
            "type": "carpet"
           }
          ],
          "choropleth": [
           {
            "colorbar": {
             "outlinewidth": 0,
             "ticks": ""
            },
            "type": "choropleth"
           }
          ],
          "contour": [
           {
            "colorbar": {
             "outlinewidth": 0,
             "ticks": ""
            },
            "colorscale": [
             [
              0,
              "#0d0887"
             ],
             [
              0.1111111111111111,
              "#46039f"
             ],
             [
              0.2222222222222222,
              "#7201a8"
             ],
             [
              0.3333333333333333,
              "#9c179e"
             ],
             [
              0.4444444444444444,
              "#bd3786"
             ],
             [
              0.5555555555555556,
              "#d8576b"
             ],
             [
              0.6666666666666666,
              "#ed7953"
             ],
             [
              0.7777777777777778,
              "#fb9f3a"
             ],
             [
              0.8888888888888888,
              "#fdca26"
             ],
             [
              1,
              "#f0f921"
             ]
            ],
            "type": "contour"
           }
          ],
          "contourcarpet": [
           {
            "colorbar": {
             "outlinewidth": 0,
             "ticks": ""
            },
            "type": "contourcarpet"
           }
          ],
          "heatmap": [
           {
            "colorbar": {
             "outlinewidth": 0,
             "ticks": ""
            },
            "colorscale": [
             [
              0,
              "#0d0887"
             ],
             [
              0.1111111111111111,
              "#46039f"
             ],
             [
              0.2222222222222222,
              "#7201a8"
             ],
             [
              0.3333333333333333,
              "#9c179e"
             ],
             [
              0.4444444444444444,
              "#bd3786"
             ],
             [
              0.5555555555555556,
              "#d8576b"
             ],
             [
              0.6666666666666666,
              "#ed7953"
             ],
             [
              0.7777777777777778,
              "#fb9f3a"
             ],
             [
              0.8888888888888888,
              "#fdca26"
             ],
             [
              1,
              "#f0f921"
             ]
            ],
            "type": "heatmap"
           }
          ],
          "heatmapgl": [
           {
            "colorbar": {
             "outlinewidth": 0,
             "ticks": ""
            },
            "colorscale": [
             [
              0,
              "#0d0887"
             ],
             [
              0.1111111111111111,
              "#46039f"
             ],
             [
              0.2222222222222222,
              "#7201a8"
             ],
             [
              0.3333333333333333,
              "#9c179e"
             ],
             [
              0.4444444444444444,
              "#bd3786"
             ],
             [
              0.5555555555555556,
              "#d8576b"
             ],
             [
              0.6666666666666666,
              "#ed7953"
             ],
             [
              0.7777777777777778,
              "#fb9f3a"
             ],
             [
              0.8888888888888888,
              "#fdca26"
             ],
             [
              1,
              "#f0f921"
             ]
            ],
            "type": "heatmapgl"
           }
          ],
          "histogram": [
           {
            "marker": {
             "pattern": {
              "fillmode": "overlay",
              "size": 10,
              "solidity": 0.2
             }
            },
            "type": "histogram"
           }
          ],
          "histogram2d": [
           {
            "colorbar": {
             "outlinewidth": 0,
             "ticks": ""
            },
            "colorscale": [
             [
              0,
              "#0d0887"
             ],
             [
              0.1111111111111111,
              "#46039f"
             ],
             [
              0.2222222222222222,
              "#7201a8"
             ],
             [
              0.3333333333333333,
              "#9c179e"
             ],
             [
              0.4444444444444444,
              "#bd3786"
             ],
             [
              0.5555555555555556,
              "#d8576b"
             ],
             [
              0.6666666666666666,
              "#ed7953"
             ],
             [
              0.7777777777777778,
              "#fb9f3a"
             ],
             [
              0.8888888888888888,
              "#fdca26"
             ],
             [
              1,
              "#f0f921"
             ]
            ],
            "type": "histogram2d"
           }
          ],
          "histogram2dcontour": [
           {
            "colorbar": {
             "outlinewidth": 0,
             "ticks": ""
            },
            "colorscale": [
             [
              0,
              "#0d0887"
             ],
             [
              0.1111111111111111,
              "#46039f"
             ],
             [
              0.2222222222222222,
              "#7201a8"
             ],
             [
              0.3333333333333333,
              "#9c179e"
             ],
             [
              0.4444444444444444,
              "#bd3786"
             ],
             [
              0.5555555555555556,
              "#d8576b"
             ],
             [
              0.6666666666666666,
              "#ed7953"
             ],
             [
              0.7777777777777778,
              "#fb9f3a"
             ],
             [
              0.8888888888888888,
              "#fdca26"
             ],
             [
              1,
              "#f0f921"
             ]
            ],
            "type": "histogram2dcontour"
           }
          ],
          "mesh3d": [
           {
            "colorbar": {
             "outlinewidth": 0,
             "ticks": ""
            },
            "type": "mesh3d"
           }
          ],
          "parcoords": [
           {
            "line": {
             "colorbar": {
              "outlinewidth": 0,
              "ticks": ""
             }
            },
            "type": "parcoords"
           }
          ],
          "pie": [
           {
            "automargin": true,
            "type": "pie"
           }
          ],
          "scatter": [
           {
            "fillpattern": {
             "fillmode": "overlay",
             "size": 10,
             "solidity": 0.2
            },
            "type": "scatter"
           }
          ],
          "scatter3d": [
           {
            "line": {
             "colorbar": {
              "outlinewidth": 0,
              "ticks": ""
             }
            },
            "marker": {
             "colorbar": {
              "outlinewidth": 0,
              "ticks": ""
             }
            },
            "type": "scatter3d"
           }
          ],
          "scattercarpet": [
           {
            "marker": {
             "colorbar": {
              "outlinewidth": 0,
              "ticks": ""
             }
            },
            "type": "scattercarpet"
           }
          ],
          "scattergeo": [
           {
            "marker": {
             "colorbar": {
              "outlinewidth": 0,
              "ticks": ""
             }
            },
            "type": "scattergeo"
           }
          ],
          "scattergl": [
           {
            "marker": {
             "colorbar": {
              "outlinewidth": 0,
              "ticks": ""
             }
            },
            "type": "scattergl"
           }
          ],
          "scattermapbox": [
           {
            "marker": {
             "colorbar": {
              "outlinewidth": 0,
              "ticks": ""
             }
            },
            "type": "scattermapbox"
           }
          ],
          "scatterpolar": [
           {
            "marker": {
             "colorbar": {
              "outlinewidth": 0,
              "ticks": ""
             }
            },
            "type": "scatterpolar"
           }
          ],
          "scatterpolargl": [
           {
            "marker": {
             "colorbar": {
              "outlinewidth": 0,
              "ticks": ""
             }
            },
            "type": "scatterpolargl"
           }
          ],
          "scatterternary": [
           {
            "marker": {
             "colorbar": {
              "outlinewidth": 0,
              "ticks": ""
             }
            },
            "type": "scatterternary"
           }
          ],
          "surface": [
           {
            "colorbar": {
             "outlinewidth": 0,
             "ticks": ""
            },
            "colorscale": [
             [
              0,
              "#0d0887"
             ],
             [
              0.1111111111111111,
              "#46039f"
             ],
             [
              0.2222222222222222,
              "#7201a8"
             ],
             [
              0.3333333333333333,
              "#9c179e"
             ],
             [
              0.4444444444444444,
              "#bd3786"
             ],
             [
              0.5555555555555556,
              "#d8576b"
             ],
             [
              0.6666666666666666,
              "#ed7953"
             ],
             [
              0.7777777777777778,
              "#fb9f3a"
             ],
             [
              0.8888888888888888,
              "#fdca26"
             ],
             [
              1,
              "#f0f921"
             ]
            ],
            "type": "surface"
           }
          ],
          "table": [
           {
            "cells": {
             "fill": {
              "color": "#EBF0F8"
             },
             "line": {
              "color": "white"
             }
            },
            "header": {
             "fill": {
              "color": "#C8D4E3"
             },
             "line": {
              "color": "white"
             }
            },
            "type": "table"
           }
          ]
         },
         "layout": {
          "annotationdefaults": {
           "arrowcolor": "#2a3f5f",
           "arrowhead": 0,
           "arrowwidth": 1
          },
          "autotypenumbers": "strict",
          "coloraxis": {
           "colorbar": {
            "outlinewidth": 0,
            "ticks": ""
           }
          },
          "colorscale": {
           "diverging": [
            [
             0,
             "#8e0152"
            ],
            [
             0.1,
             "#c51b7d"
            ],
            [
             0.2,
             "#de77ae"
            ],
            [
             0.3,
             "#f1b6da"
            ],
            [
             0.4,
             "#fde0ef"
            ],
            [
             0.5,
             "#f7f7f7"
            ],
            [
             0.6,
             "#e6f5d0"
            ],
            [
             0.7,
             "#b8e186"
            ],
            [
             0.8,
             "#7fbc41"
            ],
            [
             0.9,
             "#4d9221"
            ],
            [
             1,
             "#276419"
            ]
           ],
           "sequential": [
            [
             0,
             "#0d0887"
            ],
            [
             0.1111111111111111,
             "#46039f"
            ],
            [
             0.2222222222222222,
             "#7201a8"
            ],
            [
             0.3333333333333333,
             "#9c179e"
            ],
            [
             0.4444444444444444,
             "#bd3786"
            ],
            [
             0.5555555555555556,
             "#d8576b"
            ],
            [
             0.6666666666666666,
             "#ed7953"
            ],
            [
             0.7777777777777778,
             "#fb9f3a"
            ],
            [
             0.8888888888888888,
             "#fdca26"
            ],
            [
             1,
             "#f0f921"
            ]
           ],
           "sequentialminus": [
            [
             0,
             "#0d0887"
            ],
            [
             0.1111111111111111,
             "#46039f"
            ],
            [
             0.2222222222222222,
             "#7201a8"
            ],
            [
             0.3333333333333333,
             "#9c179e"
            ],
            [
             0.4444444444444444,
             "#bd3786"
            ],
            [
             0.5555555555555556,
             "#d8576b"
            ],
            [
             0.6666666666666666,
             "#ed7953"
            ],
            [
             0.7777777777777778,
             "#fb9f3a"
            ],
            [
             0.8888888888888888,
             "#fdca26"
            ],
            [
             1,
             "#f0f921"
            ]
           ]
          },
          "colorway": [
           "#636efa",
           "#EF553B",
           "#00cc96",
           "#ab63fa",
           "#FFA15A",
           "#19d3f3",
           "#FF6692",
           "#B6E880",
           "#FF97FF",
           "#FECB52"
          ],
          "font": {
           "color": "#2a3f5f"
          },
          "geo": {
           "bgcolor": "white",
           "lakecolor": "white",
           "landcolor": "#E5ECF6",
           "showlakes": true,
           "showland": true,
           "subunitcolor": "white"
          },
          "hoverlabel": {
           "align": "left"
          },
          "hovermode": "closest",
          "mapbox": {
           "style": "light"
          },
          "paper_bgcolor": "white",
          "plot_bgcolor": "#E5ECF6",
          "polar": {
           "angularaxis": {
            "gridcolor": "white",
            "linecolor": "white",
            "ticks": ""
           },
           "bgcolor": "#E5ECF6",
           "radialaxis": {
            "gridcolor": "white",
            "linecolor": "white",
            "ticks": ""
           }
          },
          "scene": {
           "xaxis": {
            "backgroundcolor": "#E5ECF6",
            "gridcolor": "white",
            "gridwidth": 2,
            "linecolor": "white",
            "showbackground": true,
            "ticks": "",
            "zerolinecolor": "white"
           },
           "yaxis": {
            "backgroundcolor": "#E5ECF6",
            "gridcolor": "white",
            "gridwidth": 2,
            "linecolor": "white",
            "showbackground": true,
            "ticks": "",
            "zerolinecolor": "white"
           },
           "zaxis": {
            "backgroundcolor": "#E5ECF6",
            "gridcolor": "white",
            "gridwidth": 2,
            "linecolor": "white",
            "showbackground": true,
            "ticks": "",
            "zerolinecolor": "white"
           }
          },
          "shapedefaults": {
           "line": {
            "color": "#2a3f5f"
           }
          },
          "ternary": {
           "aaxis": {
            "gridcolor": "white",
            "linecolor": "white",
            "ticks": ""
           },
           "baxis": {
            "gridcolor": "white",
            "linecolor": "white",
            "ticks": ""
           },
           "bgcolor": "#E5ECF6",
           "caxis": {
            "gridcolor": "white",
            "linecolor": "white",
            "ticks": ""
           }
          },
          "title": {
           "x": 0.05
          },
          "xaxis": {
           "automargin": true,
           "gridcolor": "white",
           "linecolor": "white",
           "ticks": "",
           "title": {
            "standoff": 15
           },
           "zerolinecolor": "white",
           "zerolinewidth": 2
          },
          "yaxis": {
           "automargin": true,
           "gridcolor": "white",
           "linecolor": "white",
           "ticks": "",
           "title": {
            "standoff": 15
           },
           "zerolinecolor": "white",
           "zerolinewidth": 2
          }
         }
        },
        "title": {
         "text": "Contour Plot"
        },
        "xaxis": {
         "anchor": "y",
         "domain": [
          0,
          0.1388888888888889
         ],
         "matches": "x31",
         "range": [
          -0.027717630427146603,
          1.0462016747438383
         ],
         "showticklabels": false
        },
        "xaxis10": {
         "anchor": "y10",
         "domain": [
          0.5166666666666667,
          0.6555555555555557
         ],
         "matches": "x34",
         "range": [
          -3.062562024672768,
          1.182705952814227
         ],
         "showticklabels": false,
         "type": "log"
        },
        "xaxis11": {
         "anchor": "y11",
         "domain": [
          0.6888888888888889,
          0.8277777777777777
         ],
         "matches": "x35",
         "range": [
          -2.879014451168005,
          -0.9280506373318747
         ],
         "showticklabels": false,
         "type": "log"
        },
        "xaxis12": {
         "anchor": "y12",
         "domain": [
          0.861111111111111,
          1
         ],
         "matches": "x36",
         "range": [
          -3.0529922392846176,
          1.106229520340612
         ],
         "showticklabels": false,
         "type": "log"
        },
        "xaxis13": {
         "anchor": "y13",
         "domain": [
          0,
          0.1388888888888889
         ],
         "matches": "x31",
         "range": [
          -0.027717630427146603,
          1.0462016747438383
         ],
         "showticklabels": false
        },
        "xaxis14": {
         "anchor": "y14",
         "domain": [
          0.17222222222222222,
          0.3111111111111111
         ],
         "matches": "x32",
         "range": [
          3.7,
          10.3
         ],
         "showticklabels": false
        },
        "xaxis15": {
         "anchor": "y15",
         "domain": [
          0.34444444444444444,
          0.48333333333333334
         ],
         "matches": "x33",
         "range": [
          913.85,
          3029.15
         ],
         "showticklabels": false
        },
        "xaxis16": {
         "anchor": "y16",
         "domain": [
          0.5166666666666667,
          0.6555555555555557
         ],
         "matches": "x34",
         "range": [
          -3.062562024672768,
          1.182705952814227
         ],
         "showticklabels": false,
         "type": "log"
        },
        "xaxis17": {
         "anchor": "y17",
         "domain": [
          0.6888888888888889,
          0.8277777777777777
         ],
         "matches": "x35",
         "range": [
          -2.879014451168005,
          -0.9280506373318747
         ],
         "showticklabels": false,
         "type": "log"
        },
        "xaxis18": {
         "anchor": "y18",
         "domain": [
          0.861111111111111,
          1
         ],
         "matches": "x36",
         "range": [
          -3.0529922392846176,
          1.106229520340612
         ],
         "showticklabels": false,
         "type": "log"
        },
        "xaxis19": {
         "anchor": "y19",
         "domain": [
          0,
          0.1388888888888889
         ],
         "matches": "x31",
         "range": [
          -0.027717630427146603,
          1.0462016747438383
         ],
         "showticklabels": false
        },
        "xaxis2": {
         "anchor": "y2",
         "domain": [
          0.17222222222222222,
          0.3111111111111111
         ],
         "matches": "x32",
         "range": [
          3.7,
          10.3
         ],
         "showticklabels": false
        },
        "xaxis20": {
         "anchor": "y20",
         "domain": [
          0.17222222222222222,
          0.3111111111111111
         ],
         "matches": "x32",
         "range": [
          3.7,
          10.3
         ],
         "showticklabels": false
        },
        "xaxis21": {
         "anchor": "y21",
         "domain": [
          0.34444444444444444,
          0.48333333333333334
         ],
         "matches": "x33",
         "range": [
          913.85,
          3029.15
         ],
         "showticklabels": false
        },
        "xaxis22": {
         "anchor": "y22",
         "domain": [
          0.5166666666666667,
          0.6555555555555557
         ],
         "matches": "x34",
         "range": [
          -3.062562024672768,
          1.182705952814227
         ],
         "showticklabels": false,
         "type": "log"
        },
        "xaxis23": {
         "anchor": "y23",
         "domain": [
          0.6888888888888889,
          0.8277777777777777
         ],
         "matches": "x35",
         "range": [
          -2.879014451168005,
          -0.9280506373318747
         ],
         "showticklabels": false,
         "type": "log"
        },
        "xaxis24": {
         "anchor": "y24",
         "domain": [
          0.861111111111111,
          1
         ],
         "matches": "x36",
         "range": [
          -3.0529922392846176,
          1.106229520340612
         ],
         "showticklabels": false,
         "type": "log"
        },
        "xaxis25": {
         "anchor": "y25",
         "domain": [
          0,
          0.1388888888888889
         ],
         "matches": "x31",
         "range": [
          -0.027717630427146603,
          1.0462016747438383
         ],
         "showticklabels": false
        },
        "xaxis26": {
         "anchor": "y26",
         "domain": [
          0.17222222222222222,
          0.3111111111111111
         ],
         "matches": "x32",
         "range": [
          3.7,
          10.3
         ],
         "showticklabels": false
        },
        "xaxis27": {
         "anchor": "y27",
         "domain": [
          0.34444444444444444,
          0.48333333333333334
         ],
         "matches": "x33",
         "range": [
          913.85,
          3029.15
         ],
         "showticklabels": false
        },
        "xaxis28": {
         "anchor": "y28",
         "domain": [
          0.5166666666666667,
          0.6555555555555557
         ],
         "matches": "x34",
         "range": [
          -3.062562024672768,
          1.182705952814227
         ],
         "showticklabels": false,
         "type": "log"
        },
        "xaxis29": {
         "anchor": "y29",
         "domain": [
          0.6888888888888889,
          0.8277777777777777
         ],
         "matches": "x35",
         "range": [
          -2.879014451168005,
          -0.9280506373318747
         ],
         "showticklabels": false,
         "type": "log"
        },
        "xaxis3": {
         "anchor": "y3",
         "domain": [
          0.34444444444444444,
          0.48333333333333334
         ],
         "matches": "x33",
         "range": [
          913.85,
          3029.15
         ],
         "showticklabels": false
        },
        "xaxis30": {
         "anchor": "y30",
         "domain": [
          0.861111111111111,
          1
         ],
         "matches": "x36",
         "range": [
          -3.0529922392846176,
          1.106229520340612
         ],
         "showticklabels": false,
         "type": "log"
        },
        "xaxis31": {
         "anchor": "y31",
         "domain": [
          0,
          0.1388888888888889
         ],
         "range": [
          -0.027717630427146603,
          1.0462016747438383
         ],
         "title": {
          "text": "bagging_temperature"
         }
        },
        "xaxis32": {
         "anchor": "y32",
         "domain": [
          0.17222222222222222,
          0.3111111111111111
         ],
         "range": [
          3.7,
          10.3
         ],
         "title": {
          "text": "depth"
         }
        },
        "xaxis33": {
         "anchor": "y33",
         "domain": [
          0.34444444444444444,
          0.48333333333333334
         ],
         "range": [
          913.85,
          3029.15
         ],
         "title": {
          "text": "iterations"
         }
        },
        "xaxis34": {
         "anchor": "y34",
         "domain": [
          0.5166666666666667,
          0.6555555555555557
         ],
         "range": [
          -3.062562024672768,
          1.182705952814227
         ],
         "title": {
          "text": "l2_leaf_reg"
         },
         "type": "log"
        },
        "xaxis35": {
         "anchor": "y35",
         "domain": [
          0.6888888888888889,
          0.8277777777777777
         ],
         "range": [
          -2.879014451168005,
          -0.9280506373318747
         ],
         "title": {
          "text": "learning_rate"
         },
         "type": "log"
        },
        "xaxis36": {
         "anchor": "y36",
         "domain": [
          0.861111111111111,
          1
         ],
         "range": [
          -3.0529922392846176,
          1.106229520340612
         ],
         "title": {
          "text": "random_strength"
         },
         "type": "log"
        },
        "xaxis4": {
         "anchor": "y4",
         "domain": [
          0.5166666666666667,
          0.6555555555555557
         ],
         "matches": "x34",
         "range": [
          -3.062562024672768,
          1.182705952814227
         ],
         "showticklabels": false,
         "type": "log"
        },
        "xaxis5": {
         "anchor": "y5",
         "domain": [
          0.6888888888888889,
          0.8277777777777777
         ],
         "matches": "x35",
         "range": [
          -2.879014451168005,
          -0.9280506373318747
         ],
         "showticklabels": false,
         "type": "log"
        },
        "xaxis6": {
         "anchor": "y6",
         "domain": [
          0.861111111111111,
          1
         ],
         "matches": "x36",
         "range": [
          -3.0529922392846176,
          1.106229520340612
         ],
         "showticklabels": false,
         "type": "log"
        },
        "xaxis7": {
         "anchor": "y7",
         "domain": [
          0,
          0.1388888888888889
         ],
         "matches": "x31",
         "range": [
          -0.027717630427146603,
          1.0462016747438383
         ],
         "showticklabels": false
        },
        "xaxis8": {
         "anchor": "y8",
         "domain": [
          0.17222222222222222,
          0.3111111111111111
         ],
         "matches": "x32",
         "range": [
          3.7,
          10.3
         ],
         "showticklabels": false
        },
        "xaxis9": {
         "anchor": "y9",
         "domain": [
          0.34444444444444444,
          0.48333333333333334
         ],
         "matches": "x33",
         "range": [
          913.85,
          3029.15
         ],
         "showticklabels": false
        },
        "yaxis": {
         "anchor": "x",
         "domain": [
          0.875,
          1
         ],
         "range": [
          -0.027717630427146603,
          1.0462016747438383
         ],
         "title": {
          "text": "bagging_temperature"
         }
        },
        "yaxis10": {
         "anchor": "x10",
         "domain": [
          0.7,
          0.825
         ],
         "matches": "y7",
         "range": [
          3.7,
          10.3
         ],
         "showticklabels": false
        },
        "yaxis11": {
         "anchor": "x11",
         "domain": [
          0.7,
          0.825
         ],
         "matches": "y7",
         "range": [
          3.7,
          10.3
         ],
         "showticklabels": false
        },
        "yaxis12": {
         "anchor": "x12",
         "domain": [
          0.7,
          0.825
         ],
         "matches": "y7",
         "range": [
          3.7,
          10.3
         ],
         "showticklabels": false
        },
        "yaxis13": {
         "anchor": "x13",
         "domain": [
          0.525,
          0.65
         ],
         "range": [
          913.85,
          3029.15
         ],
         "title": {
          "text": "iterations"
         }
        },
        "yaxis14": {
         "anchor": "x14",
         "domain": [
          0.525,
          0.65
         ],
         "matches": "y13",
         "range": [
          913.85,
          3029.15
         ],
         "showticklabels": false
        },
        "yaxis15": {
         "anchor": "x15",
         "domain": [
          0.525,
          0.65
         ],
         "matches": "y13",
         "range": [
          913.85,
          3029.15
         ],
         "showticklabels": false
        },
        "yaxis16": {
         "anchor": "x16",
         "domain": [
          0.525,
          0.65
         ],
         "matches": "y13",
         "range": [
          913.85,
          3029.15
         ],
         "showticklabels": false
        },
        "yaxis17": {
         "anchor": "x17",
         "domain": [
          0.525,
          0.65
         ],
         "matches": "y13",
         "range": [
          913.85,
          3029.15
         ],
         "showticklabels": false
        },
        "yaxis18": {
         "anchor": "x18",
         "domain": [
          0.525,
          0.65
         ],
         "matches": "y13",
         "range": [
          913.85,
          3029.15
         ],
         "showticklabels": false
        },
        "yaxis19": {
         "anchor": "x19",
         "domain": [
          0.35,
          0.475
         ],
         "range": [
          -3.062562024672768,
          1.182705952814227
         ],
         "title": {
          "text": "l2_leaf_reg"
         },
         "type": "log"
        },
        "yaxis2": {
         "anchor": "x2",
         "domain": [
          0.875,
          1
         ],
         "matches": "y",
         "range": [
          -0.027717630427146603,
          1.0462016747438383
         ],
         "showticklabels": false
        },
        "yaxis20": {
         "anchor": "x20",
         "domain": [
          0.35,
          0.475
         ],
         "matches": "y19",
         "range": [
          -3.062562024672768,
          1.182705952814227
         ],
         "showticklabels": false,
         "type": "log"
        },
        "yaxis21": {
         "anchor": "x21",
         "domain": [
          0.35,
          0.475
         ],
         "matches": "y19",
         "range": [
          -3.062562024672768,
          1.182705952814227
         ],
         "showticklabels": false,
         "type": "log"
        },
        "yaxis22": {
         "anchor": "x22",
         "domain": [
          0.35,
          0.475
         ],
         "matches": "y19",
         "range": [
          -3.062562024672768,
          1.182705952814227
         ],
         "showticklabels": false,
         "type": "log"
        },
        "yaxis23": {
         "anchor": "x23",
         "domain": [
          0.35,
          0.475
         ],
         "matches": "y19",
         "range": [
          -3.062562024672768,
          1.182705952814227
         ],
         "showticklabels": false,
         "type": "log"
        },
        "yaxis24": {
         "anchor": "x24",
         "domain": [
          0.35,
          0.475
         ],
         "matches": "y19",
         "range": [
          -3.062562024672768,
          1.182705952814227
         ],
         "showticklabels": false,
         "type": "log"
        },
        "yaxis25": {
         "anchor": "x25",
         "domain": [
          0.175,
          0.3
         ],
         "range": [
          -2.879014451168005,
          -0.9280506373318747
         ],
         "title": {
          "text": "learning_rate"
         },
         "type": "log"
        },
        "yaxis26": {
         "anchor": "x26",
         "domain": [
          0.175,
          0.3
         ],
         "matches": "y25",
         "range": [
          -2.879014451168005,
          -0.9280506373318747
         ],
         "showticklabels": false,
         "type": "log"
        },
        "yaxis27": {
         "anchor": "x27",
         "domain": [
          0.175,
          0.3
         ],
         "matches": "y25",
         "range": [
          -2.879014451168005,
          -0.9280506373318747
         ],
         "showticklabels": false,
         "type": "log"
        },
        "yaxis28": {
         "anchor": "x28",
         "domain": [
          0.175,
          0.3
         ],
         "matches": "y25",
         "range": [
          -2.879014451168005,
          -0.9280506373318747
         ],
         "showticklabels": false,
         "type": "log"
        },
        "yaxis29": {
         "anchor": "x29",
         "domain": [
          0.175,
          0.3
         ],
         "matches": "y25",
         "range": [
          -2.879014451168005,
          -0.9280506373318747
         ],
         "showticklabels": false,
         "type": "log"
        },
        "yaxis3": {
         "anchor": "x3",
         "domain": [
          0.875,
          1
         ],
         "matches": "y",
         "range": [
          -0.027717630427146603,
          1.0462016747438383
         ],
         "showticklabels": false
        },
        "yaxis30": {
         "anchor": "x30",
         "domain": [
          0.175,
          0.3
         ],
         "matches": "y25",
         "range": [
          -2.879014451168005,
          -0.9280506373318747
         ],
         "showticklabels": false,
         "type": "log"
        },
        "yaxis31": {
         "anchor": "x31",
         "domain": [
          0,
          0.125
         ],
         "range": [
          -3.0529922392846176,
          1.106229520340612
         ],
         "title": {
          "text": "random_strength"
         },
         "type": "log"
        },
        "yaxis32": {
         "anchor": "x32",
         "domain": [
          0,
          0.125
         ],
         "matches": "y31",
         "range": [
          -3.0529922392846176,
          1.106229520340612
         ],
         "showticklabels": false,
         "type": "log"
        },
        "yaxis33": {
         "anchor": "x33",
         "domain": [
          0,
          0.125
         ],
         "matches": "y31",
         "range": [
          -3.0529922392846176,
          1.106229520340612
         ],
         "showticklabels": false,
         "type": "log"
        },
        "yaxis34": {
         "anchor": "x34",
         "domain": [
          0,
          0.125
         ],
         "matches": "y31",
         "range": [
          -3.0529922392846176,
          1.106229520340612
         ],
         "showticklabels": false,
         "type": "log"
        },
        "yaxis35": {
         "anchor": "x35",
         "domain": [
          0,
          0.125
         ],
         "matches": "y31",
         "range": [
          -3.0529922392846176,
          1.106229520340612
         ],
         "showticklabels": false,
         "type": "log"
        },
        "yaxis36": {
         "anchor": "x36",
         "domain": [
          0,
          0.125
         ],
         "matches": "y31",
         "range": [
          -3.0529922392846176,
          1.106229520340612
         ],
         "showticklabels": false,
         "type": "log"
        },
        "yaxis4": {
         "anchor": "x4",
         "domain": [
          0.875,
          1
         ],
         "matches": "y",
         "range": [
          -0.027717630427146603,
          1.0462016747438383
         ],
         "showticklabels": false
        },
        "yaxis5": {
         "anchor": "x5",
         "domain": [
          0.875,
          1
         ],
         "matches": "y",
         "range": [
          -0.027717630427146603,
          1.0462016747438383
         ],
         "showticklabels": false
        },
        "yaxis6": {
         "anchor": "x6",
         "domain": [
          0.875,
          1
         ],
         "matches": "y",
         "range": [
          -0.027717630427146603,
          1.0462016747438383
         ],
         "showticklabels": false
        },
        "yaxis7": {
         "anchor": "x7",
         "domain": [
          0.7,
          0.825
         ],
         "range": [
          3.7,
          10.3
         ],
         "title": {
          "text": "depth"
         }
        },
        "yaxis8": {
         "anchor": "x8",
         "domain": [
          0.7,
          0.825
         ],
         "matches": "y7",
         "range": [
          3.7,
          10.3
         ],
         "showticklabels": false
        },
        "yaxis9": {
         "anchor": "x9",
         "domain": [
          0.7,
          0.825
         ],
         "matches": "y7",
         "range": [
          3.7,
          10.3
         ],
         "showticklabels": false
        }
       }
      }
     },
     "metadata": {},
     "output_type": "display_data"
    }
   ],
   "source": [
    "optuna.visualization.plot_contour(study)\n"
   ]
  },
  {
   "cell_type": "code",
   "execution_count": null,
   "metadata": {},
   "outputs": [
    {
     "data": {
      "application/vnd.plotly.v1+json": {
       "config": {
        "plotlyServerURL": "https://plot.ly"
       },
       "data": [
        {
         "cliponaxis": false,
         "hovertemplate": [
          "depth (IntDistribution): 0.006138406179706274<extra></extra>",
          "l2_leaf_reg (FloatDistribution): 0.019625679207137803<extra></extra>",
          "bagging_temperature (FloatDistribution): 0.02659457892036871<extra></extra>",
          "random_strength (FloatDistribution): 0.04033982175680402<extra></extra>",
          "iterations (IntDistribution): 0.10891386761513035<extra></extra>",
          "learning_rate (FloatDistribution): 0.7983876463208528<extra></extra>"
         ],
         "name": "Objective Value",
         "orientation": "h",
         "text": [
          "<0.01",
          "0.02",
          "0.03",
          "0.04",
          "0.11",
          "0.80"
         ],
         "textposition": "outside",
         "type": "bar",
         "x": [
          0.006138406179706274,
          0.019625679207137803,
          0.02659457892036871,
          0.04033982175680402,
          0.10891386761513035,
          0.7983876463208528
         ],
         "y": [
          "depth",
          "l2_leaf_reg",
          "bagging_temperature",
          "random_strength",
          "iterations",
          "learning_rate"
         ]
        }
       ],
       "layout": {
        "template": {
         "data": {
          "bar": [
           {
            "error_x": {
             "color": "#2a3f5f"
            },
            "error_y": {
             "color": "#2a3f5f"
            },
            "marker": {
             "line": {
              "color": "#E5ECF6",
              "width": 0.5
             },
             "pattern": {
              "fillmode": "overlay",
              "size": 10,
              "solidity": 0.2
             }
            },
            "type": "bar"
           }
          ],
          "barpolar": [
           {
            "marker": {
             "line": {
              "color": "#E5ECF6",
              "width": 0.5
             },
             "pattern": {
              "fillmode": "overlay",
              "size": 10,
              "solidity": 0.2
             }
            },
            "type": "barpolar"
           }
          ],
          "carpet": [
           {
            "aaxis": {
             "endlinecolor": "#2a3f5f",
             "gridcolor": "white",
             "linecolor": "white",
             "minorgridcolor": "white",
             "startlinecolor": "#2a3f5f"
            },
            "baxis": {
             "endlinecolor": "#2a3f5f",
             "gridcolor": "white",
             "linecolor": "white",
             "minorgridcolor": "white",
             "startlinecolor": "#2a3f5f"
            },
            "type": "carpet"
           }
          ],
          "choropleth": [
           {
            "colorbar": {
             "outlinewidth": 0,
             "ticks": ""
            },
            "type": "choropleth"
           }
          ],
          "contour": [
           {
            "colorbar": {
             "outlinewidth": 0,
             "ticks": ""
            },
            "colorscale": [
             [
              0,
              "#0d0887"
             ],
             [
              0.1111111111111111,
              "#46039f"
             ],
             [
              0.2222222222222222,
              "#7201a8"
             ],
             [
              0.3333333333333333,
              "#9c179e"
             ],
             [
              0.4444444444444444,
              "#bd3786"
             ],
             [
              0.5555555555555556,
              "#d8576b"
             ],
             [
              0.6666666666666666,
              "#ed7953"
             ],
             [
              0.7777777777777778,
              "#fb9f3a"
             ],
             [
              0.8888888888888888,
              "#fdca26"
             ],
             [
              1,
              "#f0f921"
             ]
            ],
            "type": "contour"
           }
          ],
          "contourcarpet": [
           {
            "colorbar": {
             "outlinewidth": 0,
             "ticks": ""
            },
            "type": "contourcarpet"
           }
          ],
          "heatmap": [
           {
            "colorbar": {
             "outlinewidth": 0,
             "ticks": ""
            },
            "colorscale": [
             [
              0,
              "#0d0887"
             ],
             [
              0.1111111111111111,
              "#46039f"
             ],
             [
              0.2222222222222222,
              "#7201a8"
             ],
             [
              0.3333333333333333,
              "#9c179e"
             ],
             [
              0.4444444444444444,
              "#bd3786"
             ],
             [
              0.5555555555555556,
              "#d8576b"
             ],
             [
              0.6666666666666666,
              "#ed7953"
             ],
             [
              0.7777777777777778,
              "#fb9f3a"
             ],
             [
              0.8888888888888888,
              "#fdca26"
             ],
             [
              1,
              "#f0f921"
             ]
            ],
            "type": "heatmap"
           }
          ],
          "heatmapgl": [
           {
            "colorbar": {
             "outlinewidth": 0,
             "ticks": ""
            },
            "colorscale": [
             [
              0,
              "#0d0887"
             ],
             [
              0.1111111111111111,
              "#46039f"
             ],
             [
              0.2222222222222222,
              "#7201a8"
             ],
             [
              0.3333333333333333,
              "#9c179e"
             ],
             [
              0.4444444444444444,
              "#bd3786"
             ],
             [
              0.5555555555555556,
              "#d8576b"
             ],
             [
              0.6666666666666666,
              "#ed7953"
             ],
             [
              0.7777777777777778,
              "#fb9f3a"
             ],
             [
              0.8888888888888888,
              "#fdca26"
             ],
             [
              1,
              "#f0f921"
             ]
            ],
            "type": "heatmapgl"
           }
          ],
          "histogram": [
           {
            "marker": {
             "pattern": {
              "fillmode": "overlay",
              "size": 10,
              "solidity": 0.2
             }
            },
            "type": "histogram"
           }
          ],
          "histogram2d": [
           {
            "colorbar": {
             "outlinewidth": 0,
             "ticks": ""
            },
            "colorscale": [
             [
              0,
              "#0d0887"
             ],
             [
              0.1111111111111111,
              "#46039f"
             ],
             [
              0.2222222222222222,
              "#7201a8"
             ],
             [
              0.3333333333333333,
              "#9c179e"
             ],
             [
              0.4444444444444444,
              "#bd3786"
             ],
             [
              0.5555555555555556,
              "#d8576b"
             ],
             [
              0.6666666666666666,
              "#ed7953"
             ],
             [
              0.7777777777777778,
              "#fb9f3a"
             ],
             [
              0.8888888888888888,
              "#fdca26"
             ],
             [
              1,
              "#f0f921"
             ]
            ],
            "type": "histogram2d"
           }
          ],
          "histogram2dcontour": [
           {
            "colorbar": {
             "outlinewidth": 0,
             "ticks": ""
            },
            "colorscale": [
             [
              0,
              "#0d0887"
             ],
             [
              0.1111111111111111,
              "#46039f"
             ],
             [
              0.2222222222222222,
              "#7201a8"
             ],
             [
              0.3333333333333333,
              "#9c179e"
             ],
             [
              0.4444444444444444,
              "#bd3786"
             ],
             [
              0.5555555555555556,
              "#d8576b"
             ],
             [
              0.6666666666666666,
              "#ed7953"
             ],
             [
              0.7777777777777778,
              "#fb9f3a"
             ],
             [
              0.8888888888888888,
              "#fdca26"
             ],
             [
              1,
              "#f0f921"
             ]
            ],
            "type": "histogram2dcontour"
           }
          ],
          "mesh3d": [
           {
            "colorbar": {
             "outlinewidth": 0,
             "ticks": ""
            },
            "type": "mesh3d"
           }
          ],
          "parcoords": [
           {
            "line": {
             "colorbar": {
              "outlinewidth": 0,
              "ticks": ""
             }
            },
            "type": "parcoords"
           }
          ],
          "pie": [
           {
            "automargin": true,
            "type": "pie"
           }
          ],
          "scatter": [
           {
            "fillpattern": {
             "fillmode": "overlay",
             "size": 10,
             "solidity": 0.2
            },
            "type": "scatter"
           }
          ],
          "scatter3d": [
           {
            "line": {
             "colorbar": {
              "outlinewidth": 0,
              "ticks": ""
             }
            },
            "marker": {
             "colorbar": {
              "outlinewidth": 0,
              "ticks": ""
             }
            },
            "type": "scatter3d"
           }
          ],
          "scattercarpet": [
           {
            "marker": {
             "colorbar": {
              "outlinewidth": 0,
              "ticks": ""
             }
            },
            "type": "scattercarpet"
           }
          ],
          "scattergeo": [
           {
            "marker": {
             "colorbar": {
              "outlinewidth": 0,
              "ticks": ""
             }
            },
            "type": "scattergeo"
           }
          ],
          "scattergl": [
           {
            "marker": {
             "colorbar": {
              "outlinewidth": 0,
              "ticks": ""
             }
            },
            "type": "scattergl"
           }
          ],
          "scattermapbox": [
           {
            "marker": {
             "colorbar": {
              "outlinewidth": 0,
              "ticks": ""
             }
            },
            "type": "scattermapbox"
           }
          ],
          "scatterpolar": [
           {
            "marker": {
             "colorbar": {
              "outlinewidth": 0,
              "ticks": ""
             }
            },
            "type": "scatterpolar"
           }
          ],
          "scatterpolargl": [
           {
            "marker": {
             "colorbar": {
              "outlinewidth": 0,
              "ticks": ""
             }
            },
            "type": "scatterpolargl"
           }
          ],
          "scatterternary": [
           {
            "marker": {
             "colorbar": {
              "outlinewidth": 0,
              "ticks": ""
             }
            },
            "type": "scatterternary"
           }
          ],
          "surface": [
           {
            "colorbar": {
             "outlinewidth": 0,
             "ticks": ""
            },
            "colorscale": [
             [
              0,
              "#0d0887"
             ],
             [
              0.1111111111111111,
              "#46039f"
             ],
             [
              0.2222222222222222,
              "#7201a8"
             ],
             [
              0.3333333333333333,
              "#9c179e"
             ],
             [
              0.4444444444444444,
              "#bd3786"
             ],
             [
              0.5555555555555556,
              "#d8576b"
             ],
             [
              0.6666666666666666,
              "#ed7953"
             ],
             [
              0.7777777777777778,
              "#fb9f3a"
             ],
             [
              0.8888888888888888,
              "#fdca26"
             ],
             [
              1,
              "#f0f921"
             ]
            ],
            "type": "surface"
           }
          ],
          "table": [
           {
            "cells": {
             "fill": {
              "color": "#EBF0F8"
             },
             "line": {
              "color": "white"
             }
            },
            "header": {
             "fill": {
              "color": "#C8D4E3"
             },
             "line": {
              "color": "white"
             }
            },
            "type": "table"
           }
          ]
         },
         "layout": {
          "annotationdefaults": {
           "arrowcolor": "#2a3f5f",
           "arrowhead": 0,
           "arrowwidth": 1
          },
          "autotypenumbers": "strict",
          "coloraxis": {
           "colorbar": {
            "outlinewidth": 0,
            "ticks": ""
           }
          },
          "colorscale": {
           "diverging": [
            [
             0,
             "#8e0152"
            ],
            [
             0.1,
             "#c51b7d"
            ],
            [
             0.2,
             "#de77ae"
            ],
            [
             0.3,
             "#f1b6da"
            ],
            [
             0.4,
             "#fde0ef"
            ],
            [
             0.5,
             "#f7f7f7"
            ],
            [
             0.6,
             "#e6f5d0"
            ],
            [
             0.7,
             "#b8e186"
            ],
            [
             0.8,
             "#7fbc41"
            ],
            [
             0.9,
             "#4d9221"
            ],
            [
             1,
             "#276419"
            ]
           ],
           "sequential": [
            [
             0,
             "#0d0887"
            ],
            [
             0.1111111111111111,
             "#46039f"
            ],
            [
             0.2222222222222222,
             "#7201a8"
            ],
            [
             0.3333333333333333,
             "#9c179e"
            ],
            [
             0.4444444444444444,
             "#bd3786"
            ],
            [
             0.5555555555555556,
             "#d8576b"
            ],
            [
             0.6666666666666666,
             "#ed7953"
            ],
            [
             0.7777777777777778,
             "#fb9f3a"
            ],
            [
             0.8888888888888888,
             "#fdca26"
            ],
            [
             1,
             "#f0f921"
            ]
           ],
           "sequentialminus": [
            [
             0,
             "#0d0887"
            ],
            [
             0.1111111111111111,
             "#46039f"
            ],
            [
             0.2222222222222222,
             "#7201a8"
            ],
            [
             0.3333333333333333,
             "#9c179e"
            ],
            [
             0.4444444444444444,
             "#bd3786"
            ],
            [
             0.5555555555555556,
             "#d8576b"
            ],
            [
             0.6666666666666666,
             "#ed7953"
            ],
            [
             0.7777777777777778,
             "#fb9f3a"
            ],
            [
             0.8888888888888888,
             "#fdca26"
            ],
            [
             1,
             "#f0f921"
            ]
           ]
          },
          "colorway": [
           "#636efa",
           "#EF553B",
           "#00cc96",
           "#ab63fa",
           "#FFA15A",
           "#19d3f3",
           "#FF6692",
           "#B6E880",
           "#FF97FF",
           "#FECB52"
          ],
          "font": {
           "color": "#2a3f5f"
          },
          "geo": {
           "bgcolor": "white",
           "lakecolor": "white",
           "landcolor": "#E5ECF6",
           "showlakes": true,
           "showland": true,
           "subunitcolor": "white"
          },
          "hoverlabel": {
           "align": "left"
          },
          "hovermode": "closest",
          "mapbox": {
           "style": "light"
          },
          "paper_bgcolor": "white",
          "plot_bgcolor": "#E5ECF6",
          "polar": {
           "angularaxis": {
            "gridcolor": "white",
            "linecolor": "white",
            "ticks": ""
           },
           "bgcolor": "#E5ECF6",
           "radialaxis": {
            "gridcolor": "white",
            "linecolor": "white",
            "ticks": ""
           }
          },
          "scene": {
           "xaxis": {
            "backgroundcolor": "#E5ECF6",
            "gridcolor": "white",
            "gridwidth": 2,
            "linecolor": "white",
            "showbackground": true,
            "ticks": "",
            "zerolinecolor": "white"
           },
           "yaxis": {
            "backgroundcolor": "#E5ECF6",
            "gridcolor": "white",
            "gridwidth": 2,
            "linecolor": "white",
            "showbackground": true,
            "ticks": "",
            "zerolinecolor": "white"
           },
           "zaxis": {
            "backgroundcolor": "#E5ECF6",
            "gridcolor": "white",
            "gridwidth": 2,
            "linecolor": "white",
            "showbackground": true,
            "ticks": "",
            "zerolinecolor": "white"
           }
          },
          "shapedefaults": {
           "line": {
            "color": "#2a3f5f"
           }
          },
          "ternary": {
           "aaxis": {
            "gridcolor": "white",
            "linecolor": "white",
            "ticks": ""
           },
           "baxis": {
            "gridcolor": "white",
            "linecolor": "white",
            "ticks": ""
           },
           "bgcolor": "#E5ECF6",
           "caxis": {
            "gridcolor": "white",
            "linecolor": "white",
            "ticks": ""
           }
          },
          "title": {
           "x": 0.05
          },
          "xaxis": {
           "automargin": true,
           "gridcolor": "white",
           "linecolor": "white",
           "ticks": "",
           "title": {
            "standoff": 15
           },
           "zerolinecolor": "white",
           "zerolinewidth": 2
          },
          "yaxis": {
           "automargin": true,
           "gridcolor": "white",
           "linecolor": "white",
           "ticks": "",
           "title": {
            "standoff": 15
           },
           "zerolinecolor": "white",
           "zerolinewidth": 2
          }
         }
        },
        "title": {
         "text": "Hyperparameter Importances"
        },
        "xaxis": {
         "title": {
          "text": "Hyperparameter Importance"
         }
        },
        "yaxis": {
         "title": {
          "text": "Hyperparameter"
         }
        }
       }
      }
     },
     "metadata": {},
     "output_type": "display_data"
    }
   ],
   "source": [
    "optuna.visualization.plot_param_importances(study)\n"
   ]
  },
  {
   "cell_type": "code",
   "execution_count": null,
   "metadata": {},
   "outputs": [
    {
     "data": {
      "application/vnd.plotly.v1+json": {
       "config": {
        "plotlyServerURL": "https://plot.ly"
       },
       "data": [
        {
         "marker": {
          "color": [
           0,
           1,
           2,
           3,
           4,
           5,
           6,
           7,
           8,
           9,
           10,
           11,
           12,
           13,
           14,
           15,
           16,
           17,
           18,
           19,
           20,
           21,
           22,
           23,
           24
          ],
          "colorbar": {
           "title": {
            "text": "Trial"
           },
           "x": 1,
           "xpad": 40
          },
          "colorscale": [
           [
            0,
            "rgb(247,251,255)"
           ],
           [
            0.125,
            "rgb(222,235,247)"
           ],
           [
            0.25,
            "rgb(198,219,239)"
           ],
           [
            0.375,
            "rgb(158,202,225)"
           ],
           [
            0.5,
            "rgb(107,174,214)"
           ],
           [
            0.625,
            "rgb(66,146,198)"
           ],
           [
            0.75,
            "rgb(33,113,181)"
           ],
           [
            0.875,
            "rgb(8,81,156)"
           ],
           [
            1,
            "rgb(8,48,107)"
           ]
          ],
          "line": {
           "color": "Grey",
           "width": 0.5
          },
          "showscale": true
         },
         "mode": "markers",
         "name": "Feasible Trial",
         "showlegend": false,
         "type": "scatter",
         "x": [
          0.35160437621301655,
          0.27691147205594535,
          0.1986379345977377,
          0.9311824416361173,
          0.1653785653404436,
          0.4453860170068221,
          0.7719334284189111,
          0.4928286227752857,
          0.4721681327747337,
          0.7863960495937629,
          0.021096883444261805,
          0.035468916866414846,
          0.6604240639153958,
          0.158079070738712,
          0.616577581296886,
          0.6313988380641429,
          0.6152852017964116,
          0.946067571401495,
          0.9763015247159273,
          0.970962086590466,
          0.8545589749361152,
          0.9973871608724298,
          0.8830218322040628,
          0.7172642330570739,
          0.7476859490094927
         ],
         "xaxis": "x",
         "y": [
          0.8731554520958047,
          0.8760055874765106,
          0.8723895034398698,
          0.8631521704377709,
          0.8760698594045511,
          0.8757704989752587,
          0.8507227887474659,
          0.8760279130750771,
          0.8762683271757736,
          0.8468994256985938,
          0.8748311055725484,
          0.8758808907573346,
          0.8749787310245623,
          0.8764232168543427,
          0.876375921549484,
          0.8765577987945103,
          0.8740693145070131,
          0.876704415403992,
          0.877074744223945,
          0.8697271527631747,
          0.8753041148284513,
          0.8764521852471732,
          0.8754092963148761,
          0.8767685412980705,
          0.876715321987214
         ],
         "yaxis": "y"
        },
        {
         "marker": {
          "color": [
           0,
           1,
           2,
           3,
           4,
           5,
           6,
           7,
           8,
           9,
           10,
           11,
           12,
           13,
           14,
           15,
           16,
           17,
           18,
           19,
           20,
           21,
           22,
           23,
           24
          ],
          "colorbar": {
           "title": {
            "text": "Trial"
           },
           "x": 1,
           "xpad": 40
          },
          "colorscale": [
           [
            0,
            "rgb(247,251,255)"
           ],
           [
            0.125,
            "rgb(222,235,247)"
           ],
           [
            0.25,
            "rgb(198,219,239)"
           ],
           [
            0.375,
            "rgb(158,202,225)"
           ],
           [
            0.5,
            "rgb(107,174,214)"
           ],
           [
            0.625,
            "rgb(66,146,198)"
           ],
           [
            0.75,
            "rgb(33,113,181)"
           ],
           [
            0.875,
            "rgb(8,81,156)"
           ],
           [
            1,
            "rgb(8,48,107)"
           ]
          ],
          "line": {
           "color": "Grey",
           "width": 0.5
          },
          "showscale": false
         },
         "mode": "markers",
         "name": "Feasible Trial",
         "showlegend": false,
         "type": "scatter",
         "x": [
          5,
          9,
          5,
          5,
          9,
          5,
          6,
          8,
          10,
          6,
          10,
          10,
          8,
          9,
          9,
          8,
          7,
          8,
          7,
          7,
          4,
          8,
          7,
          8,
          6
         ],
         "xaxis": "x2",
         "y": [
          0.8731554520958047,
          0.8760055874765106,
          0.8723895034398698,
          0.8631521704377709,
          0.8760698594045511,
          0.8757704989752587,
          0.8507227887474659,
          0.8760279130750771,
          0.8762683271757736,
          0.8468994256985938,
          0.8748311055725484,
          0.8758808907573346,
          0.8749787310245623,
          0.8764232168543427,
          0.876375921549484,
          0.8765577987945103,
          0.8740693145070131,
          0.876704415403992,
          0.877074744223945,
          0.8697271527631747,
          0.8753041148284513,
          0.8764521852471732,
          0.8754092963148761,
          0.8767685412980705,
          0.876715321987214
         ],
         "yaxis": "y2"
        },
        {
         "marker": {
          "color": [
           0,
           1,
           2,
           3,
           4,
           5,
           6,
           7,
           8,
           9,
           10,
           11,
           12,
           13,
           14,
           15,
           16,
           17,
           18,
           19,
           20,
           21,
           22,
           23,
           24
          ],
          "colorbar": {
           "title": {
            "text": "Trial"
           },
           "x": 1,
           "xpad": 40
          },
          "colorscale": [
           [
            0,
            "rgb(247,251,255)"
           ],
           [
            0.125,
            "rgb(222,235,247)"
           ],
           [
            0.25,
            "rgb(198,219,239)"
           ],
           [
            0.375,
            "rgb(158,202,225)"
           ],
           [
            0.5,
            "rgb(107,174,214)"
           ],
           [
            0.625,
            "rgb(66,146,198)"
           ],
           [
            0.75,
            "rgb(33,113,181)"
           ],
           [
            0.875,
            "rgb(8,81,156)"
           ],
           [
            1,
            "rgb(8,48,107)"
           ]
          ],
          "line": {
           "color": "Grey",
           "width": 0.5
          },
          "showscale": false
         },
         "mode": "markers",
         "name": "Feasible Trial",
         "showlegend": false,
         "type": "scatter",
         "x": [
          1245,
          2272,
          1010,
          1551,
          2623,
          2253,
          1219,
          2649,
          2347,
          2447,
          1848,
          2836,
          2933,
          1996,
          1904,
          1850,
          1635,
          2073,
          2140,
          2143,
          1678,
          2090,
          1799,
          1438,
          1498
         ],
         "xaxis": "x3",
         "y": [
          0.8731554520958047,
          0.8760055874765106,
          0.8723895034398698,
          0.8631521704377709,
          0.8760698594045511,
          0.8757704989752587,
          0.8507227887474659,
          0.8760279130750771,
          0.8762683271757736,
          0.8468994256985938,
          0.8748311055725484,
          0.8758808907573346,
          0.8749787310245623,
          0.8764232168543427,
          0.876375921549484,
          0.8765577987945103,
          0.8740693145070131,
          0.876704415403992,
          0.877074744223945,
          0.8697271527631747,
          0.8753041148284513,
          0.8764521852471732,
          0.8754092963148761,
          0.8767685412980705,
          0.876715321987214
         ],
         "yaxis": "y3"
        },
        {
         "marker": {
          "color": [
           0,
           1,
           2,
           3,
           4,
           5,
           6,
           7,
           8,
           9,
           10,
           11,
           12,
           13,
           14,
           15,
           16,
           17,
           18,
           19,
           20,
           21,
           22,
           23,
           24
          ],
          "colorbar": {
           "title": {
            "text": "Trial"
           },
           "x": 1,
           "xpad": 40
          },
          "colorscale": [
           [
            0,
            "rgb(247,251,255)"
           ],
           [
            0.125,
            "rgb(222,235,247)"
           ],
           [
            0.25,
            "rgb(198,219,239)"
           ],
           [
            0.375,
            "rgb(158,202,225)"
           ],
           [
            0.5,
            "rgb(107,174,214)"
           ],
           [
            0.625,
            "rgb(66,146,198)"
           ],
           [
            0.75,
            "rgb(33,113,181)"
           ],
           [
            0.875,
            "rgb(8,81,156)"
           ],
           [
            1,
            "rgb(8,48,107)"
           ]
          ],
          "line": {
           "color": "Grey",
           "width": 0.5
          },
          "showscale": false
         },
         "mode": "markers",
         "name": "Feasible Trial",
         "showlegend": false,
         "type": "scatter",
         "x": [
          1.6236863768463325,
          0.050704952348633106,
          6.593822050520771,
          0.33577980823141684,
          0.20048521533471292,
          0.005686488275845867,
          0.271065504382834,
          0.0013502205127737278,
          5.648665444998958,
          0.005599922125393375,
          9.766506120440074,
          1.1807824514396177,
          0.03621653933395622,
          1.598349642864303,
          1.956471961188236,
          1.2801137168124583,
          0.6778200572155763,
          2.575660179430299,
          3.1144462200141576,
          3.7141853846566555,
          0.09723987296980896,
          0.5691482062324401,
          2.884566639319308,
          0.9059399944440578,
          0.6438016057012503
         ],
         "xaxis": "x4",
         "y": [
          0.8731554520958047,
          0.8760055874765106,
          0.8723895034398698,
          0.8631521704377709,
          0.8760698594045511,
          0.8757704989752587,
          0.8507227887474659,
          0.8760279130750771,
          0.8762683271757736,
          0.8468994256985938,
          0.8748311055725484,
          0.8758808907573346,
          0.8749787310245623,
          0.8764232168543427,
          0.876375921549484,
          0.8765577987945103,
          0.8740693145070131,
          0.876704415403992,
          0.877074744223945,
          0.8697271527631747,
          0.8753041148284513,
          0.8764521852471732,
          0.8754092963148761,
          0.8767685412980705,
          0.876715321987214
         ],
         "yaxis": "y4"
        },
        {
         "marker": {
          "color": [
           0,
           1,
           2,
           3,
           4,
           5,
           6,
           7,
           8,
           9,
           10,
           11,
           12,
           13,
           14,
           15,
           16,
           17,
           18,
           19,
           20,
           21,
           22,
           23,
           24
          ],
          "colorbar": {
           "title": {
            "text": "Trial"
           },
           "x": 1,
           "xpad": 40
          },
          "colorscale": [
           [
            0,
            "rgb(247,251,255)"
           ],
           [
            0.125,
            "rgb(222,235,247)"
           ],
           [
            0.25,
            "rgb(198,219,239)"
           ],
           [
            0.375,
            "rgb(158,202,225)"
           ],
           [
            0.5,
            "rgb(107,174,214)"
           ],
           [
            0.625,
            "rgb(66,146,198)"
           ],
           [
            0.75,
            "rgb(33,113,181)"
           ],
           [
            0.875,
            "rgb(8,81,156)"
           ],
           [
            1,
            "rgb(8,48,107)"
           ]
          ],
          "line": {
           "color": "Grey",
           "width": 0.5
          },
          "showscale": false
         },
         "mode": "markers",
         "name": "Feasible Trial",
         "showlegend": false,
         "type": "scatter",
         "x": [
          0.03045064589680613,
          0.043161464201364984,
          0.02959456157743655,
          0.0041969675398673524,
          0.050876045024910645,
          0.03239941582014418,
          0.0016205622653806687,
          0.036647759430624025,
          0.01939312273281176,
          0.001976630674792773,
          0.009153096511780052,
          0.09531511189138718,
          0.00893324050435845,
          0.0927701509590474,
          0.09622085005287367,
          0.07884554109070592,
          0.014942615940739881,
          0.0567243019623693,
          0.06186207490162208,
          0.005071564130028977,
          0.056892488308269686,
          0.06005764678809379,
          0.020247398950067306,
          0.06795577223035759,
          0.06298725338758546
         ],
         "xaxis": "x5",
         "y": [
          0.8731554520958047,
          0.8760055874765106,
          0.8723895034398698,
          0.8631521704377709,
          0.8760698594045511,
          0.8757704989752587,
          0.8507227887474659,
          0.8760279130750771,
          0.8762683271757736,
          0.8468994256985938,
          0.8748311055725484,
          0.8758808907573346,
          0.8749787310245623,
          0.8764232168543427,
          0.876375921549484,
          0.8765577987945103,
          0.8740693145070131,
          0.876704415403992,
          0.877074744223945,
          0.8697271527631747,
          0.8753041148284513,
          0.8764521852471732,
          0.8754092963148761,
          0.8767685412980705,
          0.876715321987214
         ],
         "yaxis": "y5"
        },
        {
         "marker": {
          "color": [
           0,
           1,
           2,
           3,
           4,
           5,
           6,
           7,
           8,
           9,
           10,
           11,
           12,
           13,
           14,
           15,
           16,
           17,
           18,
           19,
           20,
           21,
           22,
           23,
           24
          ],
          "colorbar": {
           "title": {
            "text": "Trial"
           },
           "x": 1,
           "xpad": 40
          },
          "colorscale": [
           [
            0,
            "rgb(247,251,255)"
           ],
           [
            0.125,
            "rgb(222,235,247)"
           ],
           [
            0.25,
            "rgb(198,219,239)"
           ],
           [
            0.375,
            "rgb(158,202,225)"
           ],
           [
            0.5,
            "rgb(107,174,214)"
           ],
           [
            0.625,
            "rgb(66,146,198)"
           ],
           [
            0.75,
            "rgb(33,113,181)"
           ],
           [
            0.875,
            "rgb(8,81,156)"
           ],
           [
            1,
            "rgb(8,48,107)"
           ]
          ],
          "line": {
           "color": "Grey",
           "width": 0.5
          },
          "showscale": false
         },
         "mode": "markers",
         "name": "Feasible Trial",
         "showlegend": false,
         "type": "scatter",
         "x": [
          7.858371016947948,
          0.03302723763506745,
          1.1441130526291785,
          0.22722430844635144,
          0.04187534676784171,
          0.010314680895799842,
          0.035959616841470365,
          0.36540570800441063,
          6.045293056544891,
          8.263689408320012,
          0.0013679281765936408,
          1.4655627609873096,
          0.01031359388995681,
          0.08276447921795416,
          1.2811117864609427,
          0.9524576740419733,
          0.22980683750505768,
          0.09982091719818298,
          0.8114076476999805,
          0.42645674510971915,
          0.009413375418335807,
          2.4953193797068507,
          0.6080287359985996,
          0.1197929964019686,
          0.11786015045616766
         ],
         "xaxis": "x6",
         "y": [
          0.8731554520958047,
          0.8760055874765106,
          0.8723895034398698,
          0.8631521704377709,
          0.8760698594045511,
          0.8757704989752587,
          0.8507227887474659,
          0.8760279130750771,
          0.8762683271757736,
          0.8468994256985938,
          0.8748311055725484,
          0.8758808907573346,
          0.8749787310245623,
          0.8764232168543427,
          0.876375921549484,
          0.8765577987945103,
          0.8740693145070131,
          0.876704415403992,
          0.877074744223945,
          0.8697271527631747,
          0.8753041148284513,
          0.8764521852471732,
          0.8754092963148761,
          0.8767685412980705,
          0.876715321987214
         ],
         "yaxis": "y6"
        }
       ],
       "layout": {
        "template": {
         "data": {
          "bar": [
           {
            "error_x": {
             "color": "#2a3f5f"
            },
            "error_y": {
             "color": "#2a3f5f"
            },
            "marker": {
             "line": {
              "color": "#E5ECF6",
              "width": 0.5
             },
             "pattern": {
              "fillmode": "overlay",
              "size": 10,
              "solidity": 0.2
             }
            },
            "type": "bar"
           }
          ],
          "barpolar": [
           {
            "marker": {
             "line": {
              "color": "#E5ECF6",
              "width": 0.5
             },
             "pattern": {
              "fillmode": "overlay",
              "size": 10,
              "solidity": 0.2
             }
            },
            "type": "barpolar"
           }
          ],
          "carpet": [
           {
            "aaxis": {
             "endlinecolor": "#2a3f5f",
             "gridcolor": "white",
             "linecolor": "white",
             "minorgridcolor": "white",
             "startlinecolor": "#2a3f5f"
            },
            "baxis": {
             "endlinecolor": "#2a3f5f",
             "gridcolor": "white",
             "linecolor": "white",
             "minorgridcolor": "white",
             "startlinecolor": "#2a3f5f"
            },
            "type": "carpet"
           }
          ],
          "choropleth": [
           {
            "colorbar": {
             "outlinewidth": 0,
             "ticks": ""
            },
            "type": "choropleth"
           }
          ],
          "contour": [
           {
            "colorbar": {
             "outlinewidth": 0,
             "ticks": ""
            },
            "colorscale": [
             [
              0,
              "#0d0887"
             ],
             [
              0.1111111111111111,
              "#46039f"
             ],
             [
              0.2222222222222222,
              "#7201a8"
             ],
             [
              0.3333333333333333,
              "#9c179e"
             ],
             [
              0.4444444444444444,
              "#bd3786"
             ],
             [
              0.5555555555555556,
              "#d8576b"
             ],
             [
              0.6666666666666666,
              "#ed7953"
             ],
             [
              0.7777777777777778,
              "#fb9f3a"
             ],
             [
              0.8888888888888888,
              "#fdca26"
             ],
             [
              1,
              "#f0f921"
             ]
            ],
            "type": "contour"
           }
          ],
          "contourcarpet": [
           {
            "colorbar": {
             "outlinewidth": 0,
             "ticks": ""
            },
            "type": "contourcarpet"
           }
          ],
          "heatmap": [
           {
            "colorbar": {
             "outlinewidth": 0,
             "ticks": ""
            },
            "colorscale": [
             [
              0,
              "#0d0887"
             ],
             [
              0.1111111111111111,
              "#46039f"
             ],
             [
              0.2222222222222222,
              "#7201a8"
             ],
             [
              0.3333333333333333,
              "#9c179e"
             ],
             [
              0.4444444444444444,
              "#bd3786"
             ],
             [
              0.5555555555555556,
              "#d8576b"
             ],
             [
              0.6666666666666666,
              "#ed7953"
             ],
             [
              0.7777777777777778,
              "#fb9f3a"
             ],
             [
              0.8888888888888888,
              "#fdca26"
             ],
             [
              1,
              "#f0f921"
             ]
            ],
            "type": "heatmap"
           }
          ],
          "heatmapgl": [
           {
            "colorbar": {
             "outlinewidth": 0,
             "ticks": ""
            },
            "colorscale": [
             [
              0,
              "#0d0887"
             ],
             [
              0.1111111111111111,
              "#46039f"
             ],
             [
              0.2222222222222222,
              "#7201a8"
             ],
             [
              0.3333333333333333,
              "#9c179e"
             ],
             [
              0.4444444444444444,
              "#bd3786"
             ],
             [
              0.5555555555555556,
              "#d8576b"
             ],
             [
              0.6666666666666666,
              "#ed7953"
             ],
             [
              0.7777777777777778,
              "#fb9f3a"
             ],
             [
              0.8888888888888888,
              "#fdca26"
             ],
             [
              1,
              "#f0f921"
             ]
            ],
            "type": "heatmapgl"
           }
          ],
          "histogram": [
           {
            "marker": {
             "pattern": {
              "fillmode": "overlay",
              "size": 10,
              "solidity": 0.2
             }
            },
            "type": "histogram"
           }
          ],
          "histogram2d": [
           {
            "colorbar": {
             "outlinewidth": 0,
             "ticks": ""
            },
            "colorscale": [
             [
              0,
              "#0d0887"
             ],
             [
              0.1111111111111111,
              "#46039f"
             ],
             [
              0.2222222222222222,
              "#7201a8"
             ],
             [
              0.3333333333333333,
              "#9c179e"
             ],
             [
              0.4444444444444444,
              "#bd3786"
             ],
             [
              0.5555555555555556,
              "#d8576b"
             ],
             [
              0.6666666666666666,
              "#ed7953"
             ],
             [
              0.7777777777777778,
              "#fb9f3a"
             ],
             [
              0.8888888888888888,
              "#fdca26"
             ],
             [
              1,
              "#f0f921"
             ]
            ],
            "type": "histogram2d"
           }
          ],
          "histogram2dcontour": [
           {
            "colorbar": {
             "outlinewidth": 0,
             "ticks": ""
            },
            "colorscale": [
             [
              0,
              "#0d0887"
             ],
             [
              0.1111111111111111,
              "#46039f"
             ],
             [
              0.2222222222222222,
              "#7201a8"
             ],
             [
              0.3333333333333333,
              "#9c179e"
             ],
             [
              0.4444444444444444,
              "#bd3786"
             ],
             [
              0.5555555555555556,
              "#d8576b"
             ],
             [
              0.6666666666666666,
              "#ed7953"
             ],
             [
              0.7777777777777778,
              "#fb9f3a"
             ],
             [
              0.8888888888888888,
              "#fdca26"
             ],
             [
              1,
              "#f0f921"
             ]
            ],
            "type": "histogram2dcontour"
           }
          ],
          "mesh3d": [
           {
            "colorbar": {
             "outlinewidth": 0,
             "ticks": ""
            },
            "type": "mesh3d"
           }
          ],
          "parcoords": [
           {
            "line": {
             "colorbar": {
              "outlinewidth": 0,
              "ticks": ""
             }
            },
            "type": "parcoords"
           }
          ],
          "pie": [
           {
            "automargin": true,
            "type": "pie"
           }
          ],
          "scatter": [
           {
            "fillpattern": {
             "fillmode": "overlay",
             "size": 10,
             "solidity": 0.2
            },
            "type": "scatter"
           }
          ],
          "scatter3d": [
           {
            "line": {
             "colorbar": {
              "outlinewidth": 0,
              "ticks": ""
             }
            },
            "marker": {
             "colorbar": {
              "outlinewidth": 0,
              "ticks": ""
             }
            },
            "type": "scatter3d"
           }
          ],
          "scattercarpet": [
           {
            "marker": {
             "colorbar": {
              "outlinewidth": 0,
              "ticks": ""
             }
            },
            "type": "scattercarpet"
           }
          ],
          "scattergeo": [
           {
            "marker": {
             "colorbar": {
              "outlinewidth": 0,
              "ticks": ""
             }
            },
            "type": "scattergeo"
           }
          ],
          "scattergl": [
           {
            "marker": {
             "colorbar": {
              "outlinewidth": 0,
              "ticks": ""
             }
            },
            "type": "scattergl"
           }
          ],
          "scattermapbox": [
           {
            "marker": {
             "colorbar": {
              "outlinewidth": 0,
              "ticks": ""
             }
            },
            "type": "scattermapbox"
           }
          ],
          "scatterpolar": [
           {
            "marker": {
             "colorbar": {
              "outlinewidth": 0,
              "ticks": ""
             }
            },
            "type": "scatterpolar"
           }
          ],
          "scatterpolargl": [
           {
            "marker": {
             "colorbar": {
              "outlinewidth": 0,
              "ticks": ""
             }
            },
            "type": "scatterpolargl"
           }
          ],
          "scatterternary": [
           {
            "marker": {
             "colorbar": {
              "outlinewidth": 0,
              "ticks": ""
             }
            },
            "type": "scatterternary"
           }
          ],
          "surface": [
           {
            "colorbar": {
             "outlinewidth": 0,
             "ticks": ""
            },
            "colorscale": [
             [
              0,
              "#0d0887"
             ],
             [
              0.1111111111111111,
              "#46039f"
             ],
             [
              0.2222222222222222,
              "#7201a8"
             ],
             [
              0.3333333333333333,
              "#9c179e"
             ],
             [
              0.4444444444444444,
              "#bd3786"
             ],
             [
              0.5555555555555556,
              "#d8576b"
             ],
             [
              0.6666666666666666,
              "#ed7953"
             ],
             [
              0.7777777777777778,
              "#fb9f3a"
             ],
             [
              0.8888888888888888,
              "#fdca26"
             ],
             [
              1,
              "#f0f921"
             ]
            ],
            "type": "surface"
           }
          ],
          "table": [
           {
            "cells": {
             "fill": {
              "color": "#EBF0F8"
             },
             "line": {
              "color": "white"
             }
            },
            "header": {
             "fill": {
              "color": "#C8D4E3"
             },
             "line": {
              "color": "white"
             }
            },
            "type": "table"
           }
          ]
         },
         "layout": {
          "annotationdefaults": {
           "arrowcolor": "#2a3f5f",
           "arrowhead": 0,
           "arrowwidth": 1
          },
          "autotypenumbers": "strict",
          "coloraxis": {
           "colorbar": {
            "outlinewidth": 0,
            "ticks": ""
           }
          },
          "colorscale": {
           "diverging": [
            [
             0,
             "#8e0152"
            ],
            [
             0.1,
             "#c51b7d"
            ],
            [
             0.2,
             "#de77ae"
            ],
            [
             0.3,
             "#f1b6da"
            ],
            [
             0.4,
             "#fde0ef"
            ],
            [
             0.5,
             "#f7f7f7"
            ],
            [
             0.6,
             "#e6f5d0"
            ],
            [
             0.7,
             "#b8e186"
            ],
            [
             0.8,
             "#7fbc41"
            ],
            [
             0.9,
             "#4d9221"
            ],
            [
             1,
             "#276419"
            ]
           ],
           "sequential": [
            [
             0,
             "#0d0887"
            ],
            [
             0.1111111111111111,
             "#46039f"
            ],
            [
             0.2222222222222222,
             "#7201a8"
            ],
            [
             0.3333333333333333,
             "#9c179e"
            ],
            [
             0.4444444444444444,
             "#bd3786"
            ],
            [
             0.5555555555555556,
             "#d8576b"
            ],
            [
             0.6666666666666666,
             "#ed7953"
            ],
            [
             0.7777777777777778,
             "#fb9f3a"
            ],
            [
             0.8888888888888888,
             "#fdca26"
            ],
            [
             1,
             "#f0f921"
            ]
           ],
           "sequentialminus": [
            [
             0,
             "#0d0887"
            ],
            [
             0.1111111111111111,
             "#46039f"
            ],
            [
             0.2222222222222222,
             "#7201a8"
            ],
            [
             0.3333333333333333,
             "#9c179e"
            ],
            [
             0.4444444444444444,
             "#bd3786"
            ],
            [
             0.5555555555555556,
             "#d8576b"
            ],
            [
             0.6666666666666666,
             "#ed7953"
            ],
            [
             0.7777777777777778,
             "#fb9f3a"
            ],
            [
             0.8888888888888888,
             "#fdca26"
            ],
            [
             1,
             "#f0f921"
            ]
           ]
          },
          "colorway": [
           "#636efa",
           "#EF553B",
           "#00cc96",
           "#ab63fa",
           "#FFA15A",
           "#19d3f3",
           "#FF6692",
           "#B6E880",
           "#FF97FF",
           "#FECB52"
          ],
          "font": {
           "color": "#2a3f5f"
          },
          "geo": {
           "bgcolor": "white",
           "lakecolor": "white",
           "landcolor": "#E5ECF6",
           "showlakes": true,
           "showland": true,
           "subunitcolor": "white"
          },
          "hoverlabel": {
           "align": "left"
          },
          "hovermode": "closest",
          "mapbox": {
           "style": "light"
          },
          "paper_bgcolor": "white",
          "plot_bgcolor": "#E5ECF6",
          "polar": {
           "angularaxis": {
            "gridcolor": "white",
            "linecolor": "white",
            "ticks": ""
           },
           "bgcolor": "#E5ECF6",
           "radialaxis": {
            "gridcolor": "white",
            "linecolor": "white",
            "ticks": ""
           }
          },
          "scene": {
           "xaxis": {
            "backgroundcolor": "#E5ECF6",
            "gridcolor": "white",
            "gridwidth": 2,
            "linecolor": "white",
            "showbackground": true,
            "ticks": "",
            "zerolinecolor": "white"
           },
           "yaxis": {
            "backgroundcolor": "#E5ECF6",
            "gridcolor": "white",
            "gridwidth": 2,
            "linecolor": "white",
            "showbackground": true,
            "ticks": "",
            "zerolinecolor": "white"
           },
           "zaxis": {
            "backgroundcolor": "#E5ECF6",
            "gridcolor": "white",
            "gridwidth": 2,
            "linecolor": "white",
            "showbackground": true,
            "ticks": "",
            "zerolinecolor": "white"
           }
          },
          "shapedefaults": {
           "line": {
            "color": "#2a3f5f"
           }
          },
          "ternary": {
           "aaxis": {
            "gridcolor": "white",
            "linecolor": "white",
            "ticks": ""
           },
           "baxis": {
            "gridcolor": "white",
            "linecolor": "white",
            "ticks": ""
           },
           "bgcolor": "#E5ECF6",
           "caxis": {
            "gridcolor": "white",
            "linecolor": "white",
            "ticks": ""
           }
          },
          "title": {
           "x": 0.05
          },
          "xaxis": {
           "automargin": true,
           "gridcolor": "white",
           "linecolor": "white",
           "ticks": "",
           "title": {
            "standoff": 15
           },
           "zerolinecolor": "white",
           "zerolinewidth": 2
          },
          "yaxis": {
           "automargin": true,
           "gridcolor": "white",
           "linecolor": "white",
           "ticks": "",
           "title": {
            "standoff": 15
           },
           "zerolinecolor": "white",
           "zerolinewidth": 2
          }
         }
        },
        "title": {
         "text": "Slice Plot"
        },
        "width": 1800,
        "xaxis": {
         "anchor": "y",
         "domain": [
          0,
          0.1388888888888889
         ],
         "title": {
          "text": "bagging_temperature"
         }
        },
        "xaxis2": {
         "anchor": "y2",
         "domain": [
          0.17222222222222222,
          0.3111111111111111
         ],
         "title": {
          "text": "depth"
         }
        },
        "xaxis3": {
         "anchor": "y3",
         "domain": [
          0.34444444444444444,
          0.48333333333333334
         ],
         "title": {
          "text": "iterations"
         }
        },
        "xaxis4": {
         "anchor": "y4",
         "domain": [
          0.5166666666666667,
          0.6555555555555557
         ],
         "title": {
          "text": "l2_leaf_reg"
         },
         "type": "log"
        },
        "xaxis5": {
         "anchor": "y5",
         "domain": [
          0.6888888888888889,
          0.8277777777777777
         ],
         "title": {
          "text": "learning_rate"
         },
         "type": "log"
        },
        "xaxis6": {
         "anchor": "y6",
         "domain": [
          0.861111111111111,
          1
         ],
         "title": {
          "text": "random_strength"
         },
         "type": "log"
        },
        "yaxis": {
         "anchor": "x",
         "domain": [
          0,
          1
         ],
         "title": {
          "text": "Objective Value"
         }
        },
        "yaxis2": {
         "anchor": "x2",
         "domain": [
          0,
          1
         ],
         "matches": "y",
         "showticklabels": false
        },
        "yaxis3": {
         "anchor": "x3",
         "domain": [
          0,
          1
         ],
         "matches": "y",
         "showticklabels": false
        },
        "yaxis4": {
         "anchor": "x4",
         "domain": [
          0,
          1
         ],
         "matches": "y",
         "showticklabels": false
        },
        "yaxis5": {
         "anchor": "x5",
         "domain": [
          0,
          1
         ],
         "matches": "y",
         "showticklabels": false
        },
        "yaxis6": {
         "anchor": "x6",
         "domain": [
          0,
          1
         ],
         "matches": "y",
         "showticklabels": false
        }
       }
      }
     },
     "metadata": {},
     "output_type": "display_data"
    }
   ],
   "source": [
    "optuna.visualization.plot_slice(study)\n"
   ]
  },
  {
   "cell_type": "code",
   "execution_count": null,
   "metadata": {},
   "outputs": [
    {
     "data": {
      "application/vnd.plotly.v1+json": {
       "config": {
        "plotlyServerURL": "https://plot.ly"
       },
       "data": [
        {
         "mode": "lines",
         "name": "no-name-4431e1d7-4616-4127-ac79-13d41bf84369",
         "type": "scatter",
         "x": [
          0.8468994256985938,
          0.8472042268958195,
          0.8475090280930453,
          0.847813829290271,
          0.8481186304874968,
          0.8484234316847227,
          0.8487282328819484,
          0.8490330340791742,
          0.8493378352763999,
          0.8496426364736257,
          0.8499474376708515,
          0.8502522388680772,
          0.850557040065303,
          0.8508618412625288,
          0.8511666424597546,
          0.8514714436569804,
          0.8517762448542061,
          0.8520810460514319,
          0.8523858472486576,
          0.8526906484458834,
          0.8529954496431091,
          0.853300250840335,
          0.8536050520375608,
          0.8539098532347865,
          0.8542146544320123,
          0.854519455629238,
          0.8548242568264638,
          0.8551290580236895,
          0.8554338592209153,
          0.8557386604181412,
          0.8560434616153669,
          0.8563482628125927,
          0.8566530640098184,
          0.8569578652070442,
          0.85726266640427,
          0.8575674676014957,
          0.8578722687987215,
          0.8581770699959472,
          0.8584818711931731,
          0.8587866723903989,
          0.8590914735876246,
          0.8593962747848504,
          0.8597010759820761,
          0.8600058771793019,
          0.8603106783765276,
          0.8606154795737534,
          0.8609202807709793,
          0.861225081968205,
          0.8615298831654308,
          0.8618346843626565,
          0.8621394855598823,
          0.862444286757108,
          0.8627490879543338,
          0.8630538891515596,
          0.8633586903487854,
          0.8636634915460112,
          0.8639682927432369,
          0.8642730939404627,
          0.8645778951376885,
          0.8648826963349142,
          0.86518749753214,
          0.8654922987293657,
          0.8657970999265916,
          0.8661019011238174,
          0.8664067023210431,
          0.8667115035182689,
          0.8670163047154946,
          0.8673211059127204,
          0.8676259071099461,
          0.8679307083071719,
          0.8682355095043977,
          0.8685403107016235,
          0.8688451118988493,
          0.869149913096075,
          0.8694547142933008,
          0.8697595154905265,
          0.8700643166877523,
          0.8703691178849781,
          0.8706739190822038,
          0.8709787202794297,
          0.8712835214766554,
          0.8715883226738812,
          0.871893123871107,
          0.8721979250683327,
          0.8725027262655585,
          0.8728075274627842,
          0.87311232866001,
          0.8734171298572359,
          0.8737219310544616,
          0.8740267322516874,
          0.8743315334489131,
          0.8746363346461389,
          0.8749411358433646,
          0.8752459370405904,
          0.8755507382378162,
          0.875855539435042,
          0.8761603406322678,
          0.8764651418294935,
          0.8767699430267193,
          0.877074744223945
         ],
         "y": [
          0.04,
          0.04,
          0.04,
          0.04,
          0.04,
          0.04,
          0.04,
          0.04,
          0.04,
          0.04,
          0.04,
          0.04,
          0.04,
          0.08,
          0.08,
          0.08,
          0.08,
          0.08,
          0.08,
          0.08,
          0.08,
          0.08,
          0.08,
          0.08,
          0.08,
          0.08,
          0.08,
          0.08,
          0.08,
          0.08,
          0.08,
          0.08,
          0.08,
          0.08,
          0.08,
          0.08,
          0.08,
          0.08,
          0.08,
          0.08,
          0.08,
          0.08,
          0.08,
          0.08,
          0.08,
          0.08,
          0.08,
          0.08,
          0.08,
          0.08,
          0.08,
          0.08,
          0.08,
          0.08,
          0.12,
          0.12,
          0.12,
          0.12,
          0.12,
          0.12,
          0.12,
          0.12,
          0.12,
          0.12,
          0.12,
          0.12,
          0.12,
          0.12,
          0.12,
          0.12,
          0.12,
          0.12,
          0.12,
          0.12,
          0.12,
          0.16,
          0.16,
          0.16,
          0.16,
          0.16,
          0.16,
          0.16,
          0.16,
          0.16,
          0.2,
          0.2,
          0.2,
          0.24,
          0.24,
          0.24,
          0.28,
          0.28,
          0.32,
          0.36,
          0.44,
          0.48,
          0.64,
          0.8,
          0.96,
          1
         ]
        }
       ],
       "layout": {
        "template": {
         "data": {
          "bar": [
           {
            "error_x": {
             "color": "#2a3f5f"
            },
            "error_y": {
             "color": "#2a3f5f"
            },
            "marker": {
             "line": {
              "color": "#E5ECF6",
              "width": 0.5
             },
             "pattern": {
              "fillmode": "overlay",
              "size": 10,
              "solidity": 0.2
             }
            },
            "type": "bar"
           }
          ],
          "barpolar": [
           {
            "marker": {
             "line": {
              "color": "#E5ECF6",
              "width": 0.5
             },
             "pattern": {
              "fillmode": "overlay",
              "size": 10,
              "solidity": 0.2
             }
            },
            "type": "barpolar"
           }
          ],
          "carpet": [
           {
            "aaxis": {
             "endlinecolor": "#2a3f5f",
             "gridcolor": "white",
             "linecolor": "white",
             "minorgridcolor": "white",
             "startlinecolor": "#2a3f5f"
            },
            "baxis": {
             "endlinecolor": "#2a3f5f",
             "gridcolor": "white",
             "linecolor": "white",
             "minorgridcolor": "white",
             "startlinecolor": "#2a3f5f"
            },
            "type": "carpet"
           }
          ],
          "choropleth": [
           {
            "colorbar": {
             "outlinewidth": 0,
             "ticks": ""
            },
            "type": "choropleth"
           }
          ],
          "contour": [
           {
            "colorbar": {
             "outlinewidth": 0,
             "ticks": ""
            },
            "colorscale": [
             [
              0,
              "#0d0887"
             ],
             [
              0.1111111111111111,
              "#46039f"
             ],
             [
              0.2222222222222222,
              "#7201a8"
             ],
             [
              0.3333333333333333,
              "#9c179e"
             ],
             [
              0.4444444444444444,
              "#bd3786"
             ],
             [
              0.5555555555555556,
              "#d8576b"
             ],
             [
              0.6666666666666666,
              "#ed7953"
             ],
             [
              0.7777777777777778,
              "#fb9f3a"
             ],
             [
              0.8888888888888888,
              "#fdca26"
             ],
             [
              1,
              "#f0f921"
             ]
            ],
            "type": "contour"
           }
          ],
          "contourcarpet": [
           {
            "colorbar": {
             "outlinewidth": 0,
             "ticks": ""
            },
            "type": "contourcarpet"
           }
          ],
          "heatmap": [
           {
            "colorbar": {
             "outlinewidth": 0,
             "ticks": ""
            },
            "colorscale": [
             [
              0,
              "#0d0887"
             ],
             [
              0.1111111111111111,
              "#46039f"
             ],
             [
              0.2222222222222222,
              "#7201a8"
             ],
             [
              0.3333333333333333,
              "#9c179e"
             ],
             [
              0.4444444444444444,
              "#bd3786"
             ],
             [
              0.5555555555555556,
              "#d8576b"
             ],
             [
              0.6666666666666666,
              "#ed7953"
             ],
             [
              0.7777777777777778,
              "#fb9f3a"
             ],
             [
              0.8888888888888888,
              "#fdca26"
             ],
             [
              1,
              "#f0f921"
             ]
            ],
            "type": "heatmap"
           }
          ],
          "heatmapgl": [
           {
            "colorbar": {
             "outlinewidth": 0,
             "ticks": ""
            },
            "colorscale": [
             [
              0,
              "#0d0887"
             ],
             [
              0.1111111111111111,
              "#46039f"
             ],
             [
              0.2222222222222222,
              "#7201a8"
             ],
             [
              0.3333333333333333,
              "#9c179e"
             ],
             [
              0.4444444444444444,
              "#bd3786"
             ],
             [
              0.5555555555555556,
              "#d8576b"
             ],
             [
              0.6666666666666666,
              "#ed7953"
             ],
             [
              0.7777777777777778,
              "#fb9f3a"
             ],
             [
              0.8888888888888888,
              "#fdca26"
             ],
             [
              1,
              "#f0f921"
             ]
            ],
            "type": "heatmapgl"
           }
          ],
          "histogram": [
           {
            "marker": {
             "pattern": {
              "fillmode": "overlay",
              "size": 10,
              "solidity": 0.2
             }
            },
            "type": "histogram"
           }
          ],
          "histogram2d": [
           {
            "colorbar": {
             "outlinewidth": 0,
             "ticks": ""
            },
            "colorscale": [
             [
              0,
              "#0d0887"
             ],
             [
              0.1111111111111111,
              "#46039f"
             ],
             [
              0.2222222222222222,
              "#7201a8"
             ],
             [
              0.3333333333333333,
              "#9c179e"
             ],
             [
              0.4444444444444444,
              "#bd3786"
             ],
             [
              0.5555555555555556,
              "#d8576b"
             ],
             [
              0.6666666666666666,
              "#ed7953"
             ],
             [
              0.7777777777777778,
              "#fb9f3a"
             ],
             [
              0.8888888888888888,
              "#fdca26"
             ],
             [
              1,
              "#f0f921"
             ]
            ],
            "type": "histogram2d"
           }
          ],
          "histogram2dcontour": [
           {
            "colorbar": {
             "outlinewidth": 0,
             "ticks": ""
            },
            "colorscale": [
             [
              0,
              "#0d0887"
             ],
             [
              0.1111111111111111,
              "#46039f"
             ],
             [
              0.2222222222222222,
              "#7201a8"
             ],
             [
              0.3333333333333333,
              "#9c179e"
             ],
             [
              0.4444444444444444,
              "#bd3786"
             ],
             [
              0.5555555555555556,
              "#d8576b"
             ],
             [
              0.6666666666666666,
              "#ed7953"
             ],
             [
              0.7777777777777778,
              "#fb9f3a"
             ],
             [
              0.8888888888888888,
              "#fdca26"
             ],
             [
              1,
              "#f0f921"
             ]
            ],
            "type": "histogram2dcontour"
           }
          ],
          "mesh3d": [
           {
            "colorbar": {
             "outlinewidth": 0,
             "ticks": ""
            },
            "type": "mesh3d"
           }
          ],
          "parcoords": [
           {
            "line": {
             "colorbar": {
              "outlinewidth": 0,
              "ticks": ""
             }
            },
            "type": "parcoords"
           }
          ],
          "pie": [
           {
            "automargin": true,
            "type": "pie"
           }
          ],
          "scatter": [
           {
            "fillpattern": {
             "fillmode": "overlay",
             "size": 10,
             "solidity": 0.2
            },
            "type": "scatter"
           }
          ],
          "scatter3d": [
           {
            "line": {
             "colorbar": {
              "outlinewidth": 0,
              "ticks": ""
             }
            },
            "marker": {
             "colorbar": {
              "outlinewidth": 0,
              "ticks": ""
             }
            },
            "type": "scatter3d"
           }
          ],
          "scattercarpet": [
           {
            "marker": {
             "colorbar": {
              "outlinewidth": 0,
              "ticks": ""
             }
            },
            "type": "scattercarpet"
           }
          ],
          "scattergeo": [
           {
            "marker": {
             "colorbar": {
              "outlinewidth": 0,
              "ticks": ""
             }
            },
            "type": "scattergeo"
           }
          ],
          "scattergl": [
           {
            "marker": {
             "colorbar": {
              "outlinewidth": 0,
              "ticks": ""
             }
            },
            "type": "scattergl"
           }
          ],
          "scattermapbox": [
           {
            "marker": {
             "colorbar": {
              "outlinewidth": 0,
              "ticks": ""
             }
            },
            "type": "scattermapbox"
           }
          ],
          "scatterpolar": [
           {
            "marker": {
             "colorbar": {
              "outlinewidth": 0,
              "ticks": ""
             }
            },
            "type": "scatterpolar"
           }
          ],
          "scatterpolargl": [
           {
            "marker": {
             "colorbar": {
              "outlinewidth": 0,
              "ticks": ""
             }
            },
            "type": "scatterpolargl"
           }
          ],
          "scatterternary": [
           {
            "marker": {
             "colorbar": {
              "outlinewidth": 0,
              "ticks": ""
             }
            },
            "type": "scatterternary"
           }
          ],
          "surface": [
           {
            "colorbar": {
             "outlinewidth": 0,
             "ticks": ""
            },
            "colorscale": [
             [
              0,
              "#0d0887"
             ],
             [
              0.1111111111111111,
              "#46039f"
             ],
             [
              0.2222222222222222,
              "#7201a8"
             ],
             [
              0.3333333333333333,
              "#9c179e"
             ],
             [
              0.4444444444444444,
              "#bd3786"
             ],
             [
              0.5555555555555556,
              "#d8576b"
             ],
             [
              0.6666666666666666,
              "#ed7953"
             ],
             [
              0.7777777777777778,
              "#fb9f3a"
             ],
             [
              0.8888888888888888,
              "#fdca26"
             ],
             [
              1,
              "#f0f921"
             ]
            ],
            "type": "surface"
           }
          ],
          "table": [
           {
            "cells": {
             "fill": {
              "color": "#EBF0F8"
             },
             "line": {
              "color": "white"
             }
            },
            "header": {
             "fill": {
              "color": "#C8D4E3"
             },
             "line": {
              "color": "white"
             }
            },
            "type": "table"
           }
          ]
         },
         "layout": {
          "annotationdefaults": {
           "arrowcolor": "#2a3f5f",
           "arrowhead": 0,
           "arrowwidth": 1
          },
          "autotypenumbers": "strict",
          "coloraxis": {
           "colorbar": {
            "outlinewidth": 0,
            "ticks": ""
           }
          },
          "colorscale": {
           "diverging": [
            [
             0,
             "#8e0152"
            ],
            [
             0.1,
             "#c51b7d"
            ],
            [
             0.2,
             "#de77ae"
            ],
            [
             0.3,
             "#f1b6da"
            ],
            [
             0.4,
             "#fde0ef"
            ],
            [
             0.5,
             "#f7f7f7"
            ],
            [
             0.6,
             "#e6f5d0"
            ],
            [
             0.7,
             "#b8e186"
            ],
            [
             0.8,
             "#7fbc41"
            ],
            [
             0.9,
             "#4d9221"
            ],
            [
             1,
             "#276419"
            ]
           ],
           "sequential": [
            [
             0,
             "#0d0887"
            ],
            [
             0.1111111111111111,
             "#46039f"
            ],
            [
             0.2222222222222222,
             "#7201a8"
            ],
            [
             0.3333333333333333,
             "#9c179e"
            ],
            [
             0.4444444444444444,
             "#bd3786"
            ],
            [
             0.5555555555555556,
             "#d8576b"
            ],
            [
             0.6666666666666666,
             "#ed7953"
            ],
            [
             0.7777777777777778,
             "#fb9f3a"
            ],
            [
             0.8888888888888888,
             "#fdca26"
            ],
            [
             1,
             "#f0f921"
            ]
           ],
           "sequentialminus": [
            [
             0,
             "#0d0887"
            ],
            [
             0.1111111111111111,
             "#46039f"
            ],
            [
             0.2222222222222222,
             "#7201a8"
            ],
            [
             0.3333333333333333,
             "#9c179e"
            ],
            [
             0.4444444444444444,
             "#bd3786"
            ],
            [
             0.5555555555555556,
             "#d8576b"
            ],
            [
             0.6666666666666666,
             "#ed7953"
            ],
            [
             0.7777777777777778,
             "#fb9f3a"
            ],
            [
             0.8888888888888888,
             "#fdca26"
            ],
            [
             1,
             "#f0f921"
            ]
           ]
          },
          "colorway": [
           "#636efa",
           "#EF553B",
           "#00cc96",
           "#ab63fa",
           "#FFA15A",
           "#19d3f3",
           "#FF6692",
           "#B6E880",
           "#FF97FF",
           "#FECB52"
          ],
          "font": {
           "color": "#2a3f5f"
          },
          "geo": {
           "bgcolor": "white",
           "lakecolor": "white",
           "landcolor": "#E5ECF6",
           "showlakes": true,
           "showland": true,
           "subunitcolor": "white"
          },
          "hoverlabel": {
           "align": "left"
          },
          "hovermode": "closest",
          "mapbox": {
           "style": "light"
          },
          "paper_bgcolor": "white",
          "plot_bgcolor": "#E5ECF6",
          "polar": {
           "angularaxis": {
            "gridcolor": "white",
            "linecolor": "white",
            "ticks": ""
           },
           "bgcolor": "#E5ECF6",
           "radialaxis": {
            "gridcolor": "white",
            "linecolor": "white",
            "ticks": ""
           }
          },
          "scene": {
           "xaxis": {
            "backgroundcolor": "#E5ECF6",
            "gridcolor": "white",
            "gridwidth": 2,
            "linecolor": "white",
            "showbackground": true,
            "ticks": "",
            "zerolinecolor": "white"
           },
           "yaxis": {
            "backgroundcolor": "#E5ECF6",
            "gridcolor": "white",
            "gridwidth": 2,
            "linecolor": "white",
            "showbackground": true,
            "ticks": "",
            "zerolinecolor": "white"
           },
           "zaxis": {
            "backgroundcolor": "#E5ECF6",
            "gridcolor": "white",
            "gridwidth": 2,
            "linecolor": "white",
            "showbackground": true,
            "ticks": "",
            "zerolinecolor": "white"
           }
          },
          "shapedefaults": {
           "line": {
            "color": "#2a3f5f"
           }
          },
          "ternary": {
           "aaxis": {
            "gridcolor": "white",
            "linecolor": "white",
            "ticks": ""
           },
           "baxis": {
            "gridcolor": "white",
            "linecolor": "white",
            "ticks": ""
           },
           "bgcolor": "#E5ECF6",
           "caxis": {
            "gridcolor": "white",
            "linecolor": "white",
            "ticks": ""
           }
          },
          "title": {
           "x": 0.05
          },
          "xaxis": {
           "automargin": true,
           "gridcolor": "white",
           "linecolor": "white",
           "ticks": "",
           "title": {
            "standoff": 15
           },
           "zerolinecolor": "white",
           "zerolinewidth": 2
          },
          "yaxis": {
           "automargin": true,
           "gridcolor": "white",
           "linecolor": "white",
           "ticks": "",
           "title": {
            "standoff": 15
           },
           "zerolinecolor": "white",
           "zerolinewidth": 2
          }
         }
        },
        "title": {
         "text": "Empirical Distribution Function Plot"
        },
        "xaxis": {
         "title": {
          "text": "Objective Value"
         }
        },
        "yaxis": {
         "range": [
          0,
          1
         ],
         "title": {
          "text": "Cumulative Probability"
         }
        }
       }
      }
     },
     "metadata": {},
     "output_type": "display_data"
    }
   ],
   "source": [
    "optuna.visualization.plot_edf(study)\n"
   ]
  }
 ],
 "metadata": {
  "kernelspec": {
   "display_name": "pytorch_env",
   "language": "python",
   "name": "python3"
  },
  "language_info": {
   "codemirror_mode": {
    "name": "ipython",
    "version": 3
   },
   "file_extension": ".py",
   "mimetype": "text/x-python",
   "name": "python",
   "nbconvert_exporter": "python",
   "pygments_lexer": "ipython3",
   "version": "3.12.4"
  }
 },
 "nbformat": 4,
 "nbformat_minor": 2
}
