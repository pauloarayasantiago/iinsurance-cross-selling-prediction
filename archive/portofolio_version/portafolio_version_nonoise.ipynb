{
 "cells": [
  {
   "cell_type": "code",
   "execution_count": 108,
   "metadata": {},
   "outputs": [],
   "source": [
    "import pandas as pd\n",
    "import numpy as np\n",
    "import matplotlib.pyplot as plt\n",
    "import klib\n",
    "from sklearn.model_selection import train_test_split\n",
    "from sklearn.preprocessing import StandardScaler\n",
    "from sklearn.metrics import roc_auc_score\n",
    "import lightgbm as lgb\n",
    "from sklearn.cluster import KMeans\n",
    "import optuna\n",
    "from datetime import datetime\n",
    "import os\n",
    "import logging\n",
    "import lightgbm as lgb\n",
    "from sklearn.metrics import roc_auc_score"
   ]
  },
  {
   "cell_type": "code",
   "execution_count": 109,
   "metadata": {},
   "outputs": [],
   "source": [
    "# Setup logging configuration\n",
    "log_filename = 'model_training.log'\n",
    "logging.basicConfig(\n",
    "    filename=log_filename,\n",
    "    level=logging.INFO,\n",
    "    format='%(asctime)s - %(message)s',\n",
    "    datefmt='%Y-%m-%d %H:%M:%S'\n",
    ")"
   ]
  },
  {
   "cell_type": "code",
   "execution_count": 110,
   "metadata": {},
   "outputs": [],
   "source": [
    "train_df = pd.read_csv(r\"C:\\Users\\paulo\\OneDrive\\Documents\\kaggle_competition_2_datasets\\train.csv\", index_col='id')"
   ]
  },
  {
   "cell_type": "code",
   "execution_count": 111,
   "metadata": {},
   "outputs": [],
   "source": [
    "# Separate features and target variable\n",
    "X = train_df.drop('Response', axis=1)\n",
    "y = train_df['Response']\n",
    "\n",
    "# Determine sample size (10% of the dataset)\n",
    "sample_size = 0.4\n",
    "\n",
    "# Stratified sampling\n",
    "X_sample, _, y_sample, _ = train_test_split(X, y, train_size=sample_size, random_state=42, stratify=y)\n",
    "\n",
    "# Combine sampled features and target variable\n",
    "train_df = pd.concat([X_sample, y_sample], axis=1)"
   ]
  },
  {
   "cell_type": "code",
   "execution_count": 112,
   "metadata": {},
   "outputs": [],
   "source": [
    "train_df[['Region_Code', 'Annual_Premium', 'Policy_Sales_Channel']] = train_df[['Region_Code', 'Annual_Premium', 'Policy_Sales_Channel']].astype('int')"
   ]
  },
  {
   "cell_type": "code",
   "execution_count": 113,
   "metadata": {},
   "outputs": [],
   "source": [
    "# Preprocess data\n",
    "def preprocess_data(df):\n",
    "    # Transform binary variables\n",
    "    df['Gender'] = df['Gender'].map({'Male': 1, 'Female': 0})\n",
    "    df['Vehicle_Damage'] = df['Vehicle_Damage'].map({'Yes': 1, 'No': 0})\n",
    "    \n",
    "    # Ordinal Encoding for Vehicle_Age\n",
    "    vehicle_age_mapping = {'< 1 Year': 0, '1-2 Year': 1, '> 2 Years': 2}\n",
    "    df['Vehicle_Age'] = df['Vehicle_Age'].map(vehicle_age_mapping)\n",
    "    \n",
    "    # Drop Driving_License due to limited variability\n",
    "    df.drop(['Driving_License'], axis=1, inplace=True)\n",
    "    \n",
    "    return df\n",
    "\n",
    "train_df = preprocess_data(train_df)"
   ]
  },
  {
   "cell_type": "code",
   "execution_count": 114,
   "metadata": {},
   "outputs": [],
   "source": [
    "# Remove outliers from Annual_Premium in training data only\n",
    "def remove_outliers_iqr(df, column):\n",
    "    Q1 = df[column].quantile(0.25)\n",
    "    Q3 = df[column].quantile(0.75)\n",
    "    IQR = Q3 - Q1\n",
    "    lower_bound = Q1 - 1.5 * IQR\n",
    "    upper_bound = Q3 + 1.5 * IQR\n",
    "    \n",
    "    return df[(df[column] >= lower_bound) & (df[column] <= upper_bound)]\n",
    "\n",
    "train_df = remove_outliers_iqr(train_df, 'Annual_Premium')"
   ]
  },
  {
   "cell_type": "code",
   "execution_count": 115,
   "metadata": {},
   "outputs": [],
   "source": [
    "def feature_engineering(df):\n",
    "    df = df.copy()  \n",
    "    df['Previously_Insured_Annual_Premium'] = pd.factorize((df['Previously_Insured'].astype(str) + df['Annual_Premium'].astype(str)))[0]\n",
    "    df['Previously_Insured_Vehicle_Age'] = pd.factorize((df['Previously_Insured'].astype(str) + df['Vehicle_Age'].astype(str)))[0]\n",
    "    df['Previously_Insured_Vehicle_Damage'] = pd.factorize((df['Previously_Insured'].astype(str) + df['Vehicle_Damage'].astype(str)))[0]\n",
    "    df['Previously_Insured_Vintage'] = pd.factorize((df['Previously_Insured'].astype(str) + df['Vintage'].astype(str)))[0]\n",
    "\n",
    "    return df\n",
    "\n",
    "train_df = feature_engineering(train_df)"
   ]
  },
  {
   "cell_type": "code",
   "execution_count": 116,
   "metadata": {},
   "outputs": [],
   "source": [
    "# Separate features and target variable\n",
    "X = train_df.drop(['Response', 'Vintage'], axis=1)\n",
    "y = train_df['Response'] "
   ]
  },
  {
   "cell_type": "code",
   "execution_count": 117,
   "metadata": {},
   "outputs": [],
   "source": [
    "scaler = StandardScaler()\n",
    "X =  scaler.fit_transform(X)"
   ]
  },
  {
   "cell_type": "code",
   "execution_count": 118,
   "metadata": {},
   "outputs": [],
   "source": [
    "# Split the data\n",
    "X_train, X_val, y_train, y_val = train_test_split(X, y, test_size=0.2, random_state=42, stratify=y)"
   ]
  },
  {
   "cell_type": "code",
   "execution_count": 119,
   "metadata": {},
   "outputs": [
    {
     "name": "stdout",
     "output_type": "stream",
     "text": [
      "[LightGBM] [Info] Number of positive: 353132, number of negative: 2567590\n",
      "[LightGBM] [Info] Auto-choosing row-wise multi-threading, the overhead of testing was 0.032413 seconds.\n",
      "You can set `force_row_wise=true` to remove the overhead.\n",
      "And if memory is not enough, you can set `force_col_wise=true`.\n",
      "[LightGBM] [Info] Total Bins 1483\n",
      "[LightGBM] [Info] Number of data points in the train set: 2920722, number of used features: 12\n",
      "[LightGBM] [Info] [binary:BoostFromScore]: pavg=0.120906 -> initscore=-1.983881\n",
      "[LightGBM] [Info] Start training from score -1.983881\n",
      "Training until validation scores don't improve for 100 rounds\n",
      "Early stopping, best iteration is:\n",
      "[279]\tvalid_0's auc: 0.891112\n",
      "Training ROC AUC Score: 0.9256185443309831\n",
      "Validation ROC AUC Score: 0.8911120885377759\n"
     ]
    }
   ],
   "source": [
    "param = {\n",
    "    'objective': 'binary',\n",
    "    'metric': 'auc',\n",
    "    'lambda_l1': 0.02,  \n",
    "    'lambda_l2': 0.1,  \n",
    "    'colsample_bytree': 0.75, \n",
    "    'subsample': 0.85, \n",
    "    'learning_rate':  0.09,  \n",
    "    'max_depth': 32, \n",
    "    'num_leaves': 900, \n",
    "    'min_child_samples': 50,  \n",
    "    'min_child_weight': 9.0,  \n",
    "    'min_split_gain': 0.09,  \n",
    "    'max_bin': 420,\n",
    "    'scale_pos_weight': 10,\n",
    "    'early_stopping_round': 100,\n",
    "    'n_jobs': 8,\n",
    "    }\n",
    "\n",
    "num_boost_round = 20000\n",
    "\n",
    "# Create LightGBM dataset\n",
    "train_data = lgb.Dataset(X_train, label=y_train)\n",
    "valid_data = lgb.Dataset(X_val, label=y_val, reference=train_data)\n",
    "    \n",
    "# Train model\n",
    "bst = lgb.train(\n",
    "    param,\n",
    "    train_data, \n",
    "    valid_sets=[valid_data],\n",
    "    num_boost_round=num_boost_round,\n",
    "    )\n",
    "    \n",
    "# Predict and evaluate\n",
    "y_val_pred = bst.predict(X_val, num_iteration=bst.best_iteration)\n",
    "auc = roc_auc_score(y_val, y_val_pred)\n",
    "\n",
    "# Make predictions\n",
    "y_train_pred_proba = bst.predict(X_train, num_iteration=bst.best_iteration)\n",
    "y_val_pred_proba = bst.predict(X_val, num_iteration=bst.best_iteration)\n",
    "\n",
    "# Calculate ROC AUC scores\n",
    "roc_auc_train = roc_auc_score(y_train, y_train_pred_proba)\n",
    "roc_auc_val = roc_auc_score(y_val, y_val_pred_proba)\n",
    "\n",
    "# Print ROC AUC scores\n",
    "print(f'Training ROC AUC Score: {roc_auc_train}')\n",
    "print(f'Validation ROC AUC Score: {roc_auc_val}')\n",
    "\n",
    "# Log ROC AUC scores\n",
    "logging.info(f'Training ROC AUC Score: {roc_auc_train}')\n",
    "logging.info(f'ROC AUC Score: {roc_auc_val}')"
   ]
  },
  {
   "cell_type": "code",
   "execution_count": 120,
   "metadata": {},
   "outputs": [
    {
     "data": {
      "image/png": "[encoded data removed]",
      "text/plain": [
       "<Figure size 1000x800 with 1 Axes>"
      ]
     },
     "metadata": {},
     "output_type": "display_data"
    },
    {
     "name": "stdout",
     "output_type": "stream",
     "text": [
      "                              Feature  Importance\n",
      "8   Previously_Insured_Annual_Premium       60044\n",
      "6                      Annual_Premium       57697\n",
      "11         Previously_Insured_Vintage       50600\n",
      "1                                 Age       35462\n",
      "2                         Region_Code       23483\n",
      "7                Policy_Sales_Channel       15433\n",
      "0                              Gender        2178\n",
      "4                         Vehicle_Age        1867\n",
      "9      Previously_Insured_Vehicle_Age        1802\n",
      "10  Previously_Insured_Vehicle_Damage        1136\n",
      "5                      Vehicle_Damage         838\n",
      "3                  Previously_Insured         281\n"
     ]
    }
   ],
   "source": [
    "# Get feature importance\n",
    "importance = bst.feature_importance()\n",
    "feature_names = X.columns\n",
    "\n",
    "# Create a DataFrame for visualization\n",
    "importance_df = pd.DataFrame({'Feature': feature_names, 'Importance': importance})\n",
    "\n",
    "# Sort the DataFrame by importance\n",
    "importance_df = importance_df.sort_values(by='Importance', ascending=False)\n",
    "\n",
    "# Plot feature importance\n",
    "plt.figure(figsize=(10, 8))\n",
    "plt.barh(importance_df['Feature'], importance_df['Importance'])\n",
    "plt.xlabel('Feature Importance')\n",
    "plt.ylabel('Feature')\n",
    "plt.title('Feature Importance from LightGBM') # To display the highest importance at the top\n",
    "plt.show()\n",
    "\n",
    "# Print feature importance\n",
    "print(importance_df)"
   ]
  },
  {
   "cell_type": "code",
   "execution_count": 121,
   "metadata": {},
   "outputs": [],
   "source": [
    "# import optuna\n",
    "# import lightgbm as lgb\n",
    "# from sklearn.metrics import roc_auc_score\n",
    "# from sklearn.model_selection import train_test_split\n",
    "# from datetime import datetime\n",
    "# import os\n",
    "\n",
    "# def objective(trial):\n",
    "#     param = {\n",
    "#         'objective': 'binary',\n",
    "#         'metric': 'auc',\n",
    "#         'lambda_l1': trial.suggest_float('reg_alpha', 0.01, 0.1, log=True),  \n",
    "#         'lambda_l2': trial.suggest_float('reg_lambda', 0.1, 0.3, log=True),  \n",
    "#         'colsample_bytree': trial.suggest_float('colsample_bytree', 0.75, 0.85), \n",
    "#         'subsample': trial.suggest_float('subsample', 0.85, 1.0), \n",
    "#         'learning_rate': trial.suggest_float('learning_rate', 0.05, 0.1),  \n",
    "#         'max_depth': trial.suggest_int('max_depth', 16, 32), \n",
    "#         'num_leaves': trial.suggest_int('num_leaves', 700, 1500), \n",
    "#         'min_child_samples': trial.suggest_int('min_child_samples', 20, 80),  \n",
    "#         'min_child_weight': trial.suggest_float('min_child_weight', 4.0, 10.0),  \n",
    "#         'min_split_gain': trial.suggest_float('min_split_gain', 0.05, 0.1),  \n",
    "#         'max_bin': trial.suggest_int('max_bin', 400, 500),\n",
    "#         'verbose': -1,  \n",
    "#         'scale_pos_weight': trial.suggest_float('scale_pos_weight', 9, 12),\n",
    "#         'early_stopping_round': 100,\n",
    "#     }\n",
    "\n",
    "#     num_boost_round = trial.suggest_int('num_boost_round', 10000, 20000)\n",
    "\n",
    "#     # Create LightGBM dataset\n",
    "#     train_data = lgb.Dataset(X_train, label=y_train)\n",
    "#     valid_data = lgb.Dataset(X_val, label=y_val, reference=train_data)\n",
    "    \n",
    "#     # Train model\n",
    "#     bst = lgb.train(\n",
    "#         param,\n",
    "#         train_data, \n",
    "#         num_boost_round=num_boost_round,\n",
    "#         valid_sets=[valid_data],\n",
    "#     )\n",
    "    \n",
    "#     # Predict and evaluate\n",
    "#     y_val_pred = bst.predict(X_val, num_iteration=bst.best_iteration)\n",
    "#     auc = roc_auc_score(y_val, y_val_pred)\n",
    "#     return auc\n",
    "\n",
    "# # Generate a unique filename for each run\n",
    "# timestamp = datetime.now().strftime('%Y%m%d_%H%M%S')\n",
    "# sqlite_file_path = os.path.join(r'C:\\Users\\paulo\\OneDrive\\Documents\\Binary-Classification-of-Insurance-Cross-Selling', f'optuna_study_{timestamp}.db')\n",
    "\n",
    "# # Create a study and optimize\n",
    "# study = optuna.create_study(storage=f'sqlite:///{sqlite_file_path}', study_name=f'my_study_{timestamp}', direction='maximize')\n",
    "# study.optimize(objective, n_trials=10)\n",
    "\n",
    "# # Get the best trial\n",
    "# best_trial = study.best_trial\n",
    "# print(f'Best trial score: {best_trial.value}')\n",
    "# print(f'Best trial params: {best_trial.params}')\n",
    "\n"
   ]
  }
 ],
 "metadata": {
  "kernelspec": {
   "display_name": "pytorch_env",
   "language": "python",
   "name": "python3"
  },
  "language_info": {
   "codemirror_mode": {
    "name": "ipython",
    "version": 3
   },
   "file_extension": ".py",
   "mimetype": "text/x-python",
   "name": "python",
   "nbconvert_exporter": "python",
   "pygments_lexer": "ipython3",
   "version": "3.12.4"
  }
 },
 "nbformat": 4,
 "nbformat_minor": 2
}
