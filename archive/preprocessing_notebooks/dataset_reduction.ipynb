{
 "cells": [
  {
   "cell_type": "code",
   "execution_count": 10,
   "metadata": {},
   "outputs": [],
   "source": [
    "import pandas as pd"
   ]
  },
  {
   "cell_type": "code",
   "execution_count": 14,
   "metadata": {},
   "outputs": [],
   "source": [
    "train = pd.read_csv(r\"C:\\Users\\paulo\\OneDrive\\Documents\\kaggle_competition_2_datasets\\train.csv\", index_col='id')"
   ]
  },
  {
   "cell_type": "code",
   "execution_count": 15,
   "metadata": {},
   "outputs": [
    {
     "name": "stdout",
     "output_type": "stream",
     "text": [
      "<class 'pandas.core.frame.DataFrame'>\n",
      "Index: 11504798 entries, 0 to 11504797\n",
      "Data columns (total 11 columns):\n",
      " #   Column                Dtype  \n",
      "---  ------                -----  \n",
      " 0   Gender                object \n",
      " 1   Age                   int64  \n",
      " 2   Driving_License       int64  \n",
      " 3   Region_Code           float64\n",
      " 4   Previously_Insured    int64  \n",
      " 5   Vehicle_Age           object \n",
      " 6   Vehicle_Damage        object \n",
      " 7   Annual_Premium        float64\n",
      " 8   Policy_Sales_Channel  float64\n",
      " 9   Vintage               int64  \n",
      " 10  Response              int64  \n",
      "dtypes: float64(3), int64(5), object(3)\n",
      "memory usage: 1.0+ GB\n"
     ]
    }
   ],
   "source": [
    "train.info()"
   ]
  },
  {
   "cell_type": "code",
   "execution_count": 16,
   "metadata": {},
   "outputs": [
    {
     "name": "stderr",
     "output_type": "stream",
     "text": [
      "c:\\Users\\paulo\\anaconda3\\envs\\pytorch_env\\Lib\\site-packages\\pandas\\core\\dtypes\\astype.py:133: RuntimeWarning: overflow encountered in cast\n",
      "  return arr.astype(dtype, copy=True)\n"
     ]
    },
    {
     "name": "stdout",
     "output_type": "stream",
     "text": [
      "Gender                   object\n",
      "Age                        int8\n",
      "Driving_License            int8\n",
      "Region_Code             float16\n",
      "Previously_Insured         int8\n",
      "Vehicle_Age              object\n",
      "Vehicle_Damage           object\n",
      "Annual_Premium          float16\n",
      "Policy_Sales_Channel    float16\n",
      "Vintage                   int16\n",
      "Response                   int8\n",
      "dtype: object\n"
     ]
    }
   ],
   "source": [
    "def optimize_dtypes(df):\n",
    "   for col in df.columns:\n",
    "       col_type = df[col].dtype\n",
    "\n",
    "       if col_type != object:\n",
    "           if 'int' in str(col_type):\n",
    "               if df[col].min() >= -128 and df[col].max() <= 127:\n",
    "                   df[col] = df[col].astype('int8')\n",
    "               elif df[col].min() >= -32768 and df[col].max() <= 32767:\n",
    "                   df[col] = df[col].astype('int16')\n",
    "               elif df[col].min() >= -2147483648 and df[col].max() <= 2147483647:\n",
    "                   df[col] = df[col].astype('int32')\n",
    "               else:\n",
    "                   df[col] = df[col].astype('int64')\n",
    "           elif 'float' in str(col_type):\n",
    "               if df[col].apply(lambda x: len(str(x).split('.')[1]) if '.' in str(x) else 0).max() <= 4:\n",
    "                   df[col] = df[col].astype('float16')\n",
    "               elif df[col].apply(lambda x: len(str(x).split('.')[1]) if '.' in str(x) else 0).max() <= 9:\n",
    "                   df[col] = df[col].astype('float32')\n",
    "               else:\n",
    "                   df[col] = df[col].astype('float64')\n",
    "    \n",
    "   return df\n",
    "\n",
    "\n",
    "train = optimize_dtypes(train)\n",
    "print(train.dtypes)"
   ]
  },
  {
   "cell_type": "code",
   "execution_count": 17,
   "metadata": {},
   "outputs": [
    {
     "name": "stdout",
     "output_type": "stream",
     "text": [
      "<class 'pandas.core.frame.DataFrame'>\n",
      "Index: 11504798 entries, 0 to 11504797\n",
      "Data columns (total 11 columns):\n",
      " #   Column                Dtype  \n",
      "---  ------                -----  \n",
      " 0   Gender                object \n",
      " 1   Age                   int8   \n",
      " 2   Driving_License       int8   \n",
      " 3   Region_Code           float16\n",
      " 4   Previously_Insured    int8   \n",
      " 5   Vehicle_Age           object \n",
      " 6   Vehicle_Damage        object \n",
      " 7   Annual_Premium        float16\n",
      " 8   Policy_Sales_Channel  float16\n",
      " 9   Vintage               int16  \n",
      " 10  Response              int8   \n",
      "dtypes: float16(3), int16(1), int8(4), object(3)\n",
      "memory usage: 482.8+ MB\n"
     ]
    }
   ],
   "source": [
    "train.info()"
   ]
  }
 ],
 "metadata": {
  "kernelspec": {
   "display_name": "pytorch_env",
   "language": "python",
   "name": "python3"
  },
  "language_info": {
   "codemirror_mode": {
    "name": "ipython",
    "version": 3
   },
   "file_extension": ".py",
   "mimetype": "text/x-python",
   "name": "python",
   "nbconvert_exporter": "python",
   "pygments_lexer": "ipython3",
   "version": "3.12.4"
  }
 },
 "nbformat": 4,
 "nbformat_minor": 2
}
